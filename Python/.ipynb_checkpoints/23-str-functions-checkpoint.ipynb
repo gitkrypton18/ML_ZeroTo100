{
 "cells": [
  {
   "cell_type": "markdown",
   "id": "c4d361c4-3dc2-4196-9e0e-294882f367bc",
   "metadata": {},
   "source": [
    "/Common Functions app to other data types also\n",
    "- len\n",
    "- max\n",
    "- min\n",
    "- sorted"
   ]
  },
  {
   "cell_type": "code",
   "execution_count": 2,
   "id": "87d9f0ca-86f5-424f-863b-b3b19955df8c",
   "metadata": {},
   "outputs": [
    {
     "data": {
      "text/plain": [
       "7"
      ]
     },
     "execution_count": 2,
     "metadata": {},
     "output_type": "execute_result"
    }
   ],
   "source": [
    "c=\"Kolkata\"\n",
    "len(c)"
   ]
  },
  {
   "cell_type": "code",
   "execution_count": 4,
   "id": "e7f56310-1967-4737-ac45-f89f2f1564b5",
   "metadata": {},
   "outputs": [
    {
     "data": {
      "text/plain": [
       "'t'"
      ]
     },
     "execution_count": 4,
     "metadata": {},
     "output_type": "execute_result"
    }
   ],
   "source": [
    "max(c) # biggest character acc to ASCII value"
   ]
  },
  {
   "cell_type": "code",
   "execution_count": 5,
   "id": "bcb9e2bd-44db-4aef-bfeb-d2a81aac1894",
   "metadata": {},
   "outputs": [
    {
     "data": {
      "text/plain": [
       "'K'"
      ]
     },
     "execution_count": 5,
     "metadata": {},
     "output_type": "execute_result"
    }
   ],
   "source": [
    "min(c)"
   ]
  },
  {
   "cell_type": "code",
   "execution_count": 7,
   "id": "d325bf84-7495-4d0b-a50d-5c267dce5325",
   "metadata": {},
   "outputs": [
    {
     "data": {
      "text/plain": [
       "['K', 'a', 'a', 'k', 'l', 'o', 't']"
      ]
     },
     "execution_count": 7,
     "metadata": {},
     "output_type": "execute_result"
    }
   ],
   "source": [
    "sorted(c)\n",
    "# sorted in increasing ASCII Values"
   ]
  },
  {
   "cell_type": "code",
   "execution_count": 10,
   "id": "deadabf0-d339-4008-944c-8b14b53fbf73",
   "metadata": {},
   "outputs": [
    {
     "data": {
      "text/plain": [
       "['t', 'o', 'l', 'k', 'a', 'a', 'K']"
      ]
     },
     "execution_count": 10,
     "metadata": {},
     "output_type": "execute_result"
    }
   ],
   "source": [
    "sorted(c,reverse=True)"
   ]
  },
  {
   "cell_type": "markdown",
   "id": "c489a555-81f5-431b-af79-ffffd38e7e26",
   "metadata": {},
   "source": [
    "\n",
    "1. Capitalise/Title/Upper/Lower/SwapCase"
   ]
  },
  {
   "cell_type": "code",
   "execution_count": 14,
   "id": "3ef5ad55-ddd7-4eb7-9037-17a63cd5f230",
   "metadata": {},
   "outputs": [
    {
     "data": {
      "text/plain": [
       "'Kolkata'"
      ]
     },
     "execution_count": 14,
     "metadata": {},
     "output_type": "execute_result"
    }
   ],
   "source": [
    "c\n",
    "c.capitalize()\n"
   ]
  },
  {
   "cell_type": "code",
   "execution_count": 17,
   "id": "621ff84c-6ef5-4bf8-8a48-66832ca91bfb",
   "metadata": {},
   "outputs": [
    {
     "data": {
      "text/plain": [
       "'It is raining'"
      ]
     },
     "execution_count": 17,
     "metadata": {},
     "output_type": "execute_result"
    }
   ],
   "source": [
    "\"it is raining\".capitalize()\n",
    "# first alphabet is capitalise"
   ]
  },
  {
   "cell_type": "code",
   "execution_count": 18,
   "id": "d48e3734-e66f-4569-982d-4efd54581ba9",
   "metadata": {},
   "outputs": [
    {
     "data": {
      "text/plain": [
       "'It Is Raining'"
      ]
     },
     "execution_count": 18,
     "metadata": {},
     "output_type": "execute_result"
    }
   ],
   "source": [
    "\"it is raining\".title()"
   ]
  },
  {
   "cell_type": "code",
   "execution_count": 20,
   "id": "53e5292e-580c-4cf5-8163-cee26aed08de",
   "metadata": {},
   "outputs": [
    {
     "data": {
      "text/plain": [
       "'IT IS RAINING'"
      ]
     },
     "execution_count": 20,
     "metadata": {},
     "output_type": "execute_result"
    }
   ],
   "source": [
    "\"it is raining\".upper()"
   ]
  },
  {
   "cell_type": "code",
   "execution_count": 21,
   "id": "eeb5e00a-a7ec-4bc3-ba48-95fb39ff5de1",
   "metadata": {},
   "outputs": [
    {
     "data": {
      "text/plain": [
       "'it is raining'"
      ]
     },
     "execution_count": 21,
     "metadata": {},
     "output_type": "execute_result"
    }
   ],
   "source": [
    "'IT IS RAINING'.lower()"
   ]
  },
  {
   "cell_type": "code",
   "execution_count": 22,
   "id": "ea343143-98a6-456e-9bb4-e12dbf0565d1",
   "metadata": {},
   "outputs": [
    {
     "data": {
      "text/plain": [
       "'kOlkATA'"
      ]
     },
     "execution_count": 22,
     "metadata": {},
     "output_type": "execute_result"
    }
   ],
   "source": [
    "\"KoLKata\".swapcase()"
   ]
  },
  {
   "cell_type": "markdown",
   "id": "7e366f9a-f2b9-4789-89a2-a87c6e432963",
   "metadata": {},
   "source": [
    "2. Count"
   ]
  },
  {
   "cell_type": "code",
   "execution_count": 23,
   "id": "9bbc8b38-880c-4783-b692-7eb8f1677505",
   "metadata": {},
   "outputs": [
    {
     "data": {
      "text/plain": [
       "3"
      ]
     },
     "execution_count": 23,
     "metadata": {},
     "output_type": "execute_result"
    }
   ],
   "source": [
    "\"It is raining\".count(\"i\")\n"
   ]
  },
  {
   "cell_type": "code",
   "execution_count": 24,
   "id": "6cc1fa9a-af91-41c4-8138-15b54d6f41f3",
   "metadata": {},
   "outputs": [
    {
     "data": {
      "text/plain": [
       "1"
      ]
     },
     "execution_count": 24,
     "metadata": {},
     "output_type": "execute_result"
    }
   ],
   "source": [
    "\"It is raining\".count(\"I\")"
   ]
  },
  {
   "cell_type": "code",
   "execution_count": 25,
   "id": "9e57c008-3dd0-43a6-bd26-4a45365007b1",
   "metadata": {},
   "outputs": [
    {
     "data": {
      "text/plain": [
       "1"
      ]
     },
     "execution_count": 25,
     "metadata": {},
     "output_type": "execute_result"
    }
   ],
   "source": [
    "'IT IS RAINING'.count(\"RAIN\")"
   ]
  },
  {
   "cell_type": "code",
   "execution_count": 27,
   "id": "d17992a5-927b-4833-b67f-e3fdd61ed201",
   "metadata": {},
   "outputs": [
    {
     "data": {
      "text/plain": [
       "0"
      ]
     },
     "execution_count": 27,
     "metadata": {},
     "output_type": "execute_result"
    }
   ],
   "source": [
    "\"it is raining\".count(\"x\")"
   ]
  },
  {
   "cell_type": "markdown",
   "id": "a993ea67-e637-421f-9539-0462255ec29d",
   "metadata": {},
   "source": [
    "3. Find/Index"
   ]
  },
  {
   "cell_type": "code",
   "execution_count": 26,
   "id": "d421dc07-6966-467f-9bf4-6ecd70bde020",
   "metadata": {},
   "outputs": [
    {
     "data": {
      "text/plain": [
       "6"
      ]
     },
     "execution_count": 26,
     "metadata": {},
     "output_type": "execute_result"
    }
   ],
   "source": [
    "\"it is raining\".find(\"raining\")"
   ]
  },
  {
   "cell_type": "code",
   "execution_count": 28,
   "id": "93d2a607-412b-4041-b3f3-363f71187594",
   "metadata": {},
   "outputs": [
    {
     "data": {
      "text/plain": [
       "-1"
      ]
     },
     "execution_count": 28,
     "metadata": {},
     "output_type": "execute_result"
    }
   ],
   "source": [
    "\"it is raining\".find(\"x\")\n",
    "# find returns -1 when not found"
   ]
  },
  {
   "cell_type": "code",
   "execution_count": 29,
   "id": "f686de50-0035-4b0c-918c-eb2d4d150be9",
   "metadata": {},
   "outputs": [
    {
     "data": {
      "text/plain": [
       "6"
      ]
     },
     "execution_count": 29,
     "metadata": {},
     "output_type": "execute_result"
    }
   ],
   "source": [
    "\"it is raining\".index(\"rain\")"
   ]
  },
  {
   "cell_type": "code",
   "execution_count": 32,
   "id": "74d2e948-f8ed-4cfd-9512-e812efed8215",
   "metadata": {},
   "outputs": [
    {
     "ename": "ValueError",
     "evalue": "substring not found",
     "output_type": "error",
     "traceback": [
      "\u001b[31m---------------------------------------------------------------------------\u001b[39m",
      "\u001b[31mValueError\u001b[39m                                Traceback (most recent call last)",
      "\u001b[36mCell\u001b[39m\u001b[36m \u001b[39m\u001b[32mIn[32]\u001b[39m\u001b[32m, line 1\u001b[39m\n\u001b[32m----> \u001b[39m\u001b[32m1\u001b[39m \u001b[33;43m\"\u001b[39;49m\u001b[33;43mit is raining\u001b[39;49m\u001b[33;43m\"\u001b[39;49m\u001b[43m.\u001b[49m\u001b[43mindex\u001b[49m\u001b[43m(\u001b[49m\u001b[33;43m\"\u001b[39;49m\u001b[33;43mx\u001b[39;49m\u001b[33;43m\"\u001b[39;49m\u001b[43m)\u001b[49m\n\u001b[32m      2\u001b[39m \u001b[38;5;66;03m# in index error is thrown to us\u001b[39;00m\n",
      "\u001b[31mValueError\u001b[39m: substring not found"
     ]
    }
   ],
   "source": [
    "\"it is raining\".index(\"x\")\n",
    "# in index error is thrown to us"
   ]
  },
  {
   "cell_type": "markdown",
   "id": "4d6d6ae6-ebd2-444b-a1a1-4a9d6969c734",
   "metadata": {},
   "source": [
    "4. endswith/startswith"
   ]
  },
  {
   "cell_type": "code",
   "execution_count": 31,
   "id": "e8bbc970-719f-4496-b809-d2717daab1e9",
   "metadata": {},
   "outputs": [
    {
     "data": {
      "text/plain": [
       "False"
      ]
     },
     "execution_count": 31,
     "metadata": {},
     "output_type": "execute_result"
    }
   ],
   "source": [
    "\"it is raining\".endswith(\"ingef\")"
   ]
  },
  {
   "cell_type": "code",
   "execution_count": 33,
   "id": "1d203241-56a2-44cf-b556-480c292aa8fa",
   "metadata": {},
   "outputs": [
    {
     "data": {
      "text/plain": [
       "True"
      ]
     },
     "execution_count": 33,
     "metadata": {},
     "output_type": "execute_result"
    }
   ],
   "source": [
    "\"it is raining\".startswith(\"it\")"
   ]
  },
  {
   "cell_type": "markdown",
   "id": "6f429a7e-59fc-4437-84d0-4100987af9a0",
   "metadata": {},
   "source": [
    "5. format"
   ]
  },
  {
   "cell_type": "code",
   "execution_count": 35,
   "id": "44e319e0-95d9-4949-a6d6-622d2e03756a",
   "metadata": {},
   "outputs": [
    {
     "data": {
      "text/plain": [
       "'Hello my name is Kalpit and I am 19'"
      ]
     },
     "execution_count": 35,
     "metadata": {},
     "output_type": "execute_result"
    }
   ],
   "source": [
    "\"Hello my name is {} and I am {}\".format(\"Kalpit\",19)"
   ]
  },
  {
   "cell_type": "code",
   "execution_count": 36,
   "id": "91b6fd2d-0691-43b8-a6d6-06ad22db6c40",
   "metadata": {},
   "outputs": [
    {
     "data": {
      "text/plain": [
       "'Hello my name is 19 and I am Kalpit'"
      ]
     },
     "execution_count": 36,
     "metadata": {},
     "output_type": "execute_result"
    }
   ],
   "source": [
    "\"Hello my name is {1} and I am {0}\".format(\"Kalpit\",19)\n",
    "# index of Kalpit is 0 and of 19 is 1"
   ]
  },
  {
   "cell_type": "code",
   "execution_count": 37,
   "id": "ea6f0442-04a9-4639-8e7f-6926485a08f2",
   "metadata": {},
   "outputs": [
    {
     "data": {
      "text/plain": [
       "'Hello my name is Kalpit and I am 19'"
      ]
     },
     "execution_count": 37,
     "metadata": {},
     "output_type": "execute_result"
    }
   ],
   "source": [
    "\"Hello my name is {name} and I am {age}\".format(name=\"Kalpit\",age=19)"
   ]
  },
  {
   "cell_type": "code",
   "execution_count": 40,
   "id": "9f965102-e4f5-40d0-b96f-154e48c371a3",
   "metadata": {},
   "outputs": [
    {
     "data": {
      "text/plain": [
       "'Hello my name is Kalpit and I am 239'"
      ]
     },
     "execution_count": 40,
     "metadata": {},
     "output_type": "execute_result"
    }
   ],
   "source": [
    "\"Hello my name is {} and I am {weight}\".format(\"Kalpit\",weight=239)"
   ]
  },
  {
   "cell_type": "markdown",
   "id": "91ba8afc-57d4-4488-a025-198011b9b583",
   "metadata": {},
   "source": [
    "6. isalnum/isalpha/isdecimal/isdigit/isidentifier"
   ]
  },
  {
   "cell_type": "code",
   "execution_count": 41,
   "id": "f84733fe-c156-485e-a713-e29330a4faf9",
   "metadata": {},
   "outputs": [
    {
     "data": {
      "text/plain": [
       "False"
      ]
     },
     "execution_count": 41,
     "metadata": {},
     "output_type": "execute_result"
    }
   ],
   "source": [
    "\"FLAT20&\".isalnum()"
   ]
  },
  {
   "cell_type": "code",
   "execution_count": 42,
   "id": "e3177c2c-82c7-4e3a-994b-f43fb047c2cf",
   "metadata": {},
   "outputs": [
    {
     "data": {
      "text/plain": [
       "False"
      ]
     },
     "execution_count": 42,
     "metadata": {},
     "output_type": "execute_result"
    }
   ],
   "source": [
    "\"FLAT20&\".isalpha()"
   ]
  },
  {
   "cell_type": "code",
   "execution_count": 43,
   "id": "d1f518e0-8ba1-485e-9abd-3d0e544e9b76",
   "metadata": {},
   "outputs": [
    {
     "data": {
      "text/plain": [
       "False"
      ]
     },
     "execution_count": 43,
     "metadata": {},
     "output_type": "execute_result"
    }
   ],
   "source": [
    "\"20A\".isdigit()"
   ]
  },
  {
   "cell_type": "code",
   "execution_count": 45,
   "id": "1b29ebef-e4db-4001-917b-4a9c99b2e82b",
   "metadata": {},
   "outputs": [
    {
     "data": {
      "text/plain": [
       "True"
      ]
     },
     "execution_count": 45,
     "metadata": {},
     "output_type": "execute_result"
    }
   ],
   "source": [
    "\"hello_world\".isidentifier()"
   ]
  },
  {
   "cell_type": "markdown",
   "id": "f972272d-ea8f-45cc-8db0-1186b167cdaf",
   "metadata": {},
   "source": [
    "7. split"
   ]
  },
  {
   "cell_type": "code",
   "execution_count": 47,
   "id": "2e078b54-75ff-4b56-977b-f3d9e147ddbc",
   "metadata": {},
   "outputs": [
    {
     "data": {
      "text/plain": [
       "['Who', 'is', 'the', 'prime', 'minister', 'of', 'India']"
      ]
     },
     "execution_count": 47,
     "metadata": {},
     "output_type": "execute_result"
    }
   ],
   "source": [
    "\"Who is the prime minister of India\".split()\n",
    "# splits and give it as a list "
   ]
  },
  {
   "cell_type": "code",
   "execution_count": 49,
   "id": "58871df5-ec04-408d-b3f0-9f2e73e97d02",
   "metadata": {},
   "outputs": [
    {
     "data": {
      "text/plain": [
       "['Who ', 's the pr', 'me m', 'n', 'ster of Ind', 'a']"
      ]
     },
     "execution_count": 49,
     "metadata": {},
     "output_type": "execute_result"
    }
   ],
   "source": [
    "\"Who is the prime minister of India\".split('i')"
   ]
  },
  {
   "cell_type": "markdown",
   "id": "1189296f-9d3f-44c2-909e-ad5fbac605bf",
   "metadata": {},
   "source": [
    "8. Join"
   ]
  },
  {
   "cell_type": "code",
   "execution_count": 50,
   "id": "34a543a8-2611-4b25-8e25-da85a5d3fe1a",
   "metadata": {},
   "outputs": [
    {
     "data": {
      "text/plain": [
       "'Who is the prime minister of India'"
      ]
     },
     "execution_count": 50,
     "metadata": {},
     "output_type": "execute_result"
    }
   ],
   "source": [
    "# reverse of the split function\n",
    "\" \".join(['Who', 'is', 'the', 'prime', 'minister', 'of', 'India'])"
   ]
  },
  {
   "cell_type": "code",
   "execution_count": 51,
   "id": "14dfaac9-2224-4919-a698-16b5119c5c09",
   "metadata": {},
   "outputs": [
    {
     "data": {
      "text/plain": [
       "'Who/is/the/prime/minister/of/India'"
      ]
     },
     "execution_count": 51,
     "metadata": {},
     "output_type": "execute_result"
    }
   ],
   "source": [
    "\"/\".join(['Who', 'is', 'the', 'prime', 'minister', 'of', 'India'])"
   ]
  },
  {
   "cell_type": "markdown",
   "id": "12734cae-3888-4a57-97e7-7f448d8fdf1f",
   "metadata": {},
   "source": [
    "9. Replace"
   ]
  },
  {
   "cell_type": "code",
   "execution_count": 52,
   "id": "636a1bd8-f576-491a-91a8-d3589121b137",
   "metadata": {},
   "outputs": [
    {
     "data": {
      "text/plain": [
       "'Hi my name is Ayushman'"
      ]
     },
     "execution_count": 52,
     "metadata": {},
     "output_type": "execute_result"
    }
   ],
   "source": [
    "\"Hi my name is Kalpit\".replace(\"Kalpit\",\"Ayushman\")"
   ]
  },
  {
   "cell_type": "markdown",
   "id": "1dc136b6-8d98-46be-80be-704f4eba8c13",
   "metadata": {},
   "source": [
    "10. Split"
   ]
  },
  {
   "cell_type": "code",
   "execution_count": 56,
   "id": "2cceb522-d39f-4a19-80f7-98cfeb5e4b14",
   "metadata": {},
   "outputs": [
    {
     "data": {
      "text/plain": [
       "'nitish'"
      ]
     },
     "execution_count": 56,
     "metadata": {},
     "output_type": "execute_result"
    }
   ],
   "source": [
    "name=\"                         nitish           \"\n",
    "name.strip()\n",
    "# removes leading and trailing spaces"
   ]
  }
 ],
 "metadata": {
  "kernelspec": {
   "display_name": "Python 3 (ipykernel)",
   "language": "python",
   "name": "python3"
  },
  "language_info": {
   "codemirror_mode": {
    "name": "ipython",
    "version": 3
   },
   "file_extension": ".py",
   "mimetype": "text/x-python",
   "name": "python",
   "nbconvert_exporter": "python",
   "pygments_lexer": "ipython3",
   "version": "3.13.3"
  }
 },
 "nbformat": 4,
 "nbformat_minor": 5
}
