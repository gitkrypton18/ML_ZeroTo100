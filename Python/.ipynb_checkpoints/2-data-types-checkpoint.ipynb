{
 "cells": [
  {
   "cell_type": "markdown",
   "id": "1c88301d-9eaf-4494-b73e-c603a9eba232",
   "metadata": {},
   "source": [
    "# Python Supports 3 categories of datatypes\n",
    "## Basic types - (integer,float,complex,boolean and string)\n",
    "## Container Types - (list,tuple,set,dictionary)\n",
    "## user defined types - class"
   ]
  },
  {
   "cell_type": "markdown",
   "id": "c0f4c9f3-e3ed-44f1-afd3-1ac09a1f2105",
   "metadata": {},
   "source": [
    "## BASIC TYPES"
   ]
  },
  {
   "cell_type": "code",
   "execution_count": 1,
   "id": "f0682333-6cb2-4784-8497-c11423dc5b29",
   "metadata": {},
   "outputs": [
    {
     "name": "stdout",
     "output_type": "stream",
     "text": [
      "4\n",
      "inf\n"
     ]
    }
   ],
   "source": [
    "#integer\n",
    "print (4)\n",
    "print(1e309)\n"
   ]
  },
  {
   "cell_type": "code",
   "execution_count": 2,
   "id": "88407848-6bfb-4c64-a812-861b4db6abbb",
   "metadata": {},
   "outputs": [
    {
     "name": "stdout",
     "output_type": "stream",
     "text": [
      "4 5\n",
      "1.7e+308\n"
     ]
    }
   ],
   "source": [
    "# float \n",
    "print(4,5)\n",
    "print (1.7e308)\n"
   ]
  },
  {
   "cell_type": "code",
   "execution_count": 1,
   "id": "30f0385d-0749-411b-b259-fe703ab535ab",
   "metadata": {},
   "outputs": [
    {
     "name": "stdout",
     "output_type": "stream",
     "text": [
      "True\n",
      "False\n"
     ]
    },
    {
     "data": {
      "text/plain": [
       "bool"
      ]
     },
     "execution_count": 1,
     "metadata": {},
     "output_type": "execute_result"
    }
   ],
   "source": [
    "#boolean\n",
    "print(True)\n",
    "print(False)\n",
    "type(True)\n"
   ]
  },
  {
   "cell_type": "code",
   "execution_count": 5,
   "id": "41e4fea8-2d94-42f8-8d3a-66681a525530",
   "metadata": {},
   "outputs": [
    {
     "name": "stdout",
     "output_type": "stream",
     "text": [
      "(4+5j)\n"
     ]
    }
   ],
   "source": [
    "#complex\n",
    "print(4+5j)\n"
   ]
  },
  {
   "cell_type": "code",
   "execution_count": 6,
   "id": "6ed9f7c1-5b09-4931-9e22-45e9d4663fcc",
   "metadata": {},
   "outputs": [
    {
     "name": "stdout",
     "output_type": "stream",
     "text": [
      "Kolkata\n",
      "Kolkata\n",
      "Kolkata\n"
     ]
    }
   ],
   "source": [
    "#string \n",
    "print('Kolkata')\n",
    "print (\"Kolkata\")\n",
    "print(\"\"\"Kolkata\"\"\")\n",
    "\n",
    "\n"
   ]
  },
  {
   "cell_type": "markdown",
   "id": "e0413e34-7bc5-4220-9efe-eaa902b1b0ca",
   "metadata": {},
   "source": [
    "# CONTAINER TYPES\n"
   ]
  },
  {
   "cell_type": "code",
   "execution_count": 7,
   "id": "1d80af98-e6f7-4726-b88d-8b7bcae176d7",
   "metadata": {},
   "outputs": [
    {
     "name": "stdout",
     "output_type": "stream",
     "text": [
      "[1, 2, 3, 4, 5]\n"
     ]
    }
   ],
   "source": [
    "#list\n",
    "print([1,2,3,4,5])\n"
   ]
  },
  {
   "cell_type": "code",
   "execution_count": 8,
   "id": "857692bf-6223-4e33-ba69-f783c23b5034",
   "metadata": {},
   "outputs": [
    {
     "name": "stdout",
     "output_type": "stream",
     "text": [
      "(1, 2, 3, 4, 5)\n"
     ]
    }
   ],
   "source": [
    "#tuple\n",
    "print ((1,2,3,4,5))\n"
   ]
  },
  {
   "cell_type": "markdown",
   "id": "9c813986-38e0-40ec-84a4-7057e77ab872",
   "metadata": {},
   "source": [
    "## one thing note that in list we use square brackets and in tuples we use round braces\n",
    "## in sets it is just like the normal sets we have dealt before\n"
   ]
  },
  {
   "cell_type": "code",
   "execution_count": 10,
   "id": "c72108e7-5579-452a-a4e1-e74b09eaa85b",
   "metadata": {},
   "outputs": [
    {
     "name": "stdout",
     "output_type": "stream",
     "text": [
      "{1, 2, 3, 4, 5, 6}\n"
     ]
    }
   ],
   "source": [
    "#sets\n",
    "print({1,2,3,4,5,6,1,2,3,4})\n",
    "\n"
   ]
  },
  {
   "cell_type": "code",
   "execution_count": 12,
   "id": "32a01ae5-e7c5-4867-aef9-5a7696479166",
   "metadata": {},
   "outputs": [
    {
     "name": "stdout",
     "output_type": "stream",
     "text": [
      "{'Name': 'Nitish', 'Age': 30, 'Gender': 'male'}\n"
     ]
    }
   ],
   "source": [
    "#dictionary\n",
    "# we make a key value here \n",
    "print({\"Name\":\"Nitish\",\"Age\" : 30, \"Gender\" : \"male\"})\n"
   ]
  },
  {
   "cell_type": "markdown",
   "id": "05a1b739-298e-4e06-bc20-99ea1de93f39",
   "metadata": {},
   "source": [
    "## Points to keep in mind \n",
    "### use sq [] brac in list , round () brac in tuple , curly {} in the sets , and curly in the dictionaries (use : in the dic key value)\n"
   ]
  }
 ],
 "metadata": {
  "kernelspec": {
   "display_name": "Python 3",
   "language": "python",
   "name": "python3"
  },
  "language_info": {
   "codemirror_mode": {
    "name": "ipython",
    "version": 3
   },
   "file_extension": ".py",
   "mimetype": "text/x-python",
   "name": "python",
   "nbconvert_exporter": "python",
   "pygments_lexer": "ipython3",
   "version": "3.13.3"
  }
 },
 "nbformat": 4,
 "nbformat_minor": 5
}
