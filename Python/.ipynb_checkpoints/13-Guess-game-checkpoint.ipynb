{
 "cells": [
  {
   "cell_type": "markdown",
   "id": "04e4079f-3ad3-46e9-866a-39f9d3cfc969",
   "metadata": {},
   "source": [
    "In this module we are making a gueessing game in which pc decides a random no and we have to guess the no\n"
   ]
  },
  {
   "cell_type": "code",
   "execution_count": 1,
   "id": "d668fe89-d5f5-447f-b529-185e45d502fd",
   "metadata": {},
   "outputs": [],
   "source": [
    "#random numbers are generated under random module\n",
    "\n",
    "import random\n"
   ]
  },
  {
   "cell_type": "code",
   "execution_count": 2,
   "id": "98e82e8a-4e15-44f0-a408-bec41dcaf871",
   "metadata": {},
   "outputs": [
    {
     "name": "stdin",
     "output_type": "stream",
     "text": [
      "Chal Guess Kar 44\n"
     ]
    },
    {
     "name": "stdout",
     "output_type": "stream",
     "text": [
      "Guess higher\n"
     ]
    },
    {
     "name": "stdin",
     "output_type": "stream",
     "text": [
      "Chal guess kar ! 55\n"
     ]
    },
    {
     "name": "stdout",
     "output_type": "stream",
     "text": [
      "Guess higher\n"
     ]
    },
    {
     "name": "stdin",
     "output_type": "stream",
     "text": [
      "Chal guess kar ! 78\n"
     ]
    },
    {
     "name": "stdout",
     "output_type": "stream",
     "text": [
      "Guess higher\n"
     ]
    },
    {
     "name": "stdin",
     "output_type": "stream",
     "text": [
      "Chal guess kar ! 100\n"
     ]
    },
    {
     "name": "stdout",
     "output_type": "stream",
     "text": [
      "Guess lower\n"
     ]
    },
    {
     "name": "stdin",
     "output_type": "stream",
     "text": [
      "Chal guess kar ! 89\n"
     ]
    },
    {
     "name": "stdout",
     "output_type": "stream",
     "text": [
      "Guess higher\n"
     ]
    },
    {
     "name": "stdin",
     "output_type": "stream",
     "text": [
      "Chal guess kar ! 90\n"
     ]
    },
    {
     "name": "stdout",
     "output_type": "stream",
     "text": [
      "Guess higher\n"
     ]
    },
    {
     "name": "stdin",
     "output_type": "stream",
     "text": [
      "Chal guess kar ! 95\n"
     ]
    },
    {
     "name": "stdout",
     "output_type": "stream",
     "text": [
      "Guess higher\n"
     ]
    },
    {
     "name": "stdin",
     "output_type": "stream",
     "text": [
      "Chal guess kar ! 97\n"
     ]
    },
    {
     "name": "stdout",
     "output_type": "stream",
     "text": [
      "Guess higher\n"
     ]
    },
    {
     "name": "stdin",
     "output_type": "stream",
     "text": [
      "Chal guess kar ! 99\n"
     ]
    },
    {
     "name": "stdout",
     "output_type": "stream",
     "text": [
      "Guess lower\n"
     ]
    },
    {
     "name": "stdin",
     "output_type": "stream",
     "text": [
      "Chal guess kar ! 98\n"
     ]
    },
    {
     "name": "stdout",
     "output_type": "stream",
     "text": [
      "Sahi Jawab\n",
      "you took  10 attempts\n"
     ]
    }
   ],
   "source": [
    "jackpot=random.randint(1,100)\n",
    "\n",
    "guess = int(input(\"Chal Guess Kar\"))\n",
    "counter = 1\n",
    "while guess != jackpot:\n",
    "    if guess < jackpot :\n",
    "        print (\"Guess higher\")\n",
    "    else :\n",
    "        print (\"Guess lower\")\n",
    "        \n",
    "    guess = int(input(\"Chal guess kar !\"))\n",
    "    counter+=1\n",
    "\n",
    "    \n",
    "print (\"Sahi Jawab\")\n",
    "print (\"you took \", counter ,\"attempts\")\n",
    "    "
   ]
  },
  {
   "cell_type": "code",
   "execution_count": null,
   "id": "b5fc830f-931f-470b-91e3-51d226dd0397",
   "metadata": {},
   "outputs": [],
   "source": []
  }
 ],
 "metadata": {
  "kernelspec": {
   "display_name": "Python 3 (ipykernel)",
   "language": "python",
   "name": "python3"
  },
  "language_info": {
   "codemirror_mode": {
    "name": "ipython",
    "version": 3
   },
   "file_extension": ".py",
   "mimetype": "text/x-python",
   "name": "python",
   "nbconvert_exporter": "python",
   "pygments_lexer": "ipython3",
   "version": "3.13.3"
  }
 },
 "nbformat": 4,
 "nbformat_minor": 5
}
