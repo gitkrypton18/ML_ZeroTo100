{
 "cells": [
  {
   "cell_type": "markdown",
   "id": "2e4fe997-2e42-4eca-8aac-fea2b1a8279b",
   "metadata": {},
   "source": [
    "## Recursion :\n",
    "helps us to reduce loops \n",
    "A Function calls itself upon called this process is called recursion\n",
    "\n"
   ]
  },
  {
   "cell_type": "markdown",
   "id": "41b8022b-3146-43e2-88a1-896e0d50d19f",
   "metadata": {},
   "source": [
    "Iterative vs Recursive\n"
   ]
  },
  {
   "cell_type": "code",
   "execution_count": 3,
   "id": "9281d9c3-5a88-4977-b398-5bf277f8b41a",
   "metadata": {},
   "outputs": [
    {
     "data": {
      "text/plain": [
       "20"
      ]
     },
     "execution_count": 3,
     "metadata": {},
     "output_type": "execute_result"
    }
   ],
   "source": [
    "# Multiplication\n",
    "4*5\n",
    "4+4+4+4+4"
   ]
  },
  {
   "cell_type": "code",
   "execution_count": 4,
   "id": "dd31733f-0ecc-4779-9709-7e6c17268827",
   "metadata": {},
   "outputs": [
    {
     "name": "stdout",
     "output_type": "stream",
     "text": [
      "12\n"
     ]
    }
   ],
   "source": [
    "# Loop\n",
    "def multiply(a,b):\n",
    "    result = 0\n",
    "    for i in range(b):\n",
    "        result=result+a\n",
    "    print (result)\n",
    "multiply(3,4)\n",
    "        "
   ]
  },
  {
   "cell_type": "code",
   "execution_count": 5,
   "id": "33350567-25f9-4aa7-bac2-fc8e9125b7f8",
   "metadata": {},
   "outputs": [
    {
     "name": "stdout",
     "output_type": "stream",
     "text": [
      "30\n"
     ]
    }
   ],
   "source": [
    "# Recursion\n",
    "def mul(a,b):\n",
    "    if b==1:\n",
    "        return a\n",
    "    else:\n",
    "        return a+mul(a,b-1)\n",
    "print(mul(5,6))"
   ]
  },
  {
   "cell_type": "markdown",
   "id": "32af0729-d0b6-419d-8128-ad4d7c4e1d13",
   "metadata": {},
   "source": [
    "Factorial"
   ]
  },
  {
   "cell_type": "code",
   "execution_count": 6,
   "id": "933e212e-744d-433b-aeb6-b171e3b6cb7d",
   "metadata": {},
   "outputs": [
    {
     "name": "stdout",
     "output_type": "stream",
     "text": [
      "120\n"
     ]
    }
   ],
   "source": [
    "# Factorial using Reccursion\n",
    "def fact(number):\n",
    "    if number==1:\n",
    "        return 1\n",
    "    else:\n",
    "        # 5 = 5*4!\n",
    "        return number*fact(number-1)\n",
    "print(fact(5))"
   ]
  },
  {
   "cell_type": "markdown",
   "id": "258b5eae-7547-4713-ab38-12cf12217c96",
   "metadata": {},
   "source": [
    "Palindrome"
   ]
  },
  {
   "cell_type": "code",
   "execution_count": 7,
   "id": "151def16-8ca2-43a5-b830-f0b1764459ce",
   "metadata": {},
   "outputs": [
    {
     "name": "stdout",
     "output_type": "stream",
     "text": [
      "Palindrome\n",
      "Palindrome\n",
      "Not a palin\n",
      "Palindrome\n"
     ]
    }
   ],
   "source": [
    "# palindrome : madam\n",
    "# naman\n",
    "# Base Condition : length of string == 1 : palindrome\n",
    "# Else Match first or last character remove it\n",
    "# Jo bacha adan uspr bhi upar wala laga do\n",
    "\n",
    "def palin (text):\n",
    "    if len(text)<=1:\n",
    "        print(\"Palindrome\")\n",
    "    else:\n",
    "       if text[0]==text[-1]:\n",
    "           palin(text[1:-1])\n",
    "       else:\n",
    "           print(\"Not a palin\")\n",
    "\n",
    "palin(\"madam\")\n",
    "palin(\"malayalam\")\n",
    "palin(\"python\")\n",
    "palin(\"noon\")"
   ]
  },
  {
   "cell_type": "markdown",
   "id": "f9cee6d6-4c8a-48ff-8f2f-2535177e8caa",
   "metadata": {},
   "source": [
    "The rabbit problem\n",
    "If 2 newborn rabbits are  put in a pen, how many rabbits will be there in the pen after 1 year assuming that rabbits \n",
    "- always produce one male and one female offspring.\n",
    "- Can produce once every month.\n",
    "- Can produce once they are one month old.\n",
    "- Never die.\n",
    "\n",
    "This is actually a fibonacci series.\n"
   ]
  },
  {
   "cell_type": "code",
   "execution_count": 8,
   "id": "0734a78e-c84a-4171-b6e4-48fc2413e362",
   "metadata": {},
   "outputs": [
    {
     "name": "stdout",
     "output_type": "stream",
     "text": [
      "233\n"
     ]
    }
   ],
   "source": [
    "def fibo(m):\n",
    "    if m ==0 or m==1:\n",
    "        return 1\n",
    "    else :\n",
    "        return fibo(m-1)+fibo(m-2)\n",
    "print(fibo(12))\n",
    "\n",
    "# this code is inefficeint as it taking more time\n",
    "# time complexity 2^n"
   ]
  },
  {
   "cell_type": "code",
   "execution_count": 9,
   "id": "c76ee72d-db20-4444-8c19-375a742aa13d",
   "metadata": {},
   "outputs": [
    {
     "name": "stdout",
     "output_type": "stream",
     "text": [
      "233\n",
      "0.0009312629699707031\n"
     ]
    }
   ],
   "source": [
    "#  lets calculate the time utilised for all of these to occur\n",
    "\n",
    "import time\n",
    "def fibo(m):\n",
    "    if m ==0 or m==1:\n",
    "        return 1\n",
    "    else :\n",
    "        return fibo(m-1)+fibo(m-2)\n",
    "\n",
    "start = time.time()\n",
    "print(fibo(12))\n",
    "print(time.time()-start)\n",
    "\n"
   ]
  },
  {
   "cell_type": "code",
   "execution_count": 10,
   "id": "9a53e9a8-e493-4278-a306-ac306b4c6188",
   "metadata": {},
   "outputs": [
    {
     "name": "stdout",
     "output_type": "stream",
     "text": [
      "233\n"
     ]
    }
   ],
   "source": [
    "print(fibo(12))"
   ]
  },
  {
   "cell_type": "code",
   "execution_count": null,
   "id": "e446b123-7bc2-4b41-8cc1-ae60d14def4a",
   "metadata": {},
   "outputs": [],
   "source": [
    "## Using Dynamic Programming we can utilise space time tradeoff properly"
   ]
  },
  {
   "cell_type": "code",
   "execution_count": 17,
   "id": "df587c32-e55c-4a4f-ac37-1d284bd9643d",
   "metadata": {},
   "outputs": [
    {
     "name": "stdout",
     "output_type": "stream",
     "text": [
      "75025\n",
      "0.0007162094116210938\n",
      "{0: 1, 1: 1, 2: 2, 3: 3, 4: 5, 5: 8, 6: 13, 7: 21, 8: 34, 9: 55, 10: 89, 11: 144, 12: 233, 13: 377, 14: 610, 15: 987, 16: 1597, 17: 2584, 18: 4181, 19: 6765, 20: 10946, 21: 17711, 22: 28657, 23: 46368, 24: 75025}\n"
     ]
    }
   ],
   "source": [
    "import time\n",
    "\n",
    "def memo(m,d):\n",
    "    if m in d:\n",
    "        return d[m]\n",
    "    else:\n",
    "        d[m]=memo(m-1,d)+memo(m-2,d)\n",
    "        return d[m]\n",
    "\n",
    "start = time.time()\n",
    "\n",
    "d={0:1,1:1}\n",
    "print(memo(24,d))\n",
    "print(time.time()-start)\n",
    "\n",
    "print(d)"
   ]
  }
 ],
 "metadata": {
  "kernelspec": {
   "display_name": "Python 3 (ipykernel)",
   "language": "python",
   "name": "python3"
  },
  "language_info": {
   "codemirror_mode": {
    "name": "ipython",
    "version": 3
   },
   "file_extension": ".py",
   "mimetype": "text/x-python",
   "name": "python",
   "nbconvert_exporter": "python",
   "pygments_lexer": "ipython3",
   "version": "3.13.3"
  }
 },
 "nbformat": 4,
 "nbformat_minor": 5
}
