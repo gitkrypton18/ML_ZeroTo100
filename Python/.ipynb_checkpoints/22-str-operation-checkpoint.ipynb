{
 "cells": [
  {
   "cell_type": "markdown",
   "id": "73a19491-add7-415c-a15d-effcc00dcdd3",
   "metadata": {},
   "source": [
    "## Operations on Strings\n",
    "- Arithmetic Operations\n",
    "- Relational Operations\n",
    "- Logical Operations\n",
    "- Loops on Strings\n",
    "- Membership Operations\n",
    "- "
   ]
  },
  {
   "cell_type": "code",
   "execution_count": 1,
   "id": "6d6057aa-dbe0-4692-a618-e0659d91bb74",
   "metadata": {},
   "outputs": [
    {
     "data": {
      "text/plain": [
       "'Hello-World'"
      ]
     },
     "execution_count": 1,
     "metadata": {},
     "output_type": "execute_result"
    }
   ],
   "source": [
    "\"Hello\"+\"-\"+\"World\""
   ]
  },
  {
   "cell_type": "code",
   "execution_count": 2,
   "id": "7dfdbf6b-ac6c-40d8-a536-f95bc47086cf",
   "metadata": {},
   "outputs": [
    {
     "name": "stdout",
     "output_type": "stream",
     "text": [
      "**************************************************\n"
     ]
    }
   ],
   "source": [
    "print (\"*\"*50)"
   ]
  },
  {
   "cell_type": "code",
   "execution_count": 3,
   "id": "7a31e6dc-7f32-49e4-b33f-6ef960ff3513",
   "metadata": {},
   "outputs": [
    {
     "name": "stdout",
     "output_type": "stream",
     "text": [
      "HelloHelloHelloHello\n"
     ]
    }
   ],
   "source": [
    "print(\"Hello\"*4)"
   ]
  },
  {
   "cell_type": "code",
   "execution_count": 4,
   "id": "7d80261d-28ef-48de-9e34-df257df64471",
   "metadata": {},
   "outputs": [
    {
     "data": {
      "text/plain": [
       "False"
      ]
     },
     "execution_count": 4,
     "metadata": {},
     "output_type": "execute_result"
    }
   ],
   "source": [
    "# Relational\n",
    "\"Hello\"== \"World\""
   ]
  },
  {
   "cell_type": "code",
   "execution_count": 5,
   "id": "8cf1756b-4377-4735-b922-bbbc6bde7b31",
   "metadata": {},
   "outputs": [
    {
     "data": {
      "text/plain": [
       "True"
      ]
     },
     "execution_count": 5,
     "metadata": {},
     "output_type": "execute_result"
    }
   ],
   "source": [
    "\"Hello\"!=\"World\""
   ]
  },
  {
   "cell_type": "code",
   "execution_count": 6,
   "id": "62bfe5d7-2571-4eac-8c47-1800d3a13434",
   "metadata": {},
   "outputs": [
    {
     "data": {
      "text/plain": [
       "False"
      ]
     },
     "execution_count": 6,
     "metadata": {},
     "output_type": "execute_result"
    }
   ],
   "source": [
    "\"Mumbai\">\"Pune\"\n",
    "# Lexiographically Comparision\n",
    "# Dictionary Comparision"
   ]
  },
  {
   "cell_type": "code",
   "execution_count": 7,
   "id": "693b28bf-f984-4b97-bbdf-d1b54de9a712",
   "metadata": {},
   "outputs": [
    {
     "data": {
      "text/plain": [
       "True"
      ]
     },
     "execution_count": 7,
     "metadata": {},
     "output_type": "execute_result"
    }
   ],
   "source": [
    "\"Goa\"<\"Kolkata\""
   ]
  },
  {
   "cell_type": "code",
   "execution_count": 9,
   "id": "67e4db05-c539-45a7-aa2a-5eadd158efcb",
   "metadata": {},
   "outputs": [
    {
     "data": {
      "text/plain": [
       "False"
      ]
     },
     "execution_count": 9,
     "metadata": {},
     "output_type": "execute_result"
    }
   ],
   "source": [
    "\"kol\"<\"Kol\"\n",
    "#small letters appear after capital so they are greator"
   ]
  },
  {
   "cell_type": "code",
   "execution_count": 10,
   "id": "fbf03450-8672-448e-83c6-7182e0f7047e",
   "metadata": {},
   "outputs": [
    {
     "data": {
      "text/plain": [
       "'World'"
      ]
     },
     "execution_count": 10,
     "metadata": {},
     "output_type": "execute_result"
    }
   ],
   "source": [
    "\"Hello\" and \"World\""
   ]
  },
  {
   "cell_type": "markdown",
   "id": "2b039c68-1ec7-4b28-9be4-26f7e63192ac",
   "metadata": {},
   "source": [
    "## Why ?\n",
    "# Empty String is considered as False and Filled String as True"
   ]
  },
  {
   "cell_type": "code",
   "execution_count": 12,
   "id": "084dd603-b27f-4971-8ceb-24ad4d37ba74",
   "metadata": {},
   "outputs": [
    {
     "data": {
      "text/plain": [
       "' '"
      ]
     },
     "execution_count": 12,
     "metadata": {},
     "output_type": "execute_result"
    }
   ],
   "source": [
    "\"Hello\" and \" \""
   ]
  },
  {
   "cell_type": "code",
   "execution_count": 13,
   "id": "489e97c8-8d4f-4caf-9be0-8deb0c3272c7",
   "metadata": {},
   "outputs": [
    {
     "data": {
      "text/plain": [
       "'World'"
      ]
     },
     "execution_count": 13,
     "metadata": {},
     "output_type": "execute_result"
    }
   ],
   "source": [
    "\"\" or \"World\""
   ]
  },
  {
   "cell_type": "code",
   "execution_count": 15,
   "id": "14522784-a700-45b2-a8aa-8c58f4d3e3c9",
   "metadata": {},
   "outputs": [
    {
     "data": {
      "text/plain": [
       "'Hello'"
      ]
     },
     "execution_count": 15,
     "metadata": {},
     "output_type": "execute_result"
    }
   ],
   "source": [
    "\"Hello\"or \"World\"\n",
    "# pehla true toh or me true\n",
    "# dusra bhi true toh and me true"
   ]
  },
  {
   "cell_type": "code",
   "execution_count": 16,
   "id": "967255a9-ff63-443c-a320-2960089ed13b",
   "metadata": {},
   "outputs": [
    {
     "data": {
      "text/plain": [
       "'World'"
      ]
     },
     "execution_count": 16,
     "metadata": {},
     "output_type": "execute_result"
    }
   ],
   "source": [
    "\"Hello\" and \"World\""
   ]
  },
  {
   "cell_type": "code",
   "execution_count": 18,
   "id": "82529925-1bbd-4ba7-955b-3905a4aadede",
   "metadata": {},
   "outputs": [
    {
     "data": {
      "text/plain": [
       "False"
      ]
     },
     "execution_count": 18,
     "metadata": {},
     "output_type": "execute_result"
    }
   ],
   "source": [
    "not \"Hello\"\n",
    "# empty string is False"
   ]
  },
  {
   "cell_type": "code",
   "execution_count": 19,
   "id": "93e060b9-a926-41e0-bf21-a1a137f7d8a3",
   "metadata": {},
   "outputs": [
    {
     "data": {
      "text/plain": [
       "True"
      ]
     },
     "execution_count": 19,
     "metadata": {},
     "output_type": "execute_result"
    }
   ],
   "source": [
    "not \"\""
   ]
  },
  {
   "cell_type": "code",
   "execution_count": 20,
   "id": "22de6e9f-1176-4aac-94a3-9663e9f55225",
   "metadata": {},
   "outputs": [
    {
     "name": "stdout",
     "output_type": "stream",
     "text": [
      "H\n",
      "e\n",
      "l\n",
      "l\n",
      "o\n",
      " \n",
      "W\n",
      "o\n",
      "r\n",
      "l\n",
      "d\n"
     ]
    }
   ],
   "source": [
    "c=\"Hello World\"\n",
    "for i in c :\n",
    "    print(i)"
   ]
  },
  {
   "cell_type": "code",
   "execution_count": 21,
   "id": "f57745ee-219f-43c1-a347-11041fb65e8d",
   "metadata": {},
   "outputs": [
    {
     "name": "stdout",
     "output_type": "stream",
     "text": [
      "l\n",
      "o\n",
      "W\n"
     ]
    }
   ],
   "source": [
    "for i in c[2:7:2]:\n",
    "    print(i)"
   ]
  },
  {
   "cell_type": "code",
   "execution_count": 22,
   "id": "544b5ee4-36f0-4e36-a221-58260d1a5fe2",
   "metadata": {},
   "outputs": [
    {
     "data": {
      "text/plain": [
       "'Hello World'"
      ]
     },
     "execution_count": 22,
     "metadata": {},
     "output_type": "execute_result"
    }
   ],
   "source": [
    "c\n"
   ]
  },
  {
   "cell_type": "code",
   "execution_count": 23,
   "id": "e9bef830-b904-4098-9738-067edb082745",
   "metadata": {},
   "outputs": [
    {
     "data": {
      "text/plain": [
       "False"
      ]
     },
     "execution_count": 23,
     "metadata": {},
     "output_type": "execute_result"
    }
   ],
   "source": [
    "'h'in c"
   ]
  },
  {
   "cell_type": "code",
   "execution_count": 24,
   "id": "9e4ebc80-a299-4c93-ac8e-f7d6c73daafe",
   "metadata": {},
   "outputs": [
    {
     "data": {
      "text/plain": [
       "True"
      ]
     },
     "execution_count": 24,
     "metadata": {},
     "output_type": "execute_result"
    }
   ],
   "source": [
    "\"H\" in c"
   ]
  },
  {
   "cell_type": "code",
   "execution_count": 25,
   "id": "abd9ce64-c88e-4ac2-bf5a-1c6da9d36535",
   "metadata": {},
   "outputs": [
    {
     "data": {
      "text/plain": [
       "False"
      ]
     },
     "execution_count": 25,
     "metadata": {},
     "output_type": "execute_result"
    }
   ],
   "source": [
    "\"World\" not in c"
   ]
  }
 ],
 "metadata": {
  "kernelspec": {
   "display_name": "Python 3 (ipykernel)",
   "language": "python",
   "name": "python3"
  },
  "language_info": {
   "codemirror_mode": {
    "name": "ipython",
    "version": 3
   },
   "file_extension": ".py",
   "mimetype": "text/x-python",
   "name": "python",
   "nbconvert_exporter": "python",
   "pygments_lexer": "ipython3",
   "version": "3.13.3"
  }
 },
 "nbformat": 4,
 "nbformat_minor": 5
}
