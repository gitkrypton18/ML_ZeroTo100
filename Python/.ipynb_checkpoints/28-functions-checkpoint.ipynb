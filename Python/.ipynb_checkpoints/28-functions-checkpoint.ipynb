{
 "cells": [
  {
   "cell_type": "markdown",
   "id": "d43bd27d-d434-4a45-b8e6-a33b3a2bfdce",
   "metadata": {},
   "source": [
    "## Functions\n",
    "### Components :\n",
    "def is_even(i):\n",
    "\"doc string\"\n",
    "    body\n",
    "    return\n",
    "is_even(7)"
   ]
  },
  {
   "cell_type": "code",
   "execution_count": 7,
   "id": "f2a655dc-afaf-4852-b1ce-89db3a5bd04e",
   "metadata": {},
   "outputs": [
    {
     "name": "stdout",
     "output_type": "stream",
     "text": [
      "Odd\n",
      "Even\n",
      "Odd\n",
      "Even\n",
      "Odd\n",
      "Even\n",
      "Odd\n",
      "Even\n",
      "Odd\n",
      "Even\n",
      "This function tells us given no is odd/even\n",
      "Input any valid number\n",
      "output odd/even\n"
     ]
    },
    {
     "data": {
      "text/plain": [
       "'Prints the values to a stream, or to sys.stdout by default.\\n\\n  sep\\n    string inserted between values, default a space.\\n  end\\n    string appended after the last value, default a newline.\\n  file\\n    a file-like object (stream); defaults to the current sys.stdout.\\n  flush\\n    whether to forcibly flush the stream.'"
      ]
     },
     "execution_count": 7,
     "metadata": {},
     "output_type": "execute_result"
    }
   ],
   "source": [
    "def is_even(i):\n",
    "    \"\"\"This function tells us given no is odd/even\n",
    "    Input any valid number\n",
    "    output odd/even\"\"\"\n",
    "    if i%2==0 :\n",
    "        return \"Even\"\n",
    "    else :\n",
    "        return \"Odd\"\n",
    "for i in range(1,11):\n",
    "    print(is_even(i))\n",
    "\n",
    "# to print function doc we use\n",
    "print(is_even.__doc__)\n",
    "\n",
    "print.__doc__\n"
   ]
  },
  {
   "cell_type": "code",
   "execution_count": 8,
   "id": "7331f0a3-8cd3-402d-859c-dc82aa3438aa",
   "metadata": {},
   "outputs": [
    {
     "data": {
      "text/plain": [
       "\"type(object) -> the object's type\\ntype(name, bases, dict, **kwds) -> a new type\""
      ]
     },
     "execution_count": 8,
     "metadata": {},
     "output_type": "execute_result"
    }
   ],
   "source": [
    "type.__doc__"
   ]
  },
  {
   "cell_type": "markdown",
   "id": "9f74f8f1-2f64-47da-b9d3-35999b99b110",
   "metadata": {},
   "source": [
    "The two point of views\n",
    "Lets create function in one file and execute it in another\n",
    "### create the function file and save it inside the library folder\n",
    "### or the same folder\n",
    "and then  use import file_name\n"
   ]
  },
  {
   "cell_type": "code",
   "execution_count": 34,
   "id": "3f051cfd-5f06-4562-9435-57554d1cb122",
   "metadata": {},
   "outputs": [
    {
     "ename": "TypeError",
     "evalue": "not all arguments converted during string formatting",
     "output_type": "error",
     "traceback": [
      "\u001b[31m---------------------------------------------------------------------------\u001b[39m",
      "\u001b[31mTypeError\u001b[39m                                 Traceback (most recent call last)",
      "\u001b[36mCell\u001b[39m\u001b[36m \u001b[39m\u001b[32mIn[34]\u001b[39m\u001b[32m, line 2\u001b[39m\n\u001b[32m      1\u001b[39m \u001b[38;5;28;01mimport\u001b[39;00m\u001b[38;5;250m \u001b[39m\u001b[34;01modd_even\u001b[39;00m\n\u001b[32m----> \u001b[39m\u001b[32m2\u001b[39m \u001b[43modd_even\u001b[49m\u001b[43m.\u001b[49m\u001b[43mis_even\u001b[49m\u001b[43m(\u001b[49m\u001b[33;43m\"\u001b[39;49m\u001b[33;43mHello\u001b[39;49m\u001b[33;43m\"\u001b[39;49m\u001b[43m)\u001b[49m\n\u001b[32m      3\u001b[39m \u001b[38;5;66;03m# this function is directly extrscted directly\u001b[39;00m\n",
      "\u001b[36mFile \u001b[39m\u001b[32mD:\\JBooks\\Python Basics\\odd_even.py:6\u001b[39m, in \u001b[36mis_even\u001b[39m\u001b[34m(i)\u001b[39m\n\u001b[32m      2\u001b[39m \u001b[38;5;28;01mdef\u001b[39;00m\u001b[38;5;250m \u001b[39m\u001b[34mis_even\u001b[39m(i):\n\u001b[32m      3\u001b[39m \u001b[38;5;250m    \u001b[39m\u001b[33;03m\"\"\"This function tells us given no is odd/even\u001b[39;00m\n\u001b[32m      4\u001b[39m \u001b[33;03m    Input any valid number\u001b[39;00m\n\u001b[32m      5\u001b[39m \u001b[33;03m    output odd/even\"\"\"\u001b[39;00m\n\u001b[32m----> \u001b[39m\u001b[32m6\u001b[39m     \u001b[38;5;28;01mif\u001b[39;00m \u001b[38;5;28mtype\u001b[39m(i)==\u001b[38;5;28mint\u001b[39m:\n\u001b[32m      8\u001b[39m         \u001b[38;5;28;01mif\u001b[39;00m i%\u001b[32m2\u001b[39m==\u001b[32m0\u001b[39m :\n\u001b[32m      9\u001b[39m             \u001b[38;5;28;01mreturn\u001b[39;00m \u001b[33m\"\u001b[39m\u001b[33mEven\u001b[39m\u001b[33m\"\u001b[39m\n",
      "\u001b[31mTypeError\u001b[39m: not all arguments converted during string formatting"
     ]
    }
   ],
   "source": [
    "import odd_even\n",
    "odd_even.is_even(\"Hello\")\n",
    "# this function is directly extrscted directly"
   ]
  },
  {
   "cell_type": "markdown",
   "id": "30d47890-c469-46cd-a0a7-72ce529ca3b1",
   "metadata": {},
   "source": [
    "## Parameters and Arguements\n",
    "Parameters : int float \n",
    "Arguements : 1,2,3.5"
   ]
  },
  {
   "cell_type": "markdown",
   "id": "79fcb387-1082-410e-b118-a0f6a0892e9c",
   "metadata": {},
   "source": [
    "Arguements : \n",
    "- Default Arguements\n",
    "- Positional Arguements\n",
    "- Keyword Arguements\n",
    "- Arbitary Arguements\n",
    "  "
   ]
  },
  {
   "cell_type": "markdown",
   "id": "be643bca-0c4f-4f4a-b926-9e3be11c581c",
   "metadata": {},
   "source": [
    "Default Agruements\n"
   ]
  },
  {
   "cell_type": "code",
   "execution_count": 36,
   "id": "c7851d67-88a8-4815-95b0-96c778681740",
   "metadata": {},
   "outputs": [
    {
     "data": {
      "text/plain": [
       "16"
      ]
     },
     "execution_count": 36,
     "metadata": {},
     "output_type": "execute_result"
    }
   ],
   "source": [
    "def power(a,b):\n",
    "    return a**b\n",
    "power(2,4)"
   ]
  },
  {
   "cell_type": "code",
   "execution_count": 40,
   "id": "838809b0-d2cd-4070-8ca9-62a08984714b",
   "metadata": {},
   "outputs": [
    {
     "data": {
      "text/plain": [
       "2"
      ]
     },
     "execution_count": 40,
     "metadata": {},
     "output_type": "execute_result"
    }
   ],
   "source": [
    "## Now to avoid crash of functions we use deafult arguements\n",
    "def power(a=1,b=1):\n",
    "    return a**b\n",
    "power(2)\n",
    "# a=2 is set but b=1 by defualt"
   ]
  },
  {
   "cell_type": "markdown",
   "id": "3bc3941a-4b21-41d4-b7b7-d84b874e9a35",
   "metadata": {},
   "source": [
    "Postional Arguements"
   ]
  },
  {
   "cell_type": "code",
   "execution_count": 41,
   "id": "ba966ff7-ed4b-449d-bebb-827604e5daa5",
   "metadata": {},
   "outputs": [
    {
     "data": {
      "text/plain": [
       "9"
      ]
     },
     "execution_count": 41,
     "metadata": {},
     "output_type": "execute_result"
    }
   ],
   "source": [
    "## format is same pehla variable pehle parameter ko hi milega respective wala system hai\n",
    "\n"
   ]
  },
  {
   "cell_type": "markdown",
   "id": "25f62361-0aa5-4550-a685-110a397a504d",
   "metadata": {},
   "source": [
    "Keyword Arguement"
   ]
  },
  {
   "cell_type": "code",
   "execution_count": null,
   "id": "a30b94bf-9a69-432b-96c5-a28b3d8330f5",
   "metadata": {},
   "outputs": [],
   "source": [
    "power (b=2,a=3)\n",
    "# overriding Positonal Arguements\n",
    "# this is called keyword arguement\n",
    "# overrides postional arguements"
   ]
  },
  {
   "cell_type": "markdown",
   "id": "c5dd6472-05d4-4c24-841c-3b36953995d5",
   "metadata": {},
   "source": [
    "Arbitary Arguements"
   ]
  },
  {
   "cell_type": "code",
   "execution_count": 50,
   "id": "2691ea9d-976c-4bb1-baae-f24aa066d7b9",
   "metadata": {},
   "outputs": [],
   "source": [
    "def flex(*number):\n",
    "    print(number)\n",
    "    print(type(number))\n",
    "    product=1\n",
    "    for i in number :\n",
    "        product*=i\n",
    "    print (product)"
   ]
  },
  {
   "cell_type": "code",
   "execution_count": 51,
   "id": "be80bef7-edfa-4aa0-88b4-ab4ea206eadc",
   "metadata": {},
   "outputs": [
    {
     "name": "stdout",
     "output_type": "stream",
     "text": [
      "(1,)\n",
      "<class 'tuple'>\n",
      "1\n"
     ]
    }
   ],
   "source": [
    "flex(1)"
   ]
  },
  {
   "cell_type": "code",
   "execution_count": 52,
   "id": "7c71c6f7-db00-459b-8f60-7a6fa94ce058",
   "metadata": {},
   "outputs": [
    {
     "name": "stdout",
     "output_type": "stream",
     "text": [
      "(1, 2, 3)\n",
      "<class 'tuple'>\n",
      "6\n"
     ]
    }
   ],
   "source": [
    "flex(1,2,3)"
   ]
  },
  {
   "cell_type": "code",
   "execution_count": 53,
   "id": "7c00674f-cf57-4aeb-9531-960fb72554e6",
   "metadata": {},
   "outputs": [
    {
     "name": "stdout",
     "output_type": "stream",
     "text": [
      "(1, 2, 3.5)\n",
      "<class 'tuple'>\n",
      "7.0\n"
     ]
    }
   ],
   "source": [
    "flex(1,2,3.5)\n",
    "# actuallt it is going inside a tuple\n"
   ]
  },
  {
   "cell_type": "code",
   "execution_count": 54,
   "id": "c91f898a-ee6f-4abc-8b3d-f278305a29e5",
   "metadata": {},
   "outputs": [
    {
     "name": "stdout",
     "output_type": "stream",
     "text": [
      "inside func_a\n",
      "None\n",
      "inside func_b\n",
      "2\n"
     ]
    }
   ],
   "source": [
    "def func_a():\n",
    "    print (\"inside func_a\")\n",
    "def func_b(y):\n",
    "    print(\"inside func_b\")\n",
    "    return y\n",
    "print(func_a())\n",
    "print(func_b(2))\n",
    "\n",
    "# none is printed in first case\n"
   ]
  },
  {
   "cell_type": "code",
   "execution_count": 58,
   "id": "6262b64c-4e0f-4442-b9e6-2b2768795263",
   "metadata": {},
   "outputs": [
    {
     "name": "stdout",
     "output_type": "stream",
     "text": [
      "2\n",
      "5\n"
     ]
    }
   ],
   "source": [
    "def f(y):\n",
    "   # Local Variable\n",
    "    x=1\n",
    "    x+=1\n",
    "    print(x)\n",
    "# Global Variable\n",
    "x=5\n",
    "f(x)\n",
    "print(x)"
   ]
  },
  {
   "cell_type": "code",
   "execution_count": 57,
   "id": "c9ca5213-5cc1-400c-8e7e-9de1ec72b549",
   "metadata": {},
   "outputs": [
    {
     "name": "stdout",
     "output_type": "stream",
     "text": [
      "5\n",
      "6\n",
      "5\n"
     ]
    }
   ],
   "source": [
    "def f(y):\n",
    "   # Local Variable\n",
    "    print (x)\n",
    "    print (x+1)\n",
    "# Global Variable is used as a local variable\n",
    "x=5\n",
    "f(x)\n",
    "print(x)"
   ]
  },
  {
   "cell_type": "code",
   "execution_count": 59,
   "id": "60b0b362-69d6-4f0e-a1ce-ade2c17090ef",
   "metadata": {},
   "outputs": [
    {
     "ename": "UnboundLocalError",
     "evalue": "cannot access local variable 'x' where it is not associated with a value",
     "output_type": "error",
     "traceback": [
      "\u001b[31m---------------------------------------------------------------------------\u001b[39m",
      "\u001b[31mUnboundLocalError\u001b[39m                         Traceback (most recent call last)",
      "\u001b[36mCell\u001b[39m\u001b[36m \u001b[39m\u001b[32mIn[59]\u001b[39m\u001b[32m, line 4\u001b[39m\n\u001b[32m      2\u001b[39m     x+=\u001b[32m1\u001b[39m\n\u001b[32m      3\u001b[39m x=\u001b[32m5\u001b[39m\n\u001b[32m----> \u001b[39m\u001b[32m4\u001b[39m \u001b[43mh\u001b[49m\u001b[43m(\u001b[49m\u001b[43mx\u001b[49m\u001b[43m)\u001b[49m\n\u001b[32m      5\u001b[39m \u001b[38;5;28mprint\u001b[39m(x)\n",
      "\u001b[36mCell\u001b[39m\u001b[36m \u001b[39m\u001b[32mIn[59]\u001b[39m\u001b[32m, line 2\u001b[39m, in \u001b[36mh\u001b[39m\u001b[34m(y)\u001b[39m\n\u001b[32m      1\u001b[39m \u001b[38;5;28;01mdef\u001b[39;00m\u001b[38;5;250m \u001b[39m\u001b[34mh\u001b[39m(y):\n\u001b[32m----> \u001b[39m\u001b[32m2\u001b[39m     \u001b[43mx\u001b[49m+=\u001b[32m1\u001b[39m\n",
      "\u001b[31mUnboundLocalError\u001b[39m: cannot access local variable 'x' where it is not associated with a value"
     ]
    }
   ],
   "source": [
    "def h(y):\n",
    "    x+=1\n",
    "x=5\n",
    "h(x)\n",
    "print(x)\n",
    "\n",
    "# Remmember we can use global variable\n",
    "# We cannot change the global variable\n",
    "# to this global keyword is used but not recommended"
   ]
  },
  {
   "cell_type": "code",
   "execution_count": 60,
   "id": "5a81f7b6-2dd8-4db8-8d74-6f75633a7d22",
   "metadata": {},
   "outputs": [
    {
     "name": "stdout",
     "output_type": "stream",
     "text": [
      "6\n"
     ]
    }
   ],
   "source": [
    "def i(y):\n",
    "    global x\n",
    "    x+=1\n",
    "x=5\n",
    "i(x)\n",
    "print(x)\n",
    "# original x is  incremented by 1"
   ]
  },
  {
   "cell_type": "code",
   "execution_count": 61,
   "id": "c5e4a85d-11e0-4010-a037-0dc97155126a",
   "metadata": {},
   "outputs": [
    {
     "name": "stdout",
     "output_type": "stream",
     "text": [
      "in f(x) : x= 4\n",
      "in main program scope : z = 4\n",
      "in main program scope : x = 3\n"
     ]
    }
   ],
   "source": [
    "def f(x):\n",
    "    x+=1\n",
    "    print('in f(x) : x=',x)\n",
    "    return x\n",
    "x=3\n",
    "z=f(x)\n",
    "print('in main program scope : z =',z)\n",
    "print('in main program scope : x =',x)\n"
   ]
  },
  {
   "cell_type": "markdown",
   "id": "31ea9f8f-eeca-46ef-a3a2-d5cf956f5672",
   "metadata": {},
   "source": [
    "Nested Functions"
   ]
  },
  {
   "cell_type": "code",
   "execution_count": 63,
   "id": "3b53459f-b9a5-4b1e-9df3-345b5b0cebd7",
   "metadata": {},
   "outputs": [
    {
     "ename": "NameError",
     "evalue": "name 'g' is not defined",
     "output_type": "error",
     "traceback": [
      "\u001b[31m---------------------------------------------------------------------------\u001b[39m",
      "\u001b[31mNameError\u001b[39m                                 Traceback (most recent call last)",
      "\u001b[36mCell\u001b[39m\u001b[36m \u001b[39m\u001b[32mIn[63]\u001b[39m\u001b[32m, line 5\u001b[39m\n\u001b[32m      3\u001b[39m     \u001b[38;5;28;01mdef\u001b[39;00m\u001b[38;5;250m \u001b[39m\u001b[34mg\u001b[39m():\n\u001b[32m      4\u001b[39m         \u001b[38;5;28mprint\u001b[39m(\u001b[33m'\u001b[39m\u001b[33minside g\u001b[39m\u001b[33m'\u001b[39m)\n\u001b[32m----> \u001b[39m\u001b[32m5\u001b[39m \u001b[43mg\u001b[49m()\n",
      "\u001b[31mNameError\u001b[39m: name 'g' is not defined"
     ]
    }
   ],
   "source": [
    "def f():\n",
    "    print ('inside f')\n",
    "    def g():\n",
    "        print('inside g')\n",
    "g()\n",
    "\n",
    "## main program cannot access the inner function \n"
   ]
  },
  {
   "cell_type": "code",
   "execution_count": 64,
   "id": "6c86552a-89f0-4f7b-a5f5-0850bd56f152",
   "metadata": {},
   "outputs": [
    {
     "name": "stdout",
     "output_type": "stream",
     "text": [
      "inside f\n"
     ]
    }
   ],
   "source": [
    "f()"
   ]
  },
  {
   "cell_type": "code",
   "execution_count": 69,
   "id": "221a0664-2dc3-4e19-9bef-4b47c4bc6ba3",
   "metadata": {},
   "outputs": [],
   "source": [
    "# one crazy thing\n",
    "def f():\n",
    "    print ('inside f')\n",
    "    def g():\n",
    "        print('inside g')\n",
    "        f()\n",
    "    g()"
   ]
  },
  {
   "cell_type": "code",
   "execution_count": null,
   "id": "1f110270-c6cd-4521-b6f5-2d6965c2b6ce",
   "metadata": {},
   "outputs": [],
   "source": [
    "f()"
   ]
  },
  {
   "cell_type": "code",
   "execution_count": 73,
   "id": "51b2d401-b842-4620-a662-0930bc0ea231",
   "metadata": {},
   "outputs": [
    {
     "name": "stdout",
     "output_type": "stream",
     "text": [
      "in g(x): x= 4\n"
     ]
    }
   ],
   "source": [
    " ## Example\n",
    "def g(x):\n",
    "    def h():\n",
    "        x='abc'\n",
    "    x+=1\n",
    "    print('in g(x): x=',x)\n",
    "    h()\n",
    "    return x\n",
    "x=3\n",
    "z=g(x)"
   ]
  },
  {
   "cell_type": "code",
   "execution_count": 74,
   "id": "25467f2d-776d-4cf4-a6ec-f1cf2bdebc30",
   "metadata": {},
   "outputs": [
    {
     "name": "stdout",
     "output_type": "stream",
     "text": [
      "in g(x) : x =  4\n",
      "in h(x): x=  5\n",
      "in main program scope : x =  3\n",
      "in main program scope : z =  4\n"
     ]
    }
   ],
   "source": [
    "def g(x):\n",
    "    def h(x):\n",
    "        x+=1\n",
    "        print(\"in h(x): x= \",x)\n",
    "    x+=1\n",
    "    print(\"in g(x) : x = \",x)\n",
    "    h(x)\n",
    "    return x\n",
    "x=3\n",
    "z=g(x)\n",
    "print(\"in main program scope : x = \",x)\n",
    "print(\"in main program scope : z = \", z)"
   ]
  },
  {
   "cell_type": "markdown",
   "id": "92bf53e1-c88e-4114-99a1-dbd3dbc36fc2",
   "metadata": {},
   "source": [
    "Everything in Python is an object\n",
    "Functions too is an object\n"
   ]
  },
  {
   "cell_type": "code",
   "execution_count": null,
   "id": "59e1aff0-048f-4f8d-acb2-19aaa1e7982d",
   "metadata": {},
   "outputs": [],
   "source": []
  },
  {
   "cell_type": "code",
   "execution_count": null,
   "id": "159cc52b-802b-48f2-98ad-c13909da1129",
   "metadata": {},
   "outputs": [],
   "source": []
  },
  {
   "cell_type": "markdown",
   "id": "880eda0a-22bc-428c-bb25-1a117848edd2",
   "metadata": {},
   "source": [
    "### Functions as an object"
   ]
  },
  {
   "cell_type": "code",
   "execution_count": 1,
   "id": "a17180a5-078c-483a-8ba4-f05ee51b4474",
   "metadata": {},
   "outputs": [
    {
     "data": {
      "text/plain": [
       "4"
      ]
     },
     "execution_count": 1,
     "metadata": {},
     "output_type": "execute_result"
    }
   ],
   "source": [
    "def f(num):\n",
    "    return num**2\n",
    "f(2)"
   ]
  },
  {
   "cell_type": "code",
   "execution_count": 2,
   "id": "ff4e131c-d9a4-486e-b466-cf93ce4d53c6",
   "metadata": {},
   "outputs": [
    {
     "data": {
      "text/plain": [
       "16"
      ]
     },
     "execution_count": 2,
     "metadata": {},
     "output_type": "execute_result"
    }
   ],
   "source": [
    "f(4)"
   ]
  },
  {
   "cell_type": "code",
   "execution_count": 3,
   "id": "4695f9ef-bcf3-4e43-8424-8159dc93c15f",
   "metadata": {},
   "outputs": [],
   "source": [
    "x=f"
   ]
  },
  {
   "cell_type": "code",
   "execution_count": 5,
   "id": "4b4aaef0-62b1-46fc-bb45-572f2b01348b",
   "metadata": {},
   "outputs": [
    {
     "data": {
      "text/plain": [
       "4"
      ]
     },
     "execution_count": 5,
     "metadata": {},
     "output_type": "execute_result"
    }
   ],
   "source": [
    "x(2)"
   ]
  },
  {
   "cell_type": "code",
   "execution_count": 6,
   "id": "3174ee11-b863-4267-a82d-6f0ec327932c",
   "metadata": {},
   "outputs": [
    {
     "ename": "SyntaxError",
     "evalue": "expected '(' (2621029541.py, line 1)",
     "output_type": "error",
     "traceback": [
      "  \u001b[36mCell\u001b[39m\u001b[36m \u001b[39m\u001b[32mIn[6]\u001b[39m\u001b[32m, line 1\u001b[39m\n\u001b[31m    \u001b[39m\u001b[31mdef f\u001b[39m\n         ^\n\u001b[31mSyntaxError\u001b[39m\u001b[31m:\u001b[39m expected '('\n"
     ]
    }
   ],
   "source": [
    "def f"
   ]
  },
  {
   "cell_type": "code",
   "execution_count": 7,
   "id": "4b6313b3-298d-440f-ac3d-898a3c5bee41",
   "metadata": {},
   "outputs": [
    {
     "data": {
      "text/plain": [
       "4"
      ]
     },
     "execution_count": 7,
     "metadata": {},
     "output_type": "execute_result"
    }
   ],
   "source": [
    "x(2)"
   ]
  },
  {
   "cell_type": "code",
   "execution_count": 8,
   "id": "19481d1a-7267-4df8-9c37-d9a40a32c147",
   "metadata": {},
   "outputs": [
    {
     "data": {
      "text/plain": [
       "function"
      ]
     },
     "execution_count": 8,
     "metadata": {},
     "output_type": "execute_result"
    }
   ],
   "source": [
    "type(x)"
   ]
  },
  {
   "cell_type": "code",
   "execution_count": 9,
   "id": "cfc1f7f0-0748-4b3b-bed9-7e80a5750165",
   "metadata": {},
   "outputs": [
    {
     "data": {
      "text/plain": [
       "[1, 2, 3, 4]"
      ]
     },
     "execution_count": 9,
     "metadata": {},
     "output_type": "execute_result"
    }
   ],
   "source": [
    "L = [1,2,3,4]\n",
    "L"
   ]
  },
  {
   "cell_type": "code",
   "execution_count": 15,
   "id": "a8a43eb4-5fa4-412d-b273-ab80dec733f5",
   "metadata": {},
   "outputs": [],
   "source": [
    "L=[1,2,3,4,x]"
   ]
  },
  {
   "cell_type": "code",
   "execution_count": 11,
   "id": "93c06655-7b88-4bf4-ad8b-4f792f222b79",
   "metadata": {},
   "outputs": [
    {
     "data": {
      "text/plain": [
       "[1, 2, 3, 4, <function __main__.f(num)>]"
      ]
     },
     "execution_count": 11,
     "metadata": {},
     "output_type": "execute_result"
    }
   ],
   "source": [
    "L"
   ]
  },
  {
   "cell_type": "code",
   "execution_count": 12,
   "id": "621aaad1-a782-44cb-be5a-cc854c1752f0",
   "metadata": {},
   "outputs": [
    {
     "data": {
      "text/plain": [
       "<function __main__.f(num)>"
      ]
     },
     "execution_count": 12,
     "metadata": {},
     "output_type": "execute_result"
    }
   ],
   "source": [
    "L[-1]"
   ]
  },
  {
   "cell_type": "code",
   "execution_count": 18,
   "id": "b58a9aed-4ac5-42b0-a40c-cfa6634eb2a5",
   "metadata": {},
   "outputs": [
    {
     "data": {
      "text/plain": [
       "9"
      ]
     },
     "execution_count": 18,
     "metadata": {},
     "output_type": "execute_result"
    }
   ],
   "source": [
    "L[-1](3)\n",
    "## Directly we are saying that gove 3 to the last element i.e. function in actual."
   ]
  },
  {
   "cell_type": "code",
   "execution_count": 19,
   "id": "8ef6725f-770f-44ee-8348-ee1d9160874a",
   "metadata": {},
   "outputs": [
    {
     "data": {
      "text/plain": [
       "[1, 2, 3, 4, <function __main__.f(num)>]"
      ]
     },
     "execution_count": 19,
     "metadata": {},
     "output_type": "execute_result"
    }
   ],
   "source": [
    "L\n"
   ]
  },
  {
   "cell_type": "code",
   "execution_count": 20,
   "id": "dd7182b3-2063-4936-b216-180f08bd7392",
   "metadata": {},
   "outputs": [],
   "source": [
    "L=[1,2,3,4,x(5)]"
   ]
  },
  {
   "cell_type": "code",
   "execution_count": 21,
   "id": "d8bd390c-e68f-4ea0-92c8-421f84cb2947",
   "metadata": {},
   "outputs": [
    {
     "data": {
      "text/plain": [
       "[1, 2, 3, 4, 25]"
      ]
     },
     "execution_count": 21,
     "metadata": {},
     "output_type": "execute_result"
    }
   ],
   "source": [
    "L"
   ]
  },
  {
   "cell_type": "markdown",
   "id": "0cbd0286-240f-4b49-a1c4-eb6796e8360a",
   "metadata": {},
   "source": [
    "### Benifits of Function\n",
    "- Code Modularity : Every code is self contained and used to break up the entire login into pieces\n",
    "- Code reusability : Works on the philosophy of write it once and use forever.\n",
    "- Code Readability : Code is organised and coherent.\n"
   ]
  },
  {
   "cell_type": "code",
   "execution_count": null,
   "id": "e9b8a422-4153-444d-ae5f-7080281fa438",
   "metadata": {},
   "outputs": [],
   "source": []
  }
 ],
 "metadata": {
  "kernelspec": {
   "display_name": "Python 3 (ipykernel)",
   "language": "python",
   "name": "python3"
  },
  "language_info": {
   "codemirror_mode": {
    "name": "ipython",
    "version": 3
   },
   "file_extension": ".py",
   "mimetype": "text/x-python",
   "name": "python",
   "nbconvert_exporter": "python",
   "pygments_lexer": "ipython3",
   "version": "3.13.3"
  }
 },
 "nbformat": 4,
 "nbformat_minor": 5
}
