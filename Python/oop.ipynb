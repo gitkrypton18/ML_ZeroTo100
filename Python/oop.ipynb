{
 "cells": [
  {
   "cell_type": "markdown",
   "id": "b33127e9-b797-4e4e-a700-b1980aa975b7",
   "metadata": {},
   "source": [
    "# OBJECT ORIENTED PROGRAMMING IN PYTHON\n",
    "# Everything in Python is an Object\n",
    "## But what is Object\n",
    "- Generality to Specificity\n",
    "- We can make data types e.g. Linkedin DataType\n",
    "\n",
    "## OOPS :\n",
    "- Object\n",
    "- Class\n",
    "- Abstraction\n",
    "- Encapsulation\n",
    "- Polymorphism\n",
    "- Inheritence\n",
    "\n"
   ]
  },
  {
   "cell_type": "markdown",
   "id": "22c2d552-b069-4225-815f-a5f697b93649",
   "metadata": {},
   "source": [
    "## Class\n",
    "### Class is a blueprint, \n",
    "a=2\n",
    "type(a)\n",
    "<class-int>\n",
    "    Data type is a class\n",
    "    and the variable is called Object of that class.\n",
    "\n",
    "                                    Class\n",
    "            - Data or Property\n",
    "            - Method\n",
    "### Rules :\n",
    "- class name should be in Pascal Case \"ThisIsPascalCase\" **\n",
    "- thisIsCamelCase\n",
    "- snake_case\n",
    "\n",
    "\n",
    "### class Car :\n",
    "    color=\"blue\" #data\n",
    "    model = \"sports\" #data\n",
    "    def calculate_avg_speed(km,time) : #method\n",
    "        #  Code  #\n",
    "\n",
    "\n",
    "### Public and Private : \n",
    "            Car\n",
    "        - Color\n",
    "        - Milege\n",
    "        - Engine\n",
    "\n",
    "        +  cal_avg_speed\n",
    "        + show_gps\n",
    "        + open_airbag\n",
    " \n",
    "        So we have one thing over here is that :\n",
    "  - These - marked things are private things\n",
    "  - These + marked things are public things available to all\n",
    "    \n",
    "    \n"
   ]
  },
  {
   "cell_type": "markdown",
   "id": "52fc021d-bd2b-41ec-a1d3-c8f6b8e37e46",
   "metadata": {},
   "source": [
    "# Lets make a class\n",
    "# Atm\n",
    "# funtions vs methods : methods are functions inside the class\n",
    "# Methods are called like e.g. L.append(1)\n",
    "\n",
    "\n",
    "This is a raw skeleton means no proper methods\n",
    "\n",
    "class Atm :\n",
    "\n",
    "    # init is a constructor : Auto execute when Class object is made\n",
    "    def __init__(self):\n",
    "        self.pin=\"\"\n",
    "        self.balance=0\n",
    "        self.menu()\n",
    "    def menu(self):\n",
    "        user_input=input(\"\"\" Hello how would you like to proceed ?\n",
    "                            ENTER 1 TO CREATE PIN\n",
    "                            ENTER 2 TO DEPOSIT\n",
    "                            ENTER 3 TO WITHDRAW\n",
    "                            ENTER 4 TO CHECK BALANCE\n",
    "                            ENTER 5 TO EXIT\"\"\")\n",
    "        if user_input==\"1\":\n",
    "            print(\"Create pin\")\n",
    "        elif user_input==\"2\":\n",
    "            print(\"withdraw\")\n",
    "        elif user_input==\"3\":\n",
    "            print(\"deposit\")\n",
    "        elif user_input==\"4\":\n",
    "            print(\"balance\")\n",
    "        else:\n",
    "            print(\"bye\")\n",
    "\n",
    "    \n",
    "\n",
    "    \n",
    "    "
   ]
  },
  {
   "cell_type": "code",
   "execution_count": 1,
   "id": "f8835a3a-e6e6-4d43-8585-a3d58ace734c",
   "metadata": {
    "scrolled": true
   },
   "outputs": [],
   "source": [
    "# Lets make a class\n",
    "# Atm\n",
    "# funtions vs methods : methods are functions inside the class\n",
    "# Methods are called like e.g. L.append(1)\n",
    "\n",
    "class Atm :\n",
    "\n",
    "    # init is a constructor : Auto execute when Class object is made\n",
    "    # Executes as soon as the object is made\n",
    "    # Utility : Configuration related task :\n",
    "        #- App me net on karvana pdta h\n",
    "        #- App me dbms autoset use hona\n",
    "\n",
    "    # real life example death is the constructor code when birth of object is made\n",
    "    def __init__(self):\n",
    "        self.pin=\"\"\n",
    "        self.balance=0\n",
    "        \n",
    "        self.menu()\n",
    "    def menu(self):\n",
    "        user_input=input(\"\"\" Hello how would you like to proceed ?\n",
    "                            ENTER 1 TO CREATE PIN\n",
    "                            ENTER 2 TO DEPOSIT\n",
    "                            ENTER 3 TO WITHDRAW\n",
    "                            ENTER 4 TO CHECK BALANCE\n",
    "                            ENTER 5 TO EXIT\"\"\")\n",
    "        if user_input==\"1\":\n",
    "           self.create_pin() # method of pin creation\n",
    "            \n",
    "        elif user_input==\"2\":\n",
    "            self.deposit()   # method of deposition\n",
    "       \n",
    "        elif user_input==\"3\":\n",
    "            self.withdraw()  # method of Withdrawl\n",
    "        \n",
    "        elif user_input==\"4\":\n",
    "            self.check_balance()  # method of balance check\n",
    "       \n",
    "        else:\n",
    "            print(\"bye\")\n",
    "\n",
    "\n",
    "    # pin create method\n",
    "    def create_pin(self):\n",
    "        self.pin=input(\"Enter your pin\")\n",
    "        print(\"Pin Set Succcessfully\")\n",
    "\n",
    "   # deposit method     \n",
    "    def deposit(self):\n",
    "        temp=input(\"Enter your pin\")\n",
    "        if temp==self.pin:\n",
    "            amount= int( input (\"Enter the amount\"))\n",
    "            self.balance=self.balance+amount\n",
    "            print(\"Deposit Successful\")\n",
    "        else:\n",
    "            print(\"invalid Pin\")\n",
    "\n",
    "    # withdrawing method\n",
    "    def withdraw(self):\n",
    "\n",
    "        temp=input(\"Enter your pin\")\n",
    "        if temp==self.pin:\n",
    "            amount=int(input(\"Enter the amount\"))\n",
    "            if amount<self.balance:\n",
    "                self.balance=self.balance-amount\n",
    "                print(\"Withdrawn Successful\")\n",
    "            else:\n",
    "                print(\"insufficient Funds\")\n",
    "        else:\n",
    "            print(\"invalid pin\")\n",
    "\n",
    "    # balance check method\n",
    "    def check_balance(self):\n",
    "        temp=input(\"Enter your pin\")\n",
    "        if temp==self.pin:\n",
    "            print(\"The balance is :\",self.balance)\n",
    "        else:\n",
    "            print(\"Invalid Pin\")\n",
    "            \n",
    "            \n",
    "\n",
    "            "
   ]
  },
  {
   "cell_type": "markdown",
   "id": "d808e5a0-f41c-4886-bf01-9c4872ceaddd",
   "metadata": {},
   "source": [
    "## FOR SBI OBJECT"
   ]
  },
  {
   "cell_type": "code",
   "execution_count": 2,
   "id": "4354ead5-a9cf-4316-bb9d-88cc713bfcfe",
   "metadata": {},
   "outputs": [
    {
     "name": "stdout",
     "output_type": "stream",
     "text": [
      " Hello how would you like to proceed ?\n",
      "                            ENTER 1 TO CREATE PIN\n",
      "                            ENTER 2 TO DEPOSIT\n",
      "                            ENTER 3 TO WITHDRAW\n",
      "                            ENTER 4 TO CHECK BALANCE\n",
      "                            ENTER 5 TO EXIT 1\n",
      "Enter your pin 12345\n"
     ]
    },
    {
     "name": "stdout",
     "output_type": "stream",
     "text": [
      "Pin Set Succcessfully\n"
     ]
    }
   ],
   "source": [
    "sbi=Atm()"
   ]
  },
  {
   "cell_type": "code",
   "execution_count": 3,
   "id": "110f2b94-edee-48c4-8892-071df0ecf91f",
   "metadata": {},
   "outputs": [
    {
     "name": "stdout",
     "output_type": "stream",
     "text": [
      "Enter your pin 12345\n"
     ]
    },
    {
     "name": "stdout",
     "output_type": "stream",
     "text": [
      "The balance is : 0\n"
     ]
    }
   ],
   "source": [
    "sbi.check_balance()"
   ]
  },
  {
   "cell_type": "code",
   "execution_count": 4,
   "id": "c2565f99-d87a-42fd-81ba-41cfcf48ebed",
   "metadata": {},
   "outputs": [
    {
     "name": "stdout",
     "output_type": "stream",
     "text": [
      "Enter your pin 12345\n",
      "Enter the amount 50000\n"
     ]
    },
    {
     "name": "stdout",
     "output_type": "stream",
     "text": [
      "Deposit Successful\n"
     ]
    }
   ],
   "source": [
    "sbi.deposit()"
   ]
  },
  {
   "cell_type": "code",
   "execution_count": 6,
   "id": "80672927-65dc-4299-bcf0-2d6430c5d676",
   "metadata": {},
   "outputs": [
    {
     "name": "stdout",
     "output_type": "stream",
     "text": [
      "Enter your pin 12345\n"
     ]
    },
    {
     "name": "stdout",
     "output_type": "stream",
     "text": [
      "The balance is : 50000\n"
     ]
    }
   ],
   "source": [
    "sbi.check_balance()"
   ]
  },
  {
   "cell_type": "code",
   "execution_count": 7,
   "id": "d6894aba-c78a-469e-8d2a-00ec7b594ca0",
   "metadata": {},
   "outputs": [
    {
     "name": "stdout",
     "output_type": "stream",
     "text": [
      "Enter your pin 12345\n",
      "Enter the amount 15000\n"
     ]
    },
    {
     "name": "stdout",
     "output_type": "stream",
     "text": [
      "Withdrawn Successful\n"
     ]
    }
   ],
   "source": [
    "sbi.withdraw()"
   ]
  },
  {
   "cell_type": "code",
   "execution_count": 8,
   "id": "77862a28-3140-4bda-b184-0efc9aac7cb3",
   "metadata": {},
   "outputs": [
    {
     "name": "stdout",
     "output_type": "stream",
     "text": [
      "Enter your pin 12345\n"
     ]
    },
    {
     "name": "stdout",
     "output_type": "stream",
     "text": [
      "The balance is : 35000\n"
     ]
    }
   ],
   "source": [
    "sbi.check_balance()"
   ]
  },
  {
   "cell_type": "markdown",
   "id": "77c7c617-bddb-47e9-922e-34e8920a9ebe",
   "metadata": {},
   "source": [
    "## FOR HDFC OBJECT"
   ]
  },
  {
   "cell_type": "code",
   "execution_count": 9,
   "id": "05818119-7ec0-4c2a-9f1f-7ccb239ec05c",
   "metadata": {},
   "outputs": [
    {
     "name": "stdout",
     "output_type": "stream",
     "text": [
      " Hello how would you like to proceed ?\n",
      "                            ENTER 1 TO CREATE PIN\n",
      "                            ENTER 2 TO DEPOSIT\n",
      "                            ENTER 3 TO WITHDRAW\n",
      "                            ENTER 4 TO CHECK BALANCE\n",
      "                            ENTER 5 TO EXIT 1\n",
      "Enter your pin 54321\n"
     ]
    },
    {
     "name": "stdout",
     "output_type": "stream",
     "text": [
      "Pin Set Succcessfully\n"
     ]
    }
   ],
   "source": [
    "hdfc=Atm()"
   ]
  },
  {
   "cell_type": "code",
   "execution_count": 10,
   "id": "c1ecfdf5-a66b-4086-a9b5-90e1b5b5a795",
   "metadata": {},
   "outputs": [
    {
     "name": "stdout",
     "output_type": "stream",
     "text": [
      "Enter your pin 54321\n"
     ]
    },
    {
     "name": "stdout",
     "output_type": "stream",
     "text": [
      "The balance is : 0\n"
     ]
    }
   ],
   "source": [
    "hdfc.check_balance()"
   ]
  },
  {
   "cell_type": "code",
   "execution_count": 11,
   "id": "d349321c-2095-41db-9179-769cf699319e",
   "metadata": {},
   "outputs": [
    {
     "name": "stdout",
     "output_type": "stream",
     "text": [
      "Enter your pin 54321\n",
      "Enter the amount 75000\n"
     ]
    },
    {
     "name": "stdout",
     "output_type": "stream",
     "text": [
      "Deposit Successful\n"
     ]
    }
   ],
   "source": [
    "hdfc.deposit()"
   ]
  },
  {
   "cell_type": "code",
   "execution_count": 12,
   "id": "58616180-fecd-4c7d-8074-5299c222a6b1",
   "metadata": {},
   "outputs": [
    {
     "name": "stdout",
     "output_type": "stream",
     "text": [
      "Enter your pin 54321\n"
     ]
    },
    {
     "name": "stdout",
     "output_type": "stream",
     "text": [
      "The balance is : 75000\n"
     ]
    }
   ],
   "source": [
    "hdfc.check_balance()"
   ]
  },
  {
   "cell_type": "code",
   "execution_count": 13,
   "id": "090761b7-ebc6-4ace-a6e4-dba10200b26f",
   "metadata": {},
   "outputs": [
    {
     "name": "stdout",
     "output_type": "stream",
     "text": [
      "Enter your pin 54321\n",
      "Enter the amount 25000\n"
     ]
    },
    {
     "name": "stdout",
     "output_type": "stream",
     "text": [
      "Withdrawn Successful\n"
     ]
    }
   ],
   "source": [
    "hdfc.withdraw()"
   ]
  },
  {
   "cell_type": "code",
   "execution_count": 14,
   "id": "5b600fd0-a2b6-456b-b427-010fe72d4404",
   "metadata": {},
   "outputs": [
    {
     "name": "stdout",
     "output_type": "stream",
     "text": [
      "Enter your pin 54321\n"
     ]
    },
    {
     "name": "stdout",
     "output_type": "stream",
     "text": [
      "The balance is : 50000\n"
     ]
    }
   ],
   "source": [
    "hdfc.check_balance()"
   ]
  },
  {
   "cell_type": "markdown",
   "id": "99b96d53-013e-4262-80ba-52eb52a2c669",
   "metadata": {},
   "source": [
    "## SELF KYA HAI :\n",
    "Ye har time change hota rehta h like a playboy aaj iska kal uska \n",
    "abhi SBI ka tha phir ye HDFC ka hogya !!! 😊😊\n",
    "\n",
    "Lets find out ID of self usko stalk karte h aakhir kon h ye self !!! 😎😎"
   ]
  },
  {
   "cell_type": "code",
   "execution_count": 15,
   "id": "a7a09137-6fad-4abe-bf91-3722a6ada9fb",
   "metadata": {},
   "outputs": [],
   "source": [
    "# Lets make a class\n",
    "# Atm\n",
    "# funtions vs methods : methods are functions inside the class\n",
    "# Methods are called like e.g. L.append(1)\n",
    "\n",
    "class Atm :\n",
    "\n",
    "    # init is a constructor : Auto execute when Class object is made\n",
    "    # Executes as soon as the object is made5\n",
    "    # Utility : Configuration related task :\n",
    "        #- App me net on karvana pdta h\n",
    "        #- App me dbms autoset use hona\n",
    "\n",
    "    # real life example death is the constructor code when birth of object is made\n",
    "    def __init__(self):\n",
    "        self.pin=\"\"\n",
    "        self.balance=0\n",
    "        print(id(self))\n",
    "        self.menu()\n",
    "        \n",
    "\n",
    "        \n",
    "    def menu(self):\n",
    "        user_input=input(\"\"\" Hello how would you like to proceed ?\n",
    "                            ENTER 1 TO CREATE PIN\n",
    "                            ENTER 2 TO DEPOSIT\n",
    "                            ENTER 3 TO WITHDRAW\n",
    "                            ENTER 4 TO CHECK BALANCE\n",
    "                            ENTER 5 TO EXIT\"\"\")\n",
    "        if user_input==\"1\":\n",
    "           self.create_pin() # method of pin creation\n",
    "            \n",
    "        elif user_input==\"2\":\n",
    "            self.deposit()   # method of deposition\n",
    "       \n",
    "        elif user_input==\"3\":\n",
    "            self.withdraw()  # method of Withdrawl\n",
    "        \n",
    "        elif user_input==\"4\":\n",
    "            self.check_balance()  # method of balance check\n",
    "       \n",
    "        else:\n",
    "            print(\"bye\")\n",
    "\n",
    "\n",
    "    # pin create method\n",
    "    def create_pin(self):\n",
    "        self.pin=input(\"Enter your pin\")\n",
    "        print(\"Pin Set Succcessfully\")\n",
    "\n",
    "   # deposit method     \n",
    "    def deposit(self):\n",
    "        temp=input(\"Enter your pin\")\n",
    "        if temp==self.pin:\n",
    "            amount= int( input (\"Enter the amount\"))\n",
    "            self.balance=self.balance+amount\n",
    "            print(\"Deposit Successful\")\n",
    "        else:\n",
    "            print(\"invalid Pin\")\n",
    "\n",
    "    # withdrawing method\n",
    "    def withdraw(self):\n",
    "\n",
    "        temp=input(\"Enter your pin\")\n",
    "        if temp==self.pin:\n",
    "            amount=int(input(\"Enter the amount\"))\n",
    "            if amount<self.balance:\n",
    "                self.balance=self.balance-amount\n",
    "                print(\"Withdrawn Successful\")\n",
    "            else:\n",
    "                print(\"insufficient Funds\")\n",
    "        else:\n",
    "            print(\"invalid pin\")\n",
    "\n",
    "    # balance check method\n",
    "    def check_balance(self):\n",
    "        temp=input(\"Enter your pin\")\n",
    "        if temp==self.pin:\n",
    "            print(\"The balance is :\",self.balance)\n",
    "        else:\n",
    "            print(\"Invalid Pin\")\n",
    "            \n",
    "            \n",
    "\n",
    "            "
   ]
  },
  {
   "cell_type": "code",
   "execution_count": 16,
   "id": "53942020-6f37-407c-8c2e-e42429999938",
   "metadata": {},
   "outputs": [
    {
     "name": "stdout",
     "output_type": "stream",
     "text": [
      "1840371455648\n"
     ]
    },
    {
     "name": "stdout",
     "output_type": "stream",
     "text": [
      " Hello how would you like to proceed ?\n",
      "                            ENTER 1 TO CREATE PIN\n",
      "                            ENTER 2 TO DEPOSIT\n",
      "                            ENTER 3 TO WITHDRAW\n",
      "                            ENTER 4 TO CHECK BALANCE\n",
      "                            ENTER 5 TO EXIT 5\n"
     ]
    },
    {
     "name": "stdout",
     "output_type": "stream",
     "text": [
      "bye\n"
     ]
    }
   ],
   "source": [
    "sbi=Atm()\n"
   ]
  },
  {
   "cell_type": "code",
   "execution_count": 17,
   "id": "e830a5d3-0844-46c4-a813-5620e295be05",
   "metadata": {},
   "outputs": [
    {
     "data": {
      "text/plain": [
       "1840371455648"
      ]
     },
     "execution_count": 17,
     "metadata": {},
     "output_type": "execute_result"
    }
   ],
   "source": [
    "id(sbi)"
   ]
  },
  {
   "cell_type": "code",
   "execution_count": 18,
   "id": "cab4e318-01ed-400c-bca3-bfa012831857",
   "metadata": {},
   "outputs": [
    {
     "name": "stdout",
     "output_type": "stream",
     "text": [
      "1840369315472\n"
     ]
    },
    {
     "name": "stdout",
     "output_type": "stream",
     "text": [
      " Hello how would you like to proceed ?\n",
      "                            ENTER 1 TO CREATE PIN\n",
      "                            ENTER 2 TO DEPOSIT\n",
      "                            ENTER 3 TO WITHDRAW\n",
      "                            ENTER 4 TO CHECK BALANCE\n",
      "                            ENTER 5 TO EXIT 5\n"
     ]
    },
    {
     "name": "stdout",
     "output_type": "stream",
     "text": [
      "bye\n"
     ]
    }
   ],
   "source": [
    "hdfc=Atm()"
   ]
  },
  {
   "cell_type": "code",
   "execution_count": 19,
   "id": "45ff0ef3-3924-41b7-92f0-8c7d430fbe15",
   "metadata": {},
   "outputs": [
    {
     "data": {
      "text/plain": [
       "1840369315472"
      ]
     },
     "execution_count": 19,
     "metadata": {},
     "output_type": "execute_result"
    }
   ],
   "source": [
    "id(hdfc)"
   ]
  },
  {
   "cell_type": "markdown",
   "id": "dee729d0-9957-4ab6-b096-dca248e3a767",
   "metadata": {},
   "source": [
    "## These two id are same : \n",
    "- Means That they are in the same address\n",
    "- Means Self is SBI\n",
    "- Means Self is object\n",
    "- Self khud SBI ban jata h upon call of Object "
   ]
  },
  {
   "cell_type": "markdown",
   "id": "b133001e-9bcc-4af0-a320-28a9443777fc",
   "metadata": {},
   "source": [
    "### Means now self is hdfc\n",
    "#### OMG Means jaisa hamne socha tha wahi hua self \n"
   ]
  },
  {
   "attachments": {},
   "cell_type": "markdown",
   "id": "603cc088-f676-4855-af11-bbe7f6605d87",
   "metadata": {},
   "source": [
    "\n",
    "\n",
    "\n",
    "\n"
   ]
  },
  {
   "cell_type": "markdown",
   "id": "3ad3d8bc-3101-462f-848c-22041acb973e",
   "metadata": {},
   "source": [
    "## LETS CREATE ANOTHER CLASS NAMED AS FRACTION\n",
    "### As python cannot deal with fractions it converts them into decimal numbers so we are now going on functions that deal with fraction representation"
   ]
  },
  {
   "cell_type": "markdown",
   "id": "9f6f7edc-988b-4661-b9e4-e0db6aa29d6d",
   "metadata": {},
   "source": [
    "### Back to some definition\n",
    "- Instance Variable : it is a variable for it has different value for differernt objects\n",
    "\n"
   ]
  },
  {
   "cell_type": "code",
   "execution_count": 33,
   "id": "bded98b7-4787-4a58-9a3a-4facb505e6bb",
   "metadata": {},
   "outputs": [],
   "source": [
    "class Fraction:\n",
    "    def __init__(self,n,d):\n",
    "        self.num=n\n",
    "        self.den=d\n",
    "# what if i want 5/6 to be represted as it is instead of decimal type\n",
    "    def __str__(self):\n",
    "        return \"{}/{}\".format(self.num,self.den)\n",
    "        \n",
    "    def __add__(self,other):\n",
    "        temp_num=self.num*other.den + other.num*self.den\n",
    "        temp_den=self.den*other.den\n",
    "        return \"{}/{}\".format(temp_num,temp_den)\n",
    "\n",
    "    def __sub__(self,other):\n",
    "        temp_num=self.num*other.den - other.num*self.den\n",
    "        temp_den=self.den*other.den\n",
    "        return \"{}/{}\".format(temp_num,temp_den)\n",
    "\n",
    "    def __mul__(self,other):\n",
    "        temp_num=self.num*other.num\n",
    "        temp_den=self.den*other.den\n",
    "        return\"{}/{}\".format(temp_num,temp_den)\n",
    "\n",
    "    def __truediv__(self,other):\n",
    "        temp_num=self.num*other.den\n",
    "        temp_den=self.den*other.num\n",
    "        return\"{}/{}\".format(temp_num,temp_den)\n",
    "        "
   ]
  },
  {
   "cell_type": "code",
   "execution_count": 22,
   "id": "b48f7fbb-2e42-47b3-be8f-d05bddc41091",
   "metadata": {},
   "outputs": [],
   "source": [
    "x=Fraction(4,3)\n",
    "y=Fraction(7,6)"
   ]
  },
  {
   "cell_type": "code",
   "execution_count": 23,
   "id": "4a522b81-b44b-48c2-a34d-7d89783711cc",
   "metadata": {},
   "outputs": [
    {
     "name": "stdout",
     "output_type": "stream",
     "text": [
      "4/3\n",
      "7/6\n"
     ]
    }
   ],
   "source": [
    "print(x)\n",
    "print(y)"
   ]
  },
  {
   "cell_type": "code",
   "execution_count": 24,
   "id": "5bcd885d-278c-42f3-bc22-252d9c7a6bf9",
   "metadata": {},
   "outputs": [
    {
     "name": "stdout",
     "output_type": "stream",
     "text": [
      "45/18\n"
     ]
    }
   ],
   "source": [
    "print(x+y)"
   ]
  },
  {
   "cell_type": "code",
   "execution_count": 25,
   "id": "d1940a1b-7269-4eba-b927-643d27fea293",
   "metadata": {},
   "outputs": [
    {
     "name": "stdout",
     "output_type": "stream",
     "text": [
      "3/18\n"
     ]
    }
   ],
   "source": [
    "print(x - y)"
   ]
  },
  {
   "cell_type": "code",
   "execution_count": 26,
   "id": "c206cd19-7016-4a24-9225-1bb9661e0ec6",
   "metadata": {},
   "outputs": [
    {
     "name": "stdout",
     "output_type": "stream",
     "text": [
      "28/18\n"
     ]
    }
   ],
   "source": [
    "print(x*y)"
   ]
  },
  {
   "cell_type": "code",
   "execution_count": 27,
   "id": "d774bdc3-f98b-4a9e-9f99-2e1a9cd6a5c7",
   "metadata": {},
   "outputs": [
    {
     "name": "stdout",
     "output_type": "stream",
     "text": [
      "24/21\n"
     ]
    }
   ],
   "source": [
    "print(x/y)"
   ]
  },
  {
   "cell_type": "markdown",
   "id": "c833690c-dd03-4897-9e7d-e7dc2d7f500b",
   "metadata": {},
   "source": [
    "\n",
    "\n",
    "\n",
    "\n"
   ]
  },
  {
   "cell_type": "markdown",
   "id": "7cf6294d-8b08-4770-a0f2-d82e4b7a032f",
   "metadata": {},
   "source": [
    "# Encapsulation\n",
    "\n"
   ]
  },
  {
   "cell_type": "code",
   "execution_count": 32,
   "id": "fe078589-5ace-4ac5-9a43-aa4aba4ae87b",
   "metadata": {},
   "outputs": [
    {
     "name": "stdout",
     "output_type": "stream",
     "text": [
      "1840371349840\n"
     ]
    },
    {
     "name": "stdout",
     "output_type": "stream",
     "text": [
      " Hello how would you like to proceed ?\n",
      "                            ENTER 1 TO CREATE PIN\n",
      "                            ENTER 2 TO DEPOSIT\n",
      "                            ENTER 3 TO WITHDRAW\n",
      "                            ENTER 4 TO CHECK BALANCE\n",
      "                            ENTER 5 TO EXIT 1\n",
      "Enter your pin 123456\n"
     ]
    },
    {
     "name": "stdout",
     "output_type": "stream",
     "text": [
      "Pin Set Succcessfully\n"
     ]
    }
   ],
   "source": [
    "axis=Atm()"
   ]
  },
  {
   "cell_type": "code",
   "execution_count": 33,
   "id": "36d14e94-0f7d-40a8-acd4-49863ca648bf",
   "metadata": {},
   "outputs": [
    {
     "data": {
      "text/plain": [
       "0"
      ]
     },
     "execution_count": 33,
     "metadata": {},
     "output_type": "execute_result"
    }
   ],
   "source": [
    "axis.balance\n"
   ]
  },
  {
   "cell_type": "code",
   "execution_count": 34,
   "id": "a3e3e8d5-23b5-4514-912e-a002f1e92015",
   "metadata": {},
   "outputs": [],
   "source": [
    "axis.balance=\"wjen\""
   ]
  },
  {
   "cell_type": "code",
   "execution_count": 35,
   "id": "9387f841-af35-49af-9db3-20ecd55b7bb3",
   "metadata": {},
   "outputs": [
    {
     "name": "stdout",
     "output_type": "stream",
     "text": [
      "Enter your pin 123456\n",
      "Enter the amount 50000\n"
     ]
    },
    {
     "ename": "TypeError",
     "evalue": "can only concatenate str (not \"int\") to str",
     "output_type": "error",
     "traceback": [
      "\u001b[31m---------------------------------------------------------------------------\u001b[39m",
      "\u001b[31mTypeError\u001b[39m                                 Traceback (most recent call last)",
      "\u001b[36mCell\u001b[39m\u001b[36m \u001b[39m\u001b[32mIn[35]\u001b[39m\u001b[32m, line 1\u001b[39m\n\u001b[32m----> \u001b[39m\u001b[32m1\u001b[39m \u001b[43maxis\u001b[49m\u001b[43m.\u001b[49m\u001b[43mdeposit\u001b[49m\u001b[43m(\u001b[49m\u001b[43m)\u001b[49m\n",
      "\u001b[36mCell\u001b[39m\u001b[36m \u001b[39m\u001b[32mIn[15]\u001b[39m\u001b[32m, line 56\u001b[39m, in \u001b[36mAtm.deposit\u001b[39m\u001b[34m(self)\u001b[39m\n\u001b[32m     54\u001b[39m \u001b[38;5;28;01mif\u001b[39;00m temp==\u001b[38;5;28mself\u001b[39m.pin:\n\u001b[32m     55\u001b[39m     amount= \u001b[38;5;28mint\u001b[39m( \u001b[38;5;28minput\u001b[39m (\u001b[33m\"\u001b[39m\u001b[33mEnter the amount\u001b[39m\u001b[33m\"\u001b[39m))\n\u001b[32m---> \u001b[39m\u001b[32m56\u001b[39m     \u001b[38;5;28mself\u001b[39m.balance=\u001b[38;5;28;43mself\u001b[39;49m\u001b[43m.\u001b[49m\u001b[43mbalance\u001b[49m\u001b[43m+\u001b[49m\u001b[43mamount\u001b[49m\n\u001b[32m     57\u001b[39m     \u001b[38;5;28mprint\u001b[39m(\u001b[33m\"\u001b[39m\u001b[33mDeposit Successful\u001b[39m\u001b[33m\"\u001b[39m)\n\u001b[32m     58\u001b[39m \u001b[38;5;28;01melse\u001b[39;00m:\n",
      "\u001b[31mTypeError\u001b[39m: can only concatenate str (not \"int\") to str"
     ]
    }
   ],
   "source": [
    "axis.deposit()"
   ]
  },
  {
   "cell_type": "markdown",
   "id": "6886f4d0-56e4-433b-a164-3ab771181371",
   "metadata": {},
   "source": [
    "# Why code has crashed ???\n",
    "# balance is string and amount is integer\n",
    "# Now \n",
    "\n",
    "### We cannot make these type of data directly changable so a concept came called Encapsulation\n",
    "\n",
    "# - Encapsulation : \n",
    "## This is the data hiding technique used to hide the variables using access modifiers\n",
    "\n",
    "## - In Python Access modifiers are syntaxxxed as :\n",
    "\n",
    "- we can make it private by using self.__pin instead of self.pin\n",
    "- This keyword helps us to make it unavailable to user directly\n"
   ]
  },
  {
   "cell_type": "code",
   "execution_count": 36,
   "id": "d92ae5a8-60df-45de-ae89-7b7bd381ba15",
   "metadata": {},
   "outputs": [],
   "source": [
    "# Lets make a class\n",
    "# Atm\n",
    "# funtions vs methods : methods are functions inside the class\n",
    "# Methods are called like e.g. L.append(1)\n",
    "\n",
    "class Atm :\n",
    "\n",
    "    # init is a constructor : Auto execute when Class object is made\n",
    "    def __init__(self):\n",
    "        self.__pin=\"\"\n",
    "        self.__balance=0\n",
    "        print(id(self))\n",
    "        self.menu()\n",
    "       \n",
    "        \n",
    "    def menu(self):\n",
    "        user_input=input(\"\"\" Hello how would you like to proceed ?\n",
    "                            ENTER 1 TO CREATE PIN\n",
    "                            ENTER 2 TO DEPOSIT\n",
    "                            ENTER 3 TO WITHDRAW\n",
    "                            ENTER 4 TO CHECK BALANCE\n",
    "                            ENTER 5 TO EXIT\"\"\")\n",
    "        if user_input==\"1\":\n",
    "           self.create_pin() # method of pin creation\n",
    "            \n",
    "        elif user_input==\"2\":\n",
    "            self.deposit()   # method of deposition\n",
    "       \n",
    "        elif user_input==\"3\":\n",
    "            self.withdraw()  # method of Withdrawl\n",
    "        \n",
    "        elif user_input==\"4\":\n",
    "            self.check_bmalance()  # method of balance check\n",
    "       \n",
    "        else:\n",
    "            print(\"bye\")\n",
    "\n",
    "\n",
    "    # pin create method\n",
    "    def create_pin(self):\n",
    "        self.__pin=input(\"Enter your pin\")\n",
    "        print(\"Pin Set Succcessfully\")\n",
    "\n",
    "   # deposit method     \n",
    "    def deposit(self):\n",
    "        temp=input(\"Enter your pin\")\n",
    "        if temp==self.__pin:\n",
    "            amount= int( input (\"Enter the amount\"))\n",
    "            self.__balance+=amount\n",
    "            print(\"Deposit Successful\")\n",
    "        else:\n",
    "            print(\"invalid Pin\")\n",
    "\n",
    "    # withdrawing method\n",
    "    def withdraw(self):\n",
    "\n",
    "        temp=input(\"Enter your pin\")\n",
    "        if temp==self.__pin:\n",
    "            amount=int(input(\"Enter the amount\"))\n",
    "            if amount<self.__balance:\n",
    "                self.__balance-=amount\n",
    "                print(\"Operation Successful\")\n",
    "            else:\n",
    "                print(\"insufficient Funds\")\n",
    "        else:\n",
    "            print(\"invalid pin\")\n",
    "\n",
    "    # balance check method\n",
    "    def check_balance(self):\n",
    "        temp=input(\"Enter your pin\")\n",
    "        if temp==self.__pin:\n",
    "            print(\"The balance is : \",self.__balance)\n",
    "        else:\n",
    "            print(\"Invalid Pin\")\n",
    "            \n",
    "### Execute this cell first\n"
   ]
  },
  {
   "cell_type": "code",
   "execution_count": 37,
   "id": "b4cb5909-426c-4d60-b717-06857ab0bcdd",
   "metadata": {},
   "outputs": [
    {
     "name": "stdout",
     "output_type": "stream",
     "text": [
      "1840371462368\n"
     ]
    },
    {
     "name": "stdout",
     "output_type": "stream",
     "text": [
      " Hello how would you like to proceed ?\n",
      "                            ENTER 1 TO CREATE PIN\n",
      "                            ENTER 2 TO DEPOSIT\n",
      "                            ENTER 3 TO WITHDRAW\n",
      "                            ENTER 4 TO CHECK BALANCE\n",
      "                            ENTER 5 TO EXIT 1\n",
      "Enter your pin 12345678\n"
     ]
    },
    {
     "name": "stdout",
     "output_type": "stream",
     "text": [
      "Pin Set Succcessfully\n"
     ]
    }
   ],
   "source": [
    "kotak=Atm()"
   ]
  },
  {
   "cell_type": "markdown",
   "id": "6e144835-001e-4c90-84f0-2a08174bbb9a",
   "metadata": {},
   "source": [
    "### now write kotak. and press tab you will find now balance and pin both are not available now \n",
    "### This is what Encapsulation is data members and method hiding\n",
    "\n"
   ]
  },
  {
   "cell_type": "code",
   "execution_count": null,
   "id": "ff0a910e-45df-4b8c-88ca-06179f192a78",
   "metadata": {},
   "outputs": [],
   "source": [
    "kotak."
   ]
  },
  {
   "cell_type": "markdown",
   "id": "727f4adb-4296-40db-8d73-f13fca4d8f96",
   "metadata": {},
   "source": [
    "## But how things are working in background\n",
    "Python internally makes it like this\n",
    "__pin :  __Atm__pin\n"
   ]
  },
  {
   "cell_type": "code",
   "execution_count": 38,
   "id": "26cad6ec-8e04-495b-84d9-35cd80300834",
   "metadata": {},
   "outputs": [],
   "source": [
    "kotak.__balance=\"ssjldnf\""
   ]
  },
  {
   "cell_type": "code",
   "execution_count": 39,
   "id": "6f544d27-54f3-4e13-a87e-3905e30c2c5b",
   "metadata": {},
   "outputs": [
    {
     "name": "stdout",
     "output_type": "stream",
     "text": [
      "Enter your pin 12345678\n",
      "Enter the amount 50000\n"
     ]
    },
    {
     "name": "stdout",
     "output_type": "stream",
     "text": [
      "Deposit Successful\n"
     ]
    }
   ],
   "source": [
    "kotak.deposit()"
   ]
  },
  {
   "cell_type": "code",
   "execution_count": 40,
   "id": "c4af7eda-61d9-497c-9e0b-3e25ceb22fdb",
   "metadata": {},
   "outputs": [
    {
     "name": "stdout",
     "output_type": "stream",
     "text": [
      "Enter your pin 12345678\n"
     ]
    },
    {
     "name": "stdout",
     "output_type": "stream",
     "text": [
      "The balance is :  50000\n"
     ]
    }
   ],
   "source": [
    "kotak.check_balance()"
   ]
  },
  {
   "cell_type": "markdown",
   "id": "9d926ab0-5056-4a10-a2b4-0d3fd70d2d51",
   "metadata": {},
   "source": [
    "## What actually happeneed here \n",
    "### Nothing in Python is truly private\n",
    "### Python bade log khud se understanding banani padti hai\n"
   ]
  },
  {
   "cell_type": "markdown",
   "id": "fe820224-6e17-426c-8d0a-69856bd5d880",
   "metadata": {},
   "source": [
    "### To access the private variable we can use :\n",
    "kotak._Atm__balance=\"djkdfs\""
   ]
  },
  {
   "cell_type": "code",
   "execution_count": 41,
   "id": "48e85973-dab7-4f67-8359-6ba174bb71df",
   "metadata": {},
   "outputs": [],
   "source": [
    "kotak._Atm__balance=\"dssdnkk\""
   ]
  },
  {
   "cell_type": "code",
   "execution_count": 42,
   "id": "ceb95837-8e7d-4742-9225-e52fdf205db7",
   "metadata": {
    "scrolled": true
   },
   "outputs": [
    {
     "name": "stdout",
     "output_type": "stream",
     "text": [
      "Enter your pin 12345678\n",
      "Enter the amount 50000\n"
     ]
    },
    {
     "ename": "TypeError",
     "evalue": "can only concatenate str (not \"int\") to str",
     "output_type": "error",
     "traceback": [
      "\u001b[31m---------------------------------------------------------------------------\u001b[39m",
      "\u001b[31mTypeError\u001b[39m                                 Traceback (most recent call last)",
      "\u001b[36mCell\u001b[39m\u001b[36m \u001b[39m\u001b[32mIn[42]\u001b[39m\u001b[32m, line 1\u001b[39m\n\u001b[32m----> \u001b[39m\u001b[32m1\u001b[39m \u001b[43mkotak\u001b[49m\u001b[43m.\u001b[49m\u001b[43mdeposit\u001b[49m\u001b[43m(\u001b[49m\u001b[43m)\u001b[49m\n",
      "\u001b[36mCell\u001b[39m\u001b[36m \u001b[39m\u001b[32mIn[36]\u001b[39m\u001b[32m, line 49\u001b[39m, in \u001b[36mAtm.deposit\u001b[39m\u001b[34m(self)\u001b[39m\n\u001b[32m     47\u001b[39m \u001b[38;5;28;01mif\u001b[39;00m temp==\u001b[38;5;28mself\u001b[39m.__pin:\n\u001b[32m     48\u001b[39m     amount= \u001b[38;5;28mint\u001b[39m( \u001b[38;5;28minput\u001b[39m (\u001b[33m\"\u001b[39m\u001b[33mEnter the amount\u001b[39m\u001b[33m\"\u001b[39m))\n\u001b[32m---> \u001b[39m\u001b[32m49\u001b[39m     \u001b[38;5;28;43mself\u001b[39;49m\u001b[43m.\u001b[49m\u001b[43m__balance\u001b[49m\u001b[43m+\u001b[49m\u001b[43m=\u001b[49m\u001b[43mamount\u001b[49m\n\u001b[32m     50\u001b[39m     \u001b[38;5;28mprint\u001b[39m(\u001b[33m\"\u001b[39m\u001b[33mDeposit Successful\u001b[39m\u001b[33m\"\u001b[39m)\n\u001b[32m     51\u001b[39m \u001b[38;5;28;01melse\u001b[39;00m:\n",
      "\u001b[31mTypeError\u001b[39m: can only concatenate str (not \"int\") to str"
     ]
    }
   ],
   "source": [
    "kotak.deposit()\n"
   ]
  },
  {
   "cell_type": "markdown",
   "id": "8cbdd2ee-221b-49d0-b223-9f6e1709b71a",
   "metadata": {},
   "source": [
    "# Getters and Setters :\n",
    "## In Python, a getter and setter are methods used to access and update the attributes of a class. These methods provide a way to define controlled access to the attributes of an object, thereby ensuring the integrity of the data. By default, attributes in Python can be accessed directly. However, this can pose problems when attributes need validation or transformation before being assigned or retrieved.\n",
    "\n",
    "## - Getter: The getter method is used to retrieve the value of a private attribute. It allows controlled access to the attribute.\n",
    "## - Setter: The setter method is used to set or modify the value of a private attribute. It allows you to control how the value is updated, enabling validation or modification of the data before it’s actually assigned.\n"
   ]
  },
  {
   "cell_type": "code",
   "execution_count": 1,
   "id": "b65f87b5-ebc5-4e3c-b2cc-1bd29b759cb2",
   "metadata": {},
   "outputs": [],
   "source": [
    "# Lets make a class\n",
    "# Atm\n",
    "# funtions vs methods : methods are functions inside the class\n",
    "# Methods are called like e.g. L.append(1)\n",
    "\n",
    "class Atm :\n",
    "\n",
    "    # init is a constructor : Auto execute when Class object is made\n",
    "    def __init__(self):\n",
    "        self.__pin=\"\"\n",
    "        self.__balance=0\n",
    "        print(id(self))\n",
    "        self.menu()\n",
    "\n",
    "\n",
    "    # USE OF GETTER and SETTER of Python\n",
    "    def get_pin(self):\n",
    "        return self.__pin\n",
    "\n",
    "    def set_pin(self,new_pin):\n",
    "        if type(new_pin)==str:\n",
    "            self.__pin=new_pin\n",
    "            print(\"Pin Changed\")\n",
    "        else:\n",
    "            print(\"not Allowed\")\n",
    "        \n",
    "       \n",
    "        \n",
    "    def menu(self):\n",
    "        user_input=input(\"\"\" Hello how would you like to proceed ?\n",
    "                            ENTER 1 TO CREATE PIN\n",
    "                            ENTER 2 TO DEPOSIT\n",
    "                            ENTER 3 TO WITHDRAW\n",
    "                            ENTER 4 TO CHECK BALANCE\n",
    "                            ENTER 5 TO EXIT\"\"\")\n",
    "        if user_input==\"1\":\n",
    "           self.create_pin() # method of pin creation\n",
    "            \n",
    "        elif user_input==\"2\":\n",
    "            self.deposit()   # method of deposition\n",
    "       \n",
    "        elif user_input==\"3\":\n",
    "            self.withdraw()  # method of Withdrawl\n",
    "        \n",
    "        elif user_input==\"4\":\n",
    "            self.check_bmalance()  # method of balance check\n",
    "       \n",
    "        else:\n",
    "            print(\"bye\")\n",
    "\n",
    "\n",
    "    # pin create method\n",
    "    def create_pin(self):\n",
    "        self.__pin=input(\"Enter your pin\")\n",
    "        print(\"Pin Set Succcessfully\")\n",
    "\n",
    "   # deposit method     \n",
    "    def deposit(self):\n",
    "        temp=input(\"Enter your pin\")\n",
    "        if temp==self.__pin:\n",
    "            amount= int( input (\"Enter the amount\"))\n",
    "            self.__balance+=amount\n",
    "            print(\"Deposit Successful\")\n",
    "        else:\n",
    "            print(\"invalid Pin\")\n",
    "\n",
    "    # withdrawing method\n",
    "    def withdraw(self):\n",
    "\n",
    "        temp=input(\"Enter your pin\")\n",
    "        if temp==self.__pin:\n",
    "            amount=int(input(\"Enter the amount\"))\n",
    "            if amount<self.__balance:\n",
    "                self.__balance-=amount\n",
    "                print(\"Operation Successful\")\n",
    "            else:\n",
    "                print(\"insufficient Funds\")\n",
    "        else:\n",
    "            print(\"invalid pin\")\n",
    "\n",
    "    # balance check method\n",
    "    def check_balance(self):\n",
    "        temp=input(\"Enter your pin\")\n",
    "        if temp==self.__pin:\n",
    "            print(\"The balance is : \",self.__balance)\n",
    "        else:\n",
    "            print(\"Invalid Pin\")\n",
    "            \n",
    "### Execute this cell first\n"
   ]
  },
  {
   "cell_type": "code",
   "execution_count": 51,
   "id": "e2a79914-681b-4a78-9980-c985048813af",
   "metadata": {},
   "outputs": [
    {
     "data": {
      "text/plain": [
       "'123456'"
      ]
     },
     "execution_count": 51,
     "metadata": {},
     "output_type": "execute_result"
    }
   ],
   "source": [
    "sbi.get_pin()"
   ]
  },
  {
   "cell_type": "code",
   "execution_count": 52,
   "id": "83d82d34-21cf-4c38-bac0-19af86d52ba4",
   "metadata": {},
   "outputs": [
    {
     "name": "stdout",
     "output_type": "stream",
     "text": [
      "Pin Changed\n"
     ]
    }
   ],
   "source": [
    "sbi.set_pin('456123')"
   ]
  },
  {
   "cell_type": "code",
   "execution_count": 53,
   "id": "c2c9f094-5f46-4ce9-b6f9-0524d3672e32",
   "metadata": {},
   "outputs": [
    {
     "data": {
      "text/plain": [
       "'456123'"
      ]
     },
     "execution_count": 53,
     "metadata": {},
     "output_type": "execute_result"
    }
   ],
   "source": [
    "sbi.get_pin()"
   ]
  },
  {
   "cell_type": "markdown",
   "id": "d75022af-40c8-476f-83fb-b0bcef07d147",
   "metadata": {},
   "source": [
    "### Lets do one thing !!!\n",
    "making the pin as 4.5 random\n",
    "not as string\n",
    "Data is protected but less as user can enter anything.\n",
    "\n",
    "Logic : getter setter + protecction\n",
    "# ENCAPSULATION\n",
    "- Data member + both two methods\n",
    "- Need for Encapsulation : Data Hiding and Access definition\n",
    "- Getter and Setter : These are pair of methods work together in data accessing to the user even after hiding\n",
    "\n",
    "                             Class Diagram\n",
    "                                  -pin\n",
    "                                  -balance\n",
    "\n",
    "  methods:\n",
    "\n",
    "\n",
    "   default constructor:\n",
    "              __init__()\n",
    "              -menu\n",
    "              +change_pin()\n",
    "              +deposit\n",
    "              +withddraw\n",
    "              +check_balance()\n",
    "  "
   ]
  },
  {
   "cell_type": "code",
   "execution_count": 2,
   "id": "c1952390-9b77-4a02-b348-3e148e47e6ff",
   "metadata": {},
   "outputs": [
    {
     "name": "stdout",
     "output_type": "stream",
     "text": [
      "2498595112336\n"
     ]
    },
    {
     "name": "stdout",
     "output_type": "stream",
     "text": [
      " Hello how would you like to proceed ?\n",
      "                            ENTER 1 TO CREATE PIN\n",
      "                            ENTER 2 TO DEPOSIT\n",
      "                            ENTER 3 TO WITHDRAW\n",
      "                            ENTER 4 TO CHECK BALANCE\n",
      "                            ENTER 5 TO EXIT 1\n",
      "Enter your pin 123456\n"
     ]
    },
    {
     "name": "stdout",
     "output_type": "stream",
     "text": [
      "Pin Set Succcessfully\n"
     ]
    }
   ],
   "source": [
    "sbi=Atm()"
   ]
  },
  {
   "cell_type": "code",
   "execution_count": 3,
   "id": "95f1d136-97a7-4363-8c05-6f0f98ed0a6b",
   "metadata": {},
   "outputs": [
    {
     "data": {
      "text/plain": [
       "'123456'"
      ]
     },
     "execution_count": 3,
     "metadata": {},
     "output_type": "execute_result"
    }
   ],
   "source": [
    "sbi.get_pin()"
   ]
  },
  {
   "cell_type": "code",
   "execution_count": 4,
   "id": "34be9a27-5293-49f2-87ec-885977c66c8e",
   "metadata": {},
   "outputs": [
    {
     "name": "stdout",
     "output_type": "stream",
     "text": [
      "not Allowed\n"
     ]
    }
   ],
   "source": [
    "sbi.set_pin(3.5)"
   ]
  },
  {
   "cell_type": "code",
   "execution_count": 5,
   "id": "bd36f53d-7309-4b5c-844b-99bd9d761d82",
   "metadata": {},
   "outputs": [
    {
     "name": "stdout",
     "output_type": "stream",
     "text": [
      "Pin Changed\n"
     ]
    }
   ],
   "source": [
    "sbi.set_pin(\"12345\")"
   ]
  },
  {
   "cell_type": "code",
   "execution_count": 6,
   "id": "696cc1e4-6148-412a-81d8-2fde8048ae0e",
   "metadata": {},
   "outputs": [
    {
     "data": {
      "text/plain": [
       "'12345'"
      ]
     },
     "execution_count": 6,
     "metadata": {},
     "output_type": "execute_result"
    }
   ],
   "source": [
    "sbi.get_pin()"
   ]
  },
  {
   "cell_type": "markdown",
   "id": "992b7613-c9f7-4f65-8c6d-6de66d137994",
   "metadata": {},
   "source": [
    "This is what Encapsulation is \n",
    "Data protection and hiding\n",
    "Capsule : Mixture of Data Members and its Methods\n",
    "\n",
    "\n"
   ]
  },
  {
   "cell_type": "markdown",
   "id": "b00ac0d1-a80c-4486-8e36-7f0ed91d2399",
   "metadata": {},
   "source": [
    "## Reference Variable\n",
    "\n",
    "### as soon as we create a object it stores at a memory location not at the variable if we use Atm() instead of sbi=Atm(). \n",
    "### Actually the object is Atm() not sbi\n",
    "### we are allocating a variable named as sbi so it can store Atm() object so that we cannot lose in future.\n",
    "\n",
    "\n",
    "### Therefore this variable \"sbi\" is called as a reference variable\n"
   ]
  },
  {
   "cell_type": "markdown",
   "id": "babc03e8-91eb-47a7-aaa4-70d62b8caeb4",
   "metadata": {},
   "source": [
    "\n",
    "\n",
    "\n"
   ]
  },
  {
   "cell_type": "markdown",
   "id": "cef995ae-b9ba-4ac2-afca-ae2198b4b3ae",
   "metadata": {},
   "source": [
    "# PASS BY REFERENCE :\n",
    "if we can give list,tuple,int,float anything \n",
    "then we can give object also to the function\n",
    "\n"
   ]
  },
  {
   "cell_type": "code",
   "execution_count": 7,
   "id": "985f4730-41f9-4a6c-930b-e09494304e0f",
   "metadata": {},
   "outputs": [
    {
     "name": "stdout",
     "output_type": "stream",
     "text": [
      "Hello Ria Ma'am\n",
      "Hello Ria Ma'am\n",
      "Nitish\n"
     ]
    }
   ],
   "source": [
    "class Customer:\n",
    "    def __init__(self,name,gender) :\n",
    "        self.name = name\n",
    "        self.gender = gender\n",
    "        \n",
    "# Function ko object as a arguement passs kar rhe ho\n",
    "\n",
    "def greet(customer):\n",
    "    if customer.gender == \"Male\":\n",
    "         print(\"Hello\",customer.name,\"Sir\")\n",
    "    else :\n",
    "        print(\"Hello\",customer.name,\"Ma'am\")\n",
    "\n",
    "    cust2=Customer(\"Nitish\",\"Male\")\n",
    "    return cust2\n",
    "\n",
    "\n",
    "        \n",
    "        \n",
    "   \n",
    "    \n",
    "\n",
    "cust=Customer('Ria','Female')\n",
    "greet(cust)\n",
    "new_cust=greet(cust)\n",
    "print(new_cust.name)"
   ]
  },
  {
   "cell_type": "code",
   "execution_count": 77,
   "id": "34925a2e-2cef-43a4-8f0e-9025b0999936",
   "metadata": {},
   "outputs": [
    {
     "name": "stdout",
     "output_type": "stream",
     "text": [
      "1840378278784\n",
      "1840378278784\n"
     ]
    }
   ],
   "source": [
    "class Customer:\n",
    "    def __init__(self,name) :\n",
    "        self.name = name\n",
    "        \n",
    "        \n",
    "# Function ko object as a arguement passs kar rhe ho\n",
    "\n",
    "def greet(customer):\n",
    "    print (id(customer))\n",
    "    \n",
    "cust = Customer(\"Ankita\")\n",
    "print(id(cust))\n",
    "\n",
    "greet(cust)"
   ]
  },
  {
   "cell_type": "markdown",
   "id": "4d453e38-5f5f-447d-98f2-8faa92ca8f2e",
   "metadata": {},
   "source": [
    "### IDS are same\n",
    "### Aliasing \n",
    "#### a=3 amd b=a\n",
    "#### id(a)=id(b)\n"
   ]
  },
  {
   "cell_type": "code",
   "execution_count": 12,
   "id": "61b75adf-1f15-48de-83d8-1b3fff117309",
   "metadata": {},
   "outputs": [
    {
     "name": "stdout",
     "output_type": "stream",
     "text": [
      "2498596896848\n",
      "2498596896848\n",
      "Kalpit\n",
      "Kalpit\n"
     ]
    }
   ],
   "source": [
    "class Customer:\n",
    "    def __init__(self,name) :\n",
    "        self.name = name\n",
    "        \n",
    "        \n",
    "# Function ko object as a arguement passs kar rhe ho\n",
    "\n",
    "def greet(customer):\n",
    "    print (id(customer))\n",
    "    customer.name=\"Kalpit\"\n",
    "    print(customer.name)\n",
    "    \n",
    "cust = Customer(\"Ankita\")\n",
    "print(id(cust))\n",
    "\n",
    "greet(cust)\n",
    "print(cust.name)"
   ]
  },
  {
   "cell_type": "markdown",
   "id": "26a03883-4a6d-4546-8e5f-f7250da134e6",
   "metadata": {},
   "source": [
    "# What we have learnt since both were pointing to the same object :\n",
    "## Therefore when the attributes were changed in function they are also changed originally !!!\n",
    "\n",
    "### Also Class Objects are also mutable like lists,dictionary and sets\n",
    "\n",
    "### See the below example\n"
   ]
  },
  {
   "cell_type": "code",
   "execution_count": 1,
   "id": "53494fad-fac1-4a37-9f5e-75bfa9db0aee",
   "metadata": {},
   "outputs": [
    {
     "name": "stdout",
     "output_type": "stream",
     "text": [
      "1913768169920\n",
      "[1, 2, 3, 4]\n",
      "1913768169920\n",
      "1913768169920\n",
      "[1, 2, 3, 4, 5]\n"
     ]
    }
   ],
   "source": [
    "def change(L):\n",
    "    print(id(L))\n",
    "    L.append(5)\n",
    "    print(id(L))\n",
    "\n",
    "L1=[1,2,3,4]\n",
    "print(id(L1))\n",
    "print(L1)\n",
    "\n",
    "change(L1)\n",
    "print(L1)\n",
    "\n",
    "\n",
    "\n"
   ]
  },
  {
   "cell_type": "code",
   "execution_count": 2,
   "id": "e88a86ba-53c5-48cc-8bd5-fbe5b982e3e4",
   "metadata": {},
   "outputs": [
    {
     "name": "stdout",
     "output_type": "stream",
     "text": [
      "1913768171712\n",
      "[1, 2, 3, 4]\n",
      "1913768175040\n",
      "1913768175040\n",
      "[1, 2, 3, 4]\n"
     ]
    }
   ],
   "source": [
    "# so we use cloning here as :\n",
    "def change(L):\n",
    "    print(id(L))\n",
    "    L.append(5)\n",
    "    print(id(L))\n",
    "\n",
    "L1=[1,2,3,4]\n",
    "print(id(L1))\n",
    "print(L1)\n",
    "\n",
    "# Check the syntax of the change statement\n",
    "\n",
    "change(L1[:])\n",
    "print(L1)\n",
    "\n"
   ]
  },
  {
   "cell_type": "markdown",
   "id": "0199caf0-5284-4cfb-abd0-53ae78008464",
   "metadata": {},
   "source": [
    "#### Now this method of [:] is known as cloning.\n",
    "Now the address have changed as you can see here.\n",
    "Lets do this with a tuple !!!\n",
    "\n",
    "\n"
   ]
  },
  {
   "cell_type": "code",
   "execution_count": 3,
   "id": "586791b3-1c21-4181-8129-a07c29f74ab1",
   "metadata": {},
   "outputs": [
    {
     "name": "stdout",
     "output_type": "stream",
     "text": [
      "1913767864464\n",
      "(1, 2, 3, 4)\n",
      "1913767864464\n",
      "1913726415680\n",
      "(1, 2, 3, 4)\n"
     ]
    }
   ],
   "source": [
    "def change(L):\n",
    "    print(id(L))\n",
    "    L=L+(5,6)\n",
    "    print(id(L))\n",
    "\n",
    "L1=(1,2,3,4)\n",
    "print(id(L1))\n",
    "print(L1)\n",
    "\n",
    "# Check the syntax of the change statement\n",
    "\n",
    "change(L1)\n",
    "print(L1)"
   ]
  },
  {
   "cell_type": "markdown",
   "id": "578824e3-bcb6-4304-923c-8cf8eee491e9",
   "metadata": {},
   "source": [
    "### What actually happed here\n",
    "Jab hum Pass by reference se mutable data type ko bhejenge toh original wale me changes ho jayenge\n",
    "\n",
    "Aur Immutable wale ko bhejuonge toh Original wale me changes nhi honge\n"
   ]
  },
  {
   "cell_type": "markdown",
   "id": "9f62c1af-f8a5-4ea7-a0ee-3f603580bce5",
   "metadata": {},
   "source": [
    "## Collection of Objects\n"
   ]
  },
  {
   "cell_type": "code",
   "execution_count": 7,
   "id": "86d18eb1-e114-481c-b9ba-9134b3466139",
   "metadata": {},
   "outputs": [
    {
     "name": "stdout",
     "output_type": "stream",
     "text": [
      "Kalpit 34\n",
      "Nawab 45\n",
      "Neha 32\n"
     ]
    }
   ],
   "source": [
    "class Customer:\n",
    "    def __init__(self,name,age):\n",
    "        self.name=name\n",
    "        self.age=age\n",
    "\n",
    "    def intro(self):\n",
    "        print(\"i am \",self.name,\"and I am \" ,self.age)\n",
    "\n",
    "c1=Customer(\"Kalpit\",34)\n",
    "c2=Customer(\"Nawab\",45)\n",
    "c3=Customer(\"Neha\",32)\n",
    "\n",
    "L=[c1,c2,c3]\n",
    "\n",
    "for i in L:\n",
    "    print(i.name,i.age)\n",
    "\n",
    "    \n",
    "        "
   ]
  },
  {
   "cell_type": "code",
   "execution_count": 8,
   "id": "f5517874-62dc-4a79-819e-b25e6c112773",
   "metadata": {},
   "outputs": [
    {
     "name": "stdout",
     "output_type": "stream",
     "text": [
      "i am  Kalpit and I am  34\n",
      "i am  Nawab and I am  45\n",
      "i am  Neha and I am  32\n"
     ]
    }
   ],
   "source": [
    "for i in L:\n",
    "    i.intro()"
   ]
  },
  {
   "cell_type": "markdown",
   "id": "2df522fe-00a3-4e51-acd6-37925e8566f2",
   "metadata": {},
   "source": [
    "\n",
    "\n",
    "\n",
    "\n"
   ]
  },
  {
   "cell_type": "markdown",
   "id": "244f1d17-e21c-49d9-a220-b67888338eee",
   "metadata": {},
   "source": [
    "### Instance Variable : value is different for each and every object\n",
    "eg : pin, balance\n",
    "#### They are created inside the constructor\n",
    "\n",
    "I have to assign Variable S.No to each Customer\n",
    "Counter \n",
    "### Static Variable : value is same for each and every object\n",
    "eg : IFSC Code\n",
    "#### Remember : Always create static variable outside the constructor\n",
    "\n",
    "\n",
    "### Back to our ATM\n",
    "\n",
    "\n"
   ]
  },
  {
   "cell_type": "code",
   "execution_count": 2,
   "id": "1b1bebaf-7b86-4e3b-ae1a-ae55398b6537",
   "metadata": {},
   "outputs": [],
   "source": [
    "# Lets make a class\n",
    "# Atm\n",
    "# funtions vs methods : methods are functions inside the class\n",
    "# Methods are called like e.g. L.append(1)\n",
    "\n",
    "class Atm :\n",
    "# STATIC VARIABLE\n",
    "\n",
    "    counter=1\n",
    "\n",
    "    \n",
    "    # init is a constructor : Auto execute when Class object is made\n",
    "    def __init__(self):\n",
    "        \n",
    "        # INSTANCE VARIABLE\n",
    "        \n",
    "        self.__pin=\"\"\n",
    "        self.__balance=0\n",
    "        print(id(self))\n",
    "        self.menu()\n",
    "\n",
    "        self.sno=Atm.counter\n",
    "\n",
    "        Atm.counter+=1\n",
    "        \n",
    "\n",
    "\n",
    "    # USE OF GETTER and SETTER of Python\n",
    "    def get_pin(self):\n",
    "        return self.__pin\n",
    "\n",
    "    def set_pin(self,new_pin):\n",
    "        if type(new_pin)==str:\n",
    "            self.__pin=new_pin\n",
    "            print(\"Pin Changed\")\n",
    "        else:\n",
    "            print(\"not Allowed\")\n",
    "        \n",
    "       \n",
    "        \n",
    "    def menu(self):\n",
    "        user_input=input(\"\"\" Hello how would you like to proceed ?\n",
    "                            ENTER 1 TO CREATE PIN\n",
    "                            ENTER 2 TO DEPOSIT\n",
    "                            ENTER 3 TO WITHDRAW\n",
    "                            ENTER 4 TO CHECK BALANCE\n",
    "                            ENTER 5 TO EXIT\"\"\")\n",
    "        if user_input==\"1\":\n",
    "           self.create_pin() # method of pin creation\n",
    "            \n",
    "        elif user_input==\"2\":\n",
    "            self.deposit()   # method of deposition\n",
    "       \n",
    "        elif user_input==\"3\":\n",
    "            self.withdraw()  # method of Withdrawl\n",
    "        \n",
    "        elif user_input==\"4\":\n",
    "            self.check_bmalance()  # method of balance check\n",
    "       \n",
    "        else:\n",
    "            print(\"bye\")\n",
    "\n",
    "\n",
    "    # pin create method\n",
    "    def create_pin(self):\n",
    "        self.__pin=input(\"Enter your pin\")\n",
    "        print(\"Pin Set Succcessfully\")\n",
    "\n",
    "   # deposit method     \n",
    "    def deposit(self):\n",
    "        temp=input(\"Enter your pin\")\n",
    "        if temp==self.__pin:\n",
    "            amount= int( input (\"Enter the amount\"))\n",
    "            self.__balance+=amount\n",
    "            print(\"Deposit Successful\")\n",
    "        else:\n",
    "            print(\"invalid Pin\")\n",
    "\n",
    "    # withdrawing method\n",
    "    def withdraw(self):\n",
    "\n",
    "        temp=input(\"Enter your pin\")\n",
    "        if temp==self.__pin:\n",
    "            amount=int(input(\"Enter the amount\"))\n",
    "            if amount<self.__balance:\n",
    "                self.__balance-=amount\n",
    "                print(\"Operation Successful\")\n",
    "            else:\n",
    "                print(\"insufficient Funds\")\n",
    "        else:\n",
    "            print(\"invalid pin\")\n",
    "\n",
    "    # balance check method\n",
    "    def check_balance(self):\n",
    "        temp=input(\"Enter your pin\")\n",
    "        if temp==self.__pin:\n",
    "            print(\"The balance is : \",self.__balance)\n",
    "        else:\n",
    "            print(\"Invalid Pin\")\n",
    "            \n",
    "### Execute this cell first\n"
   ]
  },
  {
   "cell_type": "code",
   "execution_count": 12,
   "id": "52bbb823-e576-4f11-91a7-d813162091de",
   "metadata": {},
   "outputs": [
    {
     "name": "stdout",
     "output_type": "stream",
     "text": [
      "1913768217968\n"
     ]
    },
    {
     "name": "stdout",
     "output_type": "stream",
     "text": [
      " Hello how would you like to proceed ?\n",
      "                            ENTER 1 TO CREATE PIN\n",
      "                            ENTER 2 TO DEPOSIT\n",
      "                            ENTER 3 TO WITHDRAW\n",
      "                            ENTER 4 TO CHECK BALANCE\n",
      "                            ENTER 5 TO EXIT 1\n",
      "Enter your pin 1234\n"
     ]
    },
    {
     "name": "stdout",
     "output_type": "stream",
     "text": [
      "Pin Set Succcessfully\n"
     ]
    }
   ],
   "source": [
    "axis=Atm()"
   ]
  },
  {
   "cell_type": "code",
   "execution_count": 13,
   "id": "b9b0a1d3-8311-4ac1-ae76-f2ba08a0745f",
   "metadata": {},
   "outputs": [
    {
     "name": "stdout",
     "output_type": "stream",
     "text": [
      "1913766097168\n"
     ]
    },
    {
     "name": "stdout",
     "output_type": "stream",
     "text": [
      " Hello how would you like to proceed ?\n",
      "                            ENTER 1 TO CREATE PIN\n",
      "                            ENTER 2 TO DEPOSIT\n",
      "                            ENTER 3 TO WITHDRAW\n",
      "                            ENTER 4 TO CHECK BALANCE\n",
      "                            ENTER 5 TO EXIT 1\n",
      "Enter your pin 8458\n"
     ]
    },
    {
     "name": "stdout",
     "output_type": "stream",
     "text": [
      "Pin Set Succcessfully\n"
     ]
    }
   ],
   "source": [
    "kotak=Atm()"
   ]
  },
  {
   "cell_type": "code",
   "execution_count": 14,
   "id": "3cbc2e04-56e3-4f90-89f4-6227362c9c51",
   "metadata": {},
   "outputs": [
    {
     "name": "stdout",
     "output_type": "stream",
     "text": [
      "1913766096528\n"
     ]
    },
    {
     "name": "stdout",
     "output_type": "stream",
     "text": [
      " Hello how would you like to proceed ?\n",
      "                            ENTER 1 TO CREATE PIN\n",
      "                            ENTER 2 TO DEPOSIT\n",
      "                            ENTER 3 TO WITHDRAW\n",
      "                            ENTER 4 TO CHECK BALANCE\n",
      "                            ENTER 5 TO EXIT 1\n",
      "Enter your pin 4568\n"
     ]
    },
    {
     "name": "stdout",
     "output_type": "stream",
     "text": [
      "Pin Set Succcessfully\n"
     ]
    }
   ],
   "source": [
    "hdfc=Atm()"
   ]
  },
  {
   "cell_type": "code",
   "execution_count": 16,
   "id": "41f92c20-b792-477a-bcc7-375b73084483",
   "metadata": {},
   "outputs": [
    {
     "name": "stdout",
     "output_type": "stream",
     "text": [
      "1\n",
      "2\n",
      "3\n"
     ]
    }
   ],
   "source": [
    "print(axis.sno)\n",
    "print(kotak.sno)\n",
    "print(hdfc.sno)"
   ]
  },
  {
   "cell_type": "code",
   "execution_count": 17,
   "id": "98b74f5e-6fcd-4f5a-8894-f7dca86d7e7a",
   "metadata": {},
   "outputs": [
    {
     "data": {
      "text/plain": [
       "4"
      ]
     },
     "execution_count": 17,
     "metadata": {},
     "output_type": "execute_result"
    }
   ],
   "source": [
    "hdfc.counter\n"
   ]
  },
  {
   "cell_type": "code",
   "execution_count": 18,
   "id": "7b94b69f-b687-49b1-8bc6-b1d8f7423095",
   "metadata": {},
   "outputs": [
    {
     "data": {
      "text/plain": [
       "4"
      ]
     },
     "execution_count": 18,
     "metadata": {},
     "output_type": "execute_result"
    }
   ],
   "source": [
    "kotak.counter"
   ]
  },
  {
   "cell_type": "code",
   "execution_count": 19,
   "id": "3c3535ab-98e6-40da-bfc8-52f70b286527",
   "metadata": {},
   "outputs": [
    {
     "data": {
      "text/plain": [
       "4"
      ]
     },
     "execution_count": 19,
     "metadata": {},
     "output_type": "execute_result"
    }
   ],
   "source": [
    "axis.counter"
   ]
  },
  {
   "cell_type": "code",
   "execution_count": 21,
   "id": "eb3ac417-aeef-4579-9cf6-08a3cb240be2",
   "metadata": {},
   "outputs": [
    {
     "data": {
      "text/plain": [
       "4"
      ]
     },
     "execution_count": 21,
     "metadata": {},
     "output_type": "execute_result"
    }
   ],
   "source": [
    "Atm.counter\n",
    "# Right way of fetching\n"
   ]
  },
  {
   "cell_type": "code",
   "execution_count": 5,
   "id": "c8adc0a4-128c-4193-acac-fc4e11394d11",
   "metadata": {},
   "outputs": [
    {
     "data": {
      "text/plain": [
       "2"
      ]
     },
     "execution_count": 5,
     "metadata": {},
     "output_type": "execute_result"
    }
   ],
   "source": [
    "# What if write like this ??\n",
    "Atm.counter\n",
    "\n"
   ]
  },
  {
   "cell_type": "code",
   "execution_count": 6,
   "id": "fb969c3c-d096-4fc2-b698-eda277b803dd",
   "metadata": {},
   "outputs": [],
   "source": [
    "Atm.counter=\"wrgwrg\""
   ]
  },
  {
   "cell_type": "code",
   "execution_count": 7,
   "id": "045cbe1f-3b87-4b78-afbc-d867e919ef8d",
   "metadata": {},
   "outputs": [
    {
     "name": "stdout",
     "output_type": "stream",
     "text": [
      "2140069773008\n"
     ]
    },
    {
     "name": "stdout",
     "output_type": "stream",
     "text": [
      " Hello how would you like to proceed ?\n",
      "                            ENTER 1 TO CREATE PIN\n",
      "                            ENTER 2 TO DEPOSIT\n",
      "                            ENTER 3 TO WITHDRAW\n",
      "                            ENTER 4 TO CHECK BALANCE\n",
      "                            ENTER 5 TO EXIT 5\n"
     ]
    },
    {
     "name": "stdout",
     "output_type": "stream",
     "text": [
      "bye\n"
     ]
    },
    {
     "ename": "TypeError",
     "evalue": "can only concatenate str (not \"int\") to str",
     "output_type": "error",
     "traceback": [
      "\u001b[31m---------------------------------------------------------------------------\u001b[39m",
      "\u001b[31mTypeError\u001b[39m                                 Traceback (most recent call last)",
      "\u001b[36mCell\u001b[39m\u001b[36m \u001b[39m\u001b[32mIn[7]\u001b[39m\u001b[32m, line 1\u001b[39m\n\u001b[32m----> \u001b[39m\u001b[32m1\u001b[39m c1=\u001b[43mAtm\u001b[49m\u001b[43m(\u001b[49m\u001b[43m)\u001b[49m\n",
      "\u001b[36mCell\u001b[39m\u001b[36m \u001b[39m\u001b[32mIn[2]\u001b[39m\u001b[32m, line 24\u001b[39m, in \u001b[36mAtm.__init__\u001b[39m\u001b[34m(self)\u001b[39m\n\u001b[32m     20\u001b[39m \u001b[38;5;28mself\u001b[39m.menu()\n\u001b[32m     22\u001b[39m \u001b[38;5;28mself\u001b[39m.sno=Atm.counter\n\u001b[32m---> \u001b[39m\u001b[32m24\u001b[39m \u001b[43mAtm\u001b[49m\u001b[43m.\u001b[49m\u001b[43mcounter\u001b[49m\u001b[43m+\u001b[49m\u001b[43m=\u001b[49m\u001b[32;43m1\u001b[39;49m\n",
      "\u001b[31mTypeError\u001b[39m: can only concatenate str (not \"int\") to str"
     ]
    }
   ],
   "source": [
    "c1=Atm()"
   ]
  },
  {
   "cell_type": "markdown",
   "id": "1564b06c-eac7-4ec0-a7ca-136111444744",
   "metadata": {},
   "source": [
    "#### What happened here :\n",
    "#### Code broken WHY ?\n",
    "Serial No was assigned but counter works no more due to addition of int to string in the output we have given\n",
    "\n",
    "Ijjaj : use Double Underscore\n"
   ]
  },
  {
   "cell_type": "code",
   "execution_count": 9,
   "id": "62021030-2243-4e30-9b41-ebdb52aef2f5",
   "metadata": {},
   "outputs": [],
   "source": [
    "# Lets make a class\n",
    "# Atm\n",
    "# funtions vs methods : methods are functions inside the class\n",
    "# Methods are called like e.g. L.append(1)\n",
    "\n",
    "class Atm :\n",
    "# STATIC VARIABLE\n",
    "\n",
    "    __counter=1\n",
    "\n",
    "    \n",
    "    # init is a constructor : Auto execute when Class object is made\n",
    "    def __init__(self):\n",
    "        \n",
    "        # INSTANCE VARIABLE\n",
    "        \n",
    "        self.__pin=\"\"\n",
    "        self.__balance=0\n",
    "        print(id(self))\n",
    "        self.menu()\n",
    "\n",
    "        self.sno=Atm.__counter\n",
    "\n",
    "        Atm.__counter+=1\n",
    "        \n",
    "\n",
    "\n",
    "    # USE OF GETTER and SETTER of Python\n",
    "    def get_pin(self):\n",
    "        return self.__pin\n",
    "\n",
    "    def set_pin(self,new_pin):\n",
    "        if type(new_pin)==str:\n",
    "            self.__pin=new_pin\n",
    "            print(\"Pin Changed\")\n",
    "        else:\n",
    "            print(\"not Allowed\")\n",
    "\n",
    "\n",
    "    # GETTER AND SETTER FOR COUNTERS\n",
    "    def get_counter(self):\n",
    "        return Atm.__counter\n",
    "\n",
    "    def set_counter(self,new):\n",
    "        if type(new)==int:\n",
    "            Atm.__counter=new\n",
    "        else :\n",
    "            print(\"Not Allowed\")\n",
    "            \n",
    "        \n",
    "       \n",
    "        \n",
    "    def menu(self):\n",
    "        user_input=input(\"\"\" Hello how would you like to proceed ?\n",
    "                            ENTER 1 TO CREATE PIN\n",
    "                            ENTER 2 TO DEPOSIT\n",
    "                            ENTER 3 TO WITHDRAW\n",
    "                            ENTER 4 TO CHECK BALANCE\n",
    "                            ENTER 5 TO EXIT\"\"\")\n",
    "        if user_input==\"1\":\n",
    "           self.create_pin() # method of pin creation\n",
    "            \n",
    "        elif user_input==\"2\":\n",
    "            self.deposit()   # method of deposition\n",
    "       \n",
    "        elif user_input==\"3\":\n",
    "            self.withdraw()  # method of Withdrawl\n",
    "        \n",
    "        elif user_input==\"4\":\n",
    "            self.check_bmalance()  # method of balance check\n",
    "       \n",
    "        else:\n",
    "            print(\"bye\")\n",
    "\n",
    "\n",
    "    # pin create method\n",
    "    def create_pin(self):\n",
    "        self.__pin=input(\"Enter your pin\")\n",
    "        print(\"Pin Set Succcessfully\")\n",
    "\n",
    "   # deposit method     \n",
    "    def deposit(self):\n",
    "        temp=input(\"Enter your pin\")\n",
    "        if temp==self.__pin:\n",
    "            amount= int( input (\"Enter the amount\"))\n",
    "            self.__balance+=amount\n",
    "            print(\"Deposit Successful\")\n",
    "        else:\n",
    "            print(\"invalid Pin\")\n",
    "\n",
    "    # withdrawing method\n",
    "    def withdraw(self):\n",
    "\n",
    "        temp=input(\"Enter your pin\")\n",
    "        if temp==self.__pin:\n",
    "            amount=int(input(\"Enter the amount\"))\n",
    "            if amount<self.__balance:\n",
    "                self.__balance-=amount\n",
    "                print(\"Operation Successful\")\n",
    "            else:\n",
    "                print(\"insufficient Funds\")\n",
    "        else:\n",
    "            print(\"invalid pin\")\n",
    "\n",
    "    # balance check method\n",
    "    def check_balance(self):\n",
    "        temp=input(\"Enter your pin\")\n",
    "        if temp==self.__pin:\n",
    "            print(\"The balance is : \",self.__balance)\n",
    "        else:\n",
    "            print(\"Invalid Pin\")\n",
    "            \n",
    "### Execute this cell first\n"
   ]
  },
  {
   "cell_type": "code",
   "execution_count": 10,
   "id": "0f3e1c8f-0c2e-40f2-ad4d-57d87e46c145",
   "metadata": {},
   "outputs": [
    {
     "ename": "TypeError",
     "evalue": "Atm.get_counter() missing 1 required positional argument: 'self'",
     "output_type": "error",
     "traceback": [
      "\u001b[31m---------------------------------------------------------------------------\u001b[39m",
      "\u001b[31mTypeError\u001b[39m                                 Traceback (most recent call last)",
      "\u001b[36mCell\u001b[39m\u001b[36m \u001b[39m\u001b[32mIn[10]\u001b[39m\u001b[32m, line 1\u001b[39m\n\u001b[32m----> \u001b[39m\u001b[32m1\u001b[39m \u001b[43mAtm\u001b[49m\u001b[43m.\u001b[49m\u001b[43mget_counter\u001b[49m\u001b[43m(\u001b[49m\u001b[43m)\u001b[49m\n",
      "\u001b[31mTypeError\u001b[39m: Atm.get_counter() missing 1 required positional argument: 'self'"
     ]
    }
   ],
   "source": [
    "Atm.get_counter()"
   ]
  },
  {
   "cell_type": "markdown",
   "id": "30548959-bf4a-4015-adcd-9f4787e576c4",
   "metadata": {},
   "source": [
    "### we have written aa class name here \n",
    "### we should write object name over here\n",
    "\n",
    "## Treatment :\n",
    "### whenever we use static variables we don't use self keywordd in methods instead \n",
    "@ staticmethod"
   ]
  },
  {
   "cell_type": "code",
   "execution_count": 15,
   "id": "067c1f35-93f6-48d0-bc6e-9109dfbd8337",
   "metadata": {},
   "outputs": [],
   "source": [
    "# Lets make a class\n",
    "# Atm\n",
    "# funtions vs methods : methods are functions inside the class\n",
    "# Methods are called like e.g. L.append(1)\n",
    "\n",
    "class Atm :\n",
    "# STATIC VARIABLE\n",
    "\n",
    "    __counter=1\n",
    "\n",
    "    \n",
    "    # init is a constructor : Auto execute when Class object is made\n",
    "    def __init__(self):\n",
    "        \n",
    "        # INSTANCE VARIABLE\n",
    "        \n",
    "        self.__pin=\"\"\n",
    "        self.__balance=0\n",
    "        print(id(self))\n",
    "        self.menu()\n",
    "\n",
    "        self.sno=Atm.__counter\n",
    "\n",
    "        Atm.__counter+=1\n",
    "        \n",
    "\n",
    "\n",
    "    # USE OF GETTER and SETTER of Python\n",
    "    def get_pin(self):\n",
    "        return self.__pin\n",
    "\n",
    "    def set_pin(self,new_pin):\n",
    "        if type(new_pin)==str:\n",
    "            self.__pin=new_pin\n",
    "            print(\"Pin Changed\")\n",
    "        else:\n",
    "            print(\"not Allowed\")\n",
    "\n",
    "\n",
    "    # GETTER AND SETTER FOR COUNTERS\n",
    "    @staticmethod\n",
    "    \n",
    "    def get_counter():\n",
    "        return Atm.__counter\n",
    "\n",
    "    def set_counter(new):\n",
    "        if type(new)==int:\n",
    "            Atm.__counter=new\n",
    "        else :\n",
    "            print(\"Not Allowed\")\n",
    "            \n",
    "        \n",
    "       \n",
    "        \n",
    "    def menu(self):\n",
    "        user_input=input(\"\"\" Hello how would you like to proceed ?\n",
    "                            ENTER 1 TO CREATE PIN\n",
    "                            ENTER 2 TO DEPOSIT\n",
    "                            ENTER 3 TO WITHDRAW\n",
    "                            ENTER 4 TO CHECK BALANCE\n",
    "                            ENTER 5 TO EXIT\"\"\")\n",
    "        if user_input==\"1\":\n",
    "           self.create_pin() # method of pin creation\n",
    "            \n",
    "        elif user_input==\"2\":\n",
    "            self.deposit()   # method of deposition\n",
    "       \n",
    "        elif user_input==\"3\":\n",
    "            self.withdraw()  # method of Withdrawl\n",
    "        \n",
    "        elif user_input==\"4\":\n",
    "            self.check_bmalance()  # method of balance check\n",
    "       \n",
    "        else:\n",
    "            print(\"bye\")\n",
    "\n",
    "\n",
    "    # pin create method\n",
    "    def create_pin(self):\n",
    "        self.__pin=input(\"Enter your pin\")\n",
    "        print(\"Pin Set Succcessfully\")\n",
    "\n",
    "   # deposit method     \n",
    "    def deposit(self):\n",
    "        temp=input(\"Enter your pin\")\n",
    "        if temp==self.__pin:\n",
    "            amount= int( input (\"Enter the amount\"))\n",
    "            self.__balance+=amount\n",
    "            print(\"Deposit Successful\")\n",
    "        else:\n",
    "            print(\"invalid Pin\")\n",
    "\n",
    "    # withdrawing method\n",
    "    def withdraw(self):\n",
    "\n",
    "        temp=input(\"Enter your pin\")\n",
    "        if temp==self.__pin:\n",
    "            amount=int(input(\"Enter the amount\"))\n",
    "            if amount<self.__balance:\n",
    "                self.__balance-=amount\n",
    "                print(\"Operation Successful\")\n",
    "            else:\n",
    "                print(\"insufficient Funds\")\n",
    "        else:\n",
    "            print(\"invalid pin\")\n",
    "\n",
    "    # balance check method\n",
    "    def check_balance(self):\n",
    "        temp=input(\"Enter your pin\")\n",
    "        if temp==self.__pin:\n",
    "            print(\"The balance is : \",self.__balance)\n",
    "        else:\n",
    "            print(\"Invalid Pin\")\n",
    "            \n",
    "### Execute this cell first\n"
   ]
  },
  {
   "cell_type": "code",
   "execution_count": 16,
   "id": "15f137e6-b4c5-49a9-a97d-d9e7cc591831",
   "metadata": {},
   "outputs": [
    {
     "data": {
      "text/plain": [
       "1"
      ]
     },
     "execution_count": 16,
     "metadata": {},
     "output_type": "execute_result"
    }
   ],
   "source": [
    "Atm.get_counter()"
   ]
  },
  {
   "cell_type": "code",
   "execution_count": 17,
   "id": "ac73c5eb-09c6-4a59-9a44-abe9e9685b3b",
   "metadata": {},
   "outputs": [],
   "source": [
    "Atm.set_counter(5)"
   ]
  },
  {
   "cell_type": "code",
   "execution_count": 18,
   "id": "f84e52ca-b83b-49c0-aca9-784c4b5e215e",
   "metadata": {},
   "outputs": [
    {
     "data": {
      "text/plain": [
       "5"
      ]
     },
     "execution_count": 18,
     "metadata": {},
     "output_type": "execute_result"
    }
   ],
   "source": [
    "Atm.get_counter()"
   ]
  },
  {
   "cell_type": "code",
   "execution_count": null,
   "id": "071a590b-50a3-4fb4-8133-75f8d3e93b53",
   "metadata": {},
   "outputs": [],
   "source": [
    "\n",
    "\n",
    "\n",
    "\n",
    "\n"
   ]
  },
  {
   "cell_type": "markdown",
   "id": "e0d0cf4e-b559-49ca-a653-1daeeb97a9ae",
   "metadata": {
    "jp-MarkdownHeadingCollapsed": true
   },
   "source": [
    "# RELATIONSHIP BETWEEN CLASSES :\n",
    "## Aggregation (Has-A) :\n",
    "\n",
    "### Customer -------- >>>>>> Address\n",
    "### Customer has-A Address\n",
    "\n",
    "\n",
    "## Inheritence (Is-A) :\n",
    "\n",
    "### Product -------- >>>>>>  Smartphone\n",
    "### Smartphone is-A Product\n",
    "\n"
   ]
  },
  {
   "cell_type": "markdown",
   "id": "b7e7cd85-6ba8-4282-a3cb-b7666f68715d",
   "metadata": {},
   "source": [
    "# AGGREGATION\n",
    "\n"
   ]
  },
  {
   "cell_type": "code",
   "execution_count": 77,
   "id": "f20295f6-6252-44cb-b304-eabe7b9d759a",
   "metadata": {},
   "outputs": [
    {
     "name": "stdout",
     "output_type": "stream",
     "text": [
      "<__main__.Address object at 0x000001F24639A7B0>\n"
     ]
    }
   ],
   "source": [
    "class Customer:\n",
    "    def __init__(self,name,gender,address):\n",
    "        self.name=name\n",
    "        self.gender=gender\n",
    "        self.address=address\n",
    "\n",
    "\n",
    "    def edit_profile(self,new_name,new_gender,new_city,new_pincode,new_state):\n",
    "        self.name=new_name\n",
    "        self.gender=new_gender\n",
    "        self.address.change_address(new_city,new_pincode,new_state)\n",
    "\n",
    "\n",
    "\n",
    "class Address :\n",
    "    def __init__(self,city,pincode,state):\n",
    "        self.city=city\n",
    "        self.pincode=pincode\n",
    "        self.state=state\n",
    "\n",
    "    def change_address(self,new_city,new_pincode,new_state):\n",
    "        self.city=new_city\n",
    "        self.pincode=new_pincode\n",
    "        self.state=new_state\n",
    "\n",
    "add=Address(\"Kota\",324005,\"Rajasthan\")\n",
    "cust=Customer(\"Kalpit\",\"male\",add)\n",
    "\n",
    "print(cust.address)\n",
    "        \n",
    "    "
   ]
  },
  {
   "cell_type": "code",
   "execution_count": 78,
   "id": "1ca37551-081f-4e8d-8d91-eda69f169100",
   "metadata": {},
   "outputs": [
    {
     "name": "stdout",
     "output_type": "stream",
     "text": [
      "Kota\n",
      "324005\n"
     ]
    }
   ],
   "source": [
    "print(cust.address.city)\n",
    "print(cust.address.pincode)"
   ]
  },
  {
   "cell_type": "code",
   "execution_count": 79,
   "id": "53631b78-0a1c-4068-a883-e1d05a58355a",
   "metadata": {},
   "outputs": [
    {
     "name": "stdout",
     "output_type": "stream",
     "text": [
      "<__main__.Address object at 0x000001F24639A7B0>\n"
     ]
    }
   ],
   "source": [
    "print(add)"
   ]
  },
  {
   "cell_type": "code",
   "execution_count": 80,
   "id": "b9836bb4-47b4-46bb-b502-7f41a5287f84",
   "metadata": {},
   "outputs": [
    {
     "name": "stdout",
     "output_type": "stream",
     "text": [
      "Kota\n"
     ]
    }
   ],
   "source": [
    "print(add.city)"
   ]
  },
  {
   "cell_type": "code",
   "execution_count": 81,
   "id": "54aac10f-cf7e-4cea-89e7-34e46c655fa5",
   "metadata": {},
   "outputs": [],
   "source": [
    "add.change_address(\"Surat\",326789,\"Gujarat\")"
   ]
  },
  {
   "cell_type": "code",
   "execution_count": 82,
   "id": "ec6a57be-b44e-4821-88cc-d717fee140b5",
   "metadata": {},
   "outputs": [
    {
     "name": "stdout",
     "output_type": "stream",
     "text": [
      "Surat\n",
      "326789\n"
     ]
    }
   ],
   "source": [
    "print(cust.address.city)\n",
    "print(cust.address.pincode)"
   ]
  },
  {
   "cell_type": "code",
   "execution_count": 83,
   "id": "a9cb3d62-226d-464f-8d78-827a3240fc86",
   "metadata": {},
   "outputs": [
    {
     "name": "stdout",
     "output_type": "stream",
     "text": [
      "<__main__.Address object at 0x000001F24639A7B0>\n"
     ]
    }
   ],
   "source": [
    "print(add)"
   ]
  },
  {
   "cell_type": "code",
   "execution_count": 84,
   "id": "59d8275e-6f62-430c-b2b3-1bb483665369",
   "metadata": {},
   "outputs": [
    {
     "name": "stdout",
     "output_type": "stream",
     "text": [
      "Surat\n"
     ]
    }
   ],
   "source": [
    "print(add.city)"
   ]
  },
  {
   "cell_type": "code",
   "execution_count": 86,
   "id": "dab1d863-a38c-46dc-8140-f635343b3514",
   "metadata": {},
   "outputs": [
    {
     "name": "stdout",
     "output_type": "stream",
     "text": [
      "122011\n"
     ]
    }
   ],
   "source": [
    "cust.edit_profile(\"Nawab\",\"Male\",\"Lucknow\",122011,\"UP\")\n",
    "print(cust.address.pincode)"
   ]
  },
  {
   "cell_type": "code",
   "execution_count": null,
   "id": "156d7982-0287-431e-995c-c9087526a726",
   "metadata": {},
   "outputs": [],
   "source": [
    "\n",
    "\n",
    "\n"
   ]
  },
  {
   "cell_type": "markdown",
   "id": "b3ebf4d0-ec0c-4712-aff2-d8b3f246c202",
   "metadata": {},
   "source": [
    "\n",
    "# INHERITENCE\n",
    "\n",
    "### Lets we have a USERS :\n",
    "- Student\n",
    "- Instructor\n",
    "\n",
    "### Whenever we create such things the Student and Instructor has:\n",
    "\n",
    "- Student :\n",
    "  - Login\n",
    "  - Register\n",
    "  - Enroll\n",
    "  - Renew Response\n",
    "\n",
    "- Instructor :\n",
    "  - Login\n",
    "  - Register\n",
    "  - Create Course\n",
    "  - Answer to Doubts\n",
    "\n",
    "### Here one thing you have to notice that Login and Register we have to create for both the class of Student and Instructor\n",
    "\n",
    "### To Solve this :\n",
    "#### D R Y : Don't Repeat Yourself\n",
    "\n",
    "### Make a CLASS USER : Having Login and Register :\n",
    "### And then Student and Instructor can Inherit the Data Members\n",
    "\n",
    "## This Concept of Code Reusability is nothing but a Inheritence.\n",
    "\n",
    "### Points to remember that Inheritence is done from bottom to top From Inherit Class to Base Class, Vice versa is not true.\n",
    "### Child Class to Parent Class\n",
    "\n",
    "## What things we can inherit from the Parent Class for the Child Class\n",
    "- #### DATA MEMBERS\n",
    "- #### METHODS\n",
    "- #### CONSTRUCTOR\n",
    "\n",
    "## What we cannot inherit :\n",
    "- #### PRIVATE MEMBERS AND METHODS\n",
    "\n",
    "\n"
   ]
  },
  {
   "cell_type": "code",
   "execution_count": 1,
   "id": "889743b9-ef44-49da-ac87-69a0fbce7ab0",
   "metadata": {},
   "outputs": [],
   "source": [
    "class User:\n",
    "    def login(self):\n",
    "        print(\"Login\")\n",
    "\n",
    "    def register (self):\n",
    "        print(\"Register\")\n",
    "\n",
    "class Student(User):\n",
    "    # This bracket tells Python that User is inherited by the Student Class\n",
    "    def enroll(self):\n",
    "        print(\"Enroll\")\n",
    "\n",
    "    def review(self):\n",
    "        print(\"Review\")\n",
    "\n",
    "\n",
    "\n",
    "    \n",
    "    \n",
    "    "
   ]
  },
  {
   "cell_type": "code",
   "execution_count": 2,
   "id": "420cf534-d3be-459c-a678-2dd51fdac9b1",
   "metadata": {},
   "outputs": [
    {
     "name": "stdout",
     "output_type": "stream",
     "text": [
      "Enroll\n",
      "Login\n",
      "Register\n",
      "Review\n"
     ]
    }
   ],
   "source": [
    "stu1=Student()\n",
    "stu1.enroll()\n",
    "stu1.login()\n",
    "stu1.register()\n",
    "stu1.review()"
   ]
  },
  {
   "cell_type": "markdown",
   "id": "6511cb2f-18f6-45cf-ad66-bdf4bc654eb4",
   "metadata": {},
   "source": [
    "### Here you can see that Student class is able to access all the public member functions and methods but reverse is not true."
   ]
  },
  {
   "cell_type": "code",
   "execution_count": 4,
   "id": "fa21537d-3e50-40f4-a493-743bc989ef85",
   "metadata": {},
   "outputs": [
    {
     "ename": "AttributeError",
     "evalue": "'User' object has no attribute 'enroll'",
     "output_type": "error",
     "traceback": [
      "\u001b[31m---------------------------------------------------------------------------\u001b[39m",
      "\u001b[31mAttributeError\u001b[39m                            Traceback (most recent call last)",
      "\u001b[36mCell\u001b[39m\u001b[36m \u001b[39m\u001b[32mIn[4]\u001b[39m\u001b[32m, line 3\u001b[39m\n\u001b[32m      1\u001b[39m \u001b[38;5;66;03m# using the User class the code crashes\u001b[39;00m\n\u001b[32m      2\u001b[39m u=User()\n\u001b[32m----> \u001b[39m\u001b[32m3\u001b[39m \u001b[43mu\u001b[49m\u001b[43m.\u001b[49m\u001b[43menroll\u001b[49m()\n\u001b[32m      4\u001b[39m u.review()\n\u001b[32m      5\u001b[39m u.login()\n",
      "\u001b[31mAttributeError\u001b[39m: 'User' object has no attribute 'enroll'"
     ]
    }
   ],
   "source": [
    "# using the User class the code crashes\n",
    "u=User()\n",
    "u.enroll()\n",
    "u.review()\n",
    "u.login()\n",
    "u.register()\n",
    "\n",
    "\n"
   ]
  },
  {
   "cell_type": "markdown",
   "id": "26f61066-2fc6-490c-98ac-adf30777225e",
   "metadata": {},
   "source": [
    "## Class Diagram Inheritence\n",
    "\n",
    "        User<|--------------------------------------------- Student\n",
    "        "
   ]
  },
  {
   "cell_type": "code",
   "execution_count": 13,
   "id": "e1272ddc-f33a-43ed-b39b-25e606bc324b",
   "metadata": {},
   "outputs": [
    {
     "name": "stdout",
     "output_type": "stream",
     "text": [
      "Inside phone Constructor\n"
     ]
    }
   ],
   "source": [
    "# EXAMPLE 1\n",
    "class Phone:\n",
    "    def __init__(self,price,brand,camera):\n",
    "        print(\"Inside phone Constructor\")\n",
    "        self.price=price\n",
    "        self.brand=brand\n",
    "        self.camera=camera\n",
    "\n",
    "class SmartPhone(Phone):\n",
    "    pass\n",
    "\n",
    "\n",
    "s=SmartPhone(20000,\"Apple\",13)\n",
    "\n",
    "# when the code executes it searches for the constructor in the child class but when it doesnot find any constructor in the child classs it goes for the Parent class\n"
   ]
  },
  {
   "cell_type": "markdown",
   "id": "0cd28f8e-b34d-41a6-8d8b-6c7581bb47a0",
   "metadata": {},
   "source": [
    "### Can The Inherited class can access the private members of the Parent Class or not ???"
   ]
  },
  {
   "cell_type": "code",
   "execution_count": 14,
   "id": "d8084fd7-63cb-4280-9da6-dba6922376ec",
   "metadata": {},
   "outputs": [
    {
     "name": "stdout",
     "output_type": "stream",
     "text": [
      "Inside phone Constructor\n"
     ]
    },
    {
     "ename": "AttributeError",
     "evalue": "'SmartPhone' object has no attribute '__brand'",
     "output_type": "error",
     "traceback": [
      "\u001b[31m---------------------------------------------------------------------------\u001b[39m",
      "\u001b[31mAttributeError\u001b[39m                            Traceback (most recent call last)",
      "\u001b[36mCell\u001b[39m\u001b[36m \u001b[39m\u001b[32mIn[14]\u001b[39m\u001b[32m, line 17\u001b[39m\n\u001b[32m     14\u001b[39m \u001b[38;5;66;03m# when the code executes it searches for the constructor in the child class but when it doesnot find any constructor in the child classs it goes for the Parent class\u001b[39;00m\n\u001b[32m     15\u001b[39m s.camera\n\u001b[32m---> \u001b[39m\u001b[32m17\u001b[39m \u001b[38;5;28mprint\u001b[39m(\u001b[43ms\u001b[49m\u001b[43m.\u001b[49m\u001b[43m__brand\u001b[49m)\n",
      "\u001b[31mAttributeError\u001b[39m: 'SmartPhone' object has no attribute '__brand'"
     ]
    }
   ],
   "source": [
    "class Phone:\n",
    "    def __init__(self,price,brand,camera):\n",
    "        print(\"Inside phone Constructor\")\n",
    "        self.price=price\n",
    "        self.__brand=brand # making it a private datatype\n",
    "        self.camera=camera\n",
    "\n",
    "class SmartPhone(Phone):\n",
    "    pass\n",
    "\n",
    "\n",
    "s=SmartPhone(20000,\"Apple\",13)\n",
    "\n",
    "# when the code executes it searches for the constructor in the child class but when it doesnot find any constructor in the child classs it goes for the Parent class\n",
    "s.camera\n",
    "\n",
    "print(s.__brand)\n"
   ]
  },
  {
   "cell_type": "markdown",
   "id": "735e54df-bd4b-4836-a341-44d091ab98e8",
   "metadata": {},
   "source": [
    "METHOD OVERRIDING : \n",
    "Object(Child) had the option to chose the Method of Parent Class but he chose the one which is his choice !!!\n",
    "Real World : Bache ka career wahi chose karega\n"
   ]
  },
  {
   "cell_type": "code",
   "execution_count": 19,
   "id": "c5ae8354-9a93-4ae2-a691-6fa571759f0d",
   "metadata": {},
   "outputs": [
    {
     "name": "stdout",
     "output_type": "stream",
     "text": [
      "Inside Phone Constructor\n",
      "Buying a smartphone\n"
     ]
    }
   ],
   "source": [
    "class Phone:\n",
    "    def __init__(self,price,brand,camera):\n",
    "        print(\"Inside Phone Constructor\")\n",
    "        self.__price=price\n",
    "        self.brand=brand\n",
    "        self.camera=camera\n",
    "\n",
    "    def buy(self):\n",
    "        print(\"Buying a phone\")\n",
    "class SmartPhone(Phone):\n",
    "    \n",
    "    def buy(self):\n",
    "        print(\"Buying a smartphone\")\n",
    "\n",
    "s=SmartPhone(20000,\"Apple\",13)\n",
    "\n",
    "s.buy()\n",
    "\n",
    "\n"
   ]
  },
  {
   "cell_type": "code",
   "execution_count": 24,
   "id": "a777ce7f-33fa-4ce8-bece-9a3949a86bf2",
   "metadata": {},
   "outputs": [],
   "source": [
    "# EXAMPLE 2\n",
    "class Parent:\n",
    "    def __init__(self,num):\n",
    "        self.__num=num\n",
    "\n",
    "    def get_num(self):\n",
    "        return  self.__num\n",
    "\n",
    "class Child(Parent):\n",
    "    def show(self):\n",
    "        print(\"This is child class\")\n",
    "\n",
    "        "
   ]
  },
  {
   "cell_type": "code",
   "execution_count": 25,
   "id": "0b00a943-9fb0-40e4-8d13-1ad552bc4bc5",
   "metadata": {},
   "outputs": [
    {
     "name": "stdout",
     "output_type": "stream",
     "text": [
      "100\n",
      "This is child class\n"
     ]
    }
   ],
   "source": [
    "son=Child(100)\n",
    "print(son.get_num())\n",
    "son.show()"
   ]
  },
  {
   "cell_type": "code",
   "execution_count": 27,
   "id": "4feb794e-cf2d-4cfb-a137-d06c50f4fc96",
   "metadata": {},
   "outputs": [],
   "source": [
    "# EXAMPLE 3\n",
    "class Parent :\n",
    "    def __init__(self,num):\n",
    "        self.__num=num\n",
    "    def get_num(self):\n",
    "        return self.__num\n",
    "\n",
    "class Child(Parent):\n",
    "    def __init__(self,val,num):\n",
    "        self.__val=val\n",
    "\n",
    "    def get_val(self):\n",
    "        return self.__val\n",
    "\n",
    "\n",
    "\n"
   ]
  },
  {
   "cell_type": "code",
   "execution_count": 29,
   "id": "3c9922f7-739f-42d0-9e26-c25f9c6185f8",
   "metadata": {},
   "outputs": [
    {
     "ename": "AttributeError",
     "evalue": "'Child' object has no attribute '_Parent__num'",
     "output_type": "error",
     "traceback": [
      "\u001b[31m---------------------------------------------------------------------------\u001b[39m",
      "\u001b[31mAttributeError\u001b[39m                            Traceback (most recent call last)",
      "\u001b[36mCell\u001b[39m\u001b[36m \u001b[39m\u001b[32mIn[29]\u001b[39m\u001b[32m, line 2\u001b[39m\n\u001b[32m      1\u001b[39m son=Child(\u001b[32m100\u001b[39m,\u001b[32m10\u001b[39m)\n\u001b[32m----> \u001b[39m\u001b[32m2\u001b[39m \u001b[38;5;28mprint\u001b[39m(\u001b[33m\"\u001b[39m\u001b[33mParent: Num:\u001b[39m\u001b[33m\"\u001b[39m,\u001b[43mson\u001b[49m\u001b[43m.\u001b[49m\u001b[43mget_num\u001b[49m\u001b[43m(\u001b[49m\u001b[43m)\u001b[49m)\n\u001b[32m      3\u001b[39m \u001b[38;5;28mprint\u001b[39m(\u001b[33m\"\u001b[39m\u001b[33mChild: Val:\u001b[39m\u001b[33m\"\u001b[39m,son.get_val())\n",
      "\u001b[36mCell\u001b[39m\u001b[36m \u001b[39m\u001b[32mIn[27]\u001b[39m\u001b[32m, line 6\u001b[39m, in \u001b[36mParent.get_num\u001b[39m\u001b[34m(self)\u001b[39m\n\u001b[32m      5\u001b[39m \u001b[38;5;28;01mdef\u001b[39;00m\u001b[38;5;250m \u001b[39m\u001b[34mget_num\u001b[39m(\u001b[38;5;28mself\u001b[39m):\n\u001b[32m----> \u001b[39m\u001b[32m6\u001b[39m     \u001b[38;5;28;01mreturn\u001b[39;00m \u001b[38;5;28;43mself\u001b[39;49m\u001b[43m.\u001b[49m\u001b[43m__num\u001b[49m\n",
      "\u001b[31mAttributeError\u001b[39m: 'Child' object has no attribute '_Parent__num'"
     ]
    }
   ],
   "source": [
    "son=Child(100,10)\n",
    "print(\"Parent: Num:\",son.get_num())\n",
    "print(\"Child: Val:\",son.get_val())"
   ]
  },
  {
   "cell_type": "markdown",
   "id": "04c19113-a979-4ae5-9b3b-b42b1f224261",
   "metadata": {},
   "source": [
    "Dekho yaha kya hua ki jab humne Child class kon pass kia 100 aur 10 toh wo respectively gaye \n",
    "Jab Child class ka constructor call ho gya toh Parent class Ka Constructor call nhi hoga \n",
    "toh parent class wale varibale kabhi bane hi nhi therfore no attribute error aayega\n",
    "\n",
    "### If Child Class doesnot have its own Constructor then Parent Constructor is automatically called upon.\n",
    "### If Child Class have its Constructor irrespective that Parent have or not then Child Class Constructor is called upon !!\n"
   ]
  },
  {
   "cell_type": "code",
   "execution_count": 30,
   "id": "20359d1d-0c67-4466-bc29-51e56d5c7d9f",
   "metadata": {},
   "outputs": [],
   "source": [
    "# EXAMPLE 4\n",
    "class A:\n",
    "    def __init__(self):\n",
    "        self.var1=100\n",
    "\n",
    "    def display1(self,var1):\n",
    "        print(\"class A :\",self.var1)\n",
    "\n",
    "class B(A):\n",
    "    def display2(self,var1):\n",
    "        print(\"class B :\",self.var1)\n"
   ]
  },
  {
   "cell_type": "code",
   "execution_count": 32,
   "id": "4f475abc-d2a4-4f99-979e-758ddcd35704",
   "metadata": {},
   "outputs": [
    {
     "name": "stdout",
     "output_type": "stream",
     "text": [
      "class A : 100\n"
     ]
    }
   ],
   "source": [
    "obj=B()\n",
    "obj.display1(200)"
   ]
  },
  {
   "cell_type": "markdown",
   "id": "70c71ee6-1b74-4c94-930a-9de44f5289c1",
   "metadata": {},
   "source": [
    "## SUPER KEYWORD :\n",
    "### whenever the super keyword is used we can invoke the Constructor or Method of Parent class\n",
    "### Super Keyword is used inside the class\n",
    "\n"
   ]
  },
  {
   "cell_type": "code",
   "execution_count": 35,
   "id": "8b8a6d2d-3005-4c5f-b466-32076f419f57",
   "metadata": {},
   "outputs": [],
   "source": [
    "# EXAMPLE 1\n",
    "\n",
    "class Phone:\n",
    "    def __init__(self,price,brand,camera):\n",
    "        print(\"Inside Phone Constructor\")\n",
    "        self.__price=price\n",
    "        self.brand=brand\n",
    "        self.camera=camera\n",
    "\n",
    "    def buy(self):\n",
    "        print(\"Buying a Phone\")\n",
    "\n",
    "class SmartPhone(Phone):\n",
    "\n",
    "    def buy(self):\n",
    "        print(\"Buying a smartphone\")\n",
    "        super().buy() ### SUPER KEYWWORD\n",
    "\n",
    "        "
   ]
  },
  {
   "cell_type": "code",
   "execution_count": 37,
   "id": "3f287e9a-dcc1-4375-b470-fc0116261c02",
   "metadata": {},
   "outputs": [
    {
     "name": "stdout",
     "output_type": "stream",
     "text": [
      "Inside Phone Constructor\n",
      "Buying a smartphone\n",
      "Buying a Phone\n"
     ]
    }
   ],
   "source": [
    "s=SmartPhone(20000,\"apple\",13)\n",
    "s.buy()"
   ]
  },
  {
   "cell_type": "code",
   "execution_count": 38,
   "id": "3151c09a-35fe-4e8c-9310-eda3aa1832ed",
   "metadata": {},
   "outputs": [],
   "source": [
    "\n",
    "# EXAMPLE 2\n",
    "class Phone:\n",
    "    def __init__(self,price,brand,camera):\n",
    "        print(\"Inside Phone Constructor\")\n",
    "        self.__price=price\n",
    "        self.brand=brand\n",
    "        self.camera=camera\n",
    "\n",
    "class SmartPhone(Phone):\n",
    "    def __init__(self,price,brand,camera,os,ram):\n",
    "        super().__init__(price,brand,camera)\n",
    "        self.os=os\n",
    "        self.ram=ram\n",
    "        print(\"Inside Smartphone Constructor\")\n",
    "        "
   ]
  },
  {
   "cell_type": "code",
   "execution_count": 39,
   "id": "b29f9438-86fc-425b-b6a3-be696f7a5dab",
   "metadata": {},
   "outputs": [
    {
     "name": "stdout",
     "output_type": "stream",
     "text": [
      "Inside Phone Constructor\n",
      "Inside Smartphone Constructor\n",
      "Android\n",
      "Samsung\n"
     ]
    }
   ],
   "source": [
    "s=SmartPhone(20000,\"Samsung\",12,\"Android\",2)\n",
    "\n",
    "print(s.os)\n",
    "print(s.brand)"
   ]
  },
  {
   "cell_type": "markdown",
   "id": "a116061b-21df-42c3-91bb-f516f1ac5d37",
   "metadata": {},
   "source": [
    "## Sabse pehele constructor call hua hoga SmartPhone kaa in which there are 5 things then it looked out for the method then in that it was explained that the 3 things Price,brand ,camera are related to the parent class\n",
    "## Then SUPER keyword plays in picture it invokes the constructor of the parent class so that it can access the 3 data members which are from the Phone class\n",
    "## Common things use attribute of parents and uncommon things use attribute of Child Class respectively"
   ]
  },
  {
   "cell_type": "code",
   "execution_count": 40,
   "id": "d0222b58-17a8-44fa-b9b8-0954c28f3a94",
   "metadata": {},
   "outputs": [],
   "source": [
    "# EXAMPLE 3\n",
    "class Parent:\n",
    "    def __init__(self,num):\n",
    "        self.__num=num\n",
    "\n",
    "    def get_num(self):\n",
    "        return self.__num\n",
    "\n",
    "class Child(Parent):\n",
    "\n",
    "    def __init__(self,num,val):\n",
    "        super().__init__(num)\n",
    "        self.__val=val\n",
    "\n",
    "    def get_val(self):\n",
    "        return self.__val\n",
    "\n",
    "        "
   ]
  },
  {
   "cell_type": "code",
   "execution_count": 41,
   "id": "f739714d-9046-4291-a95e-00731abb687c",
   "metadata": {},
   "outputs": [
    {
     "name": "stdout",
     "output_type": "stream",
     "text": [
      "100\n",
      "200\n"
     ]
    }
   ],
   "source": [
    "son=Child(100,200)\n",
    "print(son.get_num())\n",
    "print(son.get_val())"
   ]
  },
  {
   "cell_type": "code",
   "execution_count": 1,
   "id": "0722cd46-de01-411f-b016-57cdfe01e497",
   "metadata": {},
   "outputs": [],
   "source": [
    "# EXAMPLE 4\n",
    "class Parent:\n",
    "    def __init__(self):\n",
    "        self.__num=100\n",
    "\n",
    "    def show(self):\n",
    "        print(\"Parent\",self.__num)\n",
    "\n",
    "class Child(Parent):\n",
    "    def __init__(self):\n",
    "        super().__init__()\n",
    "        self.__var=10\n",
    "\n",
    "    def show(self):\n",
    "        print(\"Child\",self.__var)\n",
    "\n",
    "        \n",
    "\n",
    "    \n",
    "\n"
   ]
  },
  {
   "cell_type": "code",
   "execution_count": 2,
   "id": "6a5601cc-91e0-47fb-9459-be29456624f9",
   "metadata": {},
   "outputs": [
    {
     "name": "stdout",
     "output_type": "stream",
     "text": [
      "Parent 100\n",
      "Child 10\n"
     ]
    }
   ],
   "source": [
    "dad=Parent()\n",
    "dad.show()\n",
    "son=Child()\n",
    "son.show()"
   ]
  },
  {
   "cell_type": "markdown",
   "id": "62036f0f-6954-482d-a7e8-6b7529e9a4d4",
   "metadata": {},
   "source": [
    "\n",
    "\n",
    "\n"
   ]
  },
  {
   "cell_type": "markdown",
   "id": "19c22465-38d7-4872-8379-879a6fe2963d",
   "metadata": {},
   "source": [
    "## TYPES OF INHERITENCE :\n",
    "-  ### SINGLE LEVEL :\n",
    "      Parent <------ Child\n",
    "       E.g. = Phone and SmartPhone Already discussed above\n",
    "- ### MULTI LEVEL :\n",
    "      Dad<-----Papa<-----Child\n",
    "      Product ---- Phone ---- Smartphone\n",
    "- ### HIERARCHIAL :\n",
    "         |----------Father-----------|\n",
    "        Child 1                  Child 2\n",
    "  \n",
    "\n",
    "\n",
    "- ### MULTIPLE :\n",
    "\n",
    "        Father                  Mother\n",
    "         |---------Child-----------|\n",
    "\n",
    "- ### HYBRID : Combination of above any\n",
    "\n",
    "\n",
    "\n",
    "  \n",
    "        \n",
    "  \n",
    "  \n",
    "       \n"
   ]
  },
  {
   "cell_type": "code",
   "execution_count": 5,
   "id": "44c6f41f-6b55-4ffa-aa61-ee57df66d37e",
   "metadata": {},
   "outputs": [],
   "source": [
    "# MULTI LEVEL INHERITENCE\n",
    "\n",
    "\n",
    "class Product:\n",
    "    def review(self):\n",
    "        print(\"Product Customer Review\")\n",
    "\n",
    "class Phone(Product):\n",
    "    def __init__(self,price,brand,camera):\n",
    "        print(\"Inside phone constructor\")\n",
    "        self.__price=price\n",
    "        self.brand=brand\n",
    "        self.camera=camera\n",
    "\n",
    "    def buy(self):\n",
    "        print(\"buying a phone\")\n",
    "\n",
    "    def return_phone(self):\n",
    "        print(\"Returning a phone\")\n",
    "\n",
    "class SmartPhone(Phone):\n",
    "    pass\n",
    "\n"
   ]
  },
  {
   "cell_type": "code",
   "execution_count": 7,
   "id": "1b862bd6-2afa-4b24-83f2-18bbe42489e2",
   "metadata": {},
   "outputs": [
    {
     "name": "stdout",
     "output_type": "stream",
     "text": [
      "Inside phone constructor\n",
      "Inside phone constructor\n",
      "buying a phone\n",
      "Product Customer Review\n",
      "Product Customer Review\n"
     ]
    }
   ],
   "source": [
    "s=SmartPhone(2000.,\"Apple\",12)\n",
    "p=Phone(1000,\"samsung\",\"1MP\")\n",
    "\n",
    "s.buy()\n",
    "s.review()\n",
    "p.review()"
   ]
  },
  {
   "cell_type": "code",
   "execution_count": 8,
   "id": "1aa8c411-fbd2-4a1c-8ebb-b14f4e78dbe0",
   "metadata": {},
   "outputs": [],
   "source": [
    "# HIERARCHIAL INHERITENCE\n",
    "\n",
    "class Phone:\n",
    "    def __init__(self,price,brand,camera):\n",
    "        print(\"Inside phone constructor\")\n",
    "        self.__price=price\n",
    "        self.brand=brand\n",
    "        self.camera=camera\n",
    "\n",
    "    def buy(self):\n",
    "        print(\"buying a phone\")\n",
    "\n",
    "    def return_phone(self):\n",
    "        print(\"Returning a phone\")\n",
    "\n",
    "class SmartPhone(Phone):\n",
    "    pass\n",
    "\n",
    "class FeaturePhone(Phone):\n",
    "    pass\n",
    "\n",
    "    \n",
    "\n"
   ]
  },
  {
   "cell_type": "code",
   "execution_count": 10,
   "id": "673ca864-5fa9-46e7-9cb9-2663710bccdb",
   "metadata": {},
   "outputs": [
    {
     "name": "stdout",
     "output_type": "stream",
     "text": [
      "Inside phone constructor\n",
      "buying a phone\n",
      "Inside phone constructor\n",
      "buying a phone\n"
     ]
    }
   ],
   "source": [
    "SmartPhone(1000,\"Apple\",\"13px\").buy()\n",
    "FeaturePhone(2000,\"Samsung\",\"12px\").buy()"
   ]
  },
  {
   "cell_type": "code",
   "execution_count": 11,
   "id": "329ca3e2-ffcd-435b-afaa-cf40b063561a",
   "metadata": {},
   "outputs": [],
   "source": [
    "# MULTIPLE INHERITENCE\n",
    "\n",
    "class Phone:\n",
    "    def __init__(self,price,brand,camera):\n",
    "        print(\"Inside phone constructor\")\n",
    "        self.__price=price\n",
    "        self.brand=brand\n",
    "        self.camera=camera\n",
    "\n",
    "    def buy(self):\n",
    "        print(\"buying a phone\")\n",
    "\n",
    "class Product:\n",
    "    def review(self):\n",
    "        print(\"Product Customer Review\")\n",
    "\n",
    "class SmartPhone(Phone,Product):   ## Multiple Inheritence\n",
    "    pass\n",
    "    "
   ]
  },
  {
   "cell_type": "code",
   "execution_count": 12,
   "id": "0c1fd5c0-6b7e-4ce1-b4ad-2f2cf51c6a21",
   "metadata": {},
   "outputs": [
    {
     "name": "stdout",
     "output_type": "stream",
     "text": [
      "Inside phone constructor\n",
      "buying a phone\n",
      "Product Customer Review\n"
     ]
    }
   ],
   "source": [
    "s=SmartPhone(20000,\"Apple\",12)\n",
    "s.buy()\n",
    "s.review()"
   ]
  },
  {
   "cell_type": "markdown",
   "id": "34ed2f08-eba3-4cc9-a8c5-eb7a7e41c992",
   "metadata": {},
   "source": [
    "### CONFLICTS IN MULTIPLE INHERITENCE\n",
    "Lets def buy(self) \n",
    "\n",
    "must be in both Phone and Product class\n",
    "Then which should execute\n"
   ]
  },
  {
   "cell_type": "code",
   "execution_count": 15,
   "id": "c789372e-a765-47d8-b4d6-6efeba7e7dca",
   "metadata": {},
   "outputs": [],
   "source": [
    "# MULTIPLE INHERITENCE\n",
    "\n",
    "class Phone:\n",
    "    def __init__(self,price,brand,camera):\n",
    "        print(\"Inside phone constructor\")\n",
    "        self.__price=price\n",
    "        self.brand=brand\n",
    "        self.camera=camera\n",
    "\n",
    "    def buy(self):\n",
    "        print(\"buying a phone : Phone Class\")\n",
    "\n",
    "class Product:\n",
    "    def review(self):\n",
    "        print(\"Product Customer Review\")\n",
    "    def buy(self):\n",
    "         print(\"buying a phone : Product Class\")\n",
    "\n",
    "class SmartPhone(Phone,Product):   ## Multiple Inheritence\n",
    "    pass\n",
    "    "
   ]
  },
  {
   "cell_type": "code",
   "execution_count": 16,
   "id": "b467b60f-7679-4f91-a068-30a9f9523beb",
   "metadata": {},
   "outputs": [
    {
     "name": "stdout",
     "output_type": "stream",
     "text": [
      "Inside phone constructor\n",
      "buying a phone : Phone Class\n",
      "Product Customer Review\n"
     ]
    }
   ],
   "source": [
    "s=SmartPhone(20000,\"Apple\",12)\n",
    "s.buy()\n",
    "s.review()"
   ]
  },
  {
   "cell_type": "markdown",
   "id": "f9c01105-db09-406b-8e8b-0ad17281577f",
   "metadata": {},
   "source": [
    "So here the def buy() was executed from the Phone Class\n",
    "#### WHY ?? \n",
    "The one class whose name is first will be used as in case of same method from the both classes\n",
    "(Phone,Product)\n",
    "    |\n",
    "    |\n",
    "    |\n",
    "Executed from Phone Class\n"
   ]
  },
  {
   "cell_type": "code",
   "execution_count": 17,
   "id": "1cc32b49-e075-47ec-9d0d-63ccafd13462",
   "metadata": {},
   "outputs": [],
   "source": [
    "# NEW EXAMPLE \n",
    "# MULTI LEVEL INHERITENCE\n",
    "class A:\n",
    "    def m1(self):\n",
    "        return 20\n",
    "class B(A):\n",
    "    def m1(self):\n",
    "        return 30\n",
    "    def m2(self):\n",
    "        return 40\n",
    "class C(B):\n",
    "    def m2(self):\n",
    "        return 20\n"
   ]
  },
  {
   "cell_type": "code",
   "execution_count": 18,
   "id": "7dea1c06-e631-4885-91c0-b3af98bfec1c",
   "metadata": {},
   "outputs": [
    {
     "name": "stdout",
     "output_type": "stream",
     "text": [
      "70\n"
     ]
    }
   ],
   "source": [
    "obj1=A()\n",
    "obj2=B()\n",
    "obj3=C()\n",
    "print(obj1.m1()+obj3.m1()+obj3.m2())\n",
    "\n",
    "# here actually sab apne apne  honge agar h toh nhi toh just ek upar level wala execute hoga\n",
    "# like here we can see that obj3.m1 has no m1 so it access it from B Class"
   ]
  },
  {
   "cell_type": "code",
   "execution_count": 22,
   "id": "51cd349e-8776-49cf-9edd-6cef22e41bac",
   "metadata": {},
   "outputs": [],
   "source": [
    "## NEW EXAMPLE\n",
    "## MULTI LEVEL\n",
    "\n",
    "class A:\n",
    "    def m1(self):\n",
    "        return 20\n",
    "\n",
    "class B(A):\n",
    "    def m1 (self):\n",
    "        val=super().m1()+30\n",
    "        return val\n",
    "\n",
    "class C(B):\n",
    "    def m1(self):\n",
    "        val=self.m1()+20\n",
    "        return val"
   ]
  },
  {
   "cell_type": "code",
   "execution_count": 23,
   "id": "e524acb7-bbcd-4fe1-8f84-a654eaf02f72",
   "metadata": {},
   "outputs": [
    {
     "ename": "RecursionError",
     "evalue": "maximum recursion depth exceeded",
     "output_type": "error",
     "traceback": [
      "\u001b[31m---------------------------------------------------------------------------\u001b[39m",
      "\u001b[31mRecursionError\u001b[39m                            Traceback (most recent call last)",
      "\u001b[36mCell\u001b[39m\u001b[36m \u001b[39m\u001b[32mIn[23]\u001b[39m\u001b[32m, line 2\u001b[39m\n\u001b[32m      1\u001b[39m obj=C()\n\u001b[32m----> \u001b[39m\u001b[32m2\u001b[39m \u001b[38;5;28mprint\u001b[39m(\u001b[43mobj\u001b[49m\u001b[43m.\u001b[49m\u001b[43mm1\u001b[49m\u001b[43m(\u001b[49m\u001b[43m)\u001b[49m)\n",
      "\u001b[36mCell\u001b[39m\u001b[36m \u001b[39m\u001b[32mIn[22]\u001b[39m\u001b[32m, line 15\u001b[39m, in \u001b[36mC.m1\u001b[39m\u001b[34m(self)\u001b[39m\n\u001b[32m     14\u001b[39m \u001b[38;5;28;01mdef\u001b[39;00m\u001b[38;5;250m \u001b[39m\u001b[34mm1\u001b[39m(\u001b[38;5;28mself\u001b[39m):\n\u001b[32m---> \u001b[39m\u001b[32m15\u001b[39m     val=\u001b[38;5;28;43mself\u001b[39;49m\u001b[43m.\u001b[49m\u001b[43mm1\u001b[49m\u001b[43m(\u001b[49m\u001b[43m)\u001b[49m+\u001b[32m20\u001b[39m\n\u001b[32m     16\u001b[39m     \u001b[38;5;28;01mreturn\u001b[39;00m val\n",
      "\u001b[36mCell\u001b[39m\u001b[36m \u001b[39m\u001b[32mIn[22]\u001b[39m\u001b[32m, line 15\u001b[39m, in \u001b[36mC.m1\u001b[39m\u001b[34m(self)\u001b[39m\n\u001b[32m     14\u001b[39m \u001b[38;5;28;01mdef\u001b[39;00m\u001b[38;5;250m \u001b[39m\u001b[34mm1\u001b[39m(\u001b[38;5;28mself\u001b[39m):\n\u001b[32m---> \u001b[39m\u001b[32m15\u001b[39m     val=\u001b[38;5;28;43mself\u001b[39;49m\u001b[43m.\u001b[49m\u001b[43mm1\u001b[49m\u001b[43m(\u001b[49m\u001b[43m)\u001b[49m+\u001b[32m20\u001b[39m\n\u001b[32m     16\u001b[39m     \u001b[38;5;28;01mreturn\u001b[39;00m val\n",
      "    \u001b[31m[... skipping similar frames: C.m1 at line 15 (2974 times)]\u001b[39m\n",
      "\u001b[36mCell\u001b[39m\u001b[36m \u001b[39m\u001b[32mIn[22]\u001b[39m\u001b[32m, line 15\u001b[39m, in \u001b[36mC.m1\u001b[39m\u001b[34m(self)\u001b[39m\n\u001b[32m     14\u001b[39m \u001b[38;5;28;01mdef\u001b[39;00m\u001b[38;5;250m \u001b[39m\u001b[34mm1\u001b[39m(\u001b[38;5;28mself\u001b[39m):\n\u001b[32m---> \u001b[39m\u001b[32m15\u001b[39m     val=\u001b[38;5;28;43mself\u001b[39;49m\u001b[43m.\u001b[49m\u001b[43mm1\u001b[49m\u001b[43m(\u001b[49m\u001b[43m)\u001b[49m+\u001b[32m20\u001b[39m\n\u001b[32m     16\u001b[39m     \u001b[38;5;28;01mreturn\u001b[39;00m val\n",
      "\u001b[31mRecursionError\u001b[39m: maximum recursion depth exceeded"
     ]
    }
   ],
   "source": [
    "obj=C()\n",
    "print(obj.m1())"
   ]
  },
  {
   "cell_type": "markdown",
   "id": "869fdbac-2c78-4d0b-938a-30b71cd06e39",
   "metadata": {},
   "source": [
    "### Whaat actually happened here :\n",
    "### SELF KYA HAI 😎😎😎\n",
    "#### Here the self is obj as you know so it is calling itself many times and due to the recursive limit in the memory it breaks"
   ]
  },
  {
   "cell_type": "markdown",
   "id": "b74bce33-9319-4f95-bfd8-6a83563b5f80",
   "metadata": {},
   "source": [
    "\n",
    "\n",
    "\n",
    "\n",
    "\n"
   ]
  },
  {
   "cell_type": "markdown",
   "id": "32f1e70e-6284-4e82-b77b-d86f80d3748f",
   "metadata": {},
   "source": [
    "# POLYMORPHISM :\n",
    "## Method Overriding ( Super Keyword / Child Constructor )\n",
    "## Method Overloading \n",
    "## Operator Overloading\n"
   ]
  },
  {
   "cell_type": "code",
   "execution_count": 24,
   "id": "0a482c49-d98f-4a3a-96d7-6d5a59e254fa",
   "metadata": {},
   "outputs": [],
   "source": [
    "class Geometry:\n",
    "    def area(self,radius):\n",
    "        return 3.14*radius*radius\n",
    "    def area(self,length,breadth):\n",
    "        return length*breadth\n",
    "\n",
    "\n",
    "\n"
   ]
  },
  {
   "cell_type": "code",
   "execution_count": 27,
   "id": "3206eca3-3144-4a94-a869-7ea53d7dab01",
   "metadata": {},
   "outputs": [
    {
     "ename": "TypeError",
     "evalue": "Geometry.area() missing 1 required positional argument: 'breadth'",
     "output_type": "error",
     "traceback": [
      "\u001b[31m---------------------------------------------------------------------------\u001b[39m",
      "\u001b[31mTypeError\u001b[39m                                 Traceback (most recent call last)",
      "\u001b[36mCell\u001b[39m\u001b[36m \u001b[39m\u001b[32mIn[27]\u001b[39m\u001b[32m, line 2\u001b[39m\n\u001b[32m      1\u001b[39m obj=Geometry()\n\u001b[32m----> \u001b[39m\u001b[32m2\u001b[39m \u001b[38;5;28mprint\u001b[39m(\u001b[43mobj\u001b[49m\u001b[43m.\u001b[49m\u001b[43marea\u001b[49m\u001b[43m(\u001b[49m\u001b[32;43m7\u001b[39;49m\u001b[43m)\u001b[49m)\n",
      "\u001b[31mTypeError\u001b[39m: Geometry.area() missing 1 required positional argument: 'breadth'"
     ]
    }
   ],
   "source": [
    "obj=Geometry()\n",
    "print(obj.area(7))"
   ]
  },
  {
   "cell_type": "markdown",
   "id": "b3118a5f-a9c2-4d07-94c6-d2c42700efc0",
   "metadata": {},
   "source": [
    "Actually in Python Method Overloading doesnot work but we can do it smartly by giving 2 varibles and setting the one variable to = 0 unless any input is given"
   ]
  },
  {
   "cell_type": "code",
   "execution_count": 28,
   "id": "5f4379a7-2a5a-4ae8-8316-87e88d465dbd",
   "metadata": {},
   "outputs": [],
   "source": [
    "# Method Overloading\n",
    "\n",
    "class Geometry:\n",
    "    def area(self,l,b=0):\n",
    "        if b==0:\n",
    "            print(\"Circle : \",3.14*l*l)\n",
    "        else:\n",
    "            print(\"Rect : \",l*b)\n",
    "\n",
    "\n"
   ]
  },
  {
   "cell_type": "code",
   "execution_count": 31,
   "id": "f53c810b-0c09-44e6-bab5-8072fa4a0ebc",
   "metadata": {},
   "outputs": [
    {
     "name": "stdout",
     "output_type": "stream",
     "text": [
      "Circle :  153.86\n",
      "Rect :  20\n"
     ]
    }
   ],
   "source": [
    "obj=Geometry()\n",
    "obj.area(7)\n",
    "obj.area(4,5)"
   ]
  },
  {
   "cell_type": "code",
   "execution_count": 41,
   "id": "c64bc077-b1b8-4bf5-ada3-bb81e975d9fe",
   "metadata": {},
   "outputs": [
    {
     "name": "stdout",
     "output_type": "stream",
     "text": [
      "31/20\n",
      "10.1\n"
     ]
    }
   ],
   "source": [
    "# Operator Overloading\n",
    "# Execute the Fraction class located On the top of this notebook\n",
    "\n",
    "# Then\n",
    "\n",
    "\"Hello\"+\"world\" # here + Concatenates two strings\n",
    "\n",
    "x=Fraction(3,4)\n",
    "y=Fraction(4,5)\n",
    "print(x+y) # operator overloading using magic methods\n",
    "print(4.5+5.6)  # here it is float addition\n",
    "\n",
    "\n"
   ]
  },
  {
   "cell_type": "markdown",
   "id": "debccc0f-e490-4913-9653-a2cf736e6149",
   "metadata": {},
   "source": [
    "\n",
    "\n",
    "# OOPS COMPLETED\n"
   ]
  }
 ],
 "metadata": {
  "kernelspec": {
   "display_name": "Python 3 (ipykernel)",
   "language": "python",
   "name": "python3"
  },
  "language_info": {
   "codemirror_mode": {
    "name": "ipython",
    "version": 3
   },
   "file_extension": ".py",
   "mimetype": "text/x-python",
   "name": "python",
   "nbconvert_exporter": "python",
   "pygments_lexer": "ipython3",
   "version": "3.13.7"
  }
 },
 "nbformat": 4,
 "nbformat_minor": 5
}
