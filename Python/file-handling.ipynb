{
 "cells": [
  {
   "cell_type": "markdown",
   "id": "3f806156-7c5b-4b61-b868-64cbd79220b4",
   "metadata": {},
   "source": [
    "# FILE HANDLING IN PYTHON\n",
    "## There are two types of file in Python : Binary and Text \n",
    "## Anything which is not text is binary\n",
    "\n",
    "## What is File Handling\n",
    "# CRUD :\n",
    "## Creating Reading Updating Deletion\n"
   ]
  },
  {
   "cell_type": "markdown",
   "id": "83fe87e4-7791-499a-b812-f0da8193f8f6",
   "metadata": {},
   "source": [
    "## File Handling System\n",
    "- ### Create\n",
    "- ### Open File\n",
    "- ### WORK\n",
    "- ### Close File\n",
    "- "
   ]
  },
  {
   "cell_type": "markdown",
   "id": "cf74a67e-6167-4f84-b21f-300a88d969ca",
   "metadata": {},
   "source": [
    "## OPEN :\n",
    "### open(filename.extn, mode)\n",
    "#### open(\"filename.txt\") or open(\"filename.txt\",\"r\")\n",
    "## mode : RAWX\n",
    "- ### Read : Default Value : Opens a file for reading, error if the file doesnot exist\n",
    "- The default mode is the read mode.\n",
    "- ### Append : Opens a file for appending, creates the file if it doesnot exist\n",
    "- ### Write : Opens a flie for writing, creates the file if it doesnot exist\n",
    "- ### Create : Create the specified file, returns an error if the file exists.\n",
    "\n",
    "## In addtion you can specify if the file should be handled as binary or text mode:\n",
    "### t - Text - Default Value. Text Mode\n",
    "### b - Binary - Binary Mode (e.g. images)"
   ]
  },
  {
   "cell_type": "markdown",
   "id": "66604c03-6e1b-4c17-87b2-d4cd06a957b9",
   "metadata": {},
   "source": [
    "## READ\n",
    "### All characters and some Characters\n",
    "\n"
   ]
  },
  {
   "cell_type": "code",
   "execution_count": 6,
   "id": "c7ac12ed-594a-4c80-a49c-f5d72e30e7c4",
   "metadata": {},
   "outputs": [
    {
     "name": "stdout",
     "output_type": "stream",
     "text": [
      "Rakesh is a animal\n"
     ]
    }
   ],
   "source": [
    "file=open(\"testfile.text\",\"r\")\n",
    "print (file.read())"
   ]
  },
  {
   "cell_type": "code",
   "execution_count": 9,
   "id": "19b492c6-e3a9-4287-85fb-6ce770eb366a",
   "metadata": {},
   "outputs": [
    {
     "name": "stdout",
     "output_type": "stream",
     "text": [
      "Rakes\n"
     ]
    }
   ],
   "source": [
    "file=open(\"testfile.text\",\"r\")\n",
    "print (file.read(5))\n",
    "# this will read only first 5 characters\n"
   ]
  },
  {
   "cell_type": "code",
   "execution_count": 1,
   "id": "35efec21-73c5-442e-afb6-16941d0f3a0a",
   "metadata": {},
   "outputs": [
    {
     "name": "stdout",
     "output_type": "stream",
     "text": [
      "Hello Python\n"
     ]
    }
   ],
   "source": [
    "# by using path\n",
    "file=open(\"C:/Users/Asus/Desktop/Python/filetest.txt\",\"r\")\n",
    "print(file.read())"
   ]
  },
  {
   "cell_type": "code",
   "execution_count": 6,
   "id": "d2384991-1ed2-4f84-b364-8200f99bc857",
   "metadata": {},
   "outputs": [
    {
     "name": "stdout",
     "output_type": "stream",
     "text": [
      "Rakesh is a animal\n"
     ]
    }
   ],
   "source": [
    " #by using path\n",
    "file=open(\"D:/JBooks/Python Basics/testfile.text\")\n",
    "print(file.read())"
   ]
  },
  {
   "cell_type": "markdown",
   "id": "a61878b0-7106-47c4-a594-4a602eacb898",
   "metadata": {},
   "source": [
    "###  READ LINES COMMANDS\n",
    "\n",
    "#### print file.readline() ----- >> Line by Line Output\n",
    "#### print file.readline(3) ------>>> Read Third Line Only\n",
    "#### print file.readlines() ------->> Read Lines seperately\n"
   ]
  },
  {
   "cell_type": "code",
   "execution_count": 70,
   "id": "bfd7b6ef-3ba9-43af-bb2d-9ae26a6ad18a",
   "metadata": {},
   "outputs": [
    {
     "name": "stdout",
     "output_type": "stream",
     "text": [
      "I am Kalpit !\n",
      "\n"
     ]
    }
   ],
   "source": [
    "# TESTFILE2.txt\n",
    "file=open(\"testfile2.txt\",\"r\")\n",
    "print (file.readline())\n"
   ]
  },
  {
   "cell_type": "code",
   "execution_count": 64,
   "id": "1027ae90-b9ab-49b6-ab9b-b0db9c2431e0",
   "metadata": {},
   "outputs": [
    {
     "name": "stdout",
     "output_type": "stream",
     "text": [
      "['Hello WorlD!\\n', 'We love Python \\n', 'Baat nhi krni usse ab !\\n']\n"
     ]
    }
   ],
   "source": [
    "print (file.readlines())"
   ]
  },
  {
   "cell_type": "code",
   "execution_count": 72,
   "id": "8b42e05c-bba6-4eb0-b85b-2c77b4d4d46d",
   "metadata": {},
   "outputs": [
    {
     "data": {
      "text/plain": [
       "'lo '"
      ]
     },
     "execution_count": 72,
     "metadata": {},
     "output_type": "execute_result"
    }
   ],
   "source": [
    "file.readline(3)"
   ]
  },
  {
   "cell_type": "code",
   "execution_count": 87,
   "id": "1744c106-b3db-41b2-a915-9b55e161d81d",
   "metadata": {},
   "outputs": [
    {
     "name": "stdout",
     "output_type": "stream",
     "text": [
      "Hello World\n",
      "\n",
      "Baat nhi krni usse ab \n",
      "\n"
     ]
    }
   ],
   "source": [
    "# LOOP OVER METHOD\n",
    "file=open(\"testfile2.txt\",\"r\")\n",
    "for line in file:\n",
    "    print (file.readline())\n",
    "    "
   ]
  },
  {
   "cell_type": "markdown",
   "id": "30443fb5-e065-44a8-8793-113dee7f5a0e",
   "metadata": {},
   "source": [
    "## WRITE IN FILE\n",
    "### \"append\" : will append to the end of the file \n",
    "#### file=open(\"filename.txt\",\"a\")\n",
    "#### f.write(\"We love Education\")\n",
    "\n",
    "### \"write\" : will overwrite any existing content\n",
    "#### file=open(\"filename.txt\",\"w\")\n",
    "#### f.write(\"We love Education\")\n",
    "\n",
    "\n",
    "#### "
   ]
  },
  {
   "cell_type": "code",
   "execution_count": 140,
   "id": "030f77db-0415-4bc7-ba68-08e8704a7efa",
   "metadata": {},
   "outputs": [
    {
     "data": {
      "text/plain": [
       "23"
      ]
     },
     "execution_count": 140,
     "metadata": {},
     "output_type": "execute_result"
    }
   ],
   "source": [
    "file=open(\"testfile3.txt\",\"w\")\n",
    "file.write(\"My name is Kalpit Nagar\")\n",
    "\n"
   ]
  },
  {
   "cell_type": "code",
   "execution_count": 141,
   "id": "7fa212b0-a297-4d83-aba4-29addc0b367e",
   "metadata": {},
   "outputs": [
    {
     "data": {
      "text/plain": [
       "'My name is Kalpit Nagar'"
      ]
     },
     "execution_count": 141,
     "metadata": {},
     "output_type": "execute_result"
    }
   ],
   "source": [
    "file=open(\"testfile3.txt\",\"r\")\n",
    "file.read()"
   ]
  },
  {
   "cell_type": "code",
   "execution_count": 142,
   "id": "38192f49-4a7d-4cc9-bf86-beee40120937",
   "metadata": {},
   "outputs": [
    {
     "data": {
      "text/plain": [
       "16"
      ]
     },
     "execution_count": 142,
     "metadata": {},
     "output_type": "execute_result"
    }
   ],
   "source": [
    "file=open(\"testfile3.txt\",\"w\")\n",
    "file.write(\"OOPS Overwritten\")"
   ]
  },
  {
   "cell_type": "code",
   "execution_count": 143,
   "id": "270edf0f-6213-483f-a893-25bb3bf3021d",
   "metadata": {},
   "outputs": [
    {
     "data": {
      "text/plain": [
       "'OOPS Overwritten'"
      ]
     },
     "execution_count": 143,
     "metadata": {},
     "output_type": "execute_result"
    }
   ],
   "source": [
    "file=open(\"testfile3.txt\",\"r\")\n",
    "file.read()"
   ]
  },
  {
   "cell_type": "code",
   "execution_count": 144,
   "id": "03417738-b171-4cc3-be6b-3581e78db9ca",
   "metadata": {},
   "outputs": [
    {
     "data": {
      "text/plain": [
       "4"
      ]
     },
     "execution_count": 144,
     "metadata": {},
     "output_type": "execute_result"
    }
   ],
   "source": [
    "file=open(\"testfile.3.txt\",\"a\")\n",
    "file.write(\"yaar\")"
   ]
  },
  {
   "cell_type": "code",
   "execution_count": 145,
   "id": "7eeb1492-4d17-454a-a936-2de8fcd588ec",
   "metadata": {},
   "outputs": [
    {
     "data": {
      "text/plain": [
       "'OOPS Overwritten'"
      ]
     },
     "execution_count": 145,
     "metadata": {},
     "output_type": "execute_result"
    }
   ],
   "source": [
    "\n",
    "file=open(\"testfile3.txt\",\"r\")\n",
    "file.readline()"
   ]
  },
  {
   "cell_type": "markdown",
   "id": "76dc769d-a246-4a50-8e7e-a08e8489a1bf",
   "metadata": {},
   "source": [
    "## CREATE A NEW FILE\n",
    "### \"x\" - Create - Will Create a file, returns an error if file exist\n",
    "### \"a\" - Append - Will Create a file, if the specified file doesnot exist\n",
    "### \"w\" - Write - Create a File if the specified file doesnot exist\n"
   ]
  },
  {
   "cell_type": "code",
   "execution_count": 147,
   "id": "190e7863-98e1-4cc5-8879-030484403dd3",
   "metadata": {},
   "outputs": [
    {
     "ename": "FileExistsError",
     "evalue": "[Errno 17] File exists: 'Newfile.txt'",
     "output_type": "error",
     "traceback": [
      "\u001b[31m---------------------------------------------------------------------------\u001b[39m",
      "\u001b[31mFileExistsError\u001b[39m                           Traceback (most recent call last)",
      "\u001b[36mCell\u001b[39m\u001b[36m \u001b[39m\u001b[32mIn[147]\u001b[39m\u001b[32m, line 1\u001b[39m\n\u001b[32m----> \u001b[39m\u001b[32m1\u001b[39m file=\u001b[38;5;28;43mopen\u001b[39;49m\u001b[43m(\u001b[49m\u001b[33;43m\"\u001b[39;49m\u001b[33;43mNewfile.txt\u001b[39;49m\u001b[33;43m\"\u001b[39;49m\u001b[43m,\u001b[49m\u001b[33;43m\"\u001b[39;49m\u001b[33;43mx\u001b[39;49m\u001b[33;43m\"\u001b[39;49m\u001b[43m)\u001b[49m\n",
      "\u001b[36mFile \u001b[39m\u001b[32m~\\AppData\\Local\\Programs\\Python\\Python313\\Lib\\site-packages\\IPython\\core\\interactiveshell.py:326\u001b[39m, in \u001b[36m_modified_open\u001b[39m\u001b[34m(file, *args, **kwargs)\u001b[39m\n\u001b[32m    319\u001b[39m \u001b[38;5;28;01mif\u001b[39;00m file \u001b[38;5;129;01min\u001b[39;00m {\u001b[32m0\u001b[39m, \u001b[32m1\u001b[39m, \u001b[32m2\u001b[39m}:\n\u001b[32m    320\u001b[39m     \u001b[38;5;28;01mraise\u001b[39;00m \u001b[38;5;167;01mValueError\u001b[39;00m(\n\u001b[32m    321\u001b[39m         \u001b[33mf\u001b[39m\u001b[33m\"\u001b[39m\u001b[33mIPython won\u001b[39m\u001b[33m'\u001b[39m\u001b[33mt let you open fd=\u001b[39m\u001b[38;5;132;01m{\u001b[39;00mfile\u001b[38;5;132;01m}\u001b[39;00m\u001b[33m by default \u001b[39m\u001b[33m\"\u001b[39m\n\u001b[32m    322\u001b[39m         \u001b[33m\"\u001b[39m\u001b[33mas it is likely to crash IPython. If you know what you are doing, \u001b[39m\u001b[33m\"\u001b[39m\n\u001b[32m    323\u001b[39m         \u001b[33m\"\u001b[39m\u001b[33myou can use builtins\u001b[39m\u001b[33m'\u001b[39m\u001b[33m open.\u001b[39m\u001b[33m\"\u001b[39m\n\u001b[32m    324\u001b[39m     )\n\u001b[32m--> \u001b[39m\u001b[32m326\u001b[39m \u001b[38;5;28;01mreturn\u001b[39;00m \u001b[43mio_open\u001b[49m\u001b[43m(\u001b[49m\u001b[43mfile\u001b[49m\u001b[43m,\u001b[49m\u001b[43m \u001b[49m\u001b[43m*\u001b[49m\u001b[43margs\u001b[49m\u001b[43m,\u001b[49m\u001b[43m \u001b[49m\u001b[43m*\u001b[49m\u001b[43m*\u001b[49m\u001b[43mkwargs\u001b[49m\u001b[43m)\u001b[49m\n",
      "\u001b[31mFileExistsError\u001b[39m: [Errno 17] File exists: 'Newfile.txt'"
     ]
    }
   ],
   "source": [
    "file=open(\"Newfile.txt\",\"x\")"
   ]
  },
  {
   "cell_type": "code",
   "execution_count": 148,
   "id": "2c2ddcc1-f8aa-45a2-95dc-07d7199fd154",
   "metadata": {},
   "outputs": [],
   "source": [
    "file=open(\"NewFile2.txt\",\"w\")"
   ]
  },
  {
   "cell_type": "code",
   "execution_count": 149,
   "id": "ff7e0b01-8592-411d-9436-3e5a577de7f0",
   "metadata": {},
   "outputs": [],
   "source": [
    "file=open(\"NewFile3.txt\",\"a\")"
   ]
  },
  {
   "cell_type": "code",
   "execution_count": 154,
   "id": "06d64ff9-3945-4fbc-b6ec-5e3b3874df23",
   "metadata": {},
   "outputs": [
    {
     "data": {
      "text/plain": [
       "6"
      ]
     },
     "execution_count": 154,
     "metadata": {},
     "output_type": "execute_result"
    }
   ],
   "source": [
    "file=open(\"NewFile3.txt\",\"w\")\n",
    "file.write(\"Rakesh\")\n"
   ]
  },
  {
   "cell_type": "code",
   "execution_count": 159,
   "id": "0d9731c4-28ac-4d84-88a3-bc948496959e",
   "metadata": {},
   "outputs": [],
   "source": [
    "file=open(\"NewFile3.txt\",\"r\")\n",
    "file.read()\n",
    "file.close()"
   ]
  },
  {
   "cell_type": "markdown",
   "id": "8e256f08-2c9b-4023-af12-c3cb0e0e5637",
   "metadata": {},
   "source": [
    "## DELETING A FILE\n",
    "### deleting file and folders\n",
    "### First of all check whether the file folder exists or not !!!\n",
    "\n"
   ]
  },
  {
   "cell_type": "code",
   "execution_count": 181,
   "id": "92b5d6be-4e51-4b98-a542-0ccdbabb6e7d",
   "metadata": {},
   "outputs": [
    {
     "ename": "FileNotFoundError",
     "evalue": "[WinError 2] The system cannot find the file specified: 'D:/JBooks/Python Basics/NewFile3.txt'",
     "output_type": "error",
     "traceback": [
      "\u001b[31m---------------------------------------------------------------------------\u001b[39m",
      "\u001b[31mFileNotFoundError\u001b[39m                         Traceback (most recent call last)",
      "\u001b[36mCell\u001b[39m\u001b[36m \u001b[39m\u001b[32mIn[181]\u001b[39m\u001b[32m, line 2\u001b[39m\n\u001b[32m      1\u001b[39m \u001b[38;5;28;01mimport\u001b[39;00m\u001b[38;5;250m \u001b[39m\u001b[34;01mos\u001b[39;00m\n\u001b[32m----> \u001b[39m\u001b[32m2\u001b[39m \u001b[43mos\u001b[49m\u001b[43m.\u001b[49m\u001b[43mremove\u001b[49m\u001b[43m(\u001b[49m\u001b[33;43m\"\u001b[39;49m\u001b[33;43mD:/JBooks/Python Basics/NewFile3.txt\u001b[39;49m\u001b[33;43m\"\u001b[39;49m\u001b[43m)\u001b[49m\n",
      "\u001b[31mFileNotFoundError\u001b[39m: [WinError 2] The system cannot find the file specified: 'D:/JBooks/Python Basics/NewFile3.txt'"
     ]
    }
   ],
   "source": [
    "import os\n",
    "os.remove(\"D:/JBooks/Python Basics/NewFile3.txt\")"
   ]
  },
  {
   "cell_type": "code",
   "execution_count": 182,
   "id": "e908a929-cacd-46f0-88d6-f7f62336239c",
   "metadata": {},
   "outputs": [],
   "source": [
    "import os \n",
    "os.remove(\"NewFile2.txt\")"
   ]
  },
  {
   "cell_type": "code",
   "execution_count": 183,
   "id": "116f8476-8c50-40a0-a183-d1f5387db86c",
   "metadata": {},
   "outputs": [],
   "source": [
    "import os \n",
    "os.remove(\"Newfile.txt\")"
   ]
  }
 ],
 "metadata": {
  "kernelspec": {
   "display_name": "Python 3 (ipykernel)",
   "language": "python",
   "name": "python3"
  },
  "language_info": {
   "codemirror_mode": {
    "name": "ipython",
    "version": 3
   },
   "file_extension": ".py",
   "mimetype": "text/x-python",
   "name": "python",
   "nbconvert_exporter": "python",
   "pygments_lexer": "ipython3",
   "version": "3.13.3"
  }
 },
 "nbformat": 4,
 "nbformat_minor": 5
}
