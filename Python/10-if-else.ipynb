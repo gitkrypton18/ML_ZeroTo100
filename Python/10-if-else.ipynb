{
 "cells": [
  {
   "cell_type": "code",
   "execution_count": 7,
   "id": "ea0ba64e-6715-445b-be9d-6d86a6d980d5",
   "metadata": {},
   "outputs": [
    {
     "name": "stdin",
     "output_type": "stream",
     "text": [
      "Apna email bata sknd\n"
     ]
    },
    {
     "name": "stdout",
     "output_type": "stream",
     "text": [
      "Email sahi se likho\n"
     ]
    }
   ],
   "source": [
    "# correct email = kalpit18@mail.com\n",
    "# password = 1234\n",
    "\n",
    "\n",
    "email=input(\"Apna email bata\")\n",
    "if '@' in email :\n",
    "    \n",
    "    password=input(\"Apna password bata\")\n",
    "    if email == \"kalpit18@mail.com\" and password ==\"1234\" :\n",
    "        print (\"Welcome\")\n",
    "    \n",
    "        \n",
    "    elif email == \"kalpit18@mail.com\" and password !=\"1234\" :\n",
    "        print(\"Password incorrect\")\n",
    "        password=input(\"Password Fir se bol\")\n",
    "        # nested if\n",
    "        if password == \"1234\" :\n",
    "            print(\"Finally Correct\")\n",
    "        else : \n",
    "            print (\"Still Incorrect \")\n",
    "        \n",
    "    else :\n",
    "        print (\"incorrect credentials\")\n",
    "\n",
    "else :\n",
    "    print (\"Email sahi se likho\")\n",
    "\n",
    "\n",
    "\n"
   ]
  }
 ],
 "metadata": {
  "kernelspec": {
   "display_name": "Python 3 (ipykernel)",
   "language": "python",
   "name": "python3"
  },
  "language_info": {
   "codemirror_mode": {
    "name": "ipython",
    "version": 3
   },
   "file_extension": ".py",
   "mimetype": "text/x-python",
   "name": "python",
   "nbconvert_exporter": "python",
   "pygments_lexer": "ipython3",
   "version": "3.13.7"
  }
 },
 "nbformat": 4,
 "nbformat_minor": 5
}
