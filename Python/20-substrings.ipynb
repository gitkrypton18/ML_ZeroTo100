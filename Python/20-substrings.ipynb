{
 "cells": [
  {
   "cell_type": "markdown",
   "id": "f0412ba6-333a-46cb-8364-6f6c43091125",
   "metadata": {},
   "source": [
    "Accessing SubStirngs from a stirng\n",
    "    "
   ]
  },
  {
   "cell_type": "code",
   "execution_count": 1,
   "id": "bb67dfd2-f10b-4bb4-832f-9ded07fdd7d8",
   "metadata": {},
   "outputs": [
    {
     "name": "stdout",
     "output_type": "stream",
     "text": [
      "Hello\n"
     ]
    }
   ],
   "source": [
    "#concept of Indexing\n",
    "c=\"Hello\"\n",
    "print(c)\n",
    "\n"
   ]
  },
  {
   "cell_type": "code",
   "execution_count": 2,
   "id": "51cb0462-7199-457d-97c6-3408decd5f96",
   "metadata": {},
   "outputs": [
    {
     "name": "stdout",
     "output_type": "stream",
     "text": [
      "H\n",
      "o\n"
     ]
    }
   ],
   "source": [
    "print(c[0])\n",
    "print(c[4])"
   ]
  },
  {
   "cell_type": "code",
   "execution_count": 3,
   "id": "149ce915-a836-4f37-8dac-f42236f8d554",
   "metadata": {
    "jp-MarkdownHeadingCollapsed": true
   },
   "outputs": [
    {
     "name": "stdout",
     "output_type": "stream",
     "text": [
      "o\n",
      "l\n"
     ]
    }
   ],
   "source": [
    "#types of indexing \n",
    "#positive indexxing : Index position left to right\n",
    "# negative indexing start from -1\n",
    "# -1 gives o\n",
    "print(c[-1])\n",
    "print(c[-3])\n",
    "\n"
   ]
  },
  {
   "cell_type": "markdown",
   "id": "0c196b60-895e-4d85-80e9-38eb5bd767d3",
   "metadata": {},
   "source": [
    "Slicing in Python\n",
    "If we want only Hello or some length of string in Python we use slicing \n",
    "Syntax : \n",
    "print(c[initial index : final index+1])"
   ]
  },
  {
   "cell_type": "markdown",
   "id": "807ed98d-35e6-4b76-9a86-bb17f05fda44",
   "metadata": {},
   "source": [
    "#Slicing \n",
    "\n",
    "c=\"Hello World\"\n",
    "print (c)"
   ]
  },
  {
   "cell_type": "markdown",
   "id": "54aef33d-b006-4476-82e4-6cdec92b40dc",
   "metadata": {},
   "source": [
    "#print (c[0:4+1]) # but last is not included\n",
    "print(c[0:5])"
   ]
  },
  {
   "cell_type": "markdown",
   "id": "96fc776a-fab5-4f93-a85c-4dc47337b317",
   "metadata": {},
   "source": [
    "print (c[2:]) # print string index 2 onwards"
   ]
  },
  {
   "cell_type": "markdown",
   "id": "ba80e35d-544f-4033-b35c-2aab3c165303",
   "metadata": {},
   "source": [
    "print(c[:4]) # print upto index 4-1"
   ]
  },
  {
   "cell_type": "markdown",
   "id": "960969c6-5024-4ca3-9fc2-45770f92633c",
   "metadata": {},
   "source": [
    "print(c[:])"
   ]
  },
  {
   "cell_type": "code",
   "execution_count": 8,
   "id": "1a89f208-06f7-413e-8db8-5d459420cb7c",
   "metadata": {},
   "outputs": [
    {
     "name": "stdout",
     "output_type": "stream",
     "text": [
      "lo\n",
      "Hl\n"
     ]
    }
   ],
   "source": [
    "print(c[2:6:2])\n",
    "print(c[0:8:3])\n",
    "# exactly what happened\n",
    "#1 [initial index : final index+1 : steps jumps if = 2 then alternate skips]\n"
   ]
  },
  {
   "cell_type": "code",
   "execution_count": 12,
   "id": "4aefd317-3b4a-4d18-94a5-ca4be4e93cfd",
   "metadata": {},
   "outputs": [
    {
     "name": "stdout",
     "output_type": "stream",
     "text": [
      "\n"
     ]
    }
   ],
   "source": [
    "print(c[0:6:-1])"
   ]
  },
  {
   "cell_type": "markdown",
   "id": "62290910-f3d4-48f6-811f-6c2b6262633b",
   "metadata": {},
   "source": [
    "Always remember that when youre working with postive indexing then we cannot use negative indexing in it."
   ]
  },
  {
   "cell_type": "code",
   "execution_count": 6,
   "id": "12f02537-3e86-4f17-b35a-fb4f8a053430",
   "metadata": {
    "jp-MarkdownHeadingCollapsed": true
   },
   "outputs": [
    {
     "name": "stdout",
     "output_type": "stream",
     "text": [
      "Hl\n"
     ]
    }
   ],
   "source": [
    "print(c[-5:-1:2])\n",
    "# take \" Worl \" with skiping alternate : W and r"
   ]
  },
  {
   "cell_type": "markdown",
   "id": "56a7d442-f764-4934-85ac-5d8233712f0d",
   "metadata": {},
   "source": [
    "print(c[::-1 # FAMOUS SYNTAX TO REVERSE THE STRING"
   ]
  },
  {
   "cell_type": "code",
   "execution_count": 7,
   "id": "1a158dbe-73fb-455a-9c50-6104ea6526fc",
   "metadata": {},
   "outputs": [
    {
     "name": "stdout",
     "output_type": "stream",
     "text": [
      "olle\n"
     ]
    }
   ],
   "source": [
    "print (c[-1:-5:-1])\n",
    "# take reverse string orld last wala hr baar skip kar deta h and then we reversed it  "
   ]
  }
 ],
 "metadata": {
  "kernelspec": {
   "display_name": "Python 3 (ipykernel)",
   "language": "python",
   "name": "python3"
  },
  "language_info": {
   "codemirror_mode": {
    "name": "ipython",
    "version": 3
   },
   "file_extension": ".py",
   "mimetype": "text/x-python",
   "name": "python",
   "nbconvert_exporter": "python",
   "pygments_lexer": "ipython3",
   "version": "3.13.7"
  }
 },
 "nbformat": 4,
 "nbformat_minor": 5
}
