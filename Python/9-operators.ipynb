{
 "cells": [
  {
   "cell_type": "markdown",
   "id": "96d2a7f0-581c-4f54-96fa-7881705ac2dc",
   "metadata": {},
   "source": [
    "## Operators in Python\n",
    "Operators are use to perform operations on variables and values\n",
    "\n",
    "Arithmetic \n",
    "Comaprision\n",
    "Logical\n",
    "Bitwise\n",
    "Assignment\n",
    "Identity\n",
    "Membership\n"
   ]
  },
  {
   "cell_type": "markdown",
   "id": "1f4c1684-6660-4112-bc3f-043602558457",
   "metadata": {},
   "source": [
    "Arithmetic\n"
   ]
  },
  {
   "cell_type": "code",
   "execution_count": 1,
   "id": "786ba4eb-292d-48b5-991a-d64e4d056931",
   "metadata": {},
   "outputs": [
    {
     "name": "stdout",
     "output_type": "stream",
     "text": [
      "7\n"
     ]
    }
   ],
   "source": [
    "x=5\n",
    "y=2\n",
    "print(x+y)"
   ]
  },
  {
   "cell_type": "code",
   "execution_count": 2,
   "id": "1c2be7de-be12-428a-9492-45d61781ad81",
   "metadata": {},
   "outputs": [
    {
     "name": "stdout",
     "output_type": "stream",
     "text": [
      "3\n"
     ]
    }
   ],
   "source": [
    "print(x-y)\n",
    "\n"
   ]
  },
  {
   "cell_type": "code",
   "execution_count": 3,
   "id": "8b3da6ec-1462-4530-a042-d962b637c457",
   "metadata": {},
   "outputs": [
    {
     "name": "stdout",
     "output_type": "stream",
     "text": [
      "10\n"
     ]
    }
   ],
   "source": [
    "print (x*y)\n"
   ]
  },
  {
   "cell_type": "code",
   "execution_count": 4,
   "id": "69d7b7ea-910d-4710-af5c-c7bcf7d862a5",
   "metadata": {},
   "outputs": [
    {
     "name": "stdout",
     "output_type": "stream",
     "text": [
      "2.5\n"
     ]
    }
   ],
   "source": [
    "print (x/y)"
   ]
  },
  {
   "cell_type": "code",
   "execution_count": 5,
   "id": "9783e7ee-0a76-4d23-8895-f7fe20a8f91f",
   "metadata": {},
   "outputs": [
    {
     "name": "stdout",
     "output_type": "stream",
     "text": [
      "1\n"
     ]
    }
   ],
   "source": [
    "print(x%y) #modulus operator\n"
   ]
  },
  {
   "cell_type": "code",
   "execution_count": 6,
   "id": "e95d9ab0-94f0-4b65-a1ad-d3af29a00108",
   "metadata": {},
   "outputs": [
    {
     "name": "stdout",
     "output_type": "stream",
     "text": [
      "25\n"
     ]
    }
   ],
   "source": [
    "print(x**y)\n",
    "# power operator\n"
   ]
  },
  {
   "cell_type": "code",
   "execution_count": 7,
   "id": "a1b3e767-7e97-4991-9152-6930af93dd9c",
   "metadata": {},
   "outputs": [
    {
     "name": "stdout",
     "output_type": "stream",
     "text": [
      "2\n"
     ]
    }
   ],
   "source": [
    "print (x//2) # integer division quotient is converted to integer"
   ]
  },
  {
   "cell_type": "markdown",
   "id": "010e920e-b5bd-4261-8072-d5d3b7e00148",
   "metadata": {},
   "source": [
    "Comparision\n"
   ]
  },
  {
   "cell_type": "code",
   "execution_count": 8,
   "id": "514260a3-67ef-41f4-a98d-3bc223909533",
   "metadata": {},
   "outputs": [
    {
     "name": "stdout",
     "output_type": "stream",
     "text": [
      "True\n"
     ]
    }
   ],
   "source": [
    "print(x>y)\n"
   ]
  },
  {
   "cell_type": "code",
   "execution_count": 9,
   "id": "f369c72c-6271-499b-a4e8-d264ad3fb3cf",
   "metadata": {},
   "outputs": [
    {
     "name": "stdout",
     "output_type": "stream",
     "text": [
      "False\n"
     ]
    }
   ],
   "source": [
    "print(x<y)\n"
   ]
  },
  {
   "cell_type": "code",
   "execution_count": 10,
   "id": "e620c666-c251-4942-8a24-f8a76a62f0b7",
   "metadata": {},
   "outputs": [
    {
     "name": "stdout",
     "output_type": "stream",
     "text": [
      "True\n"
     ]
    }
   ],
   "source": [
    "print (x>=y)"
   ]
  },
  {
   "cell_type": "code",
   "execution_count": 11,
   "id": "63dfb33c-3fdd-43a7-8859-5633aba7cee6",
   "metadata": {},
   "outputs": [
    {
     "name": "stdout",
     "output_type": "stream",
     "text": [
      "False\n"
     ]
    }
   ],
   "source": [
    "print (x<=y)\n"
   ]
  },
  {
   "cell_type": "code",
   "execution_count": 12,
   "id": "7f7c5370-c852-4c3b-a2fc-623cb6ca1a0f",
   "metadata": {},
   "outputs": [
    {
     "name": "stdout",
     "output_type": "stream",
     "text": [
      "False\n"
     ]
    }
   ],
   "source": [
    "print (x==y)\n"
   ]
  },
  {
   "cell_type": "code",
   "execution_count": 13,
   "id": "5ff1350a-2ff0-4948-b269-652f53088e9a",
   "metadata": {},
   "outputs": [
    {
     "name": "stdout",
     "output_type": "stream",
     "text": [
      "True\n"
     ]
    }
   ],
   "source": [
    "print (x!=y)\n"
   ]
  },
  {
   "cell_type": "markdown",
   "id": "ccaccdd7-51e2-43e5-b0a7-ffbe383f766e",
   "metadata": {},
   "source": [
    "Logical Operators\n",
    "AND OR NOT"
   ]
  },
  {
   "cell_type": "code",
   "execution_count": 16,
   "id": "558a70e6-c73e-4599-8ac0-fda006dd510d",
   "metadata": {},
   "outputs": [
    {
     "name": "stdout",
     "output_type": "stream",
     "text": [
      "True\n",
      "False\n",
      "False\n",
      "True\n"
     ]
    }
   ],
   "source": [
    "x=True\n",
    "y=False\n",
    "\n",
    "print(x or y)\n",
    "print (x and y)\n",
    "print (not x)\n",
    "print ( not y)\n",
    "\n"
   ]
  },
  {
   "cell_type": "markdown",
   "id": "fc0bed3b-254f-43a4-8329-94617f620c12",
   "metadata": {},
   "source": [
    "Bitwise Important\n"
   ]
  },
  {
   "cell_type": "code",
   "execution_count": 25,
   "id": "8e47d1bc-0924-425b-9a81-1714e9a45116",
   "metadata": {},
   "outputs": [
    {
     "name": "stdout",
     "output_type": "stream",
     "text": [
      "2\n",
      "3\n",
      "0\n",
      "24\n",
      "-3\n"
     ]
    }
   ],
   "source": [
    "# works on binary values\n",
    "\n",
    "x = 2\n",
    "y = 3\n",
    "print ( x & y)\n",
    "print ( x | y)\n",
    "print (x >> 2)\n",
    "print (y << 3)\n",
    "print(~x)\n",
    "\n"
   ]
  },
  {
   "cell_type": "code",
   "execution_count": 24,
   "id": "a2245de7-4fa4-4dc0-aaed-9b1c3ff9d695",
   "metadata": {},
   "outputs": [],
   "source": [
    "#010\n",
    "#110\n",
    "#----\n",
    "#010 \n",
    "#vertical and operation \n",
    "\n",
    "#110 \n",
    "# vertical or operation\n",
    "\n",
    "\n",
    "\n",
    "#bitwise\n",
    "\n"
   ]
  },
  {
   "cell_type": "markdown",
   "id": "2d406939-4aac-41b0-bc94-3093ab6b6b00",
   "metadata": {},
   "source": [
    "Assignment Operator\n"
   ]
  },
  {
   "cell_type": "code",
   "execution_count": 28,
   "id": "2eb1f3df-bb99-4a6d-b610-1fd7f2568141",
   "metadata": {},
   "outputs": [
    {
     "name": "stdout",
     "output_type": "stream",
     "text": [
      "3\n",
      "6\n",
      "3\n",
      "9\n",
      "1\n"
     ]
    }
   ],
   "source": [
    "# Assignment\n",
    "a=3\n",
    "print (a)\n",
    "a+=3\n",
    "#a=a+3\n",
    "# now a=6\n",
    "print(a)\n",
    "a-=3\n",
    "print (a)\n",
    "#now a=3\n",
    "a*=3\n",
    "print(a)\n",
    "#now a = 3*3\n",
    "a&=3\n",
    "print(a)\n",
    "#now a=1\n",
    "\n",
    "\n"
   ]
  },
  {
   "cell_type": "markdown",
   "id": "6bd603b2-7799-498c-bc57-e68cf6e7442d",
   "metadata": {},
   "source": [
    "## In python a++ and ++a doesnot exist\n"
   ]
  },
  {
   "cell_type": "markdown",
   "id": "68644e1c-bf81-479a-9c93-7b62d3f19689",
   "metadata": {},
   "source": [
    "Identity Operator\n"
   ]
  },
  {
   "cell_type": "code",
   "execution_count": 29,
   "id": "bfa1cbe4-f2d8-4f0e-8cf3-baca3208a1b5",
   "metadata": {},
   "outputs": [
    {
     "name": "stdout",
     "output_type": "stream",
     "text": [
      "True\n"
     ]
    }
   ],
   "source": [
    "a=3\n",
    "b=3\n",
    "print(a is b)\n",
    "# same value and same memory location\n"
   ]
  },
  {
   "cell_type": "code",
   "execution_count": 30,
   "id": "e5e28e2f-dac5-485a-88f5-1a073aee6811",
   "metadata": {},
   "outputs": [
    {
     "name": "stdout",
     "output_type": "stream",
     "text": [
      "True\n"
     ]
    }
   ],
   "source": [
    "a=\"hello\"\n",
    "b=\"hello\"\n",
    "print(a is b)\n"
   ]
  },
  {
   "cell_type": "code",
   "execution_count": 31,
   "id": "83204089-b679-4660-a4a7-2b9e3b87f5ff",
   "metadata": {},
   "outputs": [
    {
     "name": "stdout",
     "output_type": "stream",
     "text": [
      "False\n"
     ]
    }
   ],
   "source": [
    "a=[1,2,3]\n",
    "b=[1,2,3]\n",
    "print( a is b)\n",
    "# same value doesnot imply same memory loaction\n"
   ]
  },
  {
   "cell_type": "code",
   "execution_count": 36,
   "id": "756a885c-e1bf-4722-a3d4-dd1c9aa72847",
   "metadata": {},
   "outputs": [
    {
     "name": "stdout",
     "output_type": "stream",
     "text": [
      "False\n",
      "True\n"
     ]
    }
   ],
   "source": [
    "a=\"Hello-World\"\n",
    "b=\"Hello-World\"\n",
    "print(a is b)\n",
    "print (a is not b)\n"
   ]
  },
  {
   "cell_type": "markdown",
   "id": "c6c957a4-539d-4a7f-8cb3-a9b8188147af",
   "metadata": {},
   "source": [
    "Membership Operator\n"
   ]
  },
  {
   "cell_type": "code",
   "execution_count": 35,
   "id": "4c2caf03-4a9b-437b-b4ba-aa0e4baed208",
   "metadata": {},
   "outputs": [
    {
     "name": "stdout",
     "output_type": "stream",
     "text": [
      "True\n",
      "False\n",
      "False\n"
     ]
    }
   ],
   "source": [
    "x=\"Delhi\"\n",
    "print( \"D\" in x)\n",
    "print (\"D\" not in x)\n",
    "x=[1,2,3]\n",
    "print (\n",
    "    5 in x)\n"
   ]
  }
 ],
 "metadata": {
  "kernelspec": {
   "display_name": "Python 3 (ipykernel)",
   "language": "python",
   "name": "python3"
  },
  "language_info": {
   "codemirror_mode": {
    "name": "ipython",
    "version": 3
   },
   "file_extension": ".py",
   "mimetype": "text/x-python",
   "name": "python",
   "nbconvert_exporter": "python",
   "pygments_lexer": "ipython3",
   "version": "3.13.7"
  }
 },
 "nbformat": 4,
 "nbformat_minor": 5
}
