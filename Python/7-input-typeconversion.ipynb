{
 "cells": [
  {
   "cell_type": "markdown",
   "id": "5baaa451-6c69-438c-b398-5a2c30d0f6e0",
   "metadata": {},
   "source": [
    "### Simple process to convert the data type\n",
    "### conversion tabhi hoga jab possible hoga\n",
    "\n",
    "## Types of type conversion\n",
    "### Implicit (self) and Explicit (manual)\n",
    "\n",
    "\n",
    "\n"
   ]
  },
  {
   "cell_type": "code",
   "execution_count": 3,
   "id": "61a3cf9d-92ab-4923-bd33-93f48eaf6815",
   "metadata": {},
   "outputs": [
    {
     "data": {
      "text/plain": [
       "(17+7j)"
      ]
     },
     "execution_count": 3,
     "metadata": {},
     "output_type": "execute_result"
    }
   ],
   "source": [
    "\n",
    "11+6+7j\n",
    "\n"
   ]
  },
  {
   "cell_type": "code",
   "execution_count": 5,
   "id": "183eeb61-41e9-4e11-8ad4-251768cb98f7",
   "metadata": {},
   "outputs": [
    {
     "data": {
      "text/plain": [
       "4.0"
      ]
     },
     "execution_count": 5,
     "metadata": {},
     "output_type": "execute_result"
    }
   ],
   "source": [
    "float(4)\n",
    "\n"
   ]
  },
  {
   "cell_type": "code",
   "execution_count": 6,
   "id": "6400f78e-369f-4b28-9f26-d21301defc12",
   "metadata": {},
   "outputs": [
    {
     "data": {
      "text/plain": [
       "'5'"
      ]
     },
     "execution_count": 6,
     "metadata": {},
     "output_type": "execute_result"
    }
   ],
   "source": [
    "str(5)\n"
   ]
  },
  {
   "cell_type": "code",
   "execution_count": 7,
   "id": "1870a2b3-a791-468f-b923-ae50337761cf",
   "metadata": {},
   "outputs": [
    {
     "data": {
      "text/plain": [
       "True"
      ]
     },
     "execution_count": 7,
     "metadata": {},
     "output_type": "execute_result"
    }
   ],
   "source": [
    "bool(1)\n"
   ]
  },
  {
   "cell_type": "code",
   "execution_count": 8,
   "id": "99d64f14-9937-4638-bc38-7ab4aeecb984",
   "metadata": {},
   "outputs": [
    {
     "data": {
      "text/plain": [
       "(4+0j)"
      ]
     },
     "execution_count": 8,
     "metadata": {},
     "output_type": "execute_result"
    }
   ],
   "source": [
    "complex(4)\n",
    "    "
   ]
  },
  {
   "cell_type": "code",
   "execution_count": 9,
   "id": "f54c3423-0945-4b83-abf2-674dbfef9ed8",
   "metadata": {},
   "outputs": [
    {
     "data": {
      "text/plain": [
       "['H', 'e', 'l', 'l', 'o']"
      ]
     },
     "execution_count": 9,
     "metadata": {},
     "output_type": "execute_result"
    }
   ],
   "source": [
    "list('Hello')\n"
   ]
  },
  {
   "cell_type": "code",
   "execution_count": null,
   "id": "819c394e-cae0-4ae9-a0f3-b10b84671b9c",
   "metadata": {},
   "outputs": [],
   "source": [
    "int ('Kolkata')\n"
   ]
  },
  {
   "cell_type": "code",
   "execution_count": 12,
   "id": "0a7f2a3b-e807-4a6f-b8ce-01e4d9bbf043",
   "metadata": {},
   "outputs": [
    {
     "name": "stdout",
     "output_type": "stream",
     "text": [
      "4.5\n"
     ]
    },
    {
     "data": {
      "text/plain": [
       "4"
      ]
     },
     "execution_count": 12,
     "metadata": {},
     "output_type": "execute_result"
    }
   ],
   "source": [
    "a=4.5\n",
    "print (a)\n",
    "int (a)\n",
    "\n"
   ]
  },
  {
   "cell_type": "markdown",
   "id": "314d282b-f2f5-41bf-8db1-4c7b37cc5293",
   "metadata": {},
   "source": [
    "### so we use the same practice of type conversion\n"
   ]
  },
  {
   "cell_type": "code",
   "execution_count": 13,
   "id": "068e929c-e0e4-41b6-ba6f-57a07fab716c",
   "metadata": {},
   "outputs": [
    {
     "name": "stdin",
     "output_type": "stream",
     "text": [
      "Enter the first number 44\n",
      "Enter the second number 55\n"
     ]
    },
    {
     "name": "stdout",
     "output_type": "stream",
     "text": [
      "99\n"
     ]
    }
   ],
   "source": [
    "# but how by default \n",
    "first_num=int(input(\"Enter the first number\"))\n",
    "\n",
    "sec_num=int(input(\"Enter the second number\"))\n",
    "\n",
    "\n",
    "result=first_num+sec_num\n",
    "print(result)"
   ]
  },
  {
   "cell_type": "code",
   "execution_count": null,
   "id": "34984ae5-a888-40c8-b964-89c2d5ac79f6",
   "metadata": {},
   "outputs": [],
   "source": []
  },
  {
   "cell_type": "code",
   "execution_count": null,
   "id": "faf3abc2-57ca-4c6c-aa68-f6a4f0591bc3",
   "metadata": {},
   "outputs": [],
   "source": []
  }
 ],
 "metadata": {
  "kernelspec": {
   "display_name": "Python 3 (ipykernel)",
   "language": "python",
   "name": "python3"
  },
  "language_info": {
   "codemirror_mode": {
    "name": "ipython",
    "version": 3
   },
   "file_extension": ".py",
   "mimetype": "text/x-python",
   "name": "python",
   "nbconvert_exporter": "python",
   "pygments_lexer": "ipython3",
   "version": "3.13.7"
  }
 },
 "nbformat": 4,
 "nbformat_minor": 5
}
