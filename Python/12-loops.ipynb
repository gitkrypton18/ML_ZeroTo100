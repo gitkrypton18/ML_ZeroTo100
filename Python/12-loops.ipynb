{
 "cells": [
  {
   "cell_type": "code",
   "execution_count": null,
   "id": "8667a84d-30bf-4ff8-a21b-21555d7ed208",
   "metadata": {},
   "outputs": [],
   "source": [
    "#while\n",
    "#for\n"
   ]
  },
  {
   "cell_type": "markdown",
   "id": "cffa38cd-4328-478e-87ec-716e76f0e589",
   "metadata": {},
   "source": [
    "    while (condition){\n",
    "        code\n",
    "    }\n",
    "\n",
    "    for other languages\n",
    "    "
   ]
  },
  {
   "cell_type": "markdown",
   "id": "be61ae89-59ff-4a24-bb29-b7e0ab28641a",
   "metadata": {},
   "source": [
    "while condition :\n",
    "    code\n",
    "    for pyhton\n",
    "    "
   ]
  },
  {
   "cell_type": "code",
   "execution_count": 2,
   "id": "b894f67f-a9f1-4ebd-8699-353bd840d3d9",
   "metadata": {},
   "outputs": [
    {
     "name": "stdin",
     "output_type": "stream",
     "text": [
      "Enter a number : 11\n"
     ]
    },
    {
     "name": "stdout",
     "output_type": "stream",
     "text": [
      "11 * 1 = 11\n",
      "11 * 2 = 22\n",
      "11 * 3 = 33\n",
      "11 * 4 = 44\n",
      "11 * 5 = 55\n",
      "11 * 6 = 66\n",
      "11 * 7 = 77\n",
      "11 * 8 = 88\n",
      "11 * 9 = 99\n",
      "11 * 10 = 110\n"
     ]
    }
   ],
   "source": [
    "number = int (input(\"Enter a number :\"))\n",
    "\n",
    "i=1\n",
    "while i<11:\n",
    "    print (number,\"*\",i,\"=\",number*i)\n",
    "    i+=1\n",
    "    "
   ]
  },
  {
   "cell_type": "code",
   "execution_count": null,
   "id": "a80f4928-9dfc-47b1-869a-ef1c95e4a215",
   "metadata": {},
   "outputs": [],
   "source": []
  }
 ],
 "metadata": {
  "kernelspec": {
   "display_name": "Python 3 (ipykernel)",
   "language": "python",
   "name": "python3"
  },
  "language_info": {
   "codemirror_mode": {
    "name": "ipython",
    "version": 3
   },
   "file_extension": ".py",
   "mimetype": "text/x-python",
   "name": "python",
   "nbconvert_exporter": "python",
   "pygments_lexer": "ipython3",
   "version": "3.13.7"
  }
 },
 "nbformat": 4,
 "nbformat_minor": 5
}
