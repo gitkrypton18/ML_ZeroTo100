{
 "cells": [
  {
   "cell_type": "code",
   "execution_count": 1,
   "id": "03034a93-6e79-4d07-909d-af0ba3ebf2d9",
   "metadata": {},
   "outputs": [
    {
     "name": "stdout",
     "output_type": "stream",
     "text": [
      "Hello World\n"
     ]
    }
   ],
   "source": [
    "print (\"Hello World\")\n"
   ]
  },
  {
   "cell_type": "code",
   "execution_count": 2,
   "id": "2c1ce24c-301d-4381-a866-b6e36aed1777",
   "metadata": {},
   "outputs": [
    {
     "name": "stdout",
     "output_type": "stream",
     "text": [
      "6 7\n"
     ]
    }
   ],
   "source": [
    "print (6,7)\n"
   ]
  },
  {
   "cell_type": "code",
   "execution_count": 3,
   "id": "aae64990-2563-4a99-aebf-bc5c5a838d23",
   "metadata": {},
   "outputs": [
    {
     "name": "stdout",
     "output_type": "stream",
     "text": [
      "India pakistan Nepal\n"
     ]
    }
   ],
   "source": [
    "print (\"India\",\"pakistan\",\"Nepal\")\n"
   ]
  },
  {
   "cell_type": "code",
   "execution_count": 5,
   "id": "4ef90827-5052-4c8e-bb91-ff2c283a6eeb",
   "metadata": {},
   "outputs": [
    {
     "name": "stdout",
     "output_type": "stream",
     "text": [
      "india 5 true\n"
     ]
    }
   ],
   "source": [
    "print (\"india\",5,\"true\")\n"
   ]
  },
  {
   "cell_type": "markdown",
   "id": "71e93375-b723-4757-a181-1481e35a1414",
   "metadata": {},
   "source": [
    "# Why there is space appearing in the between :\n",
    "## there is a sep parameter by default which keeps a seperation\n",
    "## lets do a thing that at end use sep='/ or -' and see the result."
   ]
  },
  {
   "cell_type": "code",
   "execution_count": 7,
   "id": "699c3a6a-a30e-4b31-b9b0-245d6dd402cf",
   "metadata": {},
   "outputs": [
    {
     "name": "stdout",
     "output_type": "stream",
     "text": [
      "india/Aus/6\n"
     ]
    }
   ],
   "source": [
    "print(\"india\",\"Aus\",6,sep='/')\n"
   ]
  },
  {
   "cell_type": "code",
   "execution_count": 8,
   "id": "892a7de4-da72-4209-a577-53ef3c50042b",
   "metadata": {},
   "outputs": [
    {
     "name": "stdout",
     "output_type": "stream",
     "text": [
      "india-Aus-6\n"
     ]
    }
   ],
   "source": [
    "print(\"india\",\"Aus\",6,sep='-')"
   ]
  },
  {
   "cell_type": "markdown",
   "id": "a5eace84-3908-4435-b797-c882da8fed4b",
   "metadata": {},
   "source": [
    "## one more thing whenever we use multiple print statements then the print appers in a seperate line everytime"
   ]
  },
  {
   "cell_type": "code",
   "execution_count": 9,
   "id": "19b2325a-0dd9-4e83-a273-08bb57713939",
   "metadata": {},
   "outputs": [
    {
     "name": "stdout",
     "output_type": "stream",
     "text": [
      "Hello WOrld\n",
      "World\n"
     ]
    }
   ],
   "source": [
    "print(\"Hello WOrld\")\n",
    "print (\"World\")\n"
   ]
  },
  {
   "cell_type": "code",
   "execution_count": 1,
   "id": "b264cbcf-b2bd-4705-ac86-dae3074dab1c",
   "metadata": {},
   "outputs": [
    {
     "name": "stdout",
     "output_type": "stream",
     "text": [
      "My name is Kalpit Nagar\n"
     ]
    }
   ],
   "source": [
    "# whenever we want to print complex data like\n",
    "first_name=\"Kalpit\"\n",
    "last_name=\"Nagar\"\n",
    "print(\"My name is {} {}\".format(first_name,last_name))\n"
   ]
  },
  {
   "cell_type": "code",
   "execution_count": 2,
   "id": "c3914bfd-5399-4739-9477-4202e2f36bfd",
   "metadata": {},
   "outputs": [
    {
     "name": "stdout",
     "output_type": "stream",
     "text": [
      "My name is Kalpit Nagar\n"
     ]
    }
   ],
   "source": [
    "# whenever we want to print complex data like\n",
    "first_name=\"Kalpit\"\n",
    "last_name=\"Nagar\"\n",
    "print(\"My name is {first} {last}\".format(first=first_name,last=last_name))\n"
   ]
  },
  {
   "cell_type": "code",
   "execution_count": 3,
   "id": "c9f43f51-b362-44dd-bcfa-c7cdc029bf2d",
   "metadata": {},
   "outputs": [
    {
     "name": "stdout",
     "output_type": "stream",
     "text": [
      "My name is Nagar Kalpit\n"
     ]
    }
   ],
   "source": [
    "# whenever we want to print complex data like\n",
    "first_name=\"Kalpit\"\n",
    "last_name=\"Nagar\"\n",
    "print(\"My name is {} {}\".format(last_name,first_name))\n"
   ]
  }
 ],
 "metadata": {
  "kernelspec": {
   "display_name": "Python 3 (ipykernel)",
   "language": "python",
   "name": "python3"
  },
  "language_info": {
   "codemirror_mode": {
    "name": "ipython",
    "version": 3
   },
   "file_extension": ".py",
   "mimetype": "text/x-python",
   "name": "python",
   "nbconvert_exporter": "python",
   "pygments_lexer": "ipython3",
   "version": "3.13.7"
  }
 },
 "nbformat": 4,
 "nbformat_minor": 5
}
