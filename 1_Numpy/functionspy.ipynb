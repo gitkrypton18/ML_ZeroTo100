{
 "cells": [
  {
   "cell_type": "code",
   "execution_count": 100,
   "id": "af188091-a966-46aa-8774-b7f619cb2aba",
   "metadata": {},
   "outputs": [],
   "source": [
    "import numpy as np"
   ]
  },
  {
   "cell_type": "code",
   "execution_count": 101,
   "id": "e0017b45-456f-4cf5-9c1e-9fc5c323f4ba",
   "metadata": {},
   "outputs": [
    {
     "data": {
      "text/plain": [
       "0.8352424606296812"
      ]
     },
     "execution_count": 101,
     "metadata": {},
     "output_type": "execute_result"
    }
   ],
   "source": [
    "\n",
    "np.random.random()"
   ]
  },
  {
   "cell_type": "markdown",
   "id": "24651b26-dbb8-40e9-b887-555b46642379",
   "metadata": {},
   "source": [
    "Seed Function : If I use the seed function we get the same random value again and again"
   ]
  },
  {
   "cell_type": "code",
   "execution_count": 102,
   "id": "10e45c93-00d6-4792-8be3-80026ce36727",
   "metadata": {},
   "outputs": [],
   "source": [
    "np.random.seed(1)"
   ]
  },
  {
   "cell_type": "code",
   "execution_count": 103,
   "id": "774115aa-8c16-4140-8b81-fde1fce4e3e7",
   "metadata": {},
   "outputs": [
    {
     "data": {
      "text/plain": [
       "0.417022004702574"
      ]
     },
     "execution_count": 103,
     "metadata": {},
     "output_type": "execute_result"
    }
   ],
   "source": [
    "np.random.random()"
   ]
  },
  {
   "cell_type": "markdown",
   "id": "d8b25fe4-9728-49f6-a7ba-fd3a219ee5d9",
   "metadata": {},
   "source": [
    "Uniform : Same random number in a given range"
   ]
  },
  {
   "cell_type": "code",
   "execution_count": 104,
   "id": "44d0c418-e56b-4502-a6ef-dd59018197da",
   "metadata": {},
   "outputs": [
    {
     "data": {
      "text/plain": [
       "72.31212485077366"
      ]
     },
     "execution_count": 104,
     "metadata": {},
     "output_type": "execute_result"
    }
   ],
   "source": [
    "np.random.uniform(1,100)"
   ]
  },
  {
   "cell_type": "code",
   "execution_count": 105,
   "id": "03abe6d4-a89d-4eb6-a2af-f662af2c12fa",
   "metadata": {},
   "outputs": [
    {
     "data": {
      "text/plain": [
       "array([[ 1.01132311, 30.93092469, 15.52883319, 10.14152088, 19.43976093],\n",
       "       [35.21051198, 40.27997995, 54.34285667, 42.50025693, 68.83673054]])"
      ]
     },
     "execution_count": 105,
     "metadata": {},
     "output_type": "execute_result"
    }
   ],
   "source": [
    "np.random.uniform(1,100,10).reshape(2,5) # in order to generaate random values in an array"
   ]
  },
  {
   "cell_type": "code",
   "execution_count": 106,
   "id": "c0e8d140-698c-4640-bb3b-707c1b96c3c8",
   "metadata": {},
   "outputs": [
    {
     "data": {
      "text/plain": [
       "array([[3, 5, 8, 8, 2],\n",
       "       [8, 1, 7, 8, 7],\n",
       "       [2, 1, 2, 9, 9]], dtype=int32)"
      ]
     },
     "execution_count": 106,
     "metadata": {},
     "output_type": "execute_result"
    }
   ],
   "source": [
    " np.random.randint(1,10,15).reshape(3,5)"
   ]
  },
  {
   "cell_type": "code",
   "execution_count": null,
   "id": "48593c7b-be81-4578-a617-f83cfe850b89",
   "metadata": {},
   "outputs": [],
   "source": []
  },
  {
   "cell_type": "markdown",
   "id": "73abe58e-d1be-402e-a4fe-1b9595ef6aee",
   "metadata": {},
   "source": [
    "Some Operaations :\n"
   ]
  },
  {
   "cell_type": "code",
   "execution_count": 107,
   "id": "c7db9103-26b4-4bfe-abfd-9715854f80ef",
   "metadata": {},
   "outputs": [
    {
     "data": {
      "text/plain": [
       "array([4, 9, 8, 4, 7, 6, 2, 4], dtype=int32)"
      ]
     },
     "execution_count": 107,
     "metadata": {},
     "output_type": "execute_result"
    }
   ],
   "source": [
    "a=np.random.randint(1,10,8)\n",
    "a"
   ]
  },
  {
   "cell_type": "code",
   "execution_count": 108,
   "id": "a896fa94-8e41-49ba-a125-059978d2c5ff",
   "metadata": {},
   "outputs": [
    {
     "data": {
      "text/plain": [
       "np.int32(9)"
      ]
     },
     "execution_count": 108,
     "metadata": {},
     "output_type": "execute_result"
    }
   ],
   "source": [
    "np.max(a)"
   ]
  },
  {
   "cell_type": "code",
   "execution_count": 109,
   "id": "bda03bab-fbb1-48a1-9998-e0c844b4c84c",
   "metadata": {},
   "outputs": [
    {
     "data": {
      "text/plain": [
       "np.int32(2)"
      ]
     },
     "execution_count": 109,
     "metadata": {},
     "output_type": "execute_result"
    }
   ],
   "source": [
    "np.min(a)"
   ]
  },
  {
   "cell_type": "code",
   "execution_count": 110,
   "id": "b0962c78-6789-4a3a-9022-eb0071241dec",
   "metadata": {},
   "outputs": [
    {
     "data": {
      "text/plain": [
       "[np.int64(1)]"
      ]
     },
     "execution_count": 110,
     "metadata": {},
     "output_type": "execute_result"
    }
   ],
   "source": [
    "[np.argmax(a)] # gives the index of the max value"
   ]
  },
  {
   "cell_type": "code",
   "execution_count": 111,
   "id": "c4919b2d-a901-44ee-9176-ae7022ab1f22",
   "metadata": {},
   "outputs": [
    {
     "data": {
      "text/plain": [
       "np.int64(6)"
      ]
     },
     "execution_count": 111,
     "metadata": {},
     "output_type": "execute_result"
    }
   ],
   "source": [
    "np.argmin(a)"
   ]
  },
  {
   "cell_type": "code",
   "execution_count": 112,
   "id": "c55c3719-5a50-4bd6-873d-f0a8fe61cba2",
   "metadata": {},
   "outputs": [
    {
     "data": {
      "text/plain": [
       "array([5, 9, 2, 5, 1, 4, 3, 1], dtype=int32)"
      ]
     },
     "execution_count": 112,
     "metadata": {},
     "output_type": "execute_result"
    }
   ],
   "source": [
    "a=np.random.randint(1,10,8)\n",
    "a"
   ]
  },
  {
   "cell_type": "code",
   "execution_count": 113,
   "id": "d44a0f0d-5618-4d86-8fc6-3c4acf404530",
   "metadata": {},
   "outputs": [
    {
     "data": {
      "text/plain": [
       "array([-1, -1,  2, -1, -1,  4, -1, -1], dtype=int32)"
      ]
     },
     "execution_count": 113,
     "metadata": {},
     "output_type": "execute_result"
    }
   ],
   "source": [
    "a[a%2==1]=-1\n",
    "a\n",
    "#This will change all the odd to -1\n"
   ]
  },
  {
   "cell_type": "code",
   "execution_count": 114,
   "id": "59fe78c9-0bca-4386-a493-f990aae3f01d",
   "metadata": {},
   "outputs": [
    {
     "data": {
      "text/plain": [
       "array([ 5, 26, 48, 35, 24,  8, 27, 26, 41, 23, 10,  4], dtype=int32)"
      ]
     },
     "execution_count": 114,
     "metadata": {},
     "output_type": "execute_result"
    }
   ],
   "source": [
    "a=np.random.randint(1,50,12)\n",
    "a"
   ]
  },
  {
   "cell_type": "code",
   "execution_count": 115,
   "id": "32f02688-ffe4-4459-a30b-949e73034283",
   "metadata": {},
   "outputs": [
    {
     "data": {
      "text/plain": [
       "array([-1, 26, 48, -1, 24,  8, -1, 26, -1, -1, 10,  4], dtype=int32)"
      ]
     },
     "execution_count": 115,
     "metadata": {},
     "output_type": "execute_result"
    }
   ],
   "source": [
    "a[a%2==1]=-1\n",
    "\n",
    "a"
   ]
  },
  {
   "cell_type": "code",
   "execution_count": 116,
   "id": "850770c6-dd12-4ed0-806b-d263277fcadb",
   "metadata": {},
   "outputs": [
    {
     "data": {
      "text/plain": [
       "array([40, 24, 37, 28, 38, 20, 39,  9, 33, 35, 11, 24], dtype=int32)"
      ]
     },
     "execution_count": 116,
     "metadata": {},
     "output_type": "execute_result"
    }
   ],
   "source": [
    "a=np.random.randint(1,50,12)\n",
    "a"
   ]
  },
  {
   "cell_type": "code",
   "execution_count": 117,
   "id": "c7407395-0305-4c25-90d1-5d652bd8143e",
   "metadata": {},
   "outputs": [
    {
     "data": {
      "text/plain": [
       "array([40, 24, -1, 28, 38, 20, -1, -1, -1, -1, -1, 24], dtype=int32)"
      ]
     },
     "execution_count": 117,
     "metadata": {},
     "output_type": "execute_result"
    }
   ],
   "source": [
    "np.where(a%2==1,-1,a)\n",
    "# This is a one line code which is used to change the numbers we have used it above just a function"
   ]
  },
  {
   "cell_type": "markdown",
   "id": "01e74354-293c-43eb-8cb8-7d2ee6a0c171",
   "metadata": {},
   "source": [
    "Benifit : This function will not change the original array \n",
    "It just only displays the values we have given in the arguements"
   ]
  },
  {
   "cell_type": "code",
   "execution_count": 118,
   "id": "ced35528-a0d1-4526-9027-85d1f21346da",
   "metadata": {},
   "outputs": [
    {
     "data": {
      "text/plain": [
       "array([40, 24, 37, 28, 38, 20, 39,  9, 33, 35, 11, 24], dtype=int32)"
      ]
     },
     "execution_count": 118,
     "metadata": {},
     "output_type": "execute_result"
    }
   ],
   "source": [
    "a\n",
    "# original array wiill remain intact"
   ]
  },
  {
   "cell_type": "code",
   "execution_count": 119,
   "id": "5e8b4ab6-62f1-4a81-9a13-e8f730ba047a",
   "metadata": {},
   "outputs": [
    {
     "data": {
      "text/plain": [
       "array([40, 24, -1, 28, 38, 20, -1, -1, -1, -1, -1, 24], dtype=int32)"
      ]
     },
     "execution_count": 119,
     "metadata": {},
     "output_type": "execute_result"
    }
   ],
   "source": [
    "out=np.where(a%2==1,-1,a)\n",
    "out"
   ]
  },
  {
   "cell_type": "code",
   "execution_count": null,
   "id": "858b8c52-5aee-4706-b716-6844ab9e2542",
   "metadata": {},
   "outputs": [],
   "source": []
  },
  {
   "cell_type": "code",
   "execution_count": 125,
   "id": "3b0830d0-0dd0-4cc1-981d-dfcee4277e2c",
   "metadata": {},
   "outputs": [
    {
     "data": {
      "text/plain": [
       "array([24,  2, 14,  4,  1, 14,  7, 22,  7,  3], dtype=int32)"
      ]
     },
     "execution_count": 125,
     "metadata": {},
     "output_type": "execute_result"
    }
   ],
   "source": [
    "a=np.random.randint(1,50,10)\n",
    "a"
   ]
  },
  {
   "cell_type": "code",
   "execution_count": 143,
   "id": "8c798e54-337a-4a74-803f-c0c71b610c5b",
   "metadata": {},
   "outputs": [
    {
     "data": {
      "text/plain": [
       "array([ 1,  2,  3,  4,  7,  7, 14, 14, 22, 24], dtype=int32)"
      ]
     },
     "execution_count": 143,
     "metadata": {},
     "output_type": "execute_result"
    }
   ],
   "source": [
    "a=np.sort(a)\n",
    "a"
   ]
  },
  {
   "cell_type": "code",
   "execution_count": 145,
   "id": "326bbe20-bc56-4c81-ad3b-1841e5e4f1f4",
   "metadata": {},
   "outputs": [
    {
     "data": {
      "text/plain": [
       "array([24, 22, 14, 14,  7,  7,  4,  3,  2,  1], dtype=int32)"
      ]
     },
     "execution_count": 145,
     "metadata": {},
     "output_type": "execute_result"
    }
   ],
   "source": [
    "a=np.sort(a)[::-1]\n",
    "a\n"
   ]
  },
  {
   "cell_type": "markdown",
   "id": "45a2a70e-026c-42e9-89ae-bec4b7a029ec",
   "metadata": {},
   "source": [
    "### 🧮 `numpy.percentile()` — Short Notes\n",
    "\n",
    "**Definition:**  \n",
    "The `numpy.percentile()` function calculates the **value below which a given percentage of data** in a dataset falls.\n",
    "\n",
    "**Syntax:**  \n",
    "```python\n",
    "import numpy as np\n",
    "\n",
    "data = [10, 20, 30, 40, 50]\n",
    "p = np.percentile(data, 40)\n",
    "print(p)   # Output: 26.0 (40th percentile)\n",
    "\n",
    "#numpy.percentile() batata hai — \"kitne percent data ke neeche koi particular value aati hai.\"\n",
    "#40 peercent elements are less than 26.0\n"
   ]
  },
  {
   "cell_type": "code",
   "execution_count": null,
   "id": "0a1d6199-81e0-4c8e-bd6f-31a332cbbe98",
   "metadata": {},
   "outputs": [],
   "source": []
  },
  {
   "cell_type": "code",
   "execution_count": 122,
   "id": "e90f4e2f-30ff-498d-90a6-b875606facf7",
   "metadata": {},
   "outputs": [
    {
     "data": {
      "text/plain": [
       "np.float64(18.0)"
      ]
     },
     "execution_count": 122,
     "metadata": {},
     "output_type": "execute_result"
    }
   ],
   "source": [
    "np.percentile(a,25)\n"
   ]
  },
  {
   "cell_type": "code",
   "execution_count": 123,
   "id": "e7675fbc-0927-4bbe-a21f-d9fd9cb14951",
   "metadata": {},
   "outputs": [
    {
     "data": {
      "text/plain": [
       "np.float64(25.5)"
      ]
     },
     "execution_count": 123,
     "metadata": {},
     "output_type": "execute_result"
    }
   ],
   "source": [
    "np.percentile(a,50)"
   ]
  },
  {
   "cell_type": "code",
   "execution_count": 124,
   "id": "bc27f398-09bb-4fbc-acb9-07d06418dba4",
   "metadata": {},
   "outputs": [
    {
     "data": {
      "text/plain": [
       "np.float64(47.982)"
      ]
     },
     "execution_count": 124,
     "metadata": {},
     "output_type": "execute_result"
    }
   ],
   "source": [
    "np.percentile(a,99.8)\n",
    "# you are less than 100percentage of the data\n",
    "# you are more than 99.8 percentage of the data"
   ]
  },
  {
   "cell_type": "code",
   "execution_count": null,
   "id": "a68bc3d0-154e-488c-b3f1-9c839d0784b2",
   "metadata": {},
   "outputs": [],
   "source": []
  }
 ],
 "metadata": {
  "kernelspec": {
   "display_name": "Python 3 (ipykernel)",
   "language": "python",
   "name": "python3"
  },
  "language_info": {
   "codemirror_mode": {
    "name": "ipython",
    "version": 3
   },
   "file_extension": ".py",
   "mimetype": "text/x-python",
   "name": "python",
   "nbconvert_exporter": "python",
   "pygments_lexer": "ipython3",
   "version": "3.13.7"
  }
 },
 "nbformat": 4,
 "nbformat_minor": 5
}
