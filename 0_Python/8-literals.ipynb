{
 "cells": [
  {
   "cell_type": "markdown",
   "id": "b79b3d98-9452-4c4b-9a6e-b392bebf6d69",
   "metadata": {},
   "source": [
    "# Literals\n",
    "## literals is a raw data given in a variable in Python. There are various types of literalsthey are as follows\n",
    "### Numeric Literals\n",
    "### String Literals\n",
    "### Boolean Literals\n",
    "### Special Literals\n",
    "\n"
   ]
  },
  {
   "cell_type": "markdown",
   "id": "537dead0-fc81-4d87-8aa7-8fbbe8d2ccc1",
   "metadata": {},
   "source": [
    "1. Numeric Literals"
   ]
  },
  {
   "cell_type": "code",
   "execution_count": 2,
   "id": "5fb34824-35de-4820-8c6d-0d6e242bc4ef",
   "metadata": {},
   "outputs": [
    {
     "name": "stdout",
     "output_type": "stream",
     "text": [
      "10 100 200 300\n",
      "10.5 150.0 0.0015\n",
      "3.14j 3.14 0.0\n"
     ]
    }
   ],
   "source": [
    "a=0b1010 #Binary literals start with 0b\n",
    "b=100 #decimal literals\n",
    "c= 0o310 # octal literals\n",
    "d= 0x12c #hexadecimal literals\n",
    "\n",
    "\n",
    "#float literals\n",
    "float_1=10.5\n",
    "float_2=1.5e2\n",
    "float_3=1.5e-3\n",
    "\n",
    "#complex Literal\n",
    "x=3.14j\n",
    "\n",
    "# e2 means 10^2\n",
    "#e-3 means 10^-3\n",
    "\n",
    "print (a,b,c,d) # prints the decimal equivalent of the numbers\n",
    "\n",
    "print (float_1,float_2,float_3)\n",
    "print(x,x.imag, x.real)"
   ]
  },
  {
   "cell_type": "markdown",
   "id": "03629450-b3d1-46ca-acca-a00f720ad630",
   "metadata": {},
   "source": [
    "\n",
    "2. String Literals\n",
    "   "
   ]
  },
  {
   "cell_type": "code",
   "execution_count": 3,
   "id": "72751b76-f041-46d2-ae6f-151f963fc169",
   "metadata": {},
   "outputs": [
    {
     "name": "stdout",
     "output_type": "stream",
     "text": [
      "This is Python\n",
      "This is a Python\n",
      "C\n",
      "This is a multiline string with more than one lines to be printed. And it can be printed as it is \n",
      "😀😆🤣\n",
      "raw \\n string\n"
     ]
    }
   ],
   "source": [
    "string = 'This is Python'\n",
    "strings = \"This is a Python\"\n",
    "# python doesnot differ in character and string it considers it as string\n",
    "\n",
    "char=\"C\"\n",
    "multiline_str=\"\"\"This is a multiline string with more than one lines to be printed. And it can be printed as it is \"\"\"\n",
    "unicode=u\"\\U0001f600\\U0001F606\\U0001F923\"\n",
    "raw_str=r\"raw \\n string\"\n",
    "\n",
    "print(string)\n",
    "print(strings)\n",
    "print(char)\n",
    "print(multiline_str)\n",
    "print(unicode)\n",
    "print(raw_str)\n",
    "\n"
   ]
  },
  {
   "cell_type": "markdown",
   "id": "51f5d01b-332e-4d6d-8407-a5ce43a86ff7",
   "metadata": {},
   "source": [
    "3. Boolean Literal"
   ]
  },
  {
   "cell_type": "code",
   "execution_count": 4,
   "id": "69f062b5-b65e-413e-ac1e-c6d9f113117f",
   "metadata": {},
   "outputs": [
    {
     "name": "stdout",
     "output_type": "stream",
     "text": [
      "a: 5\n",
      "b: 10\n"
     ]
    }
   ],
   "source": [
    "a=True+4\n",
    "b=False + 10\n",
    "\n",
    "print(\"a:\",a)\n",
    "print(\"b:\", b)\n",
    "# python by default considers true as 1 and false as 0\n"
   ]
  },
  {
   "cell_type": "markdown",
   "id": "6139557a-fb85-479c-b253-751e6c071fb3",
   "metadata": {},
   "source": [
    "4. Special Literal\n",
    "   "
   ]
  },
  {
   "cell_type": "code",
   "execution_count": 5,
   "id": "39a22911-c2b3-4700-8138-e47e858c9332",
   "metadata": {},
   "outputs": [
    {
     "name": "stdout",
     "output_type": "stream",
     "text": [
      "None\n"
     ]
    }
   ],
   "source": [
    "a=None\n",
    "print(a)"
   ]
  },
  {
   "cell_type": "code",
   "execution_count": 5,
   "id": "a98572cb-aae0-4b40-998c-665810e1daa9",
   "metadata": {},
   "outputs": [],
   "source": [
    "c=34+45\n"
   ]
  },
  {
   "cell_type": "code",
   "execution_count": 6,
   "id": "a0ee6c3b-967a-4ada-a3a6-9b4d5e73f5e3",
   "metadata": {},
   "outputs": [
    {
     "ename": "NameError",
     "evalue": "name 'k' is not defined",
     "output_type": "error",
     "traceback": [
      "\u001b[31m---------------------------------------------------------------------------\u001b[39m",
      "\u001b[31mNameError\u001b[39m                                 Traceback (most recent call last)",
      "\u001b[36mCell\u001b[39m\u001b[36m \u001b[39m\u001b[32mIn[6]\u001b[39m\u001b[32m, line 1\u001b[39m\n\u001b[32m----> \u001b[39m\u001b[32m1\u001b[39m \u001b[43mk\u001b[49m\n",
      "\u001b[31mNameError\u001b[39m: name 'k' is not defined"
     ]
    }
   ],
   "source": [
    "k\n"
   ]
  },
  {
   "cell_type": "code",
   "execution_count": 7,
   "id": "669c27ea-664e-406a-811f-a5c7f903ea80",
   "metadata": {},
   "outputs": [],
   "source": [
    "#therefore we use none to declare variables \n",
    "k=None"
   ]
  }
 ],
 "metadata": {
  "kernelspec": {
   "display_name": "Python 3 (ipykernel)",
   "language": "python",
   "name": "python3"
  },
  "language_info": {
   "codemirror_mode": {
    "name": "ipython",
    "version": 3
   },
   "file_extension": ".py",
   "mimetype": "text/x-python",
   "name": "python",
   "nbconvert_exporter": "python",
   "pygments_lexer": "ipython3",
   "version": "3.13.7"
  }
 },
 "nbformat": 4,
 "nbformat_minor": 5
}
