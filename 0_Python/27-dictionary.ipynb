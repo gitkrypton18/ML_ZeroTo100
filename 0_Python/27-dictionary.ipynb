{
 "cells": [
  {
   "cell_type": "markdown",
   "id": "54076611-5b22-4fb8-a11b-37efa277b5c3",
   "metadata": {},
   "source": [
    "## Dictionary in Python"
   ]
  },
  {
   "cell_type": "markdown",
   "id": "998b4ce4-5903-4a3d-9e44-8682c65b74d6",
   "metadata": {},
   "source": [
    "Special Data type key values"
   ]
  },
  {
   "cell_type": "code",
   "execution_count": 16,
   "id": "37defb45-e1d2-456e-9d09-df1a19de2b79",
   "metadata": {},
   "outputs": [
    {
     "data": {
      "text/plain": [
       "{'Name': 'Kalpit', 'Gender': 'Male'}"
      ]
     },
     "execution_count": 16,
     "metadata": {},
     "output_type": "execute_result"
    }
   ],
   "source": [
    "{'Name': \"Kalpit\", 'Gender':\"Male\"}"
   ]
  },
  {
   "cell_type": "markdown",
   "id": "994a3a0d-87a0-4f2c-8f3e-8282053c817d",
   "metadata": {},
   "source": [
    "## Rules\n",
    "- Dictionary has no indexing\n",
    "- Dictionary is a mutable types\n",
    "- Keys -> immutable, values -> they can be mutable\n",
    "- Keys should be unique"
   ]
  },
  {
   "cell_type": "markdown",
   "id": "1d92e899-3a5b-445c-8784-6cded83492b2",
   "metadata": {},
   "source": [
    "## Remember\n",
    "- Mutable : Lists/Dictionary/Sets\n",
    "- Immutable : Strings/Tuples/int/boolean/floatr/complex"
   ]
  },
  {
   "cell_type": "markdown",
   "id": "ae383bb1-6175-49d6-a96a-eea4f99961b4",
   "metadata": {},
   "source": [
    "## Create"
   ]
  },
  {
   "cell_type": "code",
   "execution_count": 17,
   "id": "bb1b6e3c-2550-487f-857a-6d0b1218999f",
   "metadata": {},
   "outputs": [
    {
     "data": {
      "text/plain": [
       "{'Name': 'Kalpit', 'Gender': 'Male'}"
      ]
     },
     "execution_count": 17,
     "metadata": {},
     "output_type": "execute_result"
    }
   ],
   "source": [
    "D={\"Name\": \"Kalpit\", \"Gender\":\"Male\"}\n",
    "D"
   ]
  },
  {
   "cell_type": "code",
   "execution_count": 20,
   "id": "e99ba775-87d9-414f-ae00-cb21e47d007e",
   "metadata": {},
   "outputs": [
    {
     "ename": "TypeError",
     "evalue": "unhashable type: 'list'",
     "output_type": "error",
     "traceback": [
      "\u001b[31m---------------------------------------------------------------------------\u001b[39m",
      "\u001b[31mTypeError\u001b[39m                                 Traceback (most recent call last)",
      "\u001b[36mCell\u001b[39m\u001b[36m \u001b[39m\u001b[32mIn[20]\u001b[39m\u001b[32m, line 1\u001b[39m\n\u001b[32m----> \u001b[39m\u001b[32m1\u001b[39m D1={[\u001b[32m1\u001b[39m,\u001b[32m2\u001b[39m,\u001b[32m3\u001b[39m]: \u001b[33m'\u001b[39m\u001b[33mKalpit\u001b[39m\u001b[33m'\u001b[39m}\n",
      "\u001b[31mTypeError\u001b[39m: unhashable type: 'list'"
     ]
    }
   ],
   "source": [
    "D1={[1,2,3]: 'Kalpit'}"
   ]
  },
  {
   "cell_type": "code",
   "execution_count": 21,
   "id": "7b9dee63-0ef7-49a3-884d-d3e07ee31fce",
   "metadata": {},
   "outputs": [],
   "source": [
    "D1={(1,2,3): 'Kalpit'}"
   ]
  },
  {
   "cell_type": "code",
   "execution_count": 22,
   "id": "12e39cf3-07e4-4254-ad83-eeada9be70dd",
   "metadata": {},
   "outputs": [],
   "source": [
    "D2 = {'Name': 'Rahul', 'Name' : \"Rohit\"}"
   ]
  },
  {
   "cell_type": "code",
   "execution_count": 23,
   "id": "91eac984-5ace-402e-9d9d-23ee906f44d8",
   "metadata": {},
   "outputs": [
    {
     "data": {
      "text/plain": [
       "{'Name': 'Rohit'}"
      ]
     },
     "execution_count": 23,
     "metadata": {},
     "output_type": "execute_result"
    }
   ],
   "source": [
    "D2\n",
    "# in dictionary it will remmeber only the latest key changes"
   ]
  },
  {
   "cell_type": "code",
   "execution_count": 24,
   "id": "38e41de5-3655-4fc9-819c-f953da0cdba0",
   "metadata": {},
   "outputs": [],
   "source": [
    "D3={'Name':'Rohit','College':'HIT','Marks': {'M1':56, 'DS': 74,'EE':23}}"
   ]
  },
  {
   "cell_type": "code",
   "execution_count": 25,
   "id": "0c9b028b-0511-46a8-9d26-d8751fc8e2af",
   "metadata": {},
   "outputs": [
    {
     "data": {
      "text/plain": [
       "{'Name': 'Rohit', 'College': 'HIT', 'Marks': {'M1': 56, 'DS': 74, 'EE': 23}}"
      ]
     },
     "execution_count": 25,
     "metadata": {},
     "output_type": "execute_result"
    }
   ],
   "source": [
    "D3\n",
    "# 2D Dictionary"
   ]
  },
  {
   "cell_type": "markdown",
   "id": "276f1683-abf7-4747-9281-ecd0744329b2",
   "metadata": {},
   "source": [
    "## Accessing Items from a Dictionary\n",
    "Dictionary has not indexing it only has keys"
   ]
  },
  {
   "cell_type": "code",
   "execution_count": 26,
   "id": "73ed2709-d254-48e3-b6ef-fe6a9c66bcd2",
   "metadata": {},
   "outputs": [
    {
     "ename": "KeyError",
     "evalue": "0",
     "output_type": "error",
     "traceback": [
      "\u001b[31m---------------------------------------------------------------------------\u001b[39m",
      "\u001b[31mKeyError\u001b[39m                                  Traceback (most recent call last)",
      "\u001b[36mCell\u001b[39m\u001b[36m \u001b[39m\u001b[32mIn[26]\u001b[39m\u001b[32m, line 1\u001b[39m\n\u001b[32m----> \u001b[39m\u001b[32m1\u001b[39m \u001b[43mD\u001b[49m\u001b[43m[\u001b[49m\u001b[32;43m0\u001b[39;49m\u001b[43m]\u001b[49m\n",
      "\u001b[31mKeyError\u001b[39m: 0"
     ]
    }
   ],
   "source": [
    "D[0]"
   ]
  },
  {
   "cell_type": "code",
   "execution_count": 27,
   "id": "8ff7f18b-d47a-45a0-85fd-238b41254a24",
   "metadata": {},
   "outputs": [
    {
     "data": {
      "text/plain": [
       "'Kalpit'"
      ]
     },
     "execution_count": 27,
     "metadata": {},
     "output_type": "execute_result"
    }
   ],
   "source": [
    "D[\"Name\"]"
   ]
  },
  {
   "cell_type": "code",
   "execution_count": 28,
   "id": "3dca81ed-2858-421f-9cf7-c9313bc3abcd",
   "metadata": {},
   "outputs": [
    {
     "data": {
      "text/plain": [
       "'Male'"
      ]
     },
     "execution_count": 28,
     "metadata": {},
     "output_type": "execute_result"
    }
   ],
   "source": [
    "D[\"Gender\"]"
   ]
  },
  {
   "cell_type": "code",
   "execution_count": 31,
   "id": "78c0278f-81f3-46e4-8216-0514a7a0fd12",
   "metadata": {},
   "outputs": [
    {
     "data": {
      "text/plain": [
       "{'M1': 56, 'DS': 74, 'EE': 23}"
      ]
     },
     "execution_count": 31,
     "metadata": {},
     "output_type": "execute_result"
    }
   ],
   "source": [
    "# 2D Dictionary\n",
    "D3[\"Marks\"]"
   ]
  },
  {
   "cell_type": "code",
   "execution_count": 32,
   "id": "1db39b9e-db26-49e9-8441-5756e88cb44d",
   "metadata": {},
   "outputs": [
    {
     "data": {
      "text/plain": [
       "74"
      ]
     },
     "execution_count": 32,
     "metadata": {},
     "output_type": "execute_result"
    }
   ],
   "source": [
    "D3[\"Marks\"][\"DS\"]"
   ]
  },
  {
   "cell_type": "code",
   "execution_count": 34,
   "id": "8698114e-5572-4bf2-9d2f-7f077b2847bc",
   "metadata": {},
   "outputs": [
    {
     "data": {
      "text/plain": [
       "'Kalpit'"
      ]
     },
     "execution_count": 34,
     "metadata": {},
     "output_type": "execute_result"
    }
   ],
   "source": [
    "D.get(\"Name\")"
   ]
  },
  {
   "cell_type": "markdown",
   "id": "f0f57da2-ef5c-44c5-8c50-a8eb4b1cfe15",
   "metadata": {},
   "source": [
    "## Editing a Dictionary"
   ]
  },
  {
   "cell_type": "code",
   "execution_count": 33,
   "id": "ebe7de9c-7433-4235-b1b4-8ab0e320ab0c",
   "metadata": {},
   "outputs": [
    {
     "data": {
      "text/plain": [
       "{'Name': 'Kalpit', 'Gender': 'Male'}"
      ]
     },
     "execution_count": 33,
     "metadata": {},
     "output_type": "execute_result"
    }
   ],
   "source": [
    "D"
   ]
  },
  {
   "cell_type": "code",
   "execution_count": 36,
   "id": "672eb76c-51c1-492b-96a4-31963f894390",
   "metadata": {},
   "outputs": [],
   "source": [
    "D[\"Age\"]=23"
   ]
  },
  {
   "cell_type": "code",
   "execution_count": 37,
   "id": "066576e9-8672-45fc-b642-6fe71a6907fe",
   "metadata": {},
   "outputs": [
    {
     "data": {
      "text/plain": [
       "{'Name': 'Kalpit', 'Gender': 'Male', 'Age': 23}"
      ]
     },
     "execution_count": 37,
     "metadata": {},
     "output_type": "execute_result"
    }
   ],
   "source": [
    "D"
   ]
  },
  {
   "cell_type": "code",
   "execution_count": 38,
   "id": "94d4e146-92c1-4aea-b12b-f58dd6361b0c",
   "metadata": {},
   "outputs": [],
   "source": [
    "D3[\"Marks\"][\"DS\"]=50"
   ]
  },
  {
   "cell_type": "code",
   "execution_count": 39,
   "id": "f4dcddf9-3350-4ef2-b315-a316713437d3",
   "metadata": {},
   "outputs": [
    {
     "data": {
      "text/plain": [
       "{'Name': 'Rohit', 'College': 'HIT', 'Marks': {'M1': 56, 'DS': 50, 'EE': 23}}"
      ]
     },
     "execution_count": 39,
     "metadata": {},
     "output_type": "execute_result"
    }
   ],
   "source": [
    "D3"
   ]
  },
  {
   "cell_type": "markdown",
   "id": "fc13b272-29a2-4736-a530-2b6fbe7abf08",
   "metadata": {},
   "source": [
    "## Delete"
   ]
  },
  {
   "cell_type": "code",
   "execution_count": 40,
   "id": "62656145-d7d6-4572-9b9e-533ea32ccb96",
   "metadata": {},
   "outputs": [
    {
     "data": {
      "text/plain": [
       "{}"
      ]
     },
     "execution_count": 40,
     "metadata": {},
     "output_type": "execute_result"
    }
   ],
   "source": [
    "D5={}\n",
    "D5"
   ]
  },
  {
   "cell_type": "code",
   "execution_count": 41,
   "id": "b2289a0f-0c3b-457d-81d4-4bbb6b32c66d",
   "metadata": {},
   "outputs": [],
   "source": [
    "del D5"
   ]
  },
  {
   "cell_type": "code",
   "execution_count": 42,
   "id": "65a0a9b6-e2a6-4921-a01c-146de075b129",
   "metadata": {},
   "outputs": [
    {
     "ename": "NameError",
     "evalue": "name 'D5' is not defined",
     "output_type": "error",
     "traceback": [
      "\u001b[31m---------------------------------------------------------------------------\u001b[39m",
      "\u001b[31mNameError\u001b[39m                                 Traceback (most recent call last)",
      "\u001b[36mCell\u001b[39m\u001b[36m \u001b[39m\u001b[32mIn[42]\u001b[39m\u001b[32m, line 1\u001b[39m\n\u001b[32m----> \u001b[39m\u001b[32m1\u001b[39m \u001b[43mD5\u001b[49m\n",
      "\u001b[31mNameError\u001b[39m: name 'D5' is not defined"
     ]
    }
   ],
   "source": [
    "D5"
   ]
  },
  {
   "cell_type": "code",
   "execution_count": 44,
   "id": "a09a459d-9d31-4d8e-9c67-c721b72bec70",
   "metadata": {},
   "outputs": [
    {
     "data": {
      "text/plain": [
       "{'Name': 'Kalpit', 'Gender': 'Male', 'Age': 23}"
      ]
     },
     "execution_count": 44,
     "metadata": {},
     "output_type": "execute_result"
    }
   ],
   "source": [
    "D"
   ]
  },
  {
   "cell_type": "code",
   "execution_count": 45,
   "id": "e55b0425-12c6-49ef-ad76-51d731e0fa2d",
   "metadata": {},
   "outputs": [],
   "source": [
    "del D[\"Gender\"]"
   ]
  },
  {
   "cell_type": "code",
   "execution_count": 46,
   "id": "e5e13d64-c117-44e1-813d-4588a4194266",
   "metadata": {},
   "outputs": [
    {
     "data": {
      "text/plain": [
       "{'Name': 'Kalpit', 'Age': 23}"
      ]
     },
     "execution_count": 46,
     "metadata": {},
     "output_type": "execute_result"
    }
   ],
   "source": [
    "D"
   ]
  },
  {
   "cell_type": "code",
   "execution_count": 47,
   "id": "1fe70b56-9a9b-4939-93c5-1c437e66a8ad",
   "metadata": {},
   "outputs": [],
   "source": [
    "D.clear()"
   ]
  },
  {
   "cell_type": "code",
   "execution_count": 48,
   "id": "44ae88dc-daaa-4a80-b71f-1ebd212ea73c",
   "metadata": {},
   "outputs": [
    {
     "data": {
      "text/plain": [
       "{}"
      ]
     },
     "execution_count": 48,
     "metadata": {},
     "output_type": "execute_result"
    }
   ],
   "source": [
    "D"
   ]
  },
  {
   "cell_type": "markdown",
   "id": "52a5344e-c749-40b4-bea7-9c5eea7acbcd",
   "metadata": {},
   "source": [
    "## Operations"
   ]
  },
  {
   "cell_type": "code",
   "execution_count": 49,
   "id": "b85a1ad3-af42-4128-b79c-d664f6937cd3",
   "metadata": {},
   "outputs": [
    {
     "data": {
      "text/plain": [
       "{(1, 2, 3): 'Kalpit'}"
      ]
     },
     "execution_count": 49,
     "metadata": {},
     "output_type": "execute_result"
    }
   ],
   "source": [
    "D1"
   ]
  },
  {
   "cell_type": "code",
   "execution_count": 50,
   "id": "cd7fd652-80ac-4751-bfda-7198c9425f18",
   "metadata": {},
   "outputs": [
    {
     "data": {
      "text/plain": [
       "{'Name': 'Rohit'}"
      ]
     },
     "execution_count": 50,
     "metadata": {},
     "output_type": "execute_result"
    }
   ],
   "source": [
    "D2"
   ]
  },
  {
   "cell_type": "code",
   "execution_count": 51,
   "id": "2c6277db-b23c-408a-bdae-e8a9001f4fec",
   "metadata": {},
   "outputs": [
    {
     "data": {
      "text/plain": [
       "{'Name': 'Rohit', 'College': 'HIT', 'Marks': {'M1': 56, 'DS': 50, 'EE': 23}}"
      ]
     },
     "execution_count": 51,
     "metadata": {},
     "output_type": "execute_result"
    }
   ],
   "source": [
    "D3"
   ]
  },
  {
   "cell_type": "code",
   "execution_count": 52,
   "id": "6f2b60ec-6b99-4157-a2c3-4d29e312ec93",
   "metadata": {},
   "outputs": [
    {
     "ename": "TypeError",
     "evalue": "unsupported operand type(s) for +: 'dict' and 'dict'",
     "output_type": "error",
     "traceback": [
      "\u001b[31m---------------------------------------------------------------------------\u001b[39m",
      "\u001b[31mTypeError\u001b[39m                                 Traceback (most recent call last)",
      "\u001b[36mCell\u001b[39m\u001b[36m \u001b[39m\u001b[32mIn[52]\u001b[39m\u001b[32m, line 1\u001b[39m\n\u001b[32m----> \u001b[39m\u001b[32m1\u001b[39m \u001b[43mD1\u001b[49m\u001b[43m+\u001b[49m\u001b[43mD2\u001b[49m\n",
      "\u001b[31mTypeError\u001b[39m: unsupported operand type(s) for +: 'dict' and 'dict'"
     ]
    }
   ],
   "source": [
    "D1+D2\n",
    "# Conactenation doesnot work in dictionaries"
   ]
  },
  {
   "cell_type": "code",
   "execution_count": 53,
   "id": "4a24ed96-8982-4ed1-b96a-6d5babb82407",
   "metadata": {},
   "outputs": [
    {
     "name": "stdout",
     "output_type": "stream",
     "text": [
      "Name\n",
      "College\n",
      "Marks\n"
     ]
    }
   ],
   "source": [
    "# Loops\n",
    "for i in D3:\n",
    "    print (i)\n",
    "    # we only get keys not values"
   ]
  },
  {
   "cell_type": "code",
   "execution_count": 55,
   "id": "d76f69cc-772b-460a-9a13-f0a8f08232fb",
   "metadata": {},
   "outputs": [
    {
     "name": "stdout",
     "output_type": "stream",
     "text": [
      "Name Rohit\n",
      "College HIT\n",
      "Marks {'M1': 56, 'DS': 50, 'EE': 23}\n"
     ]
    }
   ],
   "source": [
    "# for values\n",
    "for i in D3:\n",
    "    print(i,D3[i])"
   ]
  },
  {
   "cell_type": "code",
   "execution_count": 56,
   "id": "1b75ad70-96b6-4ebc-81a2-e9b6bff93519",
   "metadata": {},
   "outputs": [
    {
     "data": {
      "text/plain": [
       "{'Name': 'Rohit', 'College': 'HIT', 'Marks': {'M1': 56, 'DS': 50, 'EE': 23}}"
      ]
     },
     "execution_count": 56,
     "metadata": {},
     "output_type": "execute_result"
    }
   ],
   "source": [
    "D3"
   ]
  },
  {
   "cell_type": "code",
   "execution_count": 58,
   "id": "3483e4c1-31c3-40b9-ac63-f0d320f1e796",
   "metadata": {},
   "outputs": [
    {
     "data": {
      "text/plain": [
       "False"
      ]
     },
     "execution_count": 58,
     "metadata": {},
     "output_type": "execute_result"
    }
   ],
   "source": [
    "# Membership Operator\"\n",
    "\"Rohit\" in D3"
   ]
  },
  {
   "cell_type": "code",
   "execution_count": 59,
   "id": "6d93dfc8-ab60-4989-808b-1e89f916cfc8",
   "metadata": {},
   "outputs": [
    {
     "data": {
      "text/plain": [
       "True"
      ]
     },
     "execution_count": 59,
     "metadata": {},
     "output_type": "execute_result"
    }
   ],
   "source": [
    "\"Name\"in D3\n"
   ]
  },
  {
   "cell_type": "code",
   "execution_count": 60,
   "id": "bf9077d9-36f7-4c8c-b354-8ce2d5d57311",
   "metadata": {},
   "outputs": [],
   "source": [
    "# Existence must be in keys"
   ]
  },
  {
   "cell_type": "markdown",
   "id": "d93df064-a393-440a-82cc-0ca0b99989c7",
   "metadata": {},
   "source": [
    "## Functions"
   ]
  },
  {
   "cell_type": "code",
   "execution_count": 61,
   "id": "55f05d09-487b-4508-8632-e95987847357",
   "metadata": {},
   "outputs": [
    {
     "data": {
      "text/plain": [
       "3"
      ]
     },
     "execution_count": 61,
     "metadata": {},
     "output_type": "execute_result"
    }
   ],
   "source": [
    "len(D3)"
   ]
  },
  {
   "cell_type": "code",
   "execution_count": 62,
   "id": "874eb2a7-1576-4826-8400-8083b1770a4e",
   "metadata": {},
   "outputs": [
    {
     "data": {
      "text/plain": [
       "'Name'"
      ]
     },
     "execution_count": 62,
     "metadata": {},
     "output_type": "execute_result"
    }
   ],
   "source": [
    "max(D3)"
   ]
  },
  {
   "cell_type": "code",
   "execution_count": 63,
   "id": "21d52082-6fa6-4103-bfe7-2a1061b83371",
   "metadata": {},
   "outputs": [
    {
     "data": {
      "text/plain": [
       "'College'"
      ]
     },
     "execution_count": 63,
     "metadata": {},
     "output_type": "execute_result"
    }
   ],
   "source": [
    "min(D3)"
   ]
  },
  {
   "cell_type": "code",
   "execution_count": 64,
   "id": "8eacc5e0-3be2-4829-a5c2-08b6bd06183f",
   "metadata": {},
   "outputs": [
    {
     "data": {
      "text/plain": [
       "['College', 'Marks', 'Name']"
      ]
     },
     "execution_count": 64,
     "metadata": {},
     "output_type": "execute_result"
    }
   ],
   "source": [
    "sorted(D3)"
   ]
  },
  {
   "cell_type": "code",
   "execution_count": 65,
   "id": "58865bfe-988b-4894-a3c0-337244f56122",
   "metadata": {},
   "outputs": [
    {
     "data": {
      "text/plain": [
       "['Name', 'Marks', 'College']"
      ]
     },
     "execution_count": 65,
     "metadata": {},
     "output_type": "execute_result"
    }
   ],
   "source": [
    "sorted(D3,reverse=True)"
   ]
  }
 ],
 "metadata": {
  "kernelspec": {
   "display_name": "Python 3 (ipykernel)",
   "language": "python",
   "name": "python3"
  },
  "language_info": {
   "codemirror_mode": {
    "name": "ipython",
    "version": 3
   },
   "file_extension": ".py",
   "mimetype": "text/x-python",
   "name": "python",
   "nbconvert_exporter": "python",
   "pygments_lexer": "ipython3",
   "version": "3.13.7"
  }
 },
 "nbformat": 4,
 "nbformat_minor": 5
}
