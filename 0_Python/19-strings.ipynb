{
 "cells": [
  {
   "cell_type": "markdown",
   "id": "f32f5fa1-6ac4-45cd-b243-8fb07e4b00d2",
   "metadata": {},
   "source": [
    "Strings are a sequence of unicode characters \n",
    "- Python allows us to :\n",
    "- Creating Strings\n",
    "- Acccessing Strings\n",
    "- Adding Char to Strings\n",
    "- Edting the Strings\n",
    "- Deleting the Strings\n",
    "- Operations on Strings\n",
    "- String Functions\n"
   ]
  },
  {
   "cell_type": "code",
   "execution_count": null,
   "id": "30382567-4df9-4c25-8531-2256c91afd93",
   "metadata": {},
   "outputs": [],
   "source": [
    "# python allows us to use double as well as single quotes\n"
   ]
  },
  {
   "cell_type": "code",
   "execution_count": 1,
   "id": "47aa8e94-806f-4778-a68a-1220417e1cd7",
   "metadata": {},
   "outputs": [
    {
     "data": {
      "text/plain": [
       "\"It's raining outside\""
      ]
     },
     "execution_count": 1,
     "metadata": {},
     "output_type": "execute_result"
    }
   ],
   "source": [
    "\"It's raining outside\""
   ]
  },
  {
   "cell_type": "code",
   "execution_count": 2,
   "id": "66624041-a3d2-421e-8269-ced7d15d9d78",
   "metadata": {},
   "outputs": [
    {
     "name": "stdout",
     "output_type": "stream",
     "text": [
      "Hello\n"
     ]
    }
   ],
   "source": [
    "c='''Hello'''\n",
    "print (c)\n",
    "# multi line strings\n"
   ]
  },
  {
   "cell_type": "code",
   "execution_count": 3,
   "id": "9f1cf465-f5f4-441b-8329-93ea73253d3e",
   "metadata": {},
   "outputs": [
    {
     "name": "stdout",
     "output_type": "stream",
     "text": [
      "Hello\n"
     ]
    }
   ],
   "source": [
    "c=str(\"Hello\")\n",
    "print(c)"
   ]
  }
 ],
 "metadata": {
  "kernelspec": {
   "display_name": "Python 3 (ipykernel)",
   "language": "python",
   "name": "python3"
  },
  "language_info": {
   "codemirror_mode": {
    "name": "ipython",
    "version": 3
   },
   "file_extension": ".py",
   "mimetype": "text/x-python",
   "name": "python",
   "nbconvert_exporter": "python",
   "pygments_lexer": "ipython3",
   "version": "3.13.7"
  }
 },
 "nbformat": 4,
 "nbformat_minor": 5
}
