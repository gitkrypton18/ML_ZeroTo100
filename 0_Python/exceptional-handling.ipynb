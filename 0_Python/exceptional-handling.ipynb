{
 "cells": [
  {
   "cell_type": "code",
   "execution_count": 34,
   "id": "c07507d9-c07b-4003-8eab-5bc8ca74bdcf",
   "metadata": {},
   "outputs": [
    {
     "ename": "FileNotFoundError",
     "evalue": "[Errno 2] No such file or directory: 'testfile.txt'",
     "output_type": "error",
     "traceback": [
      "\u001b[31m---------------------------------------------------------------------------\u001b[39m",
      "\u001b[31mFileNotFoundError\u001b[39m                         Traceback (most recent call last)",
      "\u001b[36mCell\u001b[39m\u001b[36m \u001b[39m\u001b[32mIn[34]\u001b[39m\u001b[32m, line 2\u001b[39m\n\u001b[32m      1\u001b[39m \u001b[38;5;66;03m# lets do something that throws an error\u001b[39;00m\n\u001b[32m----> \u001b[39m\u001b[32m2\u001b[39m f=\u001b[38;5;28;43mopen\u001b[39;49m\u001b[43m(\u001b[49m\u001b[33;43m'\u001b[39;49m\u001b[33;43mtestfile.txt\u001b[39;49m\u001b[33;43m'\u001b[39;49m\u001b[43m)\u001b[49m\n",
      "\u001b[36mFile \u001b[39m\u001b[32m~\\AppData\\Local\\Programs\\Python\\Python313\\Lib\\site-packages\\IPython\\core\\interactiveshell.py:326\u001b[39m, in \u001b[36m_modified_open\u001b[39m\u001b[34m(file, *args, **kwargs)\u001b[39m\n\u001b[32m    319\u001b[39m \u001b[38;5;28;01mif\u001b[39;00m file \u001b[38;5;129;01min\u001b[39;00m {\u001b[32m0\u001b[39m, \u001b[32m1\u001b[39m, \u001b[32m2\u001b[39m}:\n\u001b[32m    320\u001b[39m     \u001b[38;5;28;01mraise\u001b[39;00m \u001b[38;5;167;01mValueError\u001b[39;00m(\n\u001b[32m    321\u001b[39m         \u001b[33mf\u001b[39m\u001b[33m\"\u001b[39m\u001b[33mIPython won\u001b[39m\u001b[33m'\u001b[39m\u001b[33mt let you open fd=\u001b[39m\u001b[38;5;132;01m{\u001b[39;00mfile\u001b[38;5;132;01m}\u001b[39;00m\u001b[33m by default \u001b[39m\u001b[33m\"\u001b[39m\n\u001b[32m    322\u001b[39m         \u001b[33m\"\u001b[39m\u001b[33mas it is likely to crash IPython. If you know what you are doing, \u001b[39m\u001b[33m\"\u001b[39m\n\u001b[32m    323\u001b[39m         \u001b[33m\"\u001b[39m\u001b[33myou can use builtins\u001b[39m\u001b[33m'\u001b[39m\u001b[33m open.\u001b[39m\u001b[33m\"\u001b[39m\n\u001b[32m    324\u001b[39m     )\n\u001b[32m--> \u001b[39m\u001b[32m326\u001b[39m \u001b[38;5;28;01mreturn\u001b[39;00m \u001b[43mio_open\u001b[49m\u001b[43m(\u001b[49m\u001b[43mfile\u001b[49m\u001b[43m,\u001b[49m\u001b[43m \u001b[49m\u001b[43m*\u001b[49m\u001b[43margs\u001b[49m\u001b[43m,\u001b[49m\u001b[43m \u001b[49m\u001b[43m*\u001b[49m\u001b[43m*\u001b[49m\u001b[43mkwargs\u001b[49m\u001b[43m)\u001b[49m\n",
      "\u001b[31mFileNotFoundError\u001b[39m: [Errno 2] No such file or directory: 'testfile.txt'"
     ]
    }
   ],
   "source": [
    "# lets do something that throws an error\n",
    "f=open('testfile.txt')\n"
   ]
  },
  {
   "cell_type": "code",
   "execution_count": 35,
   "id": "6405b505-f58d-4ea9-a7bc-70f705b25bcb",
   "metadata": {},
   "outputs": [
    {
     "name": "stdout",
     "output_type": "stream",
     "text": [
      "Sorry. This file doesnot exist\n"
     ]
    }
   ],
   "source": [
    "# try and except \n",
    "try:\n",
    "    f=open('testfile.txt')\n",
    "except Exception:\n",
    "    print('Sorry. This file doesnot exist')\n",
    "\n",
    "# We received an customised error machine \n",
    "\n"
   ]
  },
  {
   "cell_type": "code",
   "execution_count": 36,
   "id": "53b564e2-b671-4602-b135-d1356310d926",
   "metadata": {},
   "outputs": [
    {
     "name": "stdout",
     "output_type": "stream",
     "text": [
      "[Errno 2] No such file or directory: 'test__file.txt'\n"
     ]
    }
   ],
   "source": [
    "# try and except \n",
    "try:\n",
    "    f=open('test__file.txt')\n",
    "    \n",
    "except FileNotFoundError as e :\n",
    "    print(e)\n",
    "except Exception as e:\n",
    "    print(e)\n",
    "\n",
    "#SPECIFIC EXCEPTIONS AT THE TOP AND MORE GENREAL BELOW THEM\n",
    "# We received an customised error machine \n",
    "\n"
   ]
  },
  {
   "cell_type": "code",
   "execution_count": 37,
   "id": "2397db80-782f-4636-8450-850e285926af",
   "metadata": {},
   "outputs": [
    {
     "name": "stdout",
     "output_type": "stream",
     "text": [
      "name 'bad_var' is not defined\n"
     ]
    }
   ],
   "source": [
    "# try and except \n",
    "try:\n",
    "    f=open('testfile2.txt')\n",
    "    var=bad_var\n",
    "except FileNotFoundError as e :\n",
    "    print(e)\n",
    "except Exception as e:\n",
    "    print(e)\n",
    "\n",
    "#SPECIFIC EXCEPTIONS AT THE TOP AND MORE GENREAL BELOW THEM\n",
    "# We received an customised error machine \n",
    "\n",
    "\n"
   ]
  },
  {
   "cell_type": "code",
   "execution_count": 38,
   "id": "cf58cd39-d1d9-4e3c-9433-4498f385252d",
   "metadata": {},
   "outputs": [],
   "source": [
    "# try and except \n",
    "try:\n",
    "    f=open('testfile2.txt')\n",
    "    \n",
    "except FileNotFoundError as e :\n",
    "    print(e)\n",
    "except Exception as e:\n",
    "    print(e)\n",
    "\n",
    "#SPECIFIC EXCEPTIONS AT THE TOP AND MORE GENREAL BELOW THEM\n",
    "# We received an customised error machine \n",
    "\n",
    "\n"
   ]
  },
  {
   "cell_type": "code",
   "execution_count": null,
   "id": "76bb1497-b758-45ef-8f90-412b8fc7a681",
   "metadata": {},
   "outputs": [],
   "source": [
    "# executed successfully\n"
   ]
  },
  {
   "cell_type": "code",
   "execution_count": 40,
   "id": "2d3e6fd9-abaa-4ac5-9274-53b2e9a87706",
   "metadata": {},
   "outputs": [
    {
     "name": "stdout",
     "output_type": "stream",
     "text": [
      "I am Kalpit \n",
      "Hello World\n",
      "We love Python \n",
      "Baat nhi krni usse ab \n",
      "\n"
     ]
    }
   ],
   "source": [
    "# else and finally blocks\n",
    "try:\n",
    "    f=open('testfile2.txt')\n",
    "    \n",
    "except FileNotFoundError as e :\n",
    "    print(e)\n",
    "except Exception as e:\n",
    "    print(e)\n",
    "\n",
    "else :\n",
    "    print(f.read())\n",
    "    f.close()\n"
   ]
  },
  {
   "cell_type": "code",
   "execution_count": 43,
   "id": "f8d096ce-3a31-42c5-8382-cea6493f3925",
   "metadata": {},
   "outputs": [
    {
     "name": "stdout",
     "output_type": "stream",
     "text": [
      "I am Kalpit \n",
      "Hello World\n",
      "We love Python \n",
      "Baat nhi krni usse ab \n",
      "\n",
      "\n"
     ]
    }
   ],
   "source": [
    "# finally and pass\n",
    "try:\n",
    "    f=open('testfile2.txt')\n",
    "    print(f.read())\n",
    "    \n",
    "except FileNotFoundError as e :\n",
    "    print(e)\n",
    "except Exception as e:\n",
    "    print(e)\n",
    "\n",
    "else :\n",
    "    print(f.read())\n",
    "    f.close()\n",
    "finally :\n",
    "    pass\n"
   ]
  },
  {
   "cell_type": "code",
   "execution_count": null,
   "id": "dfaab678-7ed1-4e52-a30f-c79e746d9e5c",
   "metadata": {},
   "outputs": [],
   "source": [
    "# finally and pass\n",
    "try:\n",
    "    f=open('testfile2.txt')\n",
    "    print(f.read())\n",
    "    \n",
    "except FileNotFoundError as e :\n",
    "    print(e)\n",
    "except Exception as e:\n",
    "    print(e)\n",
    "\n",
    "else :\n",
    "    print(f.read())\n",
    "    f.close()\n",
    "finally :\n",
    "    print\n"
   ]
  }
 ],
 "metadata": {
  "kernelspec": {
   "display_name": "Python 3 (ipykernel)",
   "language": "python",
   "name": "python3"
  },
  "language_info": {
   "codemirror_mode": {
    "name": "ipython",
    "version": 3
   },
   "file_extension": ".py",
   "mimetype": "text/x-python",
   "name": "python",
   "nbconvert_exporter": "python",
   "pygments_lexer": "ipython3",
   "version": "3.13.3"
  }
 },
 "nbformat": 4,
 "nbformat_minor": 5
}
