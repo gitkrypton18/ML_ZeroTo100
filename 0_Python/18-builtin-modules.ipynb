{
 "cells": [
  {
   "cell_type": "markdown",
   "id": "da8c1442-457a-436a-a7ce-f5caf3d31200",
   "metadata": {},
   "source": [
    "### What are modules ?\n",
    "Consider a module be same as a code library\n",
    "A flie containing a set of functions you want to include in your application\n",
    "Examples:\n",
    "Math\n",
    "Random\n",
    "os\n",
    "time\n",
    "\n"
   ]
  },
  {
   "cell_type": "code",
   "execution_count": 1,
   "id": "941d6570-cb45-4f9a-9276-f60c07628843",
   "metadata": {},
   "outputs": [
    {
     "name": "stdout",
     "output_type": "stream",
     "text": [
      "\n",
      "Please wait a moment while I gather a list of all available modules...\n",
      "\n",
      "test_sqlite3: testing with SQLite version 3.49.1\n",
      "IPython             atexit              linecache           stat\n",
      "PIL                 attr                locale              statistics\n",
      "__future__          attrs               logging             string\n",
      "__hello__           autocommand         lzma                stringprep\n",
      "__phello__          babel               mailbox             struct\n",
      "_abc                backports           markupsafe          subprocess\n",
      "_aix_support        base64              marshal             symtable\n",
      "_android_support    bdb                 math                sys\n",
      "_apple_support      binascii            matplotlib          sysconfig\n",
      "_argon2_cffi_bindings bisect              matplotlib_inline   tabnanny\n",
      "_ast                bleach              mimetypes           tarfile\n",
      "_asyncio            bs4                 mistune             tempfile\n",
      "_bisect             builtins            mmap                terminado\n",
      "_blake2             bz2                 mmapfile            test\n",
      "_bz2                cProfile            mmsystem            textwrap\n",
      "_cffi_backend       calendar            modulefinder        themes\n",
      "_codecs             certifi             more_itertools      this\n",
      "_codecs_cn          cffi                msvcrt              threading\n",
      "_codecs_hk          charset_normalizer  multiprocessing     time\n",
      "_codecs_iso2022     cmath               nbclient            timeit\n",
      "_codecs_jp          cmd                 nbconvert           timer\n",
      "_codecs_kr          code                nbformat            tinycss2\n",
      "_codecs_tw          codecs              nest_asyncio        tkinter\n",
      "_collections        codeop              netbios             token\n",
      "_collections_abc    collections         netrc               tokenize\n",
      "_colorize           colorama            notebook            tomli\n",
      "_compat_pickle      colorsys            notebook_shim       tomllib\n",
      "_compression        comm                nt                  tornado\n",
      "_contextvars        commctrl            ntpath              trace\n",
      "_csv                compileall          ntsecuritycon       traceback\n",
      "_ctypes             concurrent          nturl2path          tracemalloc\n",
      "_ctypes_test        configparser        numbers             traitlets\n",
      "_datetime           contextlib          numpy               tty\n",
      "_decimal            contextvars         odbc                turtle\n",
      "_distutils_hack     contourpy           opcode              turtledemo\n",
      "_elementtree        copy                operator            typeguard\n",
      "_functools          copyreg             optparse            types\n",
      "_hashlib            csv                 os                  typing\n",
      "_heapq              ctypes              overrides           typing_extensions\n",
      "_imp                curses              packaging           tzdata\n",
      "_interpchannels     cycler              pandas              unicodedata\n",
      "_interpqueues       dataclasses         pandocfilters       unittest\n",
      "_interpreters       datetime            parso               uri_template\n",
      "_io                 dateutil            pathlib             urllib\n",
      "_ios_support        dbm                 pdb                 urllib3\n",
      "_json               dde                 perfmon             uuid\n",
      "_locale             debugpy             pickle              venv\n",
      "_lsprof             decimal             pickletools         warnings\n",
      "_lzma               decorator           pip                 wave\n",
      "_markupbase         defusedxml          pkg_resources       wcwidth\n",
      "_md5                difflib             pkgutil             weakref\n",
      "_multibytecodec     dis                 platform            webbrowser\n",
      "_multiprocessing    doctest             platformdirs        webcolors\n",
      "_opcode             email               plistlib            webencodings\n",
      "_opcode_metadata    encodings           ply                 websocket\n",
      "_operator           ensurepip           poplib              wheel\n",
      "_osx_support        enum                posixpath           widgetsnbextension\n",
      "_overlapped         errno               pprint              win2kras\n",
      "_pickle             executing           profile             win32api\n",
      "_py_abc             fastjsonschema      prometheus_client   win32clipboard\n",
      "_pydatetime         faulthandler        prompt_toolkit      win32com\n",
      "_pydecimal          filecmp             pstats              win32con\n",
      "_pyio               fileinput           psutil              win32console\n",
      "_pylong             fnmatch             pty                 win32cred\n",
      "_pyrepl             fontTools           pure_eval           win32crypt\n",
      "_queue              fqdn                py_compile          win32cryptcon\n",
      "_random             fractions           pyclbr              win32event\n",
      "_sha1               ftplib              pycparser           win32evtlog\n",
      "_sha2               functools           pydoc               win32evtlogutil\n",
      "_sha3               gc                  pydoc_data          win32file\n",
      "_signal             genericpath         pyexpat             win32gui\n",
      "_sitebuiltins       getopt              pygments            win32gui_struct\n",
      "_socket             getpass             pylab               win32help\n",
      "_sqlite3            gettext             pyparsing           win32inet\n",
      "_sre                glob                pythoncom           win32inetcon\n",
      "_ssl                graphlib            pythonjsonlogger    win32job\n",
      "_stat               gzip                pytz                win32lz\n",
      "_statistics         h11                 pywin               win32net\n",
      "_string             hashlib             pywin32_bootstrap   win32netcon\n",
      "_strptime           heapq               pywin32_testutil    win32pdh\n",
      "_struct             hmac                pywintypes          win32pdhquery\n",
      "_suggestions        html                queue               win32pdhutil\n",
      "_symtable           http                quopri              win32pipe\n",
      "_sysconfig          httpcore            random              win32print\n",
      "_testbuffer         httpx               rasutil             win32process\n",
      "_testcapi           idlelib             re                  win32profile\n",
      "_testclinic         idna                referencing         win32ras\n",
      "_testclinic_limited imaplib             regcheck            win32rcparser\n",
      "_testconsole        importlib           regutil             win32security\n",
      "_testimportmultiple importlib_metadata  reprlib             win32service\n",
      "_testinternalcapi   inflect             requests            win32serviceutil\n",
      "_testlimitedcapi    inspect             rfc3339_validator   win32timezone\n",
      "_testmultiphase     io                  rfc3986_validator   win32trace\n",
      "_testsinglephase    ipaddress           rlcompleter         win32traceutil\n",
      "_thread             ipykernel           rpds                win32transaction\n",
      "_threading_local    ipykernel_launcher  runpy               win32ts\n",
      "_tkinter            ipython_pygments_lexers sched               win32ui\n",
      "_tokenize           ipywidgets          seaborn             win32uiole\n",
      "_tracemalloc        isapi               secrets             win32verstamp\n",
      "_typing             isoduration         select              win32wnet\n",
      "_uuid               itertools           selectors           winerror\n",
      "_warnings           jedi                send2trash          winioctlcon\n",
      "_weakref            jinja2              servicemanager      winnt\n",
      "_weakrefset         json                setuptools          winperf\n",
      "_win32sysloader     json5               shelve              winpty\n",
      "_win32verstamp_pywin32ctypes jsonpointer         shlex               winreg\n",
      "_winapi             jsonschema          shutil              winsound\n",
      "_winxptheme         jsonschema_specifications signal              winxpgui\n",
      "_wmi                jupyter             site                winxptheme\n",
      "_yaml               jupyter_client      six                 wsgiref\n",
      "_zoneinfo           jupyter_console     smtplib             xml\n",
      "abc                 jupyter_core        sniffio             xmlrpc\n",
      "adodbapi            jupyter_events      socket              xxsubtype\n",
      "afxres              jupyter_lsp         socketserver        yaml\n",
      "antigravity         jupyter_server      soupsieve           zipapp\n",
      "anyio               jupyter_server_terminals sqlite3             zipfile\n",
      "argon2              jupyterlab          sre_compile         zipimport\n",
      "argparse            jupyterlab_pygments sre_constants       zipp\n",
      "array               jupyterlab_server   sre_parse           zlib\n",
      "arrow               jupyterlab_widgets  ssl                 zmq\n",
      "ast                 jupyterthemes       sspi                zoneinfo\n",
      "asttokens           keyword             sspicon             \n",
      "async_lru           kiwisolver          stack_data          \n",
      "asyncio             lesscpy             start_pythonwin     \n",
      "\n",
      "Enter any module name to get more help.  Or, type \"modules spam\" to search\n",
      "for modules whose name or summary contain the string \"spam\".\n",
      "\n"
     ]
    }
   ],
   "source": [
    "help('modules')"
   ]
  },
  {
   "cell_type": "markdown",
   "id": "fd3252be-c51e-4028-8357-9c681668e6bb",
   "metadata": {},
   "source": [
    "Math Module\n",
    "write math. and press tab"
   ]
  },
  {
   "cell_type": "code",
   "execution_count": 2,
   "id": "03c3cbb3-3e23-4f92-847c-0bc84a9333d8",
   "metadata": {},
   "outputs": [],
   "source": [
    "import math"
   ]
  },
  {
   "cell_type": "code",
   "execution_count": 3,
   "id": "01458f2f-5ce0-41d6-b538-96d08dd8c0c8",
   "metadata": {},
   "outputs": [
    {
     "data": {
      "text/plain": [
       "3.141592653589793"
      ]
     },
     "execution_count": 3,
     "metadata": {},
     "output_type": "execute_result"
    }
   ],
   "source": [
    "math.pi"
   ]
  },
  {
   "cell_type": "code",
   "execution_count": 4,
   "id": "69ff874c-581e-4c5e-ab74-4a665c6586db",
   "metadata": {},
   "outputs": [
    {
     "data": {
      "text/plain": [
       "2.718281828459045"
      ]
     },
     "execution_count": 4,
     "metadata": {},
     "output_type": "execute_result"
    }
   ],
   "source": [
    "math.e\n"
   ]
  },
  {
   "cell_type": "code",
   "execution_count": 5,
   "id": "9191b35d-6d6d-42f1-88e3-6d3b2c6c4827",
   "metadata": {},
   "outputs": [
    {
     "data": {
      "text/plain": [
       "720"
      ]
     },
     "execution_count": 5,
     "metadata": {},
     "output_type": "execute_result"
    }
   ],
   "source": [
    "math.factorial(6)"
   ]
  },
  {
   "cell_type": "code",
   "execution_count": 6,
   "id": "a26bca49-d8dd-4bdd-9c60-98a408d3d743",
   "metadata": {},
   "outputs": [
    {
     "data": {
      "text/plain": [
       "7"
      ]
     },
     "execution_count": 6,
     "metadata": {},
     "output_type": "execute_result"
    }
   ],
   "source": [
    "math.ceil(6.3)"
   ]
  },
  {
   "cell_type": "code",
   "execution_count": 7,
   "id": "86e218c6-5c53-4100-9f44-c64af2aaddc3",
   "metadata": {},
   "outputs": [
    {
     "data": {
      "text/plain": [
       "6"
      ]
     },
     "execution_count": 7,
     "metadata": {},
     "output_type": "execute_result"
    }
   ],
   "source": [
    "math.floor(6.9)"
   ]
  },
  {
   "cell_type": "code",
   "execution_count": 10,
   "id": "90cf6448-a610-44be-88ab-8de2e84427e1",
   "metadata": {},
   "outputs": [
    {
     "data": {
      "text/plain": [
       "10.0"
      ]
     },
     "execution_count": 10,
     "metadata": {},
     "output_type": "execute_result"
    }
   ],
   "source": [
    "math.sqrt(100)"
   ]
  },
  {
   "cell_type": "markdown",
   "id": "9dcd1b64-1fb0-43cf-96af-a70295d60675",
   "metadata": {},
   "source": [
    "Random Module\n"
   ]
  },
  {
   "cell_type": "code",
   "execution_count": 11,
   "id": "690707b2-28dd-4348-951d-bb094b4240da",
   "metadata": {},
   "outputs": [],
   "source": [
    "import random\n"
   ]
  },
  {
   "cell_type": "code",
   "execution_count": 12,
   "id": "9a1f3503-569f-479a-96d9-50812699aabd",
   "metadata": {},
   "outputs": [
    {
     "data": {
      "text/plain": [
       "99"
      ]
     },
     "execution_count": 12,
     "metadata": {},
     "output_type": "execute_result"
    }
   ],
   "source": [
    "random.randint(1,100)"
   ]
  },
  {
   "cell_type": "code",
   "execution_count": 18,
   "id": "fb846399-7fbd-4db1-b9a8-a67a9e58a6af",
   "metadata": {},
   "outputs": [
    {
     "data": {
      "text/plain": [
       "[5, 1, 4, 2, 3]"
      ]
     },
     "execution_count": 18,
     "metadata": {},
     "output_type": "execute_result"
    }
   ],
   "source": [
    "a=[1,2,3,4,5]\n",
    "random.shuffle(a)\n",
    "a"
   ]
  },
  {
   "cell_type": "markdown",
   "id": "d20c2de1-4f43-4516-a3aa-04acfc93da54",
   "metadata": {},
   "source": [
    "Time Module\n"
   ]
  },
  {
   "cell_type": "code",
   "execution_count": 20,
   "id": "666740b1-698c-4955-8d55-9c8fd9d3c8d9",
   "metadata": {},
   "outputs": [],
   "source": [
    "import time"
   ]
  },
  {
   "cell_type": "code",
   "execution_count": 23,
   "id": "15e595e7-a937-49ea-86ac-8f1493d393fc",
   "metadata": {},
   "outputs": [
    {
     "data": {
      "text/plain": [
       "1747826825.5628388"
      ]
     },
     "execution_count": 23,
     "metadata": {},
     "output_type": "execute_result"
    }
   ],
   "source": [
    "# time passed from 1 Jan 1970 to till now seconds passsed\n",
    "time.time()"
   ]
  },
  {
   "cell_type": "code",
   "execution_count": 24,
   "id": "e16ab6ea-19c2-4394-9f0b-6c869b45b1fa",
   "metadata": {},
   "outputs": [
    {
     "data": {
      "text/plain": [
       "'Wed May 21 16:57:16 2025'"
      ]
     },
     "execution_count": 24,
     "metadata": {},
     "output_type": "execute_result"
    }
   ],
   "source": [
    "time.ctime()"
   ]
  },
  {
   "cell_type": "code",
   "execution_count": 26,
   "id": "2c8ee493-f8d2-4b90-9a03-64c36bebf178",
   "metadata": {},
   "outputs": [
    {
     "name": "stdout",
     "output_type": "stream",
     "text": [
      "Hello\n",
      "World\n"
     ]
    }
   ],
   "source": [
    "print (\"Hello\")\n",
    "time.sleep(1)\n",
    "print(\"World\")"
   ]
  },
  {
   "cell_type": "markdown",
   "id": "63503494-6fb4-49ff-9be3-a8f64ca7af6b",
   "metadata": {},
   "source": [
    "OS Module"
   ]
  },
  {
   "cell_type": "code",
   "execution_count": 27,
   "id": "464320b9-0e9b-4800-a795-ad8813e05dbb",
   "metadata": {},
   "outputs": [],
   "source": [
    "import os\n",
    "\n",
    "\n"
   ]
  },
  {
   "cell_type": "code",
   "execution_count": 28,
   "id": "585e112e-31fb-4b4b-9ec4-b67550c9029d",
   "metadata": {},
   "outputs": [
    {
     "data": {
      "text/plain": [
       "'D:\\\\JBooks\\\\Python Basics'"
      ]
     },
     "execution_count": 28,
     "metadata": {},
     "output_type": "execute_result"
    }
   ],
   "source": [
    "os.getcwd()\n"
   ]
  },
  {
   "cell_type": "code",
   "execution_count": 29,
   "id": "1f45c0d9-afb8-49c7-a8c8-de193310eb30",
   "metadata": {},
   "outputs": [
    {
     "data": {
      "text/plain": [
       "['.ipynb_checkpoints',\n",
       " '1-print-function.ipynb',\n",
       " '10-if-else.ipynb',\n",
       " '11-indentation.ipynb',\n",
       " '12-loops.ipynb',\n",
       " '13-Guess-game.ipynb',\n",
       " '14-forloop.ipynb',\n",
       " '15-nestedloop.ipynb',\n",
       " '16-breakcontinue.ipynb',\n",
       " '17-builtin-functions.ipynb',\n",
       " '18-builtin-modules.ipynb',\n",
       " '2-data-types.ipynb',\n",
       " '3-commentss.ipynb',\n",
       " '4-variables.ipynb',\n",
       " '5-keywords.ipynb',\n",
       " '6-inputs.ipynb',\n",
       " '7-input-typeconversion.ipynb',\n",
       " '8-literals.ipynb',\n",
       " '9-operators.ipynb']"
      ]
     },
     "execution_count": 29,
     "metadata": {},
     "output_type": "execute_result"
    }
   ],
   "source": [
    "os.listdir()"
   ]
  }
 ],
 "metadata": {
  "kernelspec": {
   "display_name": "Python 3 (ipykernel)",
   "language": "python",
   "name": "python3"
  },
  "language_info": {
   "codemirror_mode": {
    "name": "ipython",
    "version": 3
   },
   "file_extension": ".py",
   "mimetype": "text/x-python",
   "name": "python",
   "nbconvert_exporter": "python",
   "pygments_lexer": "ipython3",
   "version": "3.13.7"
  }
 },
 "nbformat": 4,
 "nbformat_minor": 5
}
