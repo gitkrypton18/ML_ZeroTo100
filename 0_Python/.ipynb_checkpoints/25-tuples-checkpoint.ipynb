{
 "cells": [
  {
   "cell_type": "markdown",
   "id": "0cd8eebd-4f35-4455-a0d2-3d4417523994",
   "metadata": {},
   "source": [
    "## Tuples\n",
    "similar to lists : \n",
    "Differences :\n",
    "- create\n",
    "- access\n",
    "- edit\n",
    "- add\n",
    "- delete\n",
    "- operations\n",
    "- functions\n",
    "- "
   ]
  },
  {
   "cell_type": "markdown",
   "id": "a54af710-1654-4145-9bb9-b5c6d7ba8cf5",
   "metadata": {},
   "source": [
    "Create "
   ]
  },
  {
   "cell_type": "code",
   "execution_count": 10,
   "id": "690086d1-2270-4e78-826f-d1518b40fbc1",
   "metadata": {},
   "outputs": [
    {
     "data": {
      "text/plain": [
       "()"
      ]
     },
     "execution_count": 10,
     "metadata": {},
     "output_type": "execute_result"
    }
   ],
   "source": [
    "T1=()\n",
    "T1"
   ]
  },
  {
   "cell_type": "code",
   "execution_count": 11,
   "id": "223ed951-1807-4a43-91b0-4d399df2b5b2",
   "metadata": {},
   "outputs": [
    {
     "data": {
      "text/plain": [
       "(1, 2, 3, 4, 5)"
      ]
     },
     "execution_count": 11,
     "metadata": {},
     "output_type": "execute_result"
    }
   ],
   "source": [
    "T2=(1,2,3,4,5)\n",
    "T2"
   ]
  },
  {
   "cell_type": "code",
   "execution_count": 12,
   "id": "429bd148-9a3f-4129-8444-7ed5435c0b48",
   "metadata": {},
   "outputs": [
    {
     "data": {
      "text/plain": [
       "('Hello', 4, 5.6)"
      ]
     },
     "execution_count": 12,
     "metadata": {},
     "output_type": "execute_result"
    }
   ],
   "source": [
    "T3=(\"Hello\",4,5.6)\n",
    "T3"
   ]
  },
  {
   "cell_type": "code",
   "execution_count": 13,
   "id": "0b87509c-3077-4351-b16a-f2d3c93633f0",
   "metadata": {},
   "outputs": [
    {
     "data": {
      "text/plain": [
       "(1, 2, 3, (4, 5))"
      ]
     },
     "execution_count": 13,
     "metadata": {},
     "output_type": "execute_result"
    }
   ],
   "source": [
    "# 2d tuples\n",
    "T4=(1,2,3,(4,5))\n",
    "T4"
   ]
  },
  {
   "cell_type": "code",
   "execution_count": 14,
   "id": "cc6ee493-f3df-44b0-9135-be251b2a017c",
   "metadata": {},
   "outputs": [
    {
     "data": {
      "text/plain": [
       "1"
      ]
     },
     "execution_count": 14,
     "metadata": {},
     "output_type": "execute_result"
    }
   ],
   "source": [
    "T5=(1)\n",
    "T5"
   ]
  },
  {
   "cell_type": "code",
   "execution_count": 15,
   "id": "9b25f344-e3e3-4fdc-af28-ee4f88087cb7",
   "metadata": {},
   "outputs": [
    {
     "data": {
      "text/plain": [
       "int"
      ]
     },
     "execution_count": 15,
     "metadata": {},
     "output_type": "execute_result"
    }
   ],
   "source": [
    "type(T5)"
   ]
  },
  {
   "cell_type": "code",
   "execution_count": 16,
   "id": "ca3ab62f-57b9-4906-94e2-ffab0f4ae889",
   "metadata": {},
   "outputs": [],
   "source": [
    "T5=(\"Hello\")"
   ]
  },
  {
   "cell_type": "code",
   "execution_count": 18,
   "id": "048ebb3e-c991-4eca-b5a0-ac508fbdd758",
   "metadata": {},
   "outputs": [
    {
     "data": {
      "text/plain": [
       "str"
      ]
     },
     "execution_count": 18,
     "metadata": {},
     "output_type": "execute_result"
    }
   ],
   "source": [
    "type(T5)"
   ]
  },
  {
   "cell_type": "markdown",
   "id": "52800cf4-1cd8-45f7-b605-ed97b88d9215",
   "metadata": {},
   "source": [
    "## First Difference :\n",
    "make a comma after the item whenever you want to add only one item."
   ]
  },
  {
   "cell_type": "code",
   "execution_count": 19,
   "id": "46fda21e-799c-4fc0-8da7-6fc0253ac3c6",
   "metadata": {},
   "outputs": [
    {
     "data": {
      "text/plain": [
       "tuple"
      ]
     },
     "execution_count": 19,
     "metadata": {},
     "output_type": "execute_result"
    }
   ],
   "source": [
    "\n",
    "T5=(1,)\n",
    "type(T5)"
   ]
  },
  {
   "cell_type": "code",
   "execution_count": 20,
   "id": "2637e53a-151d-4b26-b4a0-2b24dc6e32f7",
   "metadata": {},
   "outputs": [],
   "source": [
    "T6=tuple(\"GOA\")"
   ]
  },
  {
   "cell_type": "code",
   "execution_count": 21,
   "id": "19ccc8e1-d9b4-4960-96aa-c440b1058fc7",
   "metadata": {},
   "outputs": [
    {
     "data": {
      "text/plain": [
       "('G', 'O', 'A')"
      ]
     },
     "execution_count": 21,
     "metadata": {},
     "output_type": "execute_result"
    }
   ],
   "source": [
    "T6"
   ]
  },
  {
   "cell_type": "code",
   "execution_count": 22,
   "id": "5e24ed51-350f-4bc4-8d56-2edb3cd9a26f",
   "metadata": {},
   "outputs": [],
   "source": [
    "T6=tuple([1,2,3,4,5])"
   ]
  },
  {
   "cell_type": "code",
   "execution_count": 24,
   "id": "d58f5271-285d-4301-b19d-b1c86aceab03",
   "metadata": {},
   "outputs": [
    {
     "data": {
      "text/plain": [
       "(1, 2, 3, 4, 5)"
      ]
     },
     "execution_count": 24,
     "metadata": {},
     "output_type": "execute_result"
    }
   ],
   "source": [
    "T6"
   ]
  },
  {
   "cell_type": "markdown",
   "id": "00f71c3b-2482-4465-a7cd-748ced0e9463",
   "metadata": {},
   "source": [
    "Access Items in tuple"
   ]
  },
  {
   "cell_type": "code",
   "execution_count": 25,
   "id": "dbdd8f60-fc40-4854-adad-8f00093ec5b6",
   "metadata": {},
   "outputs": [
    {
     "data": {
      "text/plain": [
       "(1, 2, 3, 4, 5)"
      ]
     },
     "execution_count": 25,
     "metadata": {},
     "output_type": "execute_result"
    }
   ],
   "source": [
    "T2"
   ]
  },
  {
   "cell_type": "code",
   "execution_count": 26,
   "id": "d43e8b44-f8e9-4d07-be9f-6ee897063fcf",
   "metadata": {},
   "outputs": [
    {
     "data": {
      "text/plain": [
       "1"
      ]
     },
     "execution_count": 26,
     "metadata": {},
     "output_type": "execute_result"
    }
   ],
   "source": [
    "T2[0]"
   ]
  },
  {
   "cell_type": "code",
   "execution_count": 27,
   "id": "940eceb5-094e-42c5-b48c-dba341d618f2",
   "metadata": {},
   "outputs": [
    {
     "data": {
      "text/plain": [
       "(1, 2, 3, 4)"
      ]
     },
     "execution_count": 27,
     "metadata": {},
     "output_type": "execute_result"
    }
   ],
   "source": [
    "T2[:4]"
   ]
  },
  {
   "cell_type": "code",
   "execution_count": 28,
   "id": "6ea4baca-b72b-4570-bd96-c623dc869913",
   "metadata": {},
   "outputs": [
    {
     "data": {
      "text/plain": [
       "4"
      ]
     },
     "execution_count": 28,
     "metadata": {},
     "output_type": "execute_result"
    }
   ],
   "source": [
    "T4[-1][0]"
   ]
  },
  {
   "cell_type": "markdown",
   "id": "dac083ac-ec9e-4dfe-ad98-98fe7e9c6f48",
   "metadata": {},
   "source": [
    "Editing tuples :\n",
    "Another major Difference\n"
   ]
  },
  {
   "cell_type": "code",
   "execution_count": 32,
   "id": "5ccdb0ae-b5a5-4b47-adb8-3bce55038ddb",
   "metadata": {},
   "outputs": [],
   "source": [
    "T=(1,2,3,4,5)"
   ]
  },
  {
   "cell_type": "code",
   "execution_count": 33,
   "id": "dcfc6437-ee4e-4101-bf93-ba384d1b6be4",
   "metadata": {},
   "outputs": [
    {
     "ename": "TypeError",
     "evalue": "'tuple' object does not support item assignment",
     "output_type": "error",
     "traceback": [
      "\u001b[31m---------------------------------------------------------------------------\u001b[39m",
      "\u001b[31mTypeError\u001b[39m                                 Traceback (most recent call last)",
      "\u001b[36mCell\u001b[39m\u001b[36m \u001b[39m\u001b[32mIn[33]\u001b[39m\u001b[32m, line 1\u001b[39m\n\u001b[32m----> \u001b[39m\u001b[32m1\u001b[39m \u001b[43mT\u001b[49m\u001b[43m[\u001b[49m\u001b[32;43m0\u001b[39;49m\u001b[43m]\u001b[49m=\u001b[32m100\u001b[39m\n",
      "\u001b[31mTypeError\u001b[39m: 'tuple' object does not support item assignment"
     ]
    }
   ],
   "source": [
    "T[0]=100"
   ]
  },
  {
   "cell_type": "markdown",
   "id": "e3dd919c-d0c4-45e8-805c-260220e489d6",
   "metadata": {},
   "source": [
    "## Tuples are just like strings means immutable\n",
    "existing tuple me changes nhi ho skta\n",
    "Editing and Adding aren't supported\n",
    "Also del T[-1]\n",
    "is not supported as by deleting you are making the tuple mutable that are against immutability.\n"
   ]
  },
  {
   "cell_type": "code",
   "execution_count": 34,
   "id": "6ff0de0f-943b-4306-843d-9505e4411f53",
   "metadata": {},
   "outputs": [
    {
     "ename": "TypeError",
     "evalue": "'tuple' object doesn't support item deletion",
     "output_type": "error",
     "traceback": [
      "\u001b[31m---------------------------------------------------------------------------\u001b[39m",
      "\u001b[31mTypeError\u001b[39m                                 Traceback (most recent call last)",
      "\u001b[36mCell\u001b[39m\u001b[36m \u001b[39m\u001b[32mIn[34]\u001b[39m\u001b[32m, line 1\u001b[39m\n\u001b[32m----> \u001b[39m\u001b[32m1\u001b[39m \u001b[38;5;28;01mdel\u001b[39;00m \u001b[43mT\u001b[49m\u001b[43m[\u001b[49m\u001b[32;43m0\u001b[39;49m\u001b[43m]\u001b[49m\n",
      "\u001b[31mTypeError\u001b[39m: 'tuple' object doesn't support item deletion"
     ]
    }
   ],
   "source": [
    "del T[0]"
   ]
  },
  {
   "cell_type": "markdown",
   "id": "58890da0-5d28-490a-80a2-7a6bed132170",
   "metadata": {},
   "source": [
    "## Operations in Tuples"
   ]
  },
  {
   "cell_type": "code",
   "execution_count": 35,
   "id": "3a09d966-98b2-48ef-a90e-885a62c264cd",
   "metadata": {},
   "outputs": [],
   "source": [
    "T1=(1,2,3,4)\n",
    "T2=(4,5,6,7)"
   ]
  },
  {
   "cell_type": "code",
   "execution_count": 36,
   "id": "fc636249-64e7-4475-8405-05f0d2a67681",
   "metadata": {},
   "outputs": [
    {
     "data": {
      "text/plain": [
       "(1, 2, 3, 4, 4, 5, 6, 7)"
      ]
     },
     "execution_count": 36,
     "metadata": {},
     "output_type": "execute_result"
    }
   ],
   "source": [
    "T1+T2"
   ]
  },
  {
   "cell_type": "code",
   "execution_count": 37,
   "id": "c315b147-c3c1-4081-b2bd-cf3090f2cde1",
   "metadata": {},
   "outputs": [
    {
     "data": {
      "text/plain": [
       "(4, 5, 6, 7, 4, 5, 6, 7, 4, 5, 6, 7)"
      ]
     },
     "execution_count": 37,
     "metadata": {},
     "output_type": "execute_result"
    }
   ],
   "source": [
    "T2*3"
   ]
  },
  {
   "cell_type": "code",
   "execution_count": 38,
   "id": "97156944-cdcb-4b92-8ad0-bd9403e42ecd",
   "metadata": {},
   "outputs": [
    {
     "name": "stdout",
     "output_type": "stream",
     "text": [
      "4\n",
      "5\n",
      "6\n",
      "7\n"
     ]
    }
   ],
   "source": [
    "for i in T2 :\n",
    "    print (i)\n"
   ]
  },
  {
   "cell_type": "code",
   "execution_count": 39,
   "id": "ee00580e-3a33-4ed7-bd40-7787e5b2d237",
   "metadata": {},
   "outputs": [
    {
     "data": {
      "text/plain": [
       "True"
      ]
     },
     "execution_count": 39,
     "metadata": {},
     "output_type": "execute_result"
    }
   ],
   "source": [
    "1 in T1"
   ]
  },
  {
   "cell_type": "markdown",
   "id": "8460b3f6-b9fb-4b93-9604-3f4c52a85d26",
   "metadata": {},
   "source": [
    "## Functions"
   ]
  },
  {
   "cell_type": "code",
   "execution_count": 41,
   "id": "a6a20f51-5585-40c3-9e97-ea82d3649550",
   "metadata": {},
   "outputs": [
    {
     "data": {
      "text/plain": [
       "4"
      ]
     },
     "execution_count": 41,
     "metadata": {},
     "output_type": "execute_result"
    }
   ],
   "source": [
    "len(T1)"
   ]
  },
  {
   "cell_type": "code",
   "execution_count": 42,
   "id": "0264b07d-8c8b-4c2b-b3b9-20e0a5e8a626",
   "metadata": {},
   "outputs": [
    {
     "data": {
      "text/plain": [
       "4"
      ]
     },
     "execution_count": 42,
     "metadata": {},
     "output_type": "execute_result"
    }
   ],
   "source": [
    "max(T1)"
   ]
  },
  {
   "cell_type": "code",
   "execution_count": 43,
   "id": "b50f5533-bbb0-4408-a15c-d9d0a2ee5265",
   "metadata": {},
   "outputs": [
    {
     "data": {
      "text/plain": [
       "10"
      ]
     },
     "execution_count": 43,
     "metadata": {},
     "output_type": "execute_result"
    }
   ],
   "source": [
    "sum(T1)"
   ]
  },
  {
   "cell_type": "code",
   "execution_count": 44,
   "id": "a584b397-07dc-4916-883c-7e1c11786325",
   "metadata": {},
   "outputs": [
    {
     "data": {
      "text/plain": [
       "[1, 2, 3, 4]"
      ]
     },
     "execution_count": 44,
     "metadata": {},
     "output_type": "execute_result"
    }
   ],
   "source": [
    "sorted(T1)"
   ]
  },
  {
   "cell_type": "code",
   "execution_count": 45,
   "id": "9067148a-0700-4299-b9da-6617bdc095c2",
   "metadata": {},
   "outputs": [
    {
     "data": {
      "text/plain": [
       "[7, 6, 5, 4]"
      ]
     },
     "execution_count": 45,
     "metadata": {},
     "output_type": "execute_result"
    }
   ],
   "source": [
    "sorted(T2, reverse=True)"
   ]
  },
  {
   "cell_type": "markdown",
   "id": "6b19e59d-1fef-4120-b9b3-63c85037f865",
   "metadata": {},
   "source": [
    "## Tuples are read only datatype\n",
    "## While Lists are also write type datatypes\n",
    "Useful in data Integrity\n"
   ]
  }
 ],
 "metadata": {
  "kernelspec": {
   "display_name": "Python 3 (ipykernel)",
   "language": "python",
   "name": "python3"
  },
  "language_info": {
   "codemirror_mode": {
    "name": "ipython",
    "version": 3
   },
   "file_extension": ".py",
   "mimetype": "text/x-python",
   "name": "python",
   "nbconvert_exporter": "python",
   "pygments_lexer": "ipython3",
   "version": "3.13.3"
  }
 },
 "nbformat": 4,
 "nbformat_minor": 5
}
