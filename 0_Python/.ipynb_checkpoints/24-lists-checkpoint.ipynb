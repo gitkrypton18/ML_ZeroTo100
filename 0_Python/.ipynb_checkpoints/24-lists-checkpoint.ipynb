{
 "cells": [
  {
   "cell_type": "markdown",
   "id": "c769ece6-7cd7-4f23-9a4b-a5d55cb5faf0",
   "metadata": {},
   "source": [
    "## LISTS IN PYTHON\n",
    "Difference Array is homogeneous i.e. same datatype and Lists are a heterogeneous \n",
    "Array me ek ke baad ek store hoti h\n",
    "Array are faster\n",
    "Lists are programmer friendly\n"
   ]
  },
  {
   "cell_type": "markdown",
   "id": "0f8a95c1-82b9-42ba-a143-6b61b243edbf",
   "metadata": {},
   "source": [
    "## How to create"
   ]
  },
  {
   "cell_type": "code",
   "execution_count": 30,
   "id": "6eac7f45-e6ff-4a77-83a5-73b3b06bc616",
   "metadata": {},
   "outputs": [
    {
     "data": {
      "text/plain": [
       "[]"
      ]
     },
     "execution_count": 30,
     "metadata": {},
     "output_type": "execute_result"
    }
   ],
   "source": [
    "L0=[]\n",
    "L0"
   ]
  },
  {
   "cell_type": "code",
   "execution_count": 31,
   "id": "e2b51e40-b97a-47f2-8aa4-f60ae59bb26a",
   "metadata": {},
   "outputs": [
    {
     "data": {
      "text/plain": [
       "[1, 2, 3, 4, 5]"
      ]
     },
     "execution_count": 31,
     "metadata": {},
     "output_type": "execute_result"
    }
   ],
   "source": [
    "L1=[1,2,3,4,5]\n",
    "L1"
   ]
  },
  {
   "cell_type": "code",
   "execution_count": 32,
   "id": "732f96eb-b920-4f62-bf8a-7010505ffa25",
   "metadata": {},
   "outputs": [
    {
     "data": {
      "text/plain": [
       "['Hello', 4, 5.6, True, (6+4j)]"
      ]
     },
     "execution_count": 32,
     "metadata": {},
     "output_type": "execute_result"
    }
   ],
   "source": [
    "L2=[\"Hello\",4,5.6,True,6+4j]\n",
    "L2"
   ]
  },
  {
   "cell_type": "code",
   "execution_count": 33,
   "id": "a7fecaab-7416-4f64-a277-0de8a937bd45",
   "metadata": {},
   "outputs": [
    {
     "data": {
      "text/plain": [
       "[1, 2, 3, [4, 5]]"
      ]
     },
     "execution_count": 33,
     "metadata": {},
     "output_type": "execute_result"
    }
   ],
   "source": [
    "# Multidimensional lists\n",
    "#2D\n",
    "L3=[1,2,3,[4,5]]\n",
    "L3\n"
   ]
  },
  {
   "cell_type": "code",
   "execution_count": 34,
   "id": "a784397f-0f7c-4275-83e8-a07d52a85269",
   "metadata": {},
   "outputs": [
    {
     "data": {
      "text/plain": [
       "[[[1, 2], [3, 4]], [[5, 6], [7, 8]]]"
      ]
     },
     "execution_count": 34,
     "metadata": {},
     "output_type": "execute_result"
    }
   ],
   "source": [
    "# 3D LISTS\n",
    "L4=[[[1,2],[3,4]],[[5,6],[7,8]]]\n",
    "L4"
   ]
  },
  {
   "cell_type": "code",
   "execution_count": 35,
   "id": "e0dc5506-d8b0-4fa4-99e1-b3f042579a08",
   "metadata": {},
   "outputs": [
    {
     "data": {
      "text/plain": [
       "['K', 'a', 'l', 'p', 'i', 't']"
      ]
     },
     "execution_count": 35,
     "metadata": {},
     "output_type": "execute_result"
    }
   ],
   "source": [
    "L5=list(\"Kalpit\")\n",
    "L5\n"
   ]
  },
  {
   "cell_type": "markdown",
   "id": "1564f368-cacb-4123-a151-d783825a114b",
   "metadata": {},
   "source": [
    "## Accesing the list"
   ]
  },
  {
   "cell_type": "markdown",
   "id": "8bf8e417-2bc4-4501-b079-39dabd7fc720",
   "metadata": {},
   "source": [
    "Python is very good in terms of same functions used in different datatypes"
   ]
  },
  {
   "cell_type": "code",
   "execution_count": 36,
   "id": "a98b0453-9836-4dc2-ab35-b1cfc80dac7b",
   "metadata": {},
   "outputs": [
    {
     "data": {
      "text/plain": [
       "1"
      ]
     },
     "execution_count": 36,
     "metadata": {},
     "output_type": "execute_result"
    }
   ],
   "source": [
    "L=[1,2,3,4,5]\n",
    "L[0]"
   ]
  },
  {
   "cell_type": "code",
   "execution_count": 37,
   "id": "32d956fc-c68b-409b-af1d-916cb7044d5a",
   "metadata": {},
   "outputs": [
    {
     "data": {
      "text/plain": [
       "5"
      ]
     },
     "execution_count": 37,
     "metadata": {},
     "output_type": "execute_result"
    }
   ],
   "source": [
    "L[-1]"
   ]
  },
  {
   "cell_type": "code",
   "execution_count": 38,
   "id": "4b632211-ea98-4234-a459-4745f72b11a3",
   "metadata": {},
   "outputs": [
    {
     "data": {
      "text/plain": [
       "[2, 3]"
      ]
     },
     "execution_count": 38,
     "metadata": {},
     "output_type": "execute_result"
    }
   ],
   "source": [
    "L[1:3]"
   ]
  },
  {
   "cell_type": "code",
   "execution_count": 39,
   "id": "52a3877e-2ca5-4f58-9651-e68bc3d5e160",
   "metadata": {},
   "outputs": [
    {
     "data": {
      "text/plain": [
       "[2, 4]"
      ]
     },
     "execution_count": 39,
     "metadata": {},
     "output_type": "execute_result"
    }
   ],
   "source": [
    "L[1:5:2]"
   ]
  },
  {
   "cell_type": "code",
   "execution_count": 40,
   "id": "95f25435-c5ad-40db-aa62-4ca724a20124",
   "metadata": {},
   "outputs": [
    {
     "data": {
      "text/plain": [
       "[4, 5]"
      ]
     },
     "execution_count": 40,
     "metadata": {},
     "output_type": "execute_result"
    }
   ],
   "source": [
    "# Extract \n",
    "L3[3]\n"
   ]
  },
  {
   "cell_type": "code",
   "execution_count": 41,
   "id": "6bef0df0-cd63-40c3-ab83-a512e60fc9fb",
   "metadata": {},
   "outputs": [
    {
     "data": {
      "text/plain": [
       "[4, 5]"
      ]
     },
     "execution_count": 41,
     "metadata": {},
     "output_type": "execute_result"
    }
   ],
   "source": [
    "L3[-1]"
   ]
  },
  {
   "cell_type": "code",
   "execution_count": 42,
   "id": "8c4e6cc1-5215-447a-9586-3815fc5e2485",
   "metadata": {},
   "outputs": [
    {
     "data": {
      "text/plain": [
       "[4, 5]"
      ]
     },
     "execution_count": 42,
     "metadata": {},
     "output_type": "execute_result"
    }
   ],
   "source": [
    "x=L3[-1]\n",
    "x\n"
   ]
  },
  {
   "cell_type": "code",
   "execution_count": 43,
   "id": "4b8e8f04-c605-4b2d-8aec-639667eaea36",
   "metadata": {},
   "outputs": [
    {
     "data": {
      "text/plain": [
       "4"
      ]
     },
     "execution_count": 43,
     "metadata": {},
     "output_type": "execute_result"
    }
   ],
   "source": [
    "x[0]"
   ]
  },
  {
   "cell_type": "code",
   "execution_count": 44,
   "id": "ccfc9346-d36e-4313-a02d-2a726c083bf5",
   "metadata": {},
   "outputs": [
    {
     "data": {
      "text/plain": [
       "5"
      ]
     },
     "execution_count": 44,
     "metadata": {},
     "output_type": "execute_result"
    }
   ],
   "source": [
    "x[1]"
   ]
  },
  {
   "cell_type": "code",
   "execution_count": 45,
   "id": "ecf24e33-9c0a-41e3-a565-38101a079ef4",
   "metadata": {},
   "outputs": [
    {
     "data": {
      "text/plain": [
       "4"
      ]
     },
     "execution_count": 45,
     "metadata": {},
     "output_type": "execute_result"
    }
   ],
   "source": [
    "# Important use 2 square brackets\n",
    "L3[-1][0]"
   ]
  },
  {
   "cell_type": "code",
   "execution_count": 46,
   "id": "0524e014-60ad-4d70-8460-65247e8461d5",
   "metadata": {},
   "outputs": [
    {
     "data": {
      "text/plain": [
       "5"
      ]
     },
     "execution_count": 46,
     "metadata": {},
     "output_type": "execute_result"
    }
   ],
   "source": [
    "L3[-1][1]"
   ]
  },
  {
   "cell_type": "code",
   "execution_count": 47,
   "id": "2fcdef8c-e1a3-4b64-a266-be38213b5e88",
   "metadata": {},
   "outputs": [
    {
     "data": {
      "text/plain": [
       "[[[1, 2], [3, 4]], [[5, 6], [7, 8]]]"
      ]
     },
     "execution_count": 47,
     "metadata": {},
     "output_type": "execute_result"
    }
   ],
   "source": [
    "L4\n"
   ]
  },
  {
   "cell_type": "code",
   "execution_count": 48,
   "id": "0a74f39b-ed93-4ceb-a50b-beb8e21b38a7",
   "metadata": {},
   "outputs": [
    {
     "data": {
      "text/plain": [
       "7"
      ]
     },
     "execution_count": 48,
     "metadata": {},
     "output_type": "execute_result"
    }
   ],
   "source": [
    "# lets fetch 7 from L4\n",
    "L4[1][1][0]"
   ]
  },
  {
   "cell_type": "code",
   "execution_count": 49,
   "id": "6b2dad85-1688-4b1e-8f8e-20ad55c38ece",
   "metadata": {},
   "outputs": [
    {
     "data": {
      "text/plain": [
       "7"
      ]
     },
     "execution_count": 49,
     "metadata": {},
     "output_type": "execute_result"
    }
   ],
   "source": [
    "L4[-1][-1][-2]"
   ]
  },
  {
   "cell_type": "markdown",
   "id": "70b1b85b-0a27-4e0d-aaaa-2ce80c560399",
   "metadata": {},
   "source": [
    "## Lists in python are mutable "
   ]
  },
  {
   "cell_type": "code",
   "execution_count": 50,
   "id": "a6ca44c3-1d37-41f5-b3a7-97d2c315a7c7",
   "metadata": {},
   "outputs": [
    {
     "data": {
      "text/plain": [
       "[1, 2, 3, 4, 5]"
      ]
     },
     "execution_count": 50,
     "metadata": {},
     "output_type": "execute_result"
    }
   ],
   "source": [
    "L1\n"
   ]
  },
  {
   "cell_type": "code",
   "execution_count": 51,
   "id": "7d3d58b9-d7b5-4244-af41-9fd1bbc3bc8e",
   "metadata": {},
   "outputs": [
    {
     "data": {
      "text/plain": [
       "[100, 2, 3, 4, 5]"
      ]
     },
     "execution_count": 51,
     "metadata": {},
     "output_type": "execute_result"
    }
   ],
   "source": [
    "L1[0] = 100\n",
    "L1\n",
    "#First index i.e. 0 is changed from 1 to 100"
   ]
  },
  {
   "cell_type": "code",
   "execution_count": 52,
   "id": "bd0d3aed-b63c-4915-9cbe-2827e4c92d51",
   "metadata": {},
   "outputs": [],
   "source": [
    "L1[1:4]=[200,300,400]"
   ]
  },
  {
   "cell_type": "code",
   "execution_count": 53,
   "id": "370feb1d-649b-47da-b634-aa70954d1d69",
   "metadata": {},
   "outputs": [
    {
     "data": {
      "text/plain": [
       "[100, 200, 300, 400, 5]"
      ]
     },
     "execution_count": 53,
     "metadata": {},
     "output_type": "execute_result"
    }
   ],
   "source": [
    "L1"
   ]
  },
  {
   "cell_type": "markdown",
   "id": "2a874707-1232-4655-8613-b514aed8c2dd",
   "metadata": {},
   "source": [
    "## Adding items in Python"
   ]
  },
  {
   "cell_type": "markdown",
   "id": "6fde02c8-d1f1-4e05-ac56-212439da2d24",
   "metadata": {},
   "source": [
    "### Functions :\n",
    "- append : Add single entry \n",
    "- extend : Add multiple entries at once\n",
    "- insert : \n"
   ]
  },
  {
   "cell_type": "code",
   "execution_count": 54,
   "id": "935080f8-57e0-497c-b3ae-5722c727abc6",
   "metadata": {},
   "outputs": [],
   "source": [
    "L1.append(1000)"
   ]
  },
  {
   "cell_type": "code",
   "execution_count": 55,
   "id": "4918dc04-9608-4978-9888-17fbc44f6df4",
   "metadata": {},
   "outputs": [],
   "source": [
    "L1=[100,200,300,400,500]\n"
   ]
  },
  {
   "cell_type": "markdown",
   "id": "0b37f331-a18a-4526-9123-e3e0f3375a77",
   "metadata": {},
   "source": [
    "### "
   ]
  },
  {
   "cell_type": "code",
   "execution_count": 56,
   "id": "207c069f-8b78-4de6-aef1-9dd87150f03a",
   "metadata": {},
   "outputs": [],
   "source": [
    "L1.append(1000)\n"
   ]
  },
  {
   "cell_type": "code",
   "execution_count": 57,
   "id": "5805020e-1b8f-474e-a0d1-920e42ddb85f",
   "metadata": {},
   "outputs": [
    {
     "data": {
      "text/plain": [
       "[100, 200, 300, 400, 500, 1000]"
      ]
     },
     "execution_count": 57,
     "metadata": {},
     "output_type": "execute_result"
    }
   ],
   "source": [
    "L1\n",
    "\n"
   ]
  },
  {
   "cell_type": "code",
   "execution_count": 58,
   "id": "372c9c0d-285b-4305-a618-34546c6a4717",
   "metadata": {},
   "outputs": [],
   "source": [
    "L1.append(\"hello\")"
   ]
  },
  {
   "cell_type": "code",
   "execution_count": 59,
   "id": "fa7e8f6f-8de7-4ca2-83c5-5a9829bb8e3e",
   "metadata": {},
   "outputs": [
    {
     "data": {
      "text/plain": [
       "[100, 200, 300, 400, 500, 1000, 'hello']"
      ]
     },
     "execution_count": 59,
     "metadata": {},
     "output_type": "execute_result"
    }
   ],
   "source": [
    "L1\n"
   ]
  },
  {
   "cell_type": "code",
   "execution_count": 60,
   "id": "2ca2da32-1778-4931-86b6-df98b9fe5dbf",
   "metadata": {},
   "outputs": [],
   "source": [
    "L1.extend([\"Rakesh\",\"Kalpit\",\"Rohan\"])"
   ]
  },
  {
   "cell_type": "code",
   "execution_count": 61,
   "id": "e1a114cc-c483-4b48-b653-6cac8ff783f8",
   "metadata": {},
   "outputs": [
    {
     "data": {
      "text/plain": [
       "[100, 200, 300, 400, 500, 1000, 'hello', 'Rakesh', 'Kalpit', 'Rohan']"
      ]
     },
     "execution_count": 61,
     "metadata": {},
     "output_type": "execute_result"
    }
   ],
   "source": [
    "L1"
   ]
  },
  {
   "cell_type": "code",
   "execution_count": 62,
   "id": "0cc91244-9e12-4cd2-b4fe-0faba013ff3f",
   "metadata": {},
   "outputs": [],
   "source": [
    "L1.extend(\"Goa\") # this will add as a single\n",
    "# take goa as a list as g,o,a."
   ]
  },
  {
   "cell_type": "code",
   "execution_count": 29,
   "id": "aa4cf90c-22e2-4443-8614-c5c6cf966ebc",
   "metadata": {},
   "outputs": [
    {
     "data": {
      "text/plain": [
       "[100,\n",
       " 200,\n",
       " 300,\n",
       " 400,\n",
       " 500,\n",
       " 1000,\n",
       " 'hello',\n",
       " 'Rakesh',\n",
       " 'Kalpit',\n",
       " 'Rohan',\n",
       " 'G',\n",
       " 'o',\n",
       " 'a',\n",
       " 'G',\n",
       " 'o',\n",
       " 'a']"
      ]
     },
     "execution_count": 29,
     "metadata": {},
     "output_type": "execute_result"
    }
   ],
   "source": [
    "L1"
   ]
  },
  {
   "cell_type": "code",
   "execution_count": 63,
   "id": "416c9922-b902-4f58-8f5f-ffbad99f690a",
   "metadata": {},
   "outputs": [],
   "source": [
    "# Insert : append at particular index\n",
    "# L1.insert(index, string)\n",
    "L1.insert(3,\"V\")"
   ]
  },
  {
   "cell_type": "code",
   "execution_count": 64,
   "id": "eeeb72f6-69a4-450e-ab12-ec2f9abc0be8",
   "metadata": {},
   "outputs": [
    {
     "data": {
      "text/plain": [
       "[100,\n",
       " 200,\n",
       " 300,\n",
       " 'V',\n",
       " 400,\n",
       " 500,\n",
       " 1000,\n",
       " 'hello',\n",
       " 'Rakesh',\n",
       " 'Kalpit',\n",
       " 'Rohan',\n",
       " 'G',\n",
       " 'o',\n",
       " 'a']"
      ]
     },
     "execution_count": 64,
     "metadata": {},
     "output_type": "execute_result"
    }
   ],
   "source": [
    "L1"
   ]
  },
  {
   "cell_type": "markdown",
   "id": "ddf76742-3450-455e-98b3-7dba47a63b22",
   "metadata": {},
   "source": [
    "## Deleting items in a list\n",
    "- del\n",
    "- remove\n",
    "- pop\n",
    "- clear"
   ]
  },
  {
   "cell_type": "code",
   "execution_count": 65,
   "id": "cb961731-aee2-402f-8bbf-f3bea1dd5daa",
   "metadata": {},
   "outputs": [
    {
     "data": {
      "text/plain": [
       "['Hello', 4, 5.6, True, (6+4j)]"
      ]
     },
     "execution_count": 65,
     "metadata": {},
     "output_type": "execute_result"
    }
   ],
   "source": [
    "L2"
   ]
  },
  {
   "cell_type": "code",
   "execution_count": 66,
   "id": "723b1fbf-fdd1-41e9-8bc8-ab22dc87e720",
   "metadata": {},
   "outputs": [],
   "source": [
    "del L2"
   ]
  },
  {
   "cell_type": "code",
   "execution_count": 68,
   "id": "d69e2749-d1d9-4eae-b8d9-cac81439295c",
   "metadata": {},
   "outputs": [
    {
     "ename": "NameError",
     "evalue": "name 'L2' is not defined",
     "output_type": "error",
     "traceback": [
      "\u001b[31m---------------------------------------------------------------------------\u001b[39m",
      "\u001b[31mNameError\u001b[39m                                 Traceback (most recent call last)",
      "\u001b[36mCell\u001b[39m\u001b[36m \u001b[39m\u001b[32mIn[68]\u001b[39m\u001b[32m, line 1\u001b[39m\n\u001b[32m----> \u001b[39m\u001b[32m1\u001b[39m \u001b[43mL2\u001b[49m\n",
      "\u001b[31mNameError\u001b[39m: name 'L2' is not defined"
     ]
    }
   ],
   "source": [
    "L2\n"
   ]
  },
  {
   "cell_type": "code",
   "execution_count": 70,
   "id": "f3b21bc3-8cd9-4cb6-ba7c-31a87cc98535",
   "metadata": {},
   "outputs": [],
   "source": [
    "del L1[0]"
   ]
  },
  {
   "cell_type": "code",
   "execution_count": 71,
   "id": "7f8c4a69-c881-455a-8cd0-9e3546a5855c",
   "metadata": {},
   "outputs": [
    {
     "data": {
      "text/plain": [
       "[300, 'V', 400, 500, 1000, 'hello', 'Rakesh', 'Kalpit', 'Rohan', 'G', 'o', 'a']"
      ]
     },
     "execution_count": 71,
     "metadata": {},
     "output_type": "execute_result"
    }
   ],
   "source": [
    "L1"
   ]
  },
  {
   "cell_type": "code",
   "execution_count": 72,
   "id": "eed9fab0-7a6e-441e-862e-ce58ada6d76e",
   "metadata": {},
   "outputs": [],
   "source": [
    "# what if i know the word not its index position"
   ]
  },
  {
   "cell_type": "code",
   "execution_count": 74,
   "id": "0bb7f3c2-6b5a-4699-bce4-b3e197052d3b",
   "metadata": {},
   "outputs": [],
   "source": [
    "# we use L.remove\n",
    "L1.remove(\"Rakesh\")"
   ]
  },
  {
   "cell_type": "code",
   "execution_count": 75,
   "id": "0f8d82cf-c0ba-4136-9282-34e2c6177b2a",
   "metadata": {},
   "outputs": [
    {
     "data": {
      "text/plain": [
       "[300, 'V', 400, 500, 1000, 'hello', 'Kalpit', 'Rohan', 'G', 'o', 'a']"
      ]
     },
     "execution_count": 75,
     "metadata": {},
     "output_type": "execute_result"
    }
   ],
   "source": [
    "L1\n"
   ]
  },
  {
   "cell_type": "code",
   "execution_count": 76,
   "id": "2c5d7cda-f339-43a2-bacb-7c02012fd636",
   "metadata": {},
   "outputs": [],
   "source": [
    "# Pop keyword : Always delete the last entry\n"
   ]
  },
  {
   "cell_type": "code",
   "execution_count": 77,
   "id": "a7051504-6ef5-450a-9f2a-890476c3fc7e",
   "metadata": {},
   "outputs": [
    {
     "data": {
      "text/plain": [
       "'a'"
      ]
     },
     "execution_count": 77,
     "metadata": {},
     "output_type": "execute_result"
    }
   ],
   "source": [
    "L1.pop()"
   ]
  },
  {
   "cell_type": "code",
   "execution_count": 78,
   "id": "68ff05bb-8d60-47fe-8406-5b1508ee9ab7",
   "metadata": {},
   "outputs": [
    {
     "data": {
      "text/plain": [
       "[300, 'V', 400, 500, 1000, 'hello', 'Kalpit', 'Rohan', 'G', 'o']"
      ]
     },
     "execution_count": 78,
     "metadata": {},
     "output_type": "execute_result"
    }
   ],
   "source": [
    "L1"
   ]
  },
  {
   "cell_type": "code",
   "execution_count": 79,
   "id": "ab1dd456-2afb-4694-9a0b-8da74516d71b",
   "metadata": {},
   "outputs": [
    {
     "data": {
      "text/plain": [
       "'o'"
      ]
     },
     "execution_count": 79,
     "metadata": {},
     "output_type": "execute_result"
    }
   ],
   "source": [
    "L1.pop(`)"
   ]
  },
  {
   "cell_type": "code",
   "execution_count": 80,
   "id": "59bb8679-df6d-4c1e-a4ac-7764c09e8cdf",
   "metadata": {},
   "outputs": [
    {
     "data": {
      "text/plain": [
       "[300, 'V', 400, 500, 1000, 'hello', 'Kalpit', 'Rohan', 'G']"
      ]
     },
     "execution_count": 80,
     "metadata": {},
     "output_type": "execute_result"
    }
   ],
   "source": [
    "L1"
   ]
  },
  {
   "cell_type": "code",
   "execution_count": 81,
   "id": "aa809140-346f-4210-9487-a0e81cde7245",
   "metadata": {},
   "outputs": [],
   "source": [
    "# Clear Keyword : it is used to just make the whole list empty"
   ]
  },
  {
   "cell_type": "code",
   "execution_count": 82,
   "id": "c7c3961b-13c8-4d31-94b6-e41c300b5b67",
   "metadata": {},
   "outputs": [],
   "source": [
    "L1.clear()"
   ]
  },
  {
   "cell_type": "code",
   "execution_count": 83,
   "id": "6eef09e4-9ccc-41fa-a83f-48fcb99867c1",
   "metadata": {},
   "outputs": [
    {
     "data": {
      "text/plain": [
       "[]"
      ]
     },
     "execution_count": 83,
     "metadata": {},
     "output_type": "execute_result"
    }
   ],
   "source": [
    "L1"
   ]
  },
  {
   "cell_type": "markdown",
   "id": "ef278ab3-079e-4e8f-8337-c03d0a01f471",
   "metadata": {},
   "source": [
    "## Operations in List"
   ]
  },
  {
   "cell_type": "code",
   "execution_count": 84,
   "id": "12be6952-4a88-4887-bcb8-ae7ef3b90ae9",
   "metadata": {},
   "outputs": [
    {
     "data": {
      "text/plain": [
       "[1, 2, 3, 4, 5, 6, 7, 8]"
      ]
     },
     "execution_count": 84,
     "metadata": {},
     "output_type": "execute_result"
    }
   ],
   "source": [
    "L=[1,2,3,4]\n",
    "L1=[5,6,7,8]\n",
    "L+L1"
   ]
  },
  {
   "cell_type": "code",
   "execution_count": 85,
   "id": "0d02e8d6-905a-4805-8d24-a8ff543af8c1",
   "metadata": {},
   "outputs": [
    {
     "data": {
      "text/plain": [
       "[1, 2, 3, 4, 1, 2, 3, 4, 1, 2, 3, 4]"
      ]
     },
     "execution_count": 85,
     "metadata": {},
     "output_type": "execute_result"
    }
   ],
   "source": [
    "L*3"
   ]
  },
  {
   "cell_type": "code",
   "execution_count": 86,
   "id": "04afde0b-32a2-4385-b0a9-77164304d4b3",
   "metadata": {},
   "outputs": [
    {
     "name": "stdout",
     "output_type": "stream",
     "text": [
      "1\n",
      "2\n",
      "3\n",
      "4\n"
     ]
    }
   ],
   "source": [
    "for i in L:\n",
    "    print(i)"
   ]
  },
  {
   "cell_type": "code",
   "execution_count": 87,
   "id": "3a50622f-eb9b-44df-9406-715a2cde8668",
   "metadata": {},
   "outputs": [
    {
     "data": {
      "text/plain": [
       "[1, 2, 3, [4, 5]]"
      ]
     },
     "execution_count": 87,
     "metadata": {},
     "output_type": "execute_result"
    }
   ],
   "source": [
    "L3"
   ]
  },
  {
   "cell_type": "code",
   "execution_count": 89,
   "id": "7d7a05fc-3edf-4d8d-af00-f0c554fe10c5",
   "metadata": {},
   "outputs": [
    {
     "name": "stdout",
     "output_type": "stream",
     "text": [
      "1\n",
      "2\n",
      "3\n",
      "[4, 5]\n"
     ]
    }
   ],
   "source": [
    "for i in L3:\n",
    "    print (i)"
   ]
  },
  {
   "cell_type": "code",
   "execution_count": 90,
   "id": "7b9cb331-f3fe-4cd3-9052-a9cde2cf89f7",
   "metadata": {},
   "outputs": [
    {
     "data": {
      "text/plain": [
       "False"
      ]
     },
     "execution_count": 90,
     "metadata": {},
     "output_type": "execute_result"
    }
   ],
   "source": [
    "4 in L3"
   ]
  },
  {
   "cell_type": "code",
   "execution_count": 91,
   "id": "8927f9a0-407c-4205-9108-4b44dbef4ee1",
   "metadata": {},
   "outputs": [],
   "source": [
    "# since 4 is in a list not individual"
   ]
  },
  {
   "cell_type": "markdown",
   "id": "83f1440d-76ff-445f-89fc-18f06a22bd17",
   "metadata": {},
   "source": [
    "## Functions in List"
   ]
  },
  {
   "cell_type": "code",
   "execution_count": 93,
   "id": "6ed137d1-9739-4a77-b753-e35f97adbc96",
   "metadata": {},
   "outputs": [
    {
     "data": {
      "text/plain": [
       "4"
      ]
     },
     "execution_count": 93,
     "metadata": {},
     "output_type": "execute_result"
    }
   ],
   "source": [
    "len(L)"
   ]
  },
  {
   "cell_type": "code",
   "execution_count": 94,
   "id": "89f01b6a-17ef-42e2-8da4-8117378c0a32",
   "metadata": {},
   "outputs": [
    {
     "data": {
      "text/plain": [
       "4"
      ]
     },
     "execution_count": 94,
     "metadata": {},
     "output_type": "execute_result"
    }
   ],
   "source": [
    "max(L)"
   ]
  },
  {
   "cell_type": "code",
   "execution_count": 96,
   "id": "33c61f6a-7d2a-4cb9-be58-0a232a314142",
   "metadata": {},
   "outputs": [
    {
     "data": {
      "text/plain": [
       "[1, 2, 3, 4]"
      ]
     },
     "execution_count": 96,
     "metadata": {},
     "output_type": "execute_result"
    }
   ],
   "source": [
    "sorted(L)"
   ]
  },
  {
   "cell_type": "code",
   "execution_count": 97,
   "id": "85be1e35-8180-4f8e-bd5f-6b647339bcf6",
   "metadata": {},
   "outputs": [
    {
     "data": {
      "text/plain": [
       "[4, 3, 2, 1]"
      ]
     },
     "execution_count": 97,
     "metadata": {},
     "output_type": "execute_result"
    }
   ],
   "source": [
    "sorted(L,reverse=True)"
   ]
  },
  {
   "cell_type": "raw",
   "id": "97c0eed7-6311-4ce2-8943-f9a93ca1a835",
   "metadata": {},
   "source": [
    "L.sort()\n"
   ]
  },
  {
   "cell_type": "code",
   "execution_count": 99,
   "id": "1458f6ff-e473-40d1-9b13-1d4d6dd6983b",
   "metadata": {},
   "outputs": [
    {
     "data": {
      "text/plain": [
       "[1, 2, 3, 4]"
      ]
     },
     "execution_count": 99,
     "metadata": {},
     "output_type": "execute_result"
    }
   ],
   "source": [
    "L"
   ]
  },
  {
   "cell_type": "code",
   "execution_count": 100,
   "id": "e9422e52-e64f-44d8-afd8-3f3e6086a091",
   "metadata": {},
   "outputs": [],
   "source": [
    "L.sort(reverse=True)"
   ]
  },
  {
   "cell_type": "code",
   "execution_count": 101,
   "id": "8d1a35be-bfd4-4a2d-9872-cf373fb3e38c",
   "metadata": {},
   "outputs": [
    {
     "data": {
      "text/plain": [
       "[4, 3, 2, 1]"
      ]
     },
     "execution_count": 101,
     "metadata": {},
     "output_type": "execute_result"
    }
   ],
   "source": [
    "L"
   ]
  },
  {
   "cell_type": "markdown",
   "id": "f06f07e9-246e-4259-8e0a-7a08c46a9bac",
   "metadata": {},
   "source": [
    "### Always remember that sorted creates a new list and doesnot change the original list i.e. it is a temporary operation.\n",
    "### but in sort it changes the original list it is a permanent operation"
   ]
  },
  {
   "cell_type": "code",
   "execution_count": 102,
   "id": "bee9acfc-f65e-43da-8a1d-edde63d53b38",
   "metadata": {},
   "outputs": [
    {
     "data": {
      "text/plain": [
       "1"
      ]
     },
     "execution_count": 102,
     "metadata": {},
     "output_type": "execute_result"
    }
   ],
   "source": [
    "L.index(3)"
   ]
  },
  {
   "cell_type": "code",
   "execution_count": 103,
   "id": "05bac3e7-02fc-4fb3-86ba-44d0859912f9",
   "metadata": {},
   "outputs": [
    {
     "data": {
      "text/plain": [
       "'Hello How Are You'"
      ]
     },
     "execution_count": 103,
     "metadata": {},
     "output_type": "execute_result"
    }
   ],
   "source": [
    "\"Hello how are you\".title()"
   ]
  },
  {
   "cell_type": "code",
   "execution_count": 105,
   "id": "a2d9d0e9-492f-426d-b458-744315ecd7a1",
   "metadata": {},
   "outputs": [],
   "source": [
    "# what if Python doesnot have title function"
   ]
  },
  {
   "cell_type": "code",
   "execution_count": 123,
   "id": "5a1ce5b6-2a2d-42da-a963-8ee1b3ba41ef",
   "metadata": {},
   "outputs": [
    {
     "name": "stdout",
     "output_type": "stream",
     "text": [
      "['How', 'are', 'you']\n"
     ]
    }
   ],
   "source": [
    "sample=\"How are you\"\n",
    "print(sample.split())\n",
    "LS=[]"
   ]
  },
  {
   "cell_type": "code",
   "execution_count": 124,
   "id": "b7096150-d368-471c-aec0-433138a8e4ca",
   "metadata": {},
   "outputs": [
    {
     "name": "stdout",
     "output_type": "stream",
     "text": [
      "How\n",
      "Are\n",
      "You\n",
      "['How', 'Are', 'You']\n",
      "How Are You\n"
     ]
    }
   ],
   "source": [
    "for i in sample.split():\n",
    "    print(i.capitalize())\n",
    "    LS.append(i.capitalize())\n",
    "print(LS)\n",
    "print(\" \".join(LS))"
   ]
  },
  {
   "cell_type": "code",
   "execution_count": 126,
   "id": "46c2af65-9b3c-4c87-a66e-a5c1f879566d",
   "metadata": {},
   "outputs": [
    {
     "name": "stdout",
     "output_type": "stream",
     "text": [
      "abc\n",
      "3\n"
     ]
    }
   ],
   "source": [
    "sample=\"abc@gmail.com\"\n",
    "# split before upto @ is found out\n",
    "print(sample[:sample.find('@')])\n",
    "print(sample.index(\"@\"))"
   ]
  },
  {
   "cell_type": "code",
   "execution_count": 127,
   "id": "9e7018e7-cf42-4852-94d3-27d63cd83541",
   "metadata": {},
   "outputs": [
    {
     "name": "stdout",
     "output_type": "stream",
     "text": [
      "[1, 2, 3, 4]\n"
     ]
    }
   ],
   "source": [
    "l1 = [1,1,2,2,3,3,4,4]\n",
    "l2=[1,2,3,1]\n",
    "l=[]\n",
    "for i in l1:\n",
    "    if i not in l:\n",
    "        l.append(i)\n",
    "print (l)"
   ]
  }
 ],
 "metadata": {
  "kernelspec": {
   "display_name": "Python 3 (ipykernel)",
   "language": "python",
   "name": "python3"
  },
  "language_info": {
   "codemirror_mode": {
    "name": "ipython",
    "version": 3
   },
   "file_extension": ".py",
   "mimetype": "text/x-python",
   "name": "python",
   "nbconvert_exporter": "python",
   "pygments_lexer": "ipython3",
   "version": "3.13.3"
  }
 },
 "nbformat": 4,
 "nbformat_minor": 5
}
