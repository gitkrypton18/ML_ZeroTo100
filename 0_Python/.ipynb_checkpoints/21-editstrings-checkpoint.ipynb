{
 "cells": [
  {
   "cell_type": "markdown",
   "id": "c93f2f7c-80e5-48c4-b5f0-b22183aa4a49",
   "metadata": {},
   "source": [
    "## Editing and deleting the string\n",
    "\n"
   ]
  },
  {
   "cell_type": "code",
   "execution_count": 2,
   "id": "2e2755d0-ccf4-4449-a77d-3084767d9e12",
   "metadata": {},
   "outputs": [
    {
     "name": "stdout",
     "output_type": "stream",
     "text": [
      "Hello\n"
     ]
    }
   ],
   "source": [
    "c=\"Hello\"\n",
    "print (c)"
   ]
  },
  {
   "cell_type": "code",
   "execution_count": 3,
   "id": "b08405a5-56a3-4a38-84b5-c8f475b1bd28",
   "metadata": {},
   "outputs": [
    {
     "ename": "NameError",
     "evalue": "name 'x' is not defined",
     "output_type": "error",
     "traceback": [
      "\u001b[31m---------------------------------------------------------------------------\u001b[39m",
      "\u001b[31mNameError\u001b[39m                                 Traceback (most recent call last)",
      "\u001b[36mCell\u001b[39m\u001b[36m \u001b[39m\u001b[32mIn[3]\u001b[39m\u001b[32m, line 1\u001b[39m\n\u001b[32m----> \u001b[39m\u001b[32m1\u001b[39m c[\u001b[32m0\u001b[39m]=\u001b[43mx\u001b[49m\n",
      "\u001b[31mNameError\u001b[39m: name 'x' is not defined"
     ]
    }
   ],
   "source": [
    "c[0]=x"
   ]
  },
  {
   "cell_type": "code",
   "execution_count": null,
   "id": "e7fe10b1-6638-45ff-9afd-f468a398b070",
   "metadata": {},
   "outputs": [],
   "source": [
    "# Strings are immutable (unchangable)"
   ]
  },
  {
   "cell_type": "code",
   "execution_count": 4,
   "id": "7b09498f-6791-440e-8aa0-705ddf56e6d8",
   "metadata": {},
   "outputs": [],
   "source": [
    "c=\"World\""
   ]
  },
  {
   "cell_type": "code",
   "execution_count": 5,
   "id": "de7e169c-522c-48ee-b7ec-7582133bbe2a",
   "metadata": {},
   "outputs": [
    {
     "name": "stdout",
     "output_type": "stream",
     "text": [
      "World\n"
     ]
    }
   ],
   "source": [
    "print(c)"
   ]
  },
  {
   "cell_type": "code",
   "execution_count": 6,
   "id": "c6fd0206-b256-4670-8977-3521e0329a96",
   "metadata": {},
   "outputs": [],
   "source": [
    "#Completing Reassignment"
   ]
  },
  {
   "cell_type": "code",
   "execution_count": 7,
   "id": "bb9be798-4c93-4c98-b587-2b7f09011060",
   "metadata": {},
   "outputs": [
    {
     "ename": "TypeError",
     "evalue": "'str' object does not support item assignment",
     "output_type": "error",
     "traceback": [
      "\u001b[31m---------------------------------------------------------------------------\u001b[39m",
      "\u001b[31mTypeError\u001b[39m                                 Traceback (most recent call last)",
      "\u001b[36mCell\u001b[39m\u001b[36m \u001b[39m\u001b[32mIn[7]\u001b[39m\u001b[32m, line 1\u001b[39m\n\u001b[32m----> \u001b[39m\u001b[32m1\u001b[39m \u001b[43mc\u001b[49m\u001b[43m[\u001b[49m\u001b[32;43m5\u001b[39;49m\u001b[43m]\u001b[49m= \u001b[33m\"\u001b[39m\u001b[33mx\u001b[39m\u001b[33m\"\u001b[39m\n",
      "\u001b[31mTypeError\u001b[39m: 'str' object does not support item assignment"
     ]
    }
   ],
   "source": [
    "c[5]= \"x\""
   ]
  },
  {
   "cell_type": "code",
   "execution_count": null,
   "id": "44581f7b-5b4e-43a4-a1ce-15afce5aeeb6",
   "metadata": {},
   "outputs": [],
   "source": [
    "# We neither edit nor add new characters in strings"
   ]
  },
  {
   "cell_type": "markdown",
   "id": "3b9aba75-6a8d-484b-b3bb-bbcf62d896b4",
   "metadata": {},
   "source": [
    "Deletion\n"
   ]
  },
  {
   "cell_type": "code",
   "execution_count": 8,
   "id": "1033851d-e9a0-4938-a265-be05e39a724e",
   "metadata": {},
   "outputs": [],
   "source": [
    "del c"
   ]
  },
  {
   "cell_type": "code",
   "execution_count": 9,
   "id": "e0e5b754-fe34-4fb7-8895-0507005ce3fb",
   "metadata": {},
   "outputs": [
    {
     "ename": "NameError",
     "evalue": "name 'c' is not defined",
     "output_type": "error",
     "traceback": [
      "\u001b[31m---------------------------------------------------------------------------\u001b[39m",
      "\u001b[31mNameError\u001b[39m                                 Traceback (most recent call last)",
      "\u001b[36mCell\u001b[39m\u001b[36m \u001b[39m\u001b[32mIn[9]\u001b[39m\u001b[32m, line 1\u001b[39m\n\u001b[32m----> \u001b[39m\u001b[32m1\u001b[39m \u001b[38;5;28mprint\u001b[39m (\u001b[43mc\u001b[49m)\n",
      "\u001b[31mNameError\u001b[39m: name 'c' is not defined"
     ]
    }
   ],
   "source": [
    "print (c)"
   ]
  },
  {
   "cell_type": "code",
   "execution_count": 10,
   "id": "519a528d-02a9-46fb-a1dd-b338c2755189",
   "metadata": {},
   "outputs": [],
   "source": [
    "c=\"Hello\""
   ]
  },
  {
   "cell_type": "code",
   "execution_count": 11,
   "id": "81c1050c-f95c-4274-bca3-a92d81860f0d",
   "metadata": {},
   "outputs": [
    {
     "name": "stdout",
     "output_type": "stream",
     "text": [
      "Hello\n"
     ]
    }
   ],
   "source": [
    "print (c)"
   ]
  },
  {
   "cell_type": "code",
   "execution_count": 12,
   "id": "d29fca63-676c-4d5f-aa3b-53ed9d820944",
   "metadata": {},
   "outputs": [
    {
     "ename": "TypeError",
     "evalue": "'str' object doesn't support item deletion",
     "output_type": "error",
     "traceback": [
      "\u001b[31m---------------------------------------------------------------------------\u001b[39m",
      "\u001b[31mTypeError\u001b[39m                                 Traceback (most recent call last)",
      "\u001b[36mCell\u001b[39m\u001b[36m \u001b[39m\u001b[32mIn[12]\u001b[39m\u001b[32m, line 1\u001b[39m\n\u001b[32m----> \u001b[39m\u001b[32m1\u001b[39m \u001b[38;5;28;01mdel\u001b[39;00m \u001b[43mc\u001b[49m\u001b[43m[\u001b[49m\u001b[32;43m0\u001b[39;49m\u001b[43m]\u001b[49m\n",
      "\u001b[31mTypeError\u001b[39m: 'str' object doesn't support item deletion"
     ]
    }
   ],
   "source": [
    "del c[0]"
   ]
  },
  {
   "cell_type": "code",
   "execution_count": 13,
   "id": "bf7d9884-ec98-45fb-a881-6e9396631682",
   "metadata": {},
   "outputs": [],
   "source": [
    "# particular character cannot deleted as it violates immutation"
   ]
  },
  {
   "cell_type": "code",
   "execution_count": 14,
   "id": "fb9743ee-fe0e-4f6e-83c5-5fd39ccd56fa",
   "metadata": {},
   "outputs": [
    {
     "ename": "TypeError",
     "evalue": "'str' object does not support item deletion",
     "output_type": "error",
     "traceback": [
      "\u001b[31m---------------------------------------------------------------------------\u001b[39m",
      "\u001b[31mTypeError\u001b[39m                                 Traceback (most recent call last)",
      "\u001b[36mCell\u001b[39m\u001b[36m \u001b[39m\u001b[32mIn[14]\u001b[39m\u001b[32m, line 1\u001b[39m\n\u001b[32m----> \u001b[39m\u001b[32m1\u001b[39m \u001b[38;5;28;01mdel\u001b[39;00m \u001b[43mc\u001b[49m\u001b[43m[\u001b[49m\u001b[43m:\u001b[49m\u001b[32;43m3\u001b[39;49m\u001b[43m:\u001b[49m\u001b[32;43m2\u001b[39;49m\u001b[43m]\u001b[49m\n",
      "\u001b[31mTypeError\u001b[39m: 'str' object does not support item deletion"
     ]
    }
   ],
   "source": [
    "del c[:3:2]"
   ]
  }
 ],
 "metadata": {
  "kernelspec": {
   "display_name": "Python 3 (ipykernel)",
   "language": "python",
   "name": "python3"
  },
  "language_info": {
   "codemirror_mode": {
    "name": "ipython",
    "version": 3
   },
   "file_extension": ".py",
   "mimetype": "text/x-python",
   "name": "python",
   "nbconvert_exporter": "python",
   "pygments_lexer": "ipython3",
   "version": "3.13.3"
  }
 },
 "nbformat": 4,
 "nbformat_minor": 5
}
