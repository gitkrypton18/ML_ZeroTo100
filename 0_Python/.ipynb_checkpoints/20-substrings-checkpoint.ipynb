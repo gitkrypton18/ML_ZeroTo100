{
 "cells": [
  {
   "cell_type": "markdown",
   "id": "5f18629b-11e4-4cd4-bc8b-d6c45e5557a2",
   "metadata": {},
   "source": [
    "Accessing SubStirngs from a stirng\n",
    "    "
   ]
  },
  {
   "cell_type": "code",
   "execution_count": 1,
   "id": "86f84c61-2784-4ebe-8d1e-3621cead30b3",
   "metadata": {},
   "outputs": [
    {
     "name": "stdout",
     "output_type": "stream",
     "text": [
      "Hello\n"
     ]
    }
   ],
   "source": [
    "#concept of Indexing\n",
    "c=\"Hello\"\n",
    "print(c)\n",
    "\n"
   ]
  },
  {
   "cell_type": "code",
   "execution_count": 3,
   "id": "beeb0444-5cba-47d5-8426-d3d31c5dae02",
   "metadata": {},
   "outputs": [
    {
     "name": "stdout",
     "output_type": "stream",
     "text": [
      "H\n",
      "o\n"
     ]
    }
   ],
   "source": [
    "print(c[0])\n",
    "print(c[4])"
   ]
  },
  {
   "cell_type": "code",
   "execution_count": 5,
   "id": "b511cc44-8abb-4d44-b5cb-42753bbd59e7",
   "metadata": {},
   "outputs": [
    {
     "name": "stdout",
     "output_type": "stream",
     "text": [
      "o\n",
      "l\n"
     ]
    }
   ],
   "source": [
    "#types of indexing \n",
    "#positive indexxing : Index position left to right\n",
    "# negative indexing start from -1\n",
    "# -1 gives o\n",
    "print(c[-1])\n",
    "print(c[-3])\n",
    "\n"
   ]
  },
  {
   "cell_type": "markdown",
   "id": "0c196b60-895e-4d85-80e9-38eb5bd767d3",
   "metadata": {},
   "source": [
    "Slicing in Python\n",
    "If we want only Hello or some length of string in Python we use slicing \n",
    "Syntax : \n",
    "print(c[initial index : final index+1])"
   ]
  },
  {
   "cell_type": "code",
   "execution_count": 1,
   "id": "8dc44b4e-84f6-4f8a-ab82-9dc6482cd315",
   "metadata": {},
   "outputs": [
    {
     "name": "stdout",
     "output_type": "stream",
     "text": [
      "Hello World\n"
     ]
    }
   ],
   "source": [
    "#Slicing \n",
    "\n",
    "c=\"Hello World\"\n",
    "print (c)"
   ]
  },
  {
   "cell_type": "code",
   "execution_count": 4,
   "id": "892ed602-16ac-47f9-829e-2bcaa75b89c6",
   "metadata": {},
   "outputs": [
    {
     "name": "stdout",
     "output_type": "stream",
     "text": [
      "Hello\n"
     ]
    }
   ],
   "source": [
    "#print (c[0:4+1]) # but last is not included\n",
    "print(c[0:5])"
   ]
  },
  {
   "cell_type": "code",
   "execution_count": 6,
   "id": "be27de0c-3390-43ce-9fcb-f4bfb7408060",
   "metadata": {},
   "outputs": [
    {
     "name": "stdout",
     "output_type": "stream",
     "text": [
      "llo World\n"
     ]
    }
   ],
   "source": [
    "print (c[2:]) # print string index 2 onwards"
   ]
  },
  {
   "cell_type": "code",
   "execution_count": 7,
   "id": "ad483c53-5db4-4a63-ab40-5c13bbb12485",
   "metadata": {},
   "outputs": [
    {
     "name": "stdout",
     "output_type": "stream",
     "text": [
      "Hell\n"
     ]
    }
   ],
   "source": [
    "print(c[:4]) # print upto index 4-1"
   ]
  },
  {
   "cell_type": "code",
   "execution_count": 8,
   "id": "4fa42a44-38bd-4ca7-9a11-f644333aab51",
   "metadata": {},
   "outputs": [
    {
     "name": "stdout",
     "output_type": "stream",
     "text": [
      "Hello World\n"
     ]
    }
   ],
   "source": [
    "print(c[:])"
   ]
  },
  {
   "cell_type": "code",
   "execution_count": 11,
   "id": "f4230106-913b-4202-9a07-b924ea2c35a3",
   "metadata": {},
   "outputs": [
    {
     "name": "stdout",
     "output_type": "stream",
     "text": [
      "lo\n",
      "HlW\n"
     ]
    }
   ],
   "source": [
    "print(c[2:6:2])\n",
    "print(c[0:8:3])\n",
    "# exactly what happened\n",
    "#1 [initial index : final index+1 : steps jumps if = 2 then alternate skips]\n"
   ]
  },
  {
   "cell_type": "code",
   "execution_count": 12,
   "id": "3ee7143d-f078-4cf8-ab5a-620c55334a18",
   "metadata": {},
   "outputs": [
    {
     "name": "stdout",
     "output_type": "stream",
     "text": [
      "\n"
     ]
    }
   ],
   "source": [
    "print(c[0:6:-1])"
   ]
  },
  {
   "cell_type": "markdown",
   "id": "62290910-f3d4-48f6-811f-6c2b6262633b",
   "metadata": {},
   "source": [
    "Always remember that when youre working with postive indexing then we cannot use negative indexing in it."
   ]
  },
  {
   "cell_type": "code",
   "execution_count": 14,
   "id": "6eed0524-5822-4edc-a746-12a41955fd48",
   "metadata": {},
   "outputs": [
    {
     "name": "stdout",
     "output_type": "stream",
     "text": [
      "Wr\n"
     ]
    }
   ],
   "source": [
    "print(c[-5:-1:2])\n",
    "# take \" Worl \" with skiping alternate : W and r"
   ]
  },
  {
   "cell_type": "code",
   "execution_count": 16,
   "id": "491784c6-5fcb-4f23-a022-46aebe76e256",
   "metadata": {},
   "outputs": [
    {
     "name": "stdout",
     "output_type": "stream",
     "text": [
      "dlroW olleH\n"
     ]
    }
   ],
   "source": [
    "print(c[::-1 # FAMOUS SYNTAX TO REVERSE THE STRING"
   ]
  },
  {
   "cell_type": "code",
   "execution_count": 15,
   "id": "6d6bfbe0-615b-4c4d-bacf-bb67bda8f68f",
   "metadata": {},
   "outputs": [
    {
     "name": "stdout",
     "output_type": "stream",
     "text": [
      "dlro\n"
     ]
    }
   ],
   "source": [
    "print (c[-1:-5:-1])\n",
    "# take reverse string orld last wala hr baar skip kar deta h and then we reversed it  "
   ]
  }
 ],
 "metadata": {
  "kernelspec": {
   "display_name": "Python 3 (ipykernel)",
   "language": "python",
   "name": "python3"
  },
  "language_info": {
   "codemirror_mode": {
    "name": "ipython",
    "version": 3
   },
   "file_extension": ".py",
   "mimetype": "text/x-python",
   "name": "python",
   "nbconvert_exporter": "python",
   "pygments_lexer": "ipython3",
   "version": "3.13.3"
  }
 },
 "nbformat": 4,
 "nbformat_minor": 5
}
