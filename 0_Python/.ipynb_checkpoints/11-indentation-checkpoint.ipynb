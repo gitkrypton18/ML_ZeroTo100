{
 "cells": [
  {
   "cell_type": "markdown",
   "id": "5f10e326-ba9f-4cdf-aebf-fdc19f11b10a",
   "metadata": {},
   "source": [
    "# python doesnot use ; and {} to specify blocks \n",
    "if name == \"xyz\":\n",
    "    line1\n",
    "    line2\n",
    "else:\n",
    "    line1\n",
    "    line2\n",
    "    line3\n",
    "## always remember to use proper indentation in python \n",
    "\n",
    "\n",
    "\n",
    "\n"
   ]
  },
  {
   "cell_type": "code",
   "execution_count": 3,
   "id": "f57cd1d6-7c50-4157-a0a1-5f6fc557d773",
   "metadata": {},
   "outputs": [
    {
     "name": "stdout",
     "output_type": "stream",
     "text": [
      "line 3\n"
     ]
    }
   ],
   "source": [
    "name=\"244\"\n",
    "if name== \"xyz\":\n",
    "    print ('line 1')\n",
    "    print('line 2')\n",
    "else :\n",
    "    print('line 3')\n",
    "    "
   ]
  }
 ],
 "metadata": {
  "kernelspec": {
   "display_name": "Python 3 (ipykernel)",
   "language": "python",
   "name": "python3"
  },
  "language_info": {
   "codemirror_mode": {
    "name": "ipython",
    "version": 3
   },
   "file_extension": ".py",
   "mimetype": "text/x-python",
   "name": "python",
   "nbconvert_exporter": "python",
   "pygments_lexer": "ipython3",
   "version": "3.13.3"
  }
 },
 "nbformat": 4,
 "nbformat_minor": 5
}
