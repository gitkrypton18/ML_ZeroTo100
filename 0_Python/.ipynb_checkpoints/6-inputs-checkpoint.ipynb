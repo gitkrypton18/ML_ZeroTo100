{
 "cells": [
  {
   "cell_type": "code",
   "execution_count": 1,
   "id": "a1a8f6ce-123b-47ad-94ba-4c655fafb34f",
   "metadata": {},
   "outputs": [
    {
     "name": "stdin",
     "output_type": "stream",
     "text": [
      "What is your name Kalpit\n"
     ]
    },
    {
     "data": {
      "text/plain": [
       "'Kalpit'"
      ]
     },
     "execution_count": 1,
     "metadata": {},
     "output_type": "execute_result"
    }
   ],
   "source": [
    "input(\"What is your name\")\n"
   ]
  },
  {
   "cell_type": "code",
   "execution_count": 2,
   "id": "217c284e-3fc7-4265-aab8-3e2a5ee0ca32",
   "metadata": {},
   "outputs": [
    {
     "name": "stdin",
     "output_type": "stream",
     "text": [
      "Enter the first number 45\n",
      "Enter the second number 44\n"
     ]
    }
   ],
   "source": [
    "first_num=input(\"Enter the first number\")\n",
    "sec_num=input(\"Enter the second number\")\n"
   ]
  },
  {
   "cell_type": "code",
   "execution_count": 3,
   "id": "71455759-3709-4be2-bfa3-a642de75043b",
   "metadata": {},
   "outputs": [
    {
     "name": "stdout",
     "output_type": "stream",
     "text": [
      "45\n",
      "44\n"
     ]
    }
   ],
   "source": [
    "print (first_num)\n",
    "print(sec_num)\n"
   ]
  },
  {
   "cell_type": "code",
   "execution_count": 4,
   "id": "e77996f0-5b5b-43df-97a4-cd3acebc021f",
   "metadata": {},
   "outputs": [
    {
     "name": "stdout",
     "output_type": "stream",
     "text": [
      "4544\n"
     ]
    }
   ],
   "source": [
    "result=first_num+sec_num\n",
    "print(result)\n"
   ]
  },
  {
   "cell_type": "code",
   "execution_count": 6,
   "id": "331dfcc7-b3ed-4154-a7cc-d324c9fa66bc",
   "metadata": {},
   "outputs": [
    {
     "data": {
      "text/plain": [
       "bool"
      ]
     },
     "execution_count": 6,
     "metadata": {},
     "output_type": "execute_result"
    }
   ],
   "source": [
    "#what happened here \n",
    "#whenver we are taking input from a user the input is supposed\n",
    "#to be in the string format becoz string is a universal format\n",
    "\n",
    "# type\n",
    "\n",
    "\n",
    "type(True)\n",
    "\n",
    "\n",
    "\n",
    "\n"
   ]
  },
  {
   "cell_type": "code",
   "execution_count": 7,
   "id": "4b293eca-ed8e-42a2-bc5e-2ff3114782e6",
   "metadata": {},
   "outputs": [
    {
     "data": {
      "text/plain": [
       "complex"
      ]
     },
     "execution_count": 7,
     "metadata": {},
     "output_type": "execute_result"
    }
   ],
   "source": [
    "type(6+7j)"
   ]
  },
  {
   "cell_type": "code",
   "execution_count": 8,
   "id": "a8d1d0bf-3079-448f-a00e-ca09ea7347cb",
   "metadata": {},
   "outputs": [
    {
     "data": {
      "text/plain": [
       "int"
      ]
     },
     "execution_count": 8,
     "metadata": {},
     "output_type": "execute_result"
    }
   ],
   "source": [
    "type(4)"
   ]
  },
  {
   "cell_type": "markdown",
   "id": "50ab5611-81c0-49f5-959a-d07332d87361",
   "metadata": {},
   "source": [
    "# This problem is solved by type conversion in the next module we will learn about it in detail\n"
   ]
  }
 ],
 "metadata": {
  "kernelspec": {
   "display_name": "Python 3 (ipykernel)",
   "language": "python",
   "name": "python3"
  },
  "language_info": {
   "codemirror_mode": {
    "name": "ipython",
    "version": 3
   },
   "file_extension": ".py",
   "mimetype": "text/x-python",
   "name": "python",
   "nbconvert_exporter": "python",
   "pygments_lexer": "ipython3",
   "version": "3.13.3"
  }
 },
 "nbformat": 4,
 "nbformat_minor": 5
}
