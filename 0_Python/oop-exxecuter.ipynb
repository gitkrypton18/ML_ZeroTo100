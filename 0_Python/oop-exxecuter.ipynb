{
 "cells": [
  {
   "cell_type": "code",
   "execution_count": 5,
   "id": "da75ecab-788c-4cba-868e-4f93209b9af8",
   "metadata": {},
   "outputs": [],
   "source": [
    "from oop2 import Fraction\n"
   ]
  },
  {
   "cell_type": "code",
   "execution_count": 8,
   "id": "2b10c4a4-3966-4774-98d8-d0c31efde039",
   "metadata": {},
   "outputs": [
    {
     "data": {
      "text/plain": [
       "oop2.Fraction"
      ]
     },
     "execution_count": 8,
     "metadata": {},
     "output_type": "execute_result"
    }
   ],
   "source": [
    "free=Fraction(2,3)\n",
    "type(free)\n",
    "print"
   ]
  },
  {
   "cell_type": "code",
   "execution_count": 9,
   "id": "6dad7805-56d2-42c6-8340-1e758cf0b1a6",
   "metadata": {},
   "outputs": [
    {
     "data": {
      "text/plain": [
       "1902386436416"
      ]
     },
     "execution_count": 9,
     "metadata": {},
     "output_type": "execute_result"
    }
   ],
   "source": [
    "id(kbc)"
   ]
  },
  {
   "cell_type": "code",
   "execution_count": 10,
   "id": "fb1f857a-4b81-4841-94fd-9ab4c98a9a25",
   "metadata": {},
   "outputs": [],
   "source": [
    "from oop import Atm\n"
   ]
  },
  {
   "cell_type": "code",
   "execution_count": null,
   "id": "7ee17202-558e-4a0d-a4f2-0e1f3d7c8d0f",
   "metadata": {},
   "outputs": [
    {
     "name": "stdout",
     "output_type": "stream",
     "text": [
      "1902393084496\n"
     ]
    }
   ],
   "source": [
    "kbc=Atm()"
   ]
  }
 ],
 "metadata": {
  "kernelspec": {
   "display_name": "Python 3 (ipykernel)",
   "language": "python",
   "name": "python3"
  },
  "language_info": {
   "codemirror_mode": {
    "name": "ipython",
    "version": 3
   },
   "file_extension": ".py",
   "mimetype": "text/x-python",
   "name": "python",
   "nbconvert_exporter": "python",
   "pygments_lexer": "ipython3",
   "version": "3.13.3"
  }
 },
 "nbformat": 4,
 "nbformat_minor": 5
}
