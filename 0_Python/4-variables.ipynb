{
 "cells": [
  {
   "cell_type": "code",
   "execution_count": null,
   "id": "74d14373-4b81-42da-9c5a-f13419ab6d56",
   "metadata": {},
   "outputs": [],
   "source": [
    "# in C lang\n",
    "# int a=5"
   ]
  },
  {
   "cell_type": "code",
   "execution_count": 3,
   "id": "3b0f5208-0db7-43fe-808c-b6afbd4ed3ff",
   "metadata": {},
   "outputs": [
    {
     "name": "stdout",
     "output_type": "stream",
     "text": [
      "Nitish\n",
      "Hello World\n"
     ]
    }
   ],
   "source": [
    "name='Nitish'\n",
    "# directly write name of variable and \n",
    "print (name)\n",
    "name ='Hello World'\n",
    "print(name)\n"
   ]
  },
  {
   "cell_type": "code",
   "execution_count": null,
   "id": "f5c248cc-90b1-46a9-b3f5-8ef923d840e0",
   "metadata": {},
   "outputs": [],
   "source": [
    "# no varible declaration"
   ]
  },
  {
   "cell_type": "markdown",
   "id": "d945bc0a-1178-48b9-96a2-afa2368a8f29",
   "metadata": {},
   "source": [
    "## Dynamic Typing : doesnot want to mention the data type in python\n",
    "## Static Typing : Require the data type\n",
    "\n"
   ]
  },
  {
   "cell_type": "code",
   "execution_count": 4,
   "id": "78816b45-e795-4988-84db-74307627c8d3",
   "metadata": {},
   "outputs": [
    {
     "name": "stdout",
     "output_type": "stream",
     "text": [
      "5\n"
     ]
    }
   ],
   "source": [
    "name=5\n",
    "print(name)\n"
   ]
  },
  {
   "cell_type": "markdown",
   "id": "2fe6c1aa-8a78-4cf1-af29-1b74d223b533",
   "metadata": {},
   "source": [
    "### python is not binded with a single data type called Dynamic Binding\n",
    "### single variable can take multiple data types\n"
   ]
  },
  {
   "cell_type": "code",
   "execution_count": 5,
   "id": "1e9af461-aa07-46a9-a51a-c0c44db1dc3d",
   "metadata": {},
   "outputs": [
    {
     "name": "stdout",
     "output_type": "stream",
     "text": [
      "5\n",
      "6\n",
      "7\n"
     ]
    }
   ],
   "source": [
    "# special syntax\n",
    "a=5;b=6;c=7\n",
    "print(a)\n",
    "print (b)\n",
    "print (c)\n",
    "\n",
    "\n"
   ]
  },
  {
   "cell_type": "code",
   "execution_count": 8,
   "id": "6500d0a5-5204-4b95-a082-3e5293888f1d",
   "metadata": {},
   "outputs": [
    {
     "name": "stdout",
     "output_type": "stream",
     "text": [
      "4\n",
      "5\n",
      "6\n",
      "4 5 6\n"
     ]
    },
    {
     "ename": "NameError",
     "evalue": "name 'abc' is not defined",
     "output_type": "error",
     "traceback": [
      "\u001b[31m---------------------------------------------------------------------------\u001b[39m",
      "\u001b[31mNameError\u001b[39m                                 Traceback (most recent call last)",
      "\u001b[36mCell\u001b[39m\u001b[36m \u001b[39m\u001b[32mIn[8]\u001b[39m\u001b[32m, line 7\u001b[39m\n\u001b[32m      5\u001b[39m \u001b[38;5;28mprint\u001b[39m (c)\n\u001b[32m      6\u001b[39m \u001b[38;5;28mprint\u001b[39m(a,b,c)\n\u001b[32m----> \u001b[39m\u001b[32m7\u001b[39m \u001b[38;5;28mprint\u001b[39m(\u001b[43mabc\u001b[49m)\n",
      "\u001b[31mNameError\u001b[39m: name 'abc' is not defined"
     ]
    }
   ],
   "source": [
    "#smart approach\n",
    "a,b,c=4,5,6\n",
    "print(a)\n",
    "print (b)\n",
    "print (c)\n",
    "print(a,b,c)\n",
    "\n",
    "\n",
    "\n"
   ]
  },
  {
   "cell_type": "code",
   "execution_count": 1,
   "id": "9acb6c26",
   "metadata": {},
   "outputs": [
    {
     "name": "stdout",
     "output_type": "stream",
     "text": [
      "4\n",
      "4\n",
      "4\n",
      "4 4 4\n"
     ]
    }
   ],
   "source": [
    "a=b=c=4;\n",
    "print (a)\n",
    "print (b)\n",
    "print (c)\n",
    "print(a,b,c)\n",
    "# multiple variable assignment\n",
    "\n"
   ]
  }
 ],
 "metadata": {
  "kernelspec": {
   "display_name": "Python 3 (ipykernel)",
   "language": "python",
   "name": "python3"
  },
  "language_info": {
   "codemirror_mode": {
    "name": "ipython",
    "version": 3
   },
   "file_extension": ".py",
   "mimetype": "text/x-python",
   "name": "python",
   "nbconvert_exporter": "python",
   "pygments_lexer": "ipython3",
   "version": "3.13.7"
  }
 },
 "nbformat": 4,
 "nbformat_minor": 5
}
