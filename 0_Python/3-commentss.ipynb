{
 "cells": [
  {
   "cell_type": "code",
   "execution_count": null,
   "id": "18a3f6fa-1a94-44c3-a33b-249076e5f2c8",
   "metadata": {},
   "outputs": [],
   "source": [
    "#comments \n",
    "# interpreter skips all the hash line \n",
    "# python doesnt have multiple line comments\n"
   ]
  }
 ],
 "metadata": {
  "kernelspec": {
   "display_name": "Python 3 (ipykernel)",
   "language": "python",
   "name": "python3"
  },
  "language_info": {
   "codemirror_mode": {
    "name": "ipython",
    "version": 3
   },
   "file_extension": ".py",
   "mimetype": "text/x-python",
   "name": "python",
   "nbconvert_exporter": "python",
   "pygments_lexer": "ipython3",
   "version": "3.13.7"
  }
 },
 "nbformat": 4,
 "nbformat_minor": 5
}
