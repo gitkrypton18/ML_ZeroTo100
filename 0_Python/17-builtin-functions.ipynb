{
 "cells": [
  {
   "cell_type": "markdown",
   "id": "0577f272-7652-4b52-a8ce-171e7aacefb5",
   "metadata": {},
   "source": [
    "1. print\n",
    "   "
   ]
  },
  {
   "cell_type": "code",
   "execution_count": null,
   "id": "34640765-a19d-4016-8886-53bccb2f6ffb",
   "metadata": {},
   "outputs": [],
   "source": [
    "print(\"Hello World\")"
   ]
  },
  {
   "cell_type": "markdown",
   "id": "a80e2cc6-edd4-4c1e-99c7-46765fd78594",
   "metadata": {},
   "source": [
    "2. input\n",
    "   "
   ]
  },
  {
   "cell_type": "code",
   "execution_count": 7,
   "id": "3c7d2645-e9aa-4f3b-8ead-397097414dea",
   "metadata": {},
   "outputs": [
    {
     "name": "stdin",
     "output_type": "stream",
     "text": [
      "Enter your name Kalpit\n"
     ]
    },
    {
     "data": {
      "text/plain": [
       "'Kalpit'"
      ]
     },
     "execution_count": 7,
     "metadata": {},
     "output_type": "execute_result"
    }
   ],
   "source": [
    "\n",
    "input(\"Enter your name\")\n"
   ]
  },
  {
   "cell_type": "markdown",
   "id": "2a41af99-8f4c-49d5-ae69-29f6615cb081",
   "metadata": {},
   "source": [
    "3. type\n",
    "   returns the type of the datatype"
   ]
  },
  {
   "cell_type": "code",
   "execution_count": 8,
   "id": "830148f4-35bc-40d7-8978-c8fd751a5f48",
   "metadata": {},
   "outputs": [
    {
     "data": {
      "text/plain": [
       "int"
      ]
     },
     "execution_count": 8,
     "metadata": {},
     "output_type": "execute_result"
    }
   ],
   "source": [
    "a=4\n",
    "type(a)\n"
   ]
  },
  {
   "cell_type": "markdown",
   "id": "3dcac98a-57fb-457b-a81d-22e70f5ec154",
   "metadata": {},
   "source": [
    "4. int,float, string typedefs etc"
   ]
  },
  {
   "cell_type": "code",
   "execution_count": null,
   "id": "b22a3733-3bd7-4b49-b3e0-5f1d8431ab43",
   "metadata": {},
   "outputs": [],
   "source": [
    "int('5')\n",
    "#float\n",
    "#str\n",
    "#list\n",
    "#tuple\n"
   ]
  },
  {
   "cell_type": "markdown",
   "id": "f9bb1cd2-6624-4b79-9bb8-ea6f0392f133",
   "metadata": {},
   "source": [
    "5. abs ABSOLUTE FUNCTION"
   ]
  },
  {
   "cell_type": "code",
   "execution_count": 9,
   "id": "f0ecd2dd-67c6-4d1b-9282-b99b8585b0a6",
   "metadata": {},
   "outputs": [
    {
     "data": {
      "text/plain": [
       "4"
      ]
     },
     "execution_count": 9,
     "metadata": {},
     "output_type": "execute_result"
    }
   ],
   "source": [
    "abs(-4)"
   ]
  },
  {
   "cell_type": "markdown",
   "id": "554f7d97-9f18-46ce-9973-caa00005c387",
   "metadata": {},
   "source": [
    "6. Pow Power Function"
   ]
  },
  {
   "cell_type": "code",
   "execution_count": 10,
   "id": "05a5118d-df82-443a-9263-c6068b23b4cb",
   "metadata": {},
   "outputs": [
    {
     "data": {
      "text/plain": [
       "8"
      ]
     },
     "execution_count": 10,
     "metadata": {},
     "output_type": "execute_result"
    }
   ],
   "source": [
    "pow(2,3)\n",
    "#2^3"
   ]
  },
  {
   "cell_type": "markdown",
   "id": "bbed545c-9e2b-490e-abc7-ab746a4a76f5",
   "metadata": {},
   "source": [
    "7. min/max\n",
    "   "
   ]
  },
  {
   "cell_type": "code",
   "execution_count": 11,
   "id": "5d6a4ac0-2132-4722-b28b-9caa37a402ef",
   "metadata": {},
   "outputs": [
    {
     "data": {
      "text/plain": [
       "1"
      ]
     },
     "execution_count": 11,
     "metadata": {},
     "output_type": "execute_result"
    }
   ],
   "source": [
    "min([1,2,3,4,5,1.5])"
   ]
  },
  {
   "cell_type": "markdown",
   "id": "66a328e5-9440-4fb3-93d4-9bd03b763433",
   "metadata": {},
   "source": [
    "8. round roundoff karne ke lie"
   ]
  },
  {
   "cell_type": "code",
   "execution_count": 15,
   "id": "f1e3de4b-7cb3-4d69-a134-071f782f1f6b",
   "metadata": {},
   "outputs": [
    {
     "data": {
      "text/plain": [
       "1.72"
      ]
     },
     "execution_count": 15,
     "metadata": {},
     "output_type": "execute_result"
    }
   ],
   "source": [
    "round(1.723,2)\n",
    "#(number,upto which decimal places)"
   ]
  },
  {
   "cell_type": "markdown",
   "id": "d7134582-031d-45dd-a2e8-cb02a174b231",
   "metadata": {},
   "source": [
    "9. divmod gives integer quotient followed by modulus remainder"
   ]
  },
  {
   "cell_type": "code",
   "execution_count": 17,
   "id": "1d8db174-7c28-43a5-827c-ea9547f07f00",
   "metadata": {},
   "outputs": [
    {
     "data": {
      "text/plain": [
       "(2, 1)"
      ]
     },
     "execution_count": 17,
     "metadata": {},
     "output_type": "execute_result"
    }
   ],
   "source": [
    "divmod(5,2)\n",
    "# divmod(x,y,/)\n",
    "# returns the tuple (x//y, x%y)\n",
    "#integer division and modulus\n"
   ]
  },
  {
   "cell_type": "markdown",
   "id": "9e4cafe1-15db-4ea9-b5ee-1fe13e619a60",
   "metadata": {},
   "source": [
    "10. bin/oct/hex converts given "
   ]
  },
  {
   "cell_type": "code",
   "execution_count": 18,
   "id": "ae9b50f5-88f5-4b28-b2c0-b97a4446afb3",
   "metadata": {},
   "outputs": [
    {
     "data": {
      "text/plain": [
       "'0o4'"
      ]
     },
     "execution_count": 18,
     "metadata": {},
     "output_type": "execute_result"
    }
   ],
   "source": [
    "oct(4)"
   ]
  },
  {
   "cell_type": "markdown",
   "id": "c6f3e19c-1f6d-4234-9d9a-d6e69d148a35",
   "metadata": {},
   "source": [
    "11. id returns the address "
   ]
  },
  {
   "cell_type": "code",
   "execution_count": 19,
   "id": "8429bea2-24de-4af6-ae96-2ee9245347cf",
   "metadata": {},
   "outputs": [
    {
     "data": {
      "text/plain": [
       "140707982484456"
      ]
     },
     "execution_count": 19,
     "metadata": {},
     "output_type": "execute_result"
    }
   ],
   "source": [
    "a=3\n",
    "id(3) # just like address of a variable"
   ]
  },
  {
   "cell_type": "markdown",
   "id": "1dc248f0-7728-421e-a353-937705a34aaa",
   "metadata": {},
   "source": [
    "12.  ord returns the unicode ASCII values"
   ]
  },
  {
   "cell_type": "code",
   "execution_count": 20,
   "id": "ef86588f-254d-48e5-ac84-61d14a42f590",
   "metadata": {},
   "outputs": [
    {
     "data": {
      "text/plain": [
       "65"
      ]
     },
     "execution_count": 20,
     "metadata": {},
     "output_type": "execute_result"
    }
   ],
   "source": [
    "ord('A') "
   ]
  },
  {
   "cell_type": "markdown",
   "id": "62421964-13e2-446f-9d94-6c11556b6675",
   "metadata": {},
   "source": [
    "13. len gives the length of the string"
   ]
  },
  {
   "cell_type": "code",
   "execution_count": 23,
   "id": "b662e18c-00d7-438c-ba80-6195ea14471a",
   "metadata": {},
   "outputs": [
    {
     "name": "stdout",
     "output_type": "stream",
     "text": [
      "6\n",
      "3\n"
     ]
    }
   ],
   "source": [
    "print(len(\"Jaipur\"))\n",
    "print(len([1,2,3]))\n"
   ]
  },
  {
   "cell_type": "markdown",
   "id": "568fbf7a-ee7c-4423-8664-2a4650b50efa",
   "metadata": {},
   "source": [
    "14. sum"
   ]
  },
  {
   "cell_type": "code",
   "execution_count": 28,
   "id": "bfa329b8-e390-459d-ad34-b236572a1586",
   "metadata": {},
   "outputs": [
    {
     "data": {
      "text/plain": [
       "15"
      ]
     },
     "execution_count": 28,
     "metadata": {},
     "output_type": "execute_result"
    }
   ],
   "source": [
    "sum({1,1,2,3,4,5}) # set loge toh sum me bhi set behavior rahega\n"
   ]
  },
  {
   "cell_type": "code",
   "execution_count": 27,
   "id": "496efd8a-f643-4cf5-b10d-e38ab761f428",
   "metadata": {},
   "outputs": [
    {
     "data": {
      "text/plain": [
       "16"
      ]
     },
     "execution_count": 27,
     "metadata": {},
     "output_type": "execute_result"
    }
   ],
   "source": [
    "sum([1,2,3,4,1,2,3])  #list behavior\n"
   ]
  },
  {
   "cell_type": "markdown",
   "id": "8e2b4c07-f9f1-473b-a892-255f3ca5dfa3",
   "metadata": {},
   "source": [
    "15. help"
   ]
  },
  {
   "cell_type": "code",
   "execution_count": 29,
   "id": "322c4894-3e08-4fd8-a84c-855e5a0514c0",
   "metadata": {},
   "outputs": [
    {
     "name": "stdout",
     "output_type": "stream",
     "text": [
      "Help on built-in function print in module builtins:\n",
      "\n",
      "print(*args, sep=' ', end='\\n', file=None, flush=False)\n",
      "    Prints the values to a stream, or to sys.stdout by default.\n",
      "\n",
      "    sep\n",
      "      string inserted between values, default a space.\n",
      "    end\n",
      "      string appended after the last value, default a newline.\n",
      "    file\n",
      "      a file-like object (stream); defaults to the current sys.stdout.\n",
      "    flush\n",
      "      whether to forcibly flush the stream.\n",
      "\n"
     ]
    }
   ],
   "source": [
    "# help('Function')\n",
    "help('print')"
   ]
  }
 ],
 "metadata": {
  "kernelspec": {
   "display_name": "Python 3 (ipykernel)",
   "language": "python",
   "name": "python3"
  },
  "language_info": {
   "codemirror_mode": {
    "name": "ipython",
    "version": 3
   },
   "file_extension": ".py",
   "mimetype": "text/x-python",
   "name": "python",
   "nbconvert_exporter": "python",
   "pygments_lexer": "ipython3",
   "version": "3.13.7"
  }
 },
 "nbformat": 4,
 "nbformat_minor": 5
}
